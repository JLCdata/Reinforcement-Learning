{
 "cells": [
  {
   "attachments": {},
   "cell_type": "markdown",
   "metadata": {},
   "source": [
    "# **Libreria de Reinforcement Learning Offline**"
   ]
  },
  {
   "cell_type": "code",
   "execution_count": 1,
   "metadata": {},
   "outputs": [],
   "source": [
    "import warnings\n",
    "warnings.filterwarnings(\"ignore\")\n",
    "import d3rlpy\n",
    "import numpy as np"
   ]
  },
  {
   "attachments": {},
   "cell_type": "markdown",
   "metadata": {},
   "source": [
    "# Getting Stated"
   ]
  },
  {
   "cell_type": "code",
   "execution_count": 2,
   "metadata": {},
   "outputs": [],
   "source": [
    "from d3rlpy.datasets import get_cartpole # CartPole-v0 dataset\n",
    "from d3rlpy.datasets import get_pendulum # Pendulum-v0 dataset\n",
    "from d3rlpy.datasets import get_pybullet # PyBullet task datasets\n",
    "from d3rlpy.datasets import get_atari    # Atari 2600 task datasets\n",
    "from d3rlpy.datasets import get_d4rl     # D4RL datasets\n"
   ]
  },
  {
   "cell_type": "code",
   "execution_count": 3,
   "metadata": {},
   "outputs": [
    {
     "name": "stdout",
     "output_type": "stream",
     "text": [
      "Donwloading cartpole.pkl into d3rlpy_data\\cartpole_replay.h5...\n"
     ]
    }
   ],
   "source": [
    "# Prepare Dataset\n",
    "# You can make your own dataset without any efforts. In this tutorial, let’s use integrated datasets to start. If you want to make a new dataset, see MDPDataset.\n",
    "dataset, env = get_cartpole()"
   ]
  },
  {
   "cell_type": "code",
   "execution_count": 4,
   "metadata": {},
   "outputs": [],
   "source": [
    "# You can split dataset into a training dataset and a test dataset just like supervised learning as follows.\n",
    "from sklearn.model_selection import train_test_split\n",
    "\n",
    "train_episodes, test_episodes = train_test_split(dataset, test_size=0.2)"
   ]
  },
  {
   "cell_type": "code",
   "execution_count": 5,
   "metadata": {},
   "outputs": [],
   "source": [
    "# Setup Algorithm\n",
    "# There are many algorithms avaiable in d3rlpy. Since CartPole is the simple task, let’s start from DQN, \n",
    "# which is the Q-learnig algorithm proposed as the first deep reinforcement learning algorithm.\n",
    "from d3rlpy.algos import DQN\n",
    "\n",
    "# if you don't use GPU, set use_gpu=False instead.\n",
    "dqn = DQN(use_gpu=False)\n",
    "\n",
    "# initialize neural networks with the given observation shape and action size.\n",
    "# this is not necessary when you directly call fit or fit_online method.\n",
    "dqn.build_with_dataset(dataset)"
   ]
  },
  {
   "cell_type": "code",
   "execution_count": 6,
   "metadata": {},
   "outputs": [],
   "source": [
    "# Setup metrics\n",
    "# Collecting evaluation metrics is important to train algorithms properly. In d3rlpy, the metrics is computed through scikit-learn style scorer functions.\n",
    "from d3rlpy.metrics.scorer import td_error_scorer\n",
    "from d3rlpy.metrics.scorer import average_value_estimation_scorer\n",
    "\n",
    "# calculate metrics with test dataset\n",
    "td_error = td_error_scorer(dqn, test_episodes)"
   ]
  },
  {
   "cell_type": "code",
   "execution_count": 7,
   "metadata": {},
   "outputs": [],
   "source": [
    "# Since evaluating algorithms without access to environment is still difficult, \n",
    "# the algorithm can be directly evaluated with evaluate_on_environment function if the environment is available to interactF\n",
    "from d3rlpy.metrics.scorer import evaluate_on_environment\n",
    "\n",
    "# set environment in scorer function\n",
    "evaluate_scorer = evaluate_on_environment(env)\n",
    "\n",
    "# evaluate algorithm on the environment\n",
    "rewards = evaluate_scorer(dqn)"
   ]
  },
  {
   "cell_type": "code",
   "execution_count": 8,
   "metadata": {},
   "outputs": [
    {
     "name": "stdout",
     "output_type": "stream",
     "text": [
      "2023-07-22 15:57.34 [debug    ] RoundIterator is selected.\n",
      "2023-07-22 15:57.34 [info     ] Directory is created at d3rlpy_logs\\DQN_20230722155734\n",
      "2023-07-22 15:57.34 [warning  ] Skip building models since they're already built.\n",
      "2023-07-22 15:57.34 [info     ] Parameters are saved to d3rlpy_logs\\DQN_20230722155734\\params.json params={'action_scaler': None, 'batch_size': 32, 'encoder_factory': {'type': 'default', 'params': {'activation': 'relu', 'use_batch_norm': False, 'dropout_rate': None}}, 'gamma': 0.99, 'generated_maxlen': 100000, 'learning_rate': 6.25e-05, 'n_critics': 1, 'n_frames': 1, 'n_steps': 1, 'optim_factory': {'optim_cls': 'Adam', 'betas': (0.9, 0.999), 'eps': 1e-08, 'weight_decay': 0, 'amsgrad': False}, 'q_func_factory': {'type': 'mean', 'params': {'bootstrap': False, 'share_encoder': False}}, 'real_ratio': 1.0, 'reward_scaler': None, 'scaler': None, 'target_reduction_type': 'min', 'target_update_interval': 8000, 'use_gpu': None, 'algorithm': 'DQN', 'observation_shape': (4,), 'action_size': 2}\n"
     ]
    },
    {
     "name": "stderr",
     "output_type": "stream",
     "text": [
      "Epoch 1/10: 100%|██████████| 2455/2455 [00:08<00:00, 283.62it/s, loss=0.0123]\n"
     ]
    },
    {
     "name": "stdout",
     "output_type": "stream",
     "text": [
      "2023-07-22 15:57.44 [info     ] DQN_20230722155734: epoch=1 step=2455 epoch=1 metrics={'time_sample_batch': 0.00013246565389536064, 'time_algorithm_update': 0.0032221866965051094, 'loss': 0.012281907083886802, 'time_step': 0.0034810172079051344, 'td_error': 0.9828593678075406, 'value_scale': 1.0686198768667219, 'environment': 24.7} step=2455\n",
      "2023-07-22 15:57.44 [info     ] Model parameters are saved to d3rlpy_logs\\DQN_20230722155734\\model_2455.pt\n"
     ]
    },
    {
     "name": "stderr",
     "output_type": "stream",
     "text": [
      "Epoch 2/10: 100%|██████████| 2455/2455 [00:08<00:00, 283.92it/s, loss=4.35e-5]\n"
     ]
    },
    {
     "name": "stdout",
     "output_type": "stream",
     "text": [
      "2023-07-22 15:57.53 [info     ] DQN_20230722155734: epoch=2 step=4910 epoch=2 metrics={'time_sample_batch': 0.00013296084588511169, 'time_algorithm_update': 0.003215025010274044, 'loss': 4.352232922438073e-05, 'time_step': 0.0034783150659316426, 'td_error': 0.9814925859578073, 'value_scale': 1.069139284579945, 'environment': 23.7} step=4910\n",
      "2023-07-22 15:57.53 [info     ] Model parameters are saved to d3rlpy_logs\\DQN_20230722155734\\model_4910.pt\n"
     ]
    },
    {
     "name": "stderr",
     "output_type": "stream",
     "text": [
      "Epoch 3/10: 100%|██████████| 2455/2455 [00:09<00:00, 254.07it/s, loss=4.39e-5]\n"
     ]
    },
    {
     "name": "stdout",
     "output_type": "stream",
     "text": [
      "2023-07-22 15:58.04 [info     ] DQN_20230722155734: epoch=3 step=7365 epoch=3 metrics={'time_sample_batch': 0.0001451052376306227, 'time_algorithm_update': 0.0036011406457594117, 'loss': 4.388858133245715e-05, 'time_step': 0.0038847468778217885, 'td_error': 0.9848852583939095, 'value_scale': 1.071899532763913, 'environment': 17.8} step=7365\n",
      "2023-07-22 15:58.04 [info     ] Model parameters are saved to d3rlpy_logs\\DQN_20230722155734\\model_7365.pt\n"
     ]
    },
    {
     "name": "stderr",
     "output_type": "stream",
     "text": [
      "Epoch 4/10: 100%|██████████| 2455/2455 [00:09<00:00, 249.42it/s, loss=0.00596]\n"
     ]
    },
    {
     "name": "stdout",
     "output_type": "stream",
     "text": [
      "2023-07-22 15:58.15 [info     ] DQN_20230722155734: epoch=4 step=9820 epoch=4 metrics={'time_sample_batch': 0.00014725964812300113, 'time_algorithm_update': 0.0036692880564454617, 'loss': 0.005957207730484891, 'time_step': 0.003961686447050324, 'td_error': 0.9823096207421752, 'value_scale': 2.043620167373371, 'environment': 13.9} step=9820\n",
      "2023-07-22 15:58.15 [info     ] Model parameters are saved to d3rlpy_logs\\DQN_20230722155734\\model_9820.pt\n"
     ]
    },
    {
     "name": "stderr",
     "output_type": "stream",
     "text": [
      "Epoch 5/10: 100%|██████████| 2455/2455 [00:09<00:00, 261.94it/s, loss=0.00555]\n"
     ]
    },
    {
     "name": "stdout",
     "output_type": "stream",
     "text": [
      "2023-07-22 15:58.25 [info     ] DQN_20230722155734: epoch=5 step=12275 epoch=5 metrics={'time_sample_batch': 0.00013872717645649026, 'time_algorithm_update': 0.003494910844231817, 'loss': 0.005546377595540614, 'time_step': 0.003769836406358148, 'td_error': 0.9897012044913254, 'value_scale': 2.072487372928269, 'environment': 10.8} step=12275\n",
      "2023-07-22 15:58.25 [info     ] Model parameters are saved to d3rlpy_logs\\DQN_20230722155734\\model_12275.pt\n"
     ]
    },
    {
     "name": "stderr",
     "output_type": "stream",
     "text": [
      "Epoch 6/10: 100%|██████████| 2455/2455 [00:09<00:00, 260.52it/s, loss=0.00543]\n"
     ]
    },
    {
     "name": "stdout",
     "output_type": "stream",
     "text": [
      "2023-07-22 15:58.36 [info     ] DQN_20230722155734: epoch=6 step=14730 epoch=6 metrics={'time_sample_batch': 0.00014040678921639312, 'time_algorithm_update': 0.0035124654439704726, 'loss': 0.005424922674712597, 'time_step': 0.00378511869737427, 'td_error': 0.9886783514698539, 'value_scale': 2.070560606486448, 'environment': 10.5} step=14730\n",
      "2023-07-22 15:58.36 [info     ] Model parameters are saved to d3rlpy_logs\\DQN_20230722155734\\model_14730.pt\n"
     ]
    },
    {
     "name": "stderr",
     "output_type": "stream",
     "text": [
      "Epoch 7/10: 100%|██████████| 2455/2455 [00:10<00:00, 229.85it/s, loss=0.0115] \n"
     ]
    },
    {
     "name": "stdout",
     "output_type": "stream",
     "text": [
      "2023-07-22 15:58.47 [info     ] DQN_20230722155734: epoch=7 step=17185 epoch=7 metrics={'time_sample_batch': 0.00016654581741985623, 'time_algorithm_update': 0.003976325444922671, 'loss': 0.01153813735067431, 'time_step': 0.004287922989326679, 'td_error': 0.9807624643832595, 'value_scale': 3.0503221229626734, 'environment': 11.3} step=17185\n",
      "2023-07-22 15:58.47 [info     ] Model parameters are saved to d3rlpy_logs\\DQN_20230722155734\\model_17185.pt\n"
     ]
    },
    {
     "name": "stderr",
     "output_type": "stream",
     "text": [
      "Epoch 8/10: 100%|██████████| 2455/2455 [00:09<00:00, 267.52it/s, loss=0.015] \n"
     ]
    },
    {
     "name": "stdout",
     "output_type": "stream",
     "text": [
      "2023-07-22 15:58.57 [info     ] DQN_20230722155734: epoch=8 step=19640 epoch=8 metrics={'time_sample_batch': 0.00013864754173760501, 'time_algorithm_update': 0.0034182579599912684, 'loss': 0.015012446653268341, 'time_step': 0.0036913715409164272, 'td_error': 0.9830217093781463, 'value_scale': 3.041459730816445, 'environment': 12.8} step=19640\n",
      "2023-07-22 15:58.57 [info     ] Model parameters are saved to d3rlpy_logs\\DQN_20230722155734\\model_19640.pt\n"
     ]
    },
    {
     "name": "stderr",
     "output_type": "stream",
     "text": [
      "Epoch 9/10: 100%|██████████| 2455/2455 [00:09<00:00, 266.94it/s, loss=0.0148]\n"
     ]
    },
    {
     "name": "stdout",
     "output_type": "stream",
     "text": [
      "2023-07-22 15:59.08 [info     ] DQN_20230722155734: epoch=9 step=22095 epoch=9 metrics={'time_sample_batch': 0.0001406926001647825, 'time_algorithm_update': 0.0034274097372703786, 'loss': 0.014792572408774678, 'time_step': 0.003701819616034172, 'td_error': 0.9748706296610429, 'value_scale': 3.041053770956903, 'environment': 155.0} step=22095\n",
      "2023-07-22 15:59.08 [info     ] Model parameters are saved to d3rlpy_logs\\DQN_20230722155734\\model_22095.pt\n"
     ]
    },
    {
     "name": "stderr",
     "output_type": "stream",
     "text": [
      "Epoch 10/10: 100%|██████████| 2455/2455 [00:09<00:00, 258.19it/s, loss=0.0183]\n"
     ]
    },
    {
     "name": "stdout",
     "output_type": "stream",
     "text": [
      "2023-07-22 15:59.18 [info     ] DQN_20230722155734: epoch=10 step=24550 epoch=10 metrics={'time_sample_batch': 0.0001419148959841602, 'time_algorithm_update': 0.0035513148531165968, 'loss': 0.018254761820733253, 'time_step': 0.0038233139364394052, 'td_error': 0.9966057883545109, 'value_scale': 3.995312971342641, 'environment': 200.0} step=24550\n",
      "2023-07-22 15:59.18 [info     ] Model parameters are saved to d3rlpy_logs\\DQN_20230722155734\\model_24550.pt\n"
     ]
    },
    {
     "data": {
      "text/plain": [
       "[(1,\n",
       "  {'time_sample_batch': 0.00013246565389536064,\n",
       "   'time_algorithm_update': 0.0032221866965051094,\n",
       "   'loss': 0.012281907083886802,\n",
       "   'time_step': 0.0034810172079051344,\n",
       "   'td_error': 0.9828593678075406,\n",
       "   'value_scale': 1.0686198768667219,\n",
       "   'environment': 24.7}),\n",
       " (2,\n",
       "  {'time_sample_batch': 0.00013296084588511169,\n",
       "   'time_algorithm_update': 0.003215025010274044,\n",
       "   'loss': 4.352232922438073e-05,\n",
       "   'time_step': 0.0034783150659316426,\n",
       "   'td_error': 0.9814925859578073,\n",
       "   'value_scale': 1.069139284579945,\n",
       "   'environment': 23.7}),\n",
       " (3,\n",
       "  {'time_sample_batch': 0.0001451052376306227,\n",
       "   'time_algorithm_update': 0.0036011406457594117,\n",
       "   'loss': 4.388858133245715e-05,\n",
       "   'time_step': 0.0038847468778217885,\n",
       "   'td_error': 0.9848852583939095,\n",
       "   'value_scale': 1.071899532763913,\n",
       "   'environment': 17.8}),\n",
       " (4,\n",
       "  {'time_sample_batch': 0.00014725964812300113,\n",
       "   'time_algorithm_update': 0.0036692880564454617,\n",
       "   'loss': 0.005957207730484891,\n",
       "   'time_step': 0.003961686447050324,\n",
       "   'td_error': 0.9823096207421752,\n",
       "   'value_scale': 2.043620167373371,\n",
       "   'environment': 13.9}),\n",
       " (5,\n",
       "  {'time_sample_batch': 0.00013872717645649026,\n",
       "   'time_algorithm_update': 0.003494910844231817,\n",
       "   'loss': 0.005546377595540614,\n",
       "   'time_step': 0.003769836406358148,\n",
       "   'td_error': 0.9897012044913254,\n",
       "   'value_scale': 2.072487372928269,\n",
       "   'environment': 10.8}),\n",
       " (6,\n",
       "  {'time_sample_batch': 0.00014040678921639312,\n",
       "   'time_algorithm_update': 0.0035124654439704726,\n",
       "   'loss': 0.005424922674712597,\n",
       "   'time_step': 0.00378511869737427,\n",
       "   'td_error': 0.9886783514698539,\n",
       "   'value_scale': 2.070560606486448,\n",
       "   'environment': 10.5}),\n",
       " (7,\n",
       "  {'time_sample_batch': 0.00016654581741985623,\n",
       "   'time_algorithm_update': 0.003976325444922671,\n",
       "   'loss': 0.01153813735067431,\n",
       "   'time_step': 0.004287922989326679,\n",
       "   'td_error': 0.9807624643832595,\n",
       "   'value_scale': 3.0503221229626734,\n",
       "   'environment': 11.3}),\n",
       " (8,\n",
       "  {'time_sample_batch': 0.00013864754173760501,\n",
       "   'time_algorithm_update': 0.0034182579599912684,\n",
       "   'loss': 0.015012446653268341,\n",
       "   'time_step': 0.0036913715409164272,\n",
       "   'td_error': 0.9830217093781463,\n",
       "   'value_scale': 3.041459730816445,\n",
       "   'environment': 12.8}),\n",
       " (9,\n",
       "  {'time_sample_batch': 0.0001406926001647825,\n",
       "   'time_algorithm_update': 0.0034274097372703786,\n",
       "   'loss': 0.014792572408774678,\n",
       "   'time_step': 0.003701819616034172,\n",
       "   'td_error': 0.9748706296610429,\n",
       "   'value_scale': 3.041053770956903,\n",
       "   'environment': 155.0}),\n",
       " (10,\n",
       "  {'time_sample_batch': 0.0001419148959841602,\n",
       "   'time_algorithm_update': 0.0035513148531165968,\n",
       "   'loss': 0.018254761820733253,\n",
       "   'time_step': 0.0038233139364394052,\n",
       "   'td_error': 0.9966057883545109,\n",
       "   'value_scale': 3.995312971342641,\n",
       "   'environment': 200.0})]"
      ]
     },
     "execution_count": 8,
     "metadata": {},
     "output_type": "execute_result"
    }
   ],
   "source": [
    "# Start Training\n",
    "dqn.fit(train_episodes,\n",
    "        eval_episodes=test_episodes,\n",
    "        n_epochs=10,\n",
    "        scorers={\n",
    "            'td_error': td_error_scorer,\n",
    "            'value_scale': average_value_estimation_scorer,\n",
    "            'environment': evaluate_scorer\n",
    "        })"
   ]
  },
  {
   "cell_type": "code",
   "execution_count": 10,
   "metadata": {},
   "outputs": [
    {
     "data": {
      "text/plain": [
       "0.9966057883545109"
      ]
     },
     "execution_count": 10,
     "metadata": {},
     "output_type": "execute_result"
    }
   ],
   "source": [
    "# calculate metrics with test dataset\n",
    "td_error = td_error_scorer(dqn, test_episodes)\n",
    "td_error"
   ]
  },
  {
   "cell_type": "code",
   "execution_count": 11,
   "metadata": {},
   "outputs": [],
   "source": [
    "# Once the training is done, your algorithm is ready to make decisions.\n",
    "observation = env.reset()\n",
    "\n",
    "# return actions based on the greedy-policy\n",
    "action = dqn.predict([observation])[0]\n",
    "\n",
    "# estimate action-values\n",
    "value = dqn.predict_value([observation], [action])[0]"
   ]
  },
  {
   "cell_type": "code",
   "execution_count": 12,
   "metadata": {},
   "outputs": [],
   "source": [
    "# Save and load\n",
    "# d3rlpy provides several ways to save trained models.\n",
    "\n",
    "# save full parameters\n",
    "dqn.save_model('dqn.pt')\n",
    "\n",
    "# load full parameters\n",
    "dqn2 = DQN()\n",
    "dqn2.build_with_dataset(dataset)\n",
    "dqn2.load_model('dqn.pt')\n",
    "\n",
    "# save the greedy-policy as TorchScript\n",
    "dqn.save_policy('policy.pt')\n",
    "\n",
    "# save the greedy-policy as ONNX\n",
    "dqn.save_policy('policy.onnx')"
   ]
  },
  {
   "attachments": {},
   "cell_type": "markdown",
   "metadata": {},
   "source": [
    "# Play with MDPDataset"
   ]
  },
  {
   "cell_type": "code",
   "execution_count": 13,
   "metadata": {},
   "outputs": [
    {
     "name": "stdout",
     "output_type": "stream",
     "text": [
      "Donwloading cartpole.pkl into d3rlpy_data\\cartpole_random.h5...\n"
     ]
    }
   ],
   "source": [
    "# prepare dataset\n",
    "dataset, _ = d3rlpy.datasets.get_dataset(\"cartpole-random\")"
   ]
  },
  {
   "cell_type": "code",
   "execution_count": 14,
   "metadata": {},
   "outputs": [],
   "source": [
    "# first episode\n",
    "episode = dataset.episodes[0]\n",
    "\n",
    "# access to episode data\n",
    "episode.observations\n",
    "episode.actions\n",
    "episode.rewards\n",
    "\n",
    "# first transition\n",
    "transition = episode.transitions[0]\n",
    "\n",
    "# access to tuple\n",
    "transition.observation\n",
    "transition.action\n",
    "transition.reward\n",
    "transition.next_observation\n",
    "\n",
    "# linked list structure\n",
    "next_transition = transition.next_transition\n",
    "assert transition is next_transition.prev_transition"
   ]
  },
  {
   "cell_type": "code",
   "execution_count": 15,
   "metadata": {},
   "outputs": [
    {
     "name": "stdout",
     "output_type": "stream",
     "text": [
      "2023-07-22 17:06.24 [debug    ] RandomIterator is selected.\n",
      "2023-07-22 17:06.24 [info     ] Directory is created at d3rlpy_logs\\DQN_20230722170624\n",
      "2023-07-22 17:06.24 [debug    ] Building models...\n",
      "2023-07-22 17:06.24 [debug    ] Models have been built.\n",
      "2023-07-22 17:06.24 [info     ] Parameters are saved to d3rlpy_logs\\DQN_20230722170624\\params.json params={'action_scaler': None, 'batch_size': 32, 'encoder_factory': {'type': 'default', 'params': {'activation': 'relu', 'use_batch_norm': False, 'dropout_rate': None}}, 'gamma': 0.99, 'generated_maxlen': 100000, 'learning_rate': 6.25e-05, 'n_critics': 1, 'n_frames': 1, 'n_steps': 1, 'optim_factory': {'optim_cls': 'Adam', 'betas': (0.9, 0.999), 'eps': 1e-08, 'weight_decay': 0, 'amsgrad': False}, 'q_func_factory': {'type': 'mean', 'params': {'bootstrap': False, 'share_encoder': False}}, 'real_ratio': 1.0, 'reward_scaler': None, 'scaler': None, 'target_reduction_type': 'min', 'target_update_interval': 8000, 'use_gpu': None, 'algorithm': 'DQN', 'observation_shape': (4,), 'action_size': 2}\n"
     ]
    },
    {
     "name": "stderr",
     "output_type": "stream",
     "text": [
      "Epoch 1/1: 100%|██████████| 10000/10000 [00:37<00:00, 264.49it/s, loss=0.00643]"
     ]
    },
    {
     "name": "stdout",
     "output_type": "stream",
     "text": [
      "2023-07-22 17:07.02 [info     ] DQN_20230722170624: epoch=1 step=10000 epoch=1 metrics={'time_sample_batch': 0.0002513176918029785, 'time_algorithm_update': 0.0033109166383743288, 'loss': 0.00643815588111861, 'time_step': 0.0037374186992645262} step=10000\n",
      "2023-07-22 17:07.02 [info     ] Model parameters are saved to d3rlpy_logs\\DQN_20230722170624\\model_10000.pt\n"
     ]
    },
    {
     "name": "stderr",
     "output_type": "stream",
     "text": [
      "\n"
     ]
    },
    {
     "name": "stdout",
     "output_type": "stream",
     "text": [
      "2023-07-22 17:07.02 [debug    ] RandomIterator is selected.\n",
      "2023-07-22 17:07.02 [info     ] Directory is created at d3rlpy_logs\\DQN_20230722170702\n",
      "2023-07-22 17:07.02 [warning  ] Skip building models since they're already built.\n",
      "2023-07-22 17:07.02 [info     ] Parameters are saved to d3rlpy_logs\\DQN_20230722170702\\params.json params={'action_scaler': None, 'batch_size': 32, 'encoder_factory': {'type': 'default', 'params': {'activation': 'relu', 'use_batch_norm': False, 'dropout_rate': None}}, 'gamma': 0.99, 'generated_maxlen': 100000, 'learning_rate': 6.25e-05, 'n_critics': 1, 'n_frames': 1, 'n_steps': 1, 'optim_factory': {'optim_cls': 'Adam', 'betas': (0.9, 0.999), 'eps': 1e-08, 'weight_decay': 0, 'amsgrad': False}, 'q_func_factory': {'type': 'mean', 'params': {'bootstrap': False, 'share_encoder': False}}, 'real_ratio': 1.0, 'reward_scaler': None, 'scaler': None, 'target_reduction_type': 'min', 'target_update_interval': 8000, 'use_gpu': None, 'algorithm': 'DQN', 'observation_shape': (4,), 'action_size': 2}\n"
     ]
    },
    {
     "name": "stderr",
     "output_type": "stream",
     "text": [
      "Epoch 1/1: 100%|██████████| 10000/10000 [00:43<00:00, 229.81it/s, loss=0.0168]"
     ]
    },
    {
     "name": "stdout",
     "output_type": "stream",
     "text": [
      "2023-07-22 17:07.45 [info     ] DQN_20230722170702: epoch=1 step=10000 epoch=1 metrics={'time_sample_batch': 0.0002714428663253784, 'time_algorithm_update': 0.003835451602935791, 'loss': 0.016797652586744517, 'time_step': 0.0042962648153305055} step=10000\n",
      "2023-07-22 17:07.45 [info     ] Model parameters are saved to d3rlpy_logs\\DQN_20230722170702\\model_10000.pt\n",
      "2023-07-22 17:07.45 [debug    ] RandomIterator is selected.\n"
     ]
    },
    {
     "name": "stderr",
     "output_type": "stream",
     "text": [
      "\n"
     ]
    },
    {
     "name": "stdout",
     "output_type": "stream",
     "text": [
      "2023-07-22 17:07.45 [info     ] Directory is created at d3rlpy_logs\\DQN_20230722170745\n",
      "2023-07-22 17:07.45 [warning  ] Skip building models since they're already built.\n",
      "2023-07-22 17:07.45 [info     ] Parameters are saved to d3rlpy_logs\\DQN_20230722170745\\params.json params={'action_scaler': None, 'batch_size': 32, 'encoder_factory': {'type': 'default', 'params': {'activation': 'relu', 'use_batch_norm': False, 'dropout_rate': None}}, 'gamma': 0.99, 'generated_maxlen': 100000, 'learning_rate': 6.25e-05, 'n_critics': 1, 'n_frames': 1, 'n_steps': 1, 'optim_factory': {'optim_cls': 'Adam', 'betas': (0.9, 0.999), 'eps': 1e-08, 'weight_decay': 0, 'amsgrad': False}, 'q_func_factory': {'type': 'mean', 'params': {'bootstrap': False, 'share_encoder': False}}, 'real_ratio': 1.0, 'reward_scaler': None, 'scaler': None, 'target_reduction_type': 'min', 'target_update_interval': 8000, 'use_gpu': None, 'algorithm': 'DQN', 'observation_shape': (4,), 'action_size': 2}\n"
     ]
    },
    {
     "name": "stderr",
     "output_type": "stream",
     "text": [
      "Epoch 1/1: 100%|██████████| 10000/10000 [00:46<00:00, 212.84it/s, loss=0.0217]"
     ]
    },
    {
     "name": "stdout",
     "output_type": "stream",
     "text": [
      "2023-07-22 17:08.32 [info     ] DQN_20230722170745: epoch=1 step=10000 epoch=1 metrics={'time_sample_batch': 0.0002897111654281616, 'time_algorithm_update': 0.0041527874946594235, 'loss': 0.021663313985122657, 'time_step': 0.004640909504890442} step=10000\n"
     ]
    },
    {
     "name": "stderr",
     "output_type": "stream",
     "text": [
      "\n"
     ]
    },
    {
     "name": "stdout",
     "output_type": "stream",
     "text": [
      "2023-07-22 17:08.32 [info     ] Model parameters are saved to d3rlpy_logs\\DQN_20230722170745\\model_10000.pt\n"
     ]
    },
    {
     "data": {
      "text/plain": [
       "[(1,\n",
       "  {'time_sample_batch': 0.0002897111654281616,\n",
       "   'time_algorithm_update': 0.0041527874946594235,\n",
       "   'loss': 0.021663313985122657,\n",
       "   'time_step': 0.004640909504890442})]"
      ]
     },
     "execution_count": 15,
     "metadata": {},
     "output_type": "execute_result"
    }
   ],
   "source": [
    "# Feed MDPDataset to Algorithm\n",
    "dqn = d3rlpy.algos.DQN()\n",
    "\n",
    "# feed as MDPDataset\n",
    "dqn.fit(dataset, n_steps=10000)\n",
    "\n",
    "# feed as Episode\n",
    "dqn.fit(dataset.episodes, n_steps=10000)\n",
    "\n",
    "# feed as Transition\n",
    "transitions = []\n",
    "for episode in dataset.episodes:\n",
    "    transitions.extend(episode.transitions)\n",
    "dqn.fit(transitions, n_steps=10000)\n"
   ]
  },
  {
   "cell_type": "code",
   "execution_count": 16,
   "metadata": {},
   "outputs": [
    {
     "name": "stdout",
     "output_type": "stream",
     "text": [
      "2023-07-22 17:08.35 [debug    ] RandomIterator is selected.\n",
      "2023-07-22 17:08.35 [info     ] Directory is created at d3rlpy_logs\\DQN_20230722170835\n",
      "2023-07-22 17:08.35 [warning  ] Skip building models since they're already built.\n",
      "2023-07-22 17:08.35 [info     ] Parameters are saved to d3rlpy_logs\\DQN_20230722170835\\params.json params={'action_scaler': None, 'batch_size': 32, 'encoder_factory': {'type': 'default', 'params': {'activation': 'relu', 'use_batch_norm': False, 'dropout_rate': None}}, 'gamma': 0.99, 'generated_maxlen': 100000, 'learning_rate': 6.25e-05, 'n_critics': 1, 'n_frames': 1, 'n_steps': 1, 'optim_factory': {'optim_cls': 'Adam', 'betas': (0.9, 0.999), 'eps': 1e-08, 'weight_decay': 0, 'amsgrad': False}, 'q_func_factory': {'type': 'mean', 'params': {'bootstrap': False, 'share_encoder': False}}, 'real_ratio': 1.0, 'reward_scaler': None, 'scaler': None, 'target_reduction_type': 'min', 'target_update_interval': 8000, 'use_gpu': None, 'algorithm': 'DQN', 'observation_shape': (4,), 'action_size': 2}\n"
     ]
    },
    {
     "name": "stderr",
     "output_type": "stream",
     "text": [
      "Epoch 1/1:   0%|          | 0/10000 [00:00<?, ?it/s]"
     ]
    },
    {
     "name": "stderr",
     "output_type": "stream",
     "text": [
      "Epoch 1/1: 100%|██████████| 10000/10000 [00:43<00:00, 229.46it/s, loss=0.0233]\n"
     ]
    },
    {
     "name": "stdout",
     "output_type": "stream",
     "text": [
      "2023-07-22 17:09.19 [info     ] DQN_20230722170835: epoch=1 step=10000 epoch=1 metrics={'time_sample_batch': 0.0002636854887008667, 'time_algorithm_update': 0.0038532357692718506, 'loss': 0.023311340535826456, 'time_step': 0.004305591797828674, 'soft_opc': nan, 'initial_value': 4.9983391761779785} step=10000\n",
      "2023-07-22 17:09.20 [info     ] Model parameters are saved to d3rlpy_logs\\DQN_20230722170835\\model_10000.pt\n"
     ]
    },
    {
     "data": {
      "text/plain": [
       "[(1,\n",
       "  {'time_sample_batch': 0.0002636854887008667,\n",
       "   'time_algorithm_update': 0.0038532357692718506,\n",
       "   'loss': 0.023311340535826456,\n",
       "   'time_step': 0.004305591797828674,\n",
       "   'soft_opc': nan,\n",
       "   'initial_value': 4.9983391761779785})]"
      ]
     },
     "execution_count": 16,
     "metadata": {},
     "output_type": "execute_result"
    }
   ],
   "source": [
    "# use scikit-learn utility\n",
    "from sklearn.model_selection import train_test_split\n",
    "\n",
    "# episode-wise split\n",
    "train_episodes, test_episodes = train_test_split(dataset.episodes)\n",
    "\n",
    "# setup metrics\n",
    "metrics = {\n",
    "  \"soft_opc\": d3rlpy.metrics.scorer.soft_opc_scorer(return_threshold=180),\n",
    "  \"initial_value\": d3rlpy.metrics.scorer.initial_state_value_estimation_scorer,\n",
    "}\n",
    "\n",
    "# start training with episode-wise splits\n",
    "dqn.fit(\n",
    "    train_episodes,\n",
    "    n_steps=10000,\n",
    "    scorers=metrics,\n",
    "    eval_episodes=test_episodes,\n",
    ")"
   ]
  },
  {
   "cell_type": "code",
   "execution_count": 17,
   "metadata": {},
   "outputs": [],
   "source": [
    "# Mix Datasets\n",
    "from d3rlpy.dataset import MDPDataset"
   ]
  },
  {
   "cell_type": "code",
   "execution_count": 18,
   "metadata": {},
   "outputs": [],
   "source": [
    "# You can also mix multiple datasets to train algorithms.\n",
    "replay_dataset, _ = d3rlpy.datasets.get_dataset(\"cartpole-replay\")\n",
    "\n",
    "# extends replay dataset with random dataset\n",
    "replay_dataset.extend(dataset)\n",
    "\n",
    "# you can also save it and load it later\n",
    "replay_dataset.dump(\"mixed_dataset.h5\")\n",
    "mixed_dataset = MDPDataset.load(\"mixed_dataset.h5\")"
   ]
  },
  {
   "attachments": {},
   "cell_type": "markdown",
   "metadata": {},
   "source": [
    "# Data collection"
   ]
  },
  {
   "attachments": {},
   "cell_type": "markdown",
   "metadata": {},
   "source": [
    "**d3rlpy provides APIs to support data collection from environments. This feature is specifically useful if you want to build your own original datasets for research or practice purposes.**"
   ]
  },
  {
   "attachments": {},
   "cell_type": "markdown",
   "metadata": {},
   "source": [
    "**Prepare Environment\n",
    "d3rlpy supports environments with OpenAI Gym interface. In this tutorial, let’s use simple CartPole environment.**"
   ]
  },
  {
   "cell_type": "code",
   "execution_count": 19,
   "metadata": {},
   "outputs": [],
   "source": [
    "import gym\n",
    "\n",
    "env = gym.make(\"CartPole-v0\")"
   ]
  },
  {
   "attachments": {},
   "cell_type": "markdown",
   "metadata": {},
   "source": [
    "**Data Collection with Random Policy**"
   ]
  },
  {
   "cell_type": "code",
   "execution_count": 20,
   "metadata": {},
   "outputs": [
    {
     "name": "stdout",
     "output_type": "stream",
     "text": [
      "2023-07-22 17:10.04 [debug    ] Building model...\n",
      "2023-07-22 17:10.04 [debug    ] Model has been built.\n"
     ]
    },
    {
     "name": "stderr",
     "output_type": "stream",
     "text": [
      "100%|██████████| 100000/100000 [00:03<00:00, 31430.53it/s]\n"
     ]
    }
   ],
   "source": [
    "# If you want to collect experiences with uniformly random policy, you can use RandomPolicy and DiscreteRandomPolicy. This procedure corresponds to random datasets in D4RL.\n",
    "import d3rlpy\n",
    "\n",
    "# setup algorithm\n",
    "random_policy = d3rlpy.algos.DiscreteRandomPolicy()\n",
    "\n",
    "# prepare experience replay buffer\n",
    "buffer = d3rlpy.online.buffers.ReplayBuffer(maxlen=100000, env=env)\n",
    "\n",
    "# start data collection\n",
    "random_policy.collect(env, buffer, n_steps=100000)\n",
    "\n",
    "# export as MDPDataset\n",
    "dataset = buffer.to_mdp_dataset()\n",
    "\n",
    "# save MDPDataset\n",
    "dataset.dump(\"random_policy_dataset.h5\")"
   ]
  },
  {
   "attachments": {},
   "cell_type": "markdown",
   "metadata": {},
   "source": [
    "**Data Collection while Training Policy**"
   ]
  },
  {
   "cell_type": "code",
   "execution_count": 22,
   "metadata": {},
   "outputs": [
    {
     "name": "stdout",
     "output_type": "stream",
     "text": [
      "2023-07-22 17:10.20 [info     ] Directory is created at d3rlpy_logs\\DQN_online_20230722171020\n",
      "2023-07-22 17:10.20 [debug    ] Building model...\n",
      "2023-07-22 17:10.20 [debug    ] Model has been built.\n",
      "2023-07-22 17:10.20 [info     ] Parameters are saved to d3rlpy_logs\\DQN_online_20230722171020\\params.json params={'action_scaler': None, 'batch_size': 32, 'encoder_factory': {'type': 'default', 'params': {'activation': 'relu', 'use_batch_norm': False, 'dropout_rate': None}}, 'gamma': 0.99, 'generated_maxlen': 100000, 'learning_rate': 6.25e-05, 'n_critics': 1, 'n_frames': 1, 'n_steps': 1, 'optim_factory': {'optim_cls': 'Adam', 'betas': (0.9, 0.999), 'eps': 1e-08, 'weight_decay': 0, 'amsgrad': False}, 'q_func_factory': {'type': 'mean', 'params': {'bootstrap': False, 'share_encoder': False}}, 'real_ratio': 1.0, 'reward_scaler': None, 'scaler': None, 'target_reduction_type': 'min', 'target_update_interval': 8000, 'use_gpu': None, 'algorithm': 'DQN', 'observation_shape': (4,), 'action_size': 2}\n"
     ]
    },
    {
     "name": "stderr",
     "output_type": "stream",
     "text": [
      " 10%|▉         | 9986/100000 [00:38<05:44, 260.93it/s]"
     ]
    },
    {
     "name": "stdout",
     "output_type": "stream",
     "text": [
      "2023-07-22 17:10.59 [info     ] Model parameters are saved to d3rlpy_logs\\DQN_online_20230722171020\\model_10000.pt\n",
      "2023-07-22 17:10.59 [info     ] DQN_online_20230722171020: epoch=1 step=10000 epoch=1 metrics={'time_inference': 0.00047210686206817625, 'time_environment_step': 5.235147086984402e-05, 'time_step': 0.0038315746307373048, 'rollout_return': 9.697002141327623, 'time_sample_batch': 0.00015877052657051958, 'time_algorithm_update': 0.0030934831695066593, 'loss': 0.006750749032357123} step=10000\n"
     ]
    },
    {
     "name": "stderr",
     "output_type": "stream",
     "text": [
      " 20%|█▉        | 19990/100000 [01:18<05:01, 265.74it/s]"
     ]
    },
    {
     "name": "stdout",
     "output_type": "stream",
     "text": [
      "2023-07-22 17:11.39 [info     ] Model parameters are saved to d3rlpy_logs\\DQN_online_20230722171020\\model_20000.pt\n",
      "2023-07-22 17:11.39 [info     ] DQN_online_20230722171020: epoch=2 step=20000 epoch=2 metrics={'time_inference': 0.0004633970022201538, 'time_environment_step': 5.215113156183146e-05, 'time_sample_batch': 0.00015937888622283937, 'time_algorithm_update': 0.003209559440612793, 'loss': 0.017139763402959217, 'time_step': 0.003952449345588684, 'rollout_return': 17.22040072859745} step=20000\n"
     ]
    },
    {
     "name": "stderr",
     "output_type": "stream",
     "text": [
      " 30%|██▉       | 29985/100000 [02:08<05:25, 215.24it/s]"
     ]
    },
    {
     "name": "stdout",
     "output_type": "stream",
     "text": [
      "2023-07-22 17:12.29 [info     ] Model parameters are saved to d3rlpy_logs\\DQN_online_20230722171020\\model_30000.pt\n",
      "2023-07-22 17:12.29 [info     ] DQN_online_20230722171020: epoch=3 step=30000 epoch=3 metrics={'time_inference': 0.0006068842172622681, 'time_environment_step': 6.684611831229256e-05, 'time_sample_batch': 0.00019521639347076417, 'time_algorithm_update': 0.003957726454734802, 'loss': 0.01692864636857703, 'time_step': 0.004913048768043518, 'rollout_return': 23.608374384236452} step=30000\n"
     ]
    },
    {
     "name": "stderr",
     "output_type": "stream",
     "text": [
      " 40%|███▉      | 39980/100000 [02:59<03:48, 262.26it/s]"
     ]
    },
    {
     "name": "stdout",
     "output_type": "stream",
     "text": [
      "2023-07-22 17:13.19 [info     ] Model parameters are saved to d3rlpy_logs\\DQN_online_20230722171020\\model_40000.pt\n",
      "2023-07-22 17:13.19 [info     ] DQN_online_20230722171020: epoch=4 step=40000 epoch=4 metrics={'time_inference': 0.0005936670541763306, 'time_environment_step': 6.44308381631862e-05, 'time_sample_batch': 0.00020092337131500244, 'time_algorithm_update': 0.004069307279586792, 'loss': 0.01467409262912115, 'time_step': 0.005013094902038574, 'rollout_return': 94.0576923076923} step=40000\n"
     ]
    },
    {
     "name": "stderr",
     "output_type": "stream",
     "text": [
      " 50%|████▉     | 49989/100000 [03:55<06:49, 122.17it/s]"
     ]
    },
    {
     "name": "stdout",
     "output_type": "stream",
     "text": [
      "2023-07-22 17:14.16 [info     ] Model parameters are saved to d3rlpy_logs\\DQN_online_20230722171020\\model_50000.pt\n",
      "2023-07-22 17:14.16 [info     ] DQN_online_20230722171020: epoch=5 step=50000 epoch=5 metrics={'time_inference': 0.0006939249992370606, 'time_environment_step': 5.972176939997841e-05, 'time_sample_batch': 0.00021233177185058592, 'time_algorithm_update': 0.00455575442314148, 'loss': 0.01425086851908127, 'time_step': 0.005612196755409241, 'rollout_return': 200.0} step=50000\n"
     ]
    },
    {
     "name": "stderr",
     "output_type": "stream",
     "text": [
      " 60%|█████▉    | 59995/100000 [05:00<03:24, 196.01it/s]"
     ]
    },
    {
     "name": "stdout",
     "output_type": "stream",
     "text": [
      "2023-07-22 17:15.21 [info     ] Model parameters are saved to d3rlpy_logs\\DQN_online_20230722171020\\model_60000.pt\n",
      "2023-07-22 17:15.21 [info     ] DQN_online_20230722171020: epoch=6 step=60000 epoch=6 metrics={'time_inference': 0.0007891584634780884, 'time_environment_step': 7.415888896539583e-05, 'time_sample_batch': 0.00022498390674591064, 'time_algorithm_update': 0.005196636295318604, 'loss': 0.013201305827248143, 'time_step': 0.006386096835136414, 'rollout_return': 200.0} step=60000\n"
     ]
    },
    {
     "name": "stderr",
     "output_type": "stream",
     "text": [
      " 70%|██████▉   | 69976/100000 [05:45<02:10, 230.67it/s]"
     ]
    },
    {
     "name": "stdout",
     "output_type": "stream",
     "text": [
      "2023-07-22 17:16.06 [info     ] Model parameters are saved to d3rlpy_logs\\DQN_online_20230722171020\\model_70000.pt\n",
      "2023-07-22 17:16.06 [info     ] DQN_online_20230722171020: epoch=7 step=70000 epoch=7 metrics={'time_inference': 0.000527955675125122, 'time_environment_step': 5.458477285923928e-05, 'time_sample_batch': 0.00017214436531066895, 'time_algorithm_update': 0.00362412006855011, 'loss': 0.01430074846589705, 'time_step': 0.0044466694831848145, 'rollout_return': 200.0} step=70000\n"
     ]
    },
    {
     "name": "stderr",
     "output_type": "stream",
     "text": [
      " 80%|███████▉  | 79985/100000 [06:52<01:31, 218.22it/s]"
     ]
    },
    {
     "name": "stdout",
     "output_type": "stream",
     "text": [
      "2023-07-22 17:17.13 [info     ] Model parameters are saved to d3rlpy_logs\\DQN_online_20230722171020\\model_80000.pt\n",
      "2023-07-22 17:17.13 [info     ] DQN_online_20230722171020: epoch=8 step=80000 epoch=8 metrics={'time_inference': 0.0007444080829620361, 'time_environment_step': 7.314001495514683e-05, 'time_sample_batch': 0.00021344006061553954, 'time_algorithm_update': 0.005481677055358887, 'loss': 0.013926662999260589, 'time_step': 0.00660682737827301, 'rollout_return': 200.0} step=80000\n"
     ]
    },
    {
     "name": "stderr",
     "output_type": "stream",
     "text": [
      " 90%|████████▉ | 89980/100000 [07:46<00:43, 227.87it/s]"
     ]
    },
    {
     "name": "stdout",
     "output_type": "stream",
     "text": [
      "2023-07-22 17:18.06 [info     ] Model parameters are saved to d3rlpy_logs\\DQN_online_20230722171020\\model_90000.pt\n",
      "2023-07-22 17:18.06 [info     ] DQN_online_20230722171020: epoch=9 step=90000 epoch=9 metrics={'time_inference': 0.0006250709533691406, 'time_environment_step': 6.749057290542066e-05, 'time_sample_batch': 0.0001952970266342163, 'time_algorithm_update': 0.00433855791091919, 'loss': 0.016248252808925463, 'time_step': 0.0053152955293655395, 'rollout_return': 200.0} step=90000\n"
     ]
    },
    {
     "name": "stderr",
     "output_type": "stream",
     "text": [
      "100%|█████████▉| 99988/100000 [08:35<00:00, 208.36it/s]"
     ]
    },
    {
     "name": "stdout",
     "output_type": "stream",
     "text": [
      "2023-07-22 17:18.55 [info     ] Model parameters are saved to d3rlpy_logs\\DQN_online_20230722171020\\model_100000.pt\n",
      "2023-07-22 17:18.55 [info     ] DQN_online_20230722171020: epoch=10 step=100000 epoch=10 metrics={'time_inference': 0.0005566834688186645, 'time_environment_step': 5.422606540085682e-05, 'time_sample_batch': 0.0001874948024749756, 'time_algorithm_update': 0.003967680883407593, 'loss': 0.015128838215080032, 'time_step': 0.004846218276023865, 'rollout_return': 200.0} step=100000\n"
     ]
    },
    {
     "name": "stderr",
     "output_type": "stream",
     "text": [
      "100%|██████████| 100000/100000 [08:35<00:00, 194.00it/s]\n"
     ]
    }
   ],
   "source": [
    "# setup algorithm\n",
    "dqn = d3rlpy.algos.DQN()\n",
    "\n",
    "# prepare experience replay buffer\n",
    "buffer = d3rlpy.online.buffers.ReplayBuffer(maxlen=100000, env=env)\n",
    "\n",
    "# prepare exploration strategy if necessary\n",
    "explorer = d3rlpy.online.explorers.ConstantEpsilonGreedy(0.3)\n",
    "\n",
    "# start data collection\n",
    "dqn.fit_online(env, buffer, n_steps=100000)\n",
    "\n",
    "# export as MDPDataset\n",
    "dataset = buffer.to_mdp_dataset()\n",
    "\n",
    "# save MDPDataset\n",
    "dataset.dump(\"replay_dataset.h5\")"
   ]
  },
  {
   "attachments": {},
   "cell_type": "markdown",
   "metadata": {},
   "source": [
    "# Create Your Dataset"
   ]
  },
  {
   "attachments": {},
   "cell_type": "markdown",
   "metadata": {},
   "source": [
    "**The data collection API is introduced in Data Collection. In this tutorial, you can learn how to build your dataset from logged data such as the user data collected in your web service.**"
   ]
  },
  {
   "attachments": {},
   "cell_type": "markdown",
   "metadata": {},
   "source": [
    "### Prepare Logged Data"
   ]
  },
  {
   "attachments": {},
   "cell_type": "markdown",
   "metadata": {},
   "source": [
    "**First of all, you need to prepare your logged data. In this tutorial, let’s use randomly generated data. terminals represents the last step of episodes. If terminals[i] == 1.0, i-th step is the terminal state. Otherwise you need to set zeros for non-terminal states.**"
   ]
  },
  {
   "cell_type": "code",
   "execution_count": 23,
   "metadata": {},
   "outputs": [],
   "source": [
    "import numpy as np\n",
    "\n",
    "# vector observation\n",
    "# 1000 steps of observations with shape of (100,)\n",
    "observations = np.random.random((1000, 100))\n",
    "\n",
    "# 1000 steps of actions with shape of (4,)\n",
    "actions = np.random.random((1000, 4))\n",
    "\n",
    "# 1000 steps of rewards\n",
    "rewards = np.random.random(1000)\n",
    "\n",
    "# 1000 steps of terminal flags\n",
    "terminals = np.random.randint(2, size=1000)"
   ]
  },
  {
   "cell_type": "code",
   "execution_count": 24,
   "metadata": {},
   "outputs": [],
   "source": [
    "dataset = d3rlpy.dataset.MDPDataset(\n",
    "    observations=observations,\n",
    "    actions=actions,\n",
    "    rewards=rewards,\n",
    "    terminals=terminals,\n",
    ")"
   ]
  },
  {
   "cell_type": "code",
   "execution_count": null,
   "metadata": {},
   "outputs": [],
   "source": [
    "# episode-wise split\n",
    "train_episodes, test_episodes = train_test_split(dataset.episodes)\n",
    "\n",
    "# setup metrics\n",
    "metrics = {\n",
    "  \"soft_opc\": d3rlpy.metrics.scorer.soft_opc_scorer(return_threshold=180),\n",
    "  \"initial_value\": d3rlpy.metrics.scorer.initial_state_value_estimation_scorer,\n",
    "}\n",
    "\n",
    "dqn = d3rlpy.algos.CQL()\n",
    "\n",
    "# start training with episode-wise splits\n",
    "dqn.fit(\n",
    "    train_episodes,\n",
    "    n_steps=10000,\n",
    "    scorers=metrics,\n",
    "    eval_episodes=test_episodes,\n",
    ")"
   ]
  },
  {
   "cell_type": "code",
   "execution_count": 22,
   "metadata": {},
   "outputs": [],
   "source": [
    "# 1000 steps of observations with shape of (100,)\n",
    "observations = np.random.random((1000, 100))\n",
    "# 1000 steps of actions with shape of (4,)\n",
    "actions = np.random.random((1000, 4))\n",
    "# 1000 steps of rewards\n",
    "rewards = np.random.random(1000)\n",
    "# 1000 steps of terminal flags\n",
    "terminals = np.random.randint(2, size=1000)\n",
    "\n",
    "dataset = MDPDataset(observations, actions, rewards, terminals)\n",
    "\n",
    "# automatically splitted into d3rlpy.dataset.Episode objects\n",
    "dataset.episodes\n",
    "\n",
    "# each episode is also splitted into d3rlpy.dataset.Transition objects\n",
    "episode = dataset.episodes[0]\n",
    "episode[0].observation\n",
    "episode[0].action\n",
    "episode[0].reward\n",
    "episode[0].next_observation\n",
    "episode[0].terminal\n",
    "\n",
    "# d3rlpy.dataset.Transition object has pointers to previous and next\n",
    "# transitions like linked list.\n",
    "transition = episode[0]\n",
    "while transition.next_transition:\n",
    "    transition = transition.next_transition\n",
    "\n",
    "# save as HDF5\n",
    "dataset.dump('dataset.h5')\n",
    "\n",
    "# load from HDF5\n",
    "new_dataset = MDPDataset.load('dataset.h5')"
   ]
  },
  {
   "cell_type": "code",
   "execution_count": null,
   "metadata": {},
   "outputs": [],
   "source": [
    "# episode-wise split\n",
    "train_episodes, test_episodes = train_test_split(dataset.episodes)\n",
    "\n",
    "# setup metrics\n",
    "metrics = {\n",
    "  \"soft_opc\": d3rlpy.metrics.scorer.soft_opc_scorer(return_threshold=180),\n",
    "  \"initial_value\": d3rlpy.metrics.scorer.initial_state_value_estimation_scorer,\n",
    "}\n",
    "\n",
    "dqn = d3rlpy.algos.CQL()\n",
    "\n",
    "# start training with episode-wise splits\n",
    "dqn.fit(\n",
    "    train_episodes,\n",
    "    n_steps=10000,\n",
    "    scorers=metrics,\n",
    "    eval_episodes=test_episodes,\n",
    ")"
   ]
  },
  {
   "attachments": {},
   "cell_type": "markdown",
   "metadata": {},
   "source": [
    "# Evaluation on environment"
   ]
  },
  {
   "cell_type": "code",
   "execution_count": null,
   "metadata": {},
   "outputs": [],
   "source": [
    "import d3rlpy\n",
    "\n",
    "# setup replay CartPole-v0 dataset and environment\n",
    "dataset, env = d3rlpy.datasets.get_dataset(\"cartpole-replay\")\n",
    "\n",
    "# setup algorithm\n",
    "dqn = d3rlpy.algos.DQN()\n",
    "\n",
    "# start offline training\n",
    "dqn.fit(\n",
    "   dataset,\n",
    "   eval_episodes=dataset.episodes,\n",
    "   n_steps=100000,\n",
    "   n_steps_per_epoch=10000,\n",
    "   scorers={\n",
    "       \"environment\": d3rlpy.metrics.evaluate_on_environment(env),\n",
    "   },\n",
    ")"
   ]
  }
 ],
 "metadata": {
  "kernelspec": {
   "display_name": "Ti_RL",
   "language": "python",
   "name": "python3"
  },
  "language_info": {
   "codemirror_mode": {
    "name": "ipython",
    "version": 3
   },
   "file_extension": ".py",
   "mimetype": "text/x-python",
   "name": "python",
   "nbconvert_exporter": "python",
   "pygments_lexer": "ipython3",
   "version": "3.6.13"
  },
  "orig_nbformat": 4
 },
 "nbformat": 4,
 "nbformat_minor": 2
}
