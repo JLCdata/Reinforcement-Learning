{
 "cells": [
  {
   "cell_type": "code",
   "execution_count": 1,
   "metadata": {},
   "outputs": [],
   "source": [
    "import pandas as pd\n",
    "import numpy as np\n",
    "import re \n",
    "import scipy\n",
    "import seaborn as sns\n",
    "import matplotlib.pyplot as plt\n",
    "from scipy import stats\n",
    "from matplotlib.offsetbox import AnchoredText\n",
    "import plotly.graph_objects as go \n",
    "import plotly.express as px\n",
    "from imblearn.over_sampling import RandomOverSampler\n",
    "import missingno as msno\n",
    "from sklearn.preprocessing import MinMaxScaler\n",
    "import warnings\n",
    "from numpy import mean,sqrt,square \n",
    "from scipy.stats import kurtosis,skew \n",
    "from sklearn.compose import ColumnTransformer \n",
    "from sklearn.preprocessing import MinMaxScaler\n",
    "from sklearn.pipeline import Pipeline\n",
    "import xgboost as xgb\n",
    "from sklearn.cluster import KMeans\n",
    "from scipy.fftpack import fft, fftfreq\n",
    "from sklearn.model_selection import train_test_split \n",
    "warnings.filterwarnings(\"ignore\")\n",
    "pd.set_option('display.max_columns', None)"
   ]
  },
  {
   "cell_type": "markdown",
   "metadata": {},
   "source": [
    "# dfs risk"
   ]
  },
  {
   "cell_type": "code",
   "execution_count": 2,
   "metadata": {},
   "outputs": [
    {
     "data": {
      "text/html": [
       "<div>\n",
       "<style scoped>\n",
       "    .dataframe tbody tr th:only-of-type {\n",
       "        vertical-align: middle;\n",
       "    }\n",
       "\n",
       "    .dataframe tbody tr th {\n",
       "        vertical-align: top;\n",
       "    }\n",
       "\n",
       "    .dataframe thead th {\n",
       "        text-align: right;\n",
       "    }\n",
       "</style>\n",
       "<table border=\"1\" class=\"dataframe\">\n",
       "  <thead>\n",
       "    <tr style=\"text-align: right;\">\n",
       "      <th></th>\n",
       "      <th>threshold_arcilla</th>\n",
       "      <th>threshold_finos</th>\n",
       "      <th>probability</th>\n",
       "    </tr>\n",
       "    <tr>\n",
       "      <th>index</th>\n",
       "      <th></th>\n",
       "      <th></th>\n",
       "      <th></th>\n",
       "    </tr>\n",
       "  </thead>\n",
       "  <tbody>\n",
       "    <tr>\n",
       "      <th>4</th>\n",
       "      <td>0.27</td>\n",
       "      <td>74</td>\n",
       "      <td>0.117000</td>\n",
       "    </tr>\n",
       "    <tr>\n",
       "      <th>5</th>\n",
       "      <td>0.27</td>\n",
       "      <td>75</td>\n",
       "      <td>0.117000</td>\n",
       "    </tr>\n",
       "    <tr>\n",
       "      <th>6</th>\n",
       "      <td>0.27</td>\n",
       "      <td>76</td>\n",
       "      <td>0.117333</td>\n",
       "    </tr>\n",
       "    <tr>\n",
       "      <th>7</th>\n",
       "      <td>0.27</td>\n",
       "      <td>77</td>\n",
       "      <td>0.117667</td>\n",
       "    </tr>\n",
       "    <tr>\n",
       "      <th>8</th>\n",
       "      <td>0.27</td>\n",
       "      <td>78</td>\n",
       "      <td>0.118000</td>\n",
       "    </tr>\n",
       "    <tr>\n",
       "      <th>...</th>\n",
       "      <td>...</td>\n",
       "      <td>...</td>\n",
       "      <td>...</td>\n",
       "    </tr>\n",
       "    <tr>\n",
       "      <th>8</th>\n",
       "      <td>0.38</td>\n",
       "      <td>78</td>\n",
       "      <td>0.203333</td>\n",
       "    </tr>\n",
       "    <tr>\n",
       "      <th>9</th>\n",
       "      <td>0.38</td>\n",
       "      <td>79</td>\n",
       "      <td>0.217667</td>\n",
       "    </tr>\n",
       "    <tr>\n",
       "      <th>10</th>\n",
       "      <td>0.38</td>\n",
       "      <td>80</td>\n",
       "      <td>0.235667</td>\n",
       "    </tr>\n",
       "    <tr>\n",
       "      <th>11</th>\n",
       "      <td>0.38</td>\n",
       "      <td>81</td>\n",
       "      <td>0.256667</td>\n",
       "    </tr>\n",
       "    <tr>\n",
       "      <th>12</th>\n",
       "      <td>0.38</td>\n",
       "      <td>82</td>\n",
       "      <td>0.291000</td>\n",
       "    </tr>\n",
       "  </tbody>\n",
       "</table>\n",
       "<p>63 rows × 3 columns</p>\n",
       "</div>"
      ],
      "text/plain": [
       "       threshold_arcilla  threshold_finos  probability\n",
       "index                                                 \n",
       "4                   0.27               74     0.117000\n",
       "5                   0.27               75     0.117000\n",
       "6                   0.27               76     0.117333\n",
       "7                   0.27               77     0.117667\n",
       "8                   0.27               78     0.118000\n",
       "...                  ...              ...          ...\n",
       "8                   0.38               78     0.203333\n",
       "9                   0.38               79     0.217667\n",
       "10                  0.38               80     0.235667\n",
       "11                  0.38               81     0.256667\n",
       "12                  0.38               82     0.291000\n",
       "\n",
       "[63 rows x 3 columns]"
      ]
     },
     "execution_count": 2,
     "metadata": {},
     "output_type": "execute_result"
    }
   ],
   "source": [
    "df_risk=pd.read_parquet(\"DF_Factor_Riesgo_LS1_Final.parquet\").dropna().rename(columns={\"mean_arcillas_3\":\"threshold_arcilla\",\"mean_avg_finos_3_(t-1)\":\"threshold_finos\",\"probability_atollo\":\"probability\"})\n",
    "for i in df_risk.threshold_arcilla.unique():\n",
    "    df_risk[\"probability\"][df_risk[\"threshold_arcilla\"]==i]=df_risk[\"probability\"][df_risk[\"threshold_arcilla\"]==i].rolling(3).mean()\n",
    "    #print(i)\n",
    "df_risk=df_risk[df_risk['threshold_finos']<=82]\n",
    "df_risk.dropna(inplace=True)\n",
    "df_risk=df_risk[(df_risk[\"threshold_arcilla\"].isin([0.27,0.28,0.29,0.3,0.31,0.34,0.38]))]\n",
    "df_risk"
   ]
  },
  {
   "cell_type": "code",
   "execution_count": 3,
   "metadata": {},
   "outputs": [
    {
     "data": {
      "application/vnd.plotly.v1+json": {
       "config": {
        "plotlyServerURL": "https://plot.ly"
       },
       "data": [
        {
         "mode": "lines",
         "name": "Arcillas corte 0.27",
         "type": "scatter",
         "x": [
          74,
          75,
          76,
          77,
          78,
          79,
          80,
          81,
          82
         ],
         "y": [
          0.117,
          0.117,
          0.11733333333333333,
          0.11766666666666666,
          0.118,
          0.118,
          0.11766666666666666,
          0.11699999999999999,
          0.116
         ]
        },
        {
         "mode": "lines",
         "name": "Arcillas corte 0.28",
         "type": "scatter",
         "x": [
          74,
          75,
          76,
          77,
          78,
          79,
          80,
          81,
          82
         ],
         "y": [
          0.116,
          0.116,
          0.116,
          0.116,
          0.116,
          0.116,
          0.116,
          0.11566666666666668,
          0.115
         ]
        },
        {
         "mode": "lines",
         "name": "Arcillas corte 0.29",
         "type": "scatter",
         "x": [
          74,
          75,
          76,
          77,
          78,
          79,
          80,
          81,
          82
         ],
         "y": [
          0.119,
          0.119,
          0.119,
          0.11933333333333333,
          0.11966666666666666,
          0.12,
          0.12,
          0.12,
          0.11966666666666666
         ]
        },
        {
         "mode": "lines",
         "name": "Arcillas corte 0.3",
         "type": "scatter",
         "x": [
          74,
          75,
          76,
          77,
          78,
          79,
          80,
          81,
          82
         ],
         "y": [
          0.11566666666666668,
          0.11533333333333334,
          0.11566666666666668,
          0.11566666666666668,
          0.116,
          0.116,
          0.11633333333333334,
          0.11666666666666668,
          0.117
         ]
        },
        {
         "mode": "lines",
         "name": "Arcillas corte 0.31",
         "type": "scatter",
         "x": [
          74,
          75,
          76,
          77,
          78,
          79,
          80,
          81,
          82
         ],
         "y": [
          0.11733333333333333,
          0.11766666666666666,
          0.118,
          0.11766666666666666,
          0.11699999999999999,
          0.11633333333333334,
          0.11633333333333334,
          0.11666666666666668,
          0.11733333333333335
         ]
        },
        {
         "mode": "lines",
         "name": "Arcillas corte 0.34",
         "type": "scatter",
         "x": [
          74,
          75,
          76,
          77,
          78,
          79,
          80,
          81,
          82
         ],
         "y": [
          0.11633333333333334,
          0.11666666666666668,
          0.117,
          0.117,
          0.118,
          0.12033333333333333,
          0.125,
          0.131,
          0.139
         ]
        },
        {
         "mode": "lines",
         "name": "Arcillas corte 0.38",
         "type": "scatter",
         "x": [
          74,
          75,
          76,
          77,
          78,
          79,
          80,
          81,
          82
         ],
         "y": [
          0.169,
          0.17333333333333334,
          0.18000000000000002,
          0.19000000000000003,
          0.20333333333333334,
          0.21766666666666667,
          0.2356666666666667,
          0.25666666666666665,
          0.291
         ]
        }
       ],
       "layout": {
        "height": 500,
        "template": {
         "data": {
          "bar": [
           {
            "error_x": {
             "color": "#2a3f5f"
            },
            "error_y": {
             "color": "#2a3f5f"
            },
            "marker": {
             "line": {
              "color": "#E5ECF6",
              "width": 0.5
             },
             "pattern": {
              "fillmode": "overlay",
              "size": 10,
              "solidity": 0.2
             }
            },
            "type": "bar"
           }
          ],
          "barpolar": [
           {
            "marker": {
             "line": {
              "color": "#E5ECF6",
              "width": 0.5
             },
             "pattern": {
              "fillmode": "overlay",
              "size": 10,
              "solidity": 0.2
             }
            },
            "type": "barpolar"
           }
          ],
          "carpet": [
           {
            "aaxis": {
             "endlinecolor": "#2a3f5f",
             "gridcolor": "white",
             "linecolor": "white",
             "minorgridcolor": "white",
             "startlinecolor": "#2a3f5f"
            },
            "baxis": {
             "endlinecolor": "#2a3f5f",
             "gridcolor": "white",
             "linecolor": "white",
             "minorgridcolor": "white",
             "startlinecolor": "#2a3f5f"
            },
            "type": "carpet"
           }
          ],
          "choropleth": [
           {
            "colorbar": {
             "outlinewidth": 0,
             "ticks": ""
            },
            "type": "choropleth"
           }
          ],
          "contour": [
           {
            "colorbar": {
             "outlinewidth": 0,
             "ticks": ""
            },
            "colorscale": [
             [
              0,
              "#0d0887"
             ],
             [
              0.1111111111111111,
              "#46039f"
             ],
             [
              0.2222222222222222,
              "#7201a8"
             ],
             [
              0.3333333333333333,
              "#9c179e"
             ],
             [
              0.4444444444444444,
              "#bd3786"
             ],
             [
              0.5555555555555556,
              "#d8576b"
             ],
             [
              0.6666666666666666,
              "#ed7953"
             ],
             [
              0.7777777777777778,
              "#fb9f3a"
             ],
             [
              0.8888888888888888,
              "#fdca26"
             ],
             [
              1,
              "#f0f921"
             ]
            ],
            "type": "contour"
           }
          ],
          "contourcarpet": [
           {
            "colorbar": {
             "outlinewidth": 0,
             "ticks": ""
            },
            "type": "contourcarpet"
           }
          ],
          "heatmap": [
           {
            "colorbar": {
             "outlinewidth": 0,
             "ticks": ""
            },
            "colorscale": [
             [
              0,
              "#0d0887"
             ],
             [
              0.1111111111111111,
              "#46039f"
             ],
             [
              0.2222222222222222,
              "#7201a8"
             ],
             [
              0.3333333333333333,
              "#9c179e"
             ],
             [
              0.4444444444444444,
              "#bd3786"
             ],
             [
              0.5555555555555556,
              "#d8576b"
             ],
             [
              0.6666666666666666,
              "#ed7953"
             ],
             [
              0.7777777777777778,
              "#fb9f3a"
             ],
             [
              0.8888888888888888,
              "#fdca26"
             ],
             [
              1,
              "#f0f921"
             ]
            ],
            "type": "heatmap"
           }
          ],
          "heatmapgl": [
           {
            "colorbar": {
             "outlinewidth": 0,
             "ticks": ""
            },
            "colorscale": [
             [
              0,
              "#0d0887"
             ],
             [
              0.1111111111111111,
              "#46039f"
             ],
             [
              0.2222222222222222,
              "#7201a8"
             ],
             [
              0.3333333333333333,
              "#9c179e"
             ],
             [
              0.4444444444444444,
              "#bd3786"
             ],
             [
              0.5555555555555556,
              "#d8576b"
             ],
             [
              0.6666666666666666,
              "#ed7953"
             ],
             [
              0.7777777777777778,
              "#fb9f3a"
             ],
             [
              0.8888888888888888,
              "#fdca26"
             ],
             [
              1,
              "#f0f921"
             ]
            ],
            "type": "heatmapgl"
           }
          ],
          "histogram": [
           {
            "marker": {
             "pattern": {
              "fillmode": "overlay",
              "size": 10,
              "solidity": 0.2
             }
            },
            "type": "histogram"
           }
          ],
          "histogram2d": [
           {
            "colorbar": {
             "outlinewidth": 0,
             "ticks": ""
            },
            "colorscale": [
             [
              0,
              "#0d0887"
             ],
             [
              0.1111111111111111,
              "#46039f"
             ],
             [
              0.2222222222222222,
              "#7201a8"
             ],
             [
              0.3333333333333333,
              "#9c179e"
             ],
             [
              0.4444444444444444,
              "#bd3786"
             ],
             [
              0.5555555555555556,
              "#d8576b"
             ],
             [
              0.6666666666666666,
              "#ed7953"
             ],
             [
              0.7777777777777778,
              "#fb9f3a"
             ],
             [
              0.8888888888888888,
              "#fdca26"
             ],
             [
              1,
              "#f0f921"
             ]
            ],
            "type": "histogram2d"
           }
          ],
          "histogram2dcontour": [
           {
            "colorbar": {
             "outlinewidth": 0,
             "ticks": ""
            },
            "colorscale": [
             [
              0,
              "#0d0887"
             ],
             [
              0.1111111111111111,
              "#46039f"
             ],
             [
              0.2222222222222222,
              "#7201a8"
             ],
             [
              0.3333333333333333,
              "#9c179e"
             ],
             [
              0.4444444444444444,
              "#bd3786"
             ],
             [
              0.5555555555555556,
              "#d8576b"
             ],
             [
              0.6666666666666666,
              "#ed7953"
             ],
             [
              0.7777777777777778,
              "#fb9f3a"
             ],
             [
              0.8888888888888888,
              "#fdca26"
             ],
             [
              1,
              "#f0f921"
             ]
            ],
            "type": "histogram2dcontour"
           }
          ],
          "mesh3d": [
           {
            "colorbar": {
             "outlinewidth": 0,
             "ticks": ""
            },
            "type": "mesh3d"
           }
          ],
          "parcoords": [
           {
            "line": {
             "colorbar": {
              "outlinewidth": 0,
              "ticks": ""
             }
            },
            "type": "parcoords"
           }
          ],
          "pie": [
           {
            "automargin": true,
            "type": "pie"
           }
          ],
          "scatter": [
           {
            "marker": {
             "colorbar": {
              "outlinewidth": 0,
              "ticks": ""
             }
            },
            "type": "scatter"
           }
          ],
          "scatter3d": [
           {
            "line": {
             "colorbar": {
              "outlinewidth": 0,
              "ticks": ""
             }
            },
            "marker": {
             "colorbar": {
              "outlinewidth": 0,
              "ticks": ""
             }
            },
            "type": "scatter3d"
           }
          ],
          "scattercarpet": [
           {
            "marker": {
             "colorbar": {
              "outlinewidth": 0,
              "ticks": ""
             }
            },
            "type": "scattercarpet"
           }
          ],
          "scattergeo": [
           {
            "marker": {
             "colorbar": {
              "outlinewidth": 0,
              "ticks": ""
             }
            },
            "type": "scattergeo"
           }
          ],
          "scattergl": [
           {
            "marker": {
             "colorbar": {
              "outlinewidth": 0,
              "ticks": ""
             }
            },
            "type": "scattergl"
           }
          ],
          "scattermapbox": [
           {
            "marker": {
             "colorbar": {
              "outlinewidth": 0,
              "ticks": ""
             }
            },
            "type": "scattermapbox"
           }
          ],
          "scatterpolar": [
           {
            "marker": {
             "colorbar": {
              "outlinewidth": 0,
              "ticks": ""
             }
            },
            "type": "scatterpolar"
           }
          ],
          "scatterpolargl": [
           {
            "marker": {
             "colorbar": {
              "outlinewidth": 0,
              "ticks": ""
             }
            },
            "type": "scatterpolargl"
           }
          ],
          "scatterternary": [
           {
            "marker": {
             "colorbar": {
              "outlinewidth": 0,
              "ticks": ""
             }
            },
            "type": "scatterternary"
           }
          ],
          "surface": [
           {
            "colorbar": {
             "outlinewidth": 0,
             "ticks": ""
            },
            "colorscale": [
             [
              0,
              "#0d0887"
             ],
             [
              0.1111111111111111,
              "#46039f"
             ],
             [
              0.2222222222222222,
              "#7201a8"
             ],
             [
              0.3333333333333333,
              "#9c179e"
             ],
             [
              0.4444444444444444,
              "#bd3786"
             ],
             [
              0.5555555555555556,
              "#d8576b"
             ],
             [
              0.6666666666666666,
              "#ed7953"
             ],
             [
              0.7777777777777778,
              "#fb9f3a"
             ],
             [
              0.8888888888888888,
              "#fdca26"
             ],
             [
              1,
              "#f0f921"
             ]
            ],
            "type": "surface"
           }
          ],
          "table": [
           {
            "cells": {
             "fill": {
              "color": "#EBF0F8"
             },
             "line": {
              "color": "white"
             }
            },
            "header": {
             "fill": {
              "color": "#C8D4E3"
             },
             "line": {
              "color": "white"
             }
            },
            "type": "table"
           }
          ]
         },
         "layout": {
          "annotationdefaults": {
           "arrowcolor": "#2a3f5f",
           "arrowhead": 0,
           "arrowwidth": 1
          },
          "autotypenumbers": "strict",
          "coloraxis": {
           "colorbar": {
            "outlinewidth": 0,
            "ticks": ""
           }
          },
          "colorscale": {
           "diverging": [
            [
             0,
             "#8e0152"
            ],
            [
             0.1,
             "#c51b7d"
            ],
            [
             0.2,
             "#de77ae"
            ],
            [
             0.3,
             "#f1b6da"
            ],
            [
             0.4,
             "#fde0ef"
            ],
            [
             0.5,
             "#f7f7f7"
            ],
            [
             0.6,
             "#e6f5d0"
            ],
            [
             0.7,
             "#b8e186"
            ],
            [
             0.8,
             "#7fbc41"
            ],
            [
             0.9,
             "#4d9221"
            ],
            [
             1,
             "#276419"
            ]
           ],
           "sequential": [
            [
             0,
             "#0d0887"
            ],
            [
             0.1111111111111111,
             "#46039f"
            ],
            [
             0.2222222222222222,
             "#7201a8"
            ],
            [
             0.3333333333333333,
             "#9c179e"
            ],
            [
             0.4444444444444444,
             "#bd3786"
            ],
            [
             0.5555555555555556,
             "#d8576b"
            ],
            [
             0.6666666666666666,
             "#ed7953"
            ],
            [
             0.7777777777777778,
             "#fb9f3a"
            ],
            [
             0.8888888888888888,
             "#fdca26"
            ],
            [
             1,
             "#f0f921"
            ]
           ],
           "sequentialminus": [
            [
             0,
             "#0d0887"
            ],
            [
             0.1111111111111111,
             "#46039f"
            ],
            [
             0.2222222222222222,
             "#7201a8"
            ],
            [
             0.3333333333333333,
             "#9c179e"
            ],
            [
             0.4444444444444444,
             "#bd3786"
            ],
            [
             0.5555555555555556,
             "#d8576b"
            ],
            [
             0.6666666666666666,
             "#ed7953"
            ],
            [
             0.7777777777777778,
             "#fb9f3a"
            ],
            [
             0.8888888888888888,
             "#fdca26"
            ],
            [
             1,
             "#f0f921"
            ]
           ]
          },
          "colorway": [
           "#636efa",
           "#EF553B",
           "#00cc96",
           "#ab63fa",
           "#FFA15A",
           "#19d3f3",
           "#FF6692",
           "#B6E880",
           "#FF97FF",
           "#FECB52"
          ],
          "font": {
           "color": "#2a3f5f"
          },
          "geo": {
           "bgcolor": "white",
           "lakecolor": "white",
           "landcolor": "#E5ECF6",
           "showlakes": true,
           "showland": true,
           "subunitcolor": "white"
          },
          "hoverlabel": {
           "align": "left"
          },
          "hovermode": "closest",
          "mapbox": {
           "style": "light"
          },
          "paper_bgcolor": "white",
          "plot_bgcolor": "#E5ECF6",
          "polar": {
           "angularaxis": {
            "gridcolor": "white",
            "linecolor": "white",
            "ticks": ""
           },
           "bgcolor": "#E5ECF6",
           "radialaxis": {
            "gridcolor": "white",
            "linecolor": "white",
            "ticks": ""
           }
          },
          "scene": {
           "xaxis": {
            "backgroundcolor": "#E5ECF6",
            "gridcolor": "white",
            "gridwidth": 2,
            "linecolor": "white",
            "showbackground": true,
            "ticks": "",
            "zerolinecolor": "white"
           },
           "yaxis": {
            "backgroundcolor": "#E5ECF6",
            "gridcolor": "white",
            "gridwidth": 2,
            "linecolor": "white",
            "showbackground": true,
            "ticks": "",
            "zerolinecolor": "white"
           },
           "zaxis": {
            "backgroundcolor": "#E5ECF6",
            "gridcolor": "white",
            "gridwidth": 2,
            "linecolor": "white",
            "showbackground": true,
            "ticks": "",
            "zerolinecolor": "white"
           }
          },
          "shapedefaults": {
           "line": {
            "color": "#2a3f5f"
           }
          },
          "ternary": {
           "aaxis": {
            "gridcolor": "white",
            "linecolor": "white",
            "ticks": ""
           },
           "baxis": {
            "gridcolor": "white",
            "linecolor": "white",
            "ticks": ""
           },
           "bgcolor": "#E5ECF6",
           "caxis": {
            "gridcolor": "white",
            "linecolor": "white",
            "ticks": ""
           }
          },
          "title": {
           "x": 0.05
          },
          "xaxis": {
           "automargin": true,
           "gridcolor": "white",
           "linecolor": "white",
           "ticks": "",
           "title": {
            "standoff": 15
           },
           "zerolinecolor": "white",
           "zerolinewidth": 2
          },
          "yaxis": {
           "automargin": true,
           "gridcolor": "white",
           "linecolor": "white",
           "ticks": "",
           "title": {
            "standoff": 15
           },
           "zerolinecolor": "white",
           "zerolinewidth": 2
          }
         }
        },
        "title": {
         "text": "Índice de riesgo vs criterio de corte finos"
        },
        "width": 1200,
        "xaxis": {
         "title": {
          "text": "Threshold finos"
         }
        },
        "yaxis": {
         "title": {
          "text": "% de atollos detectados respecto del grupo filtrado"
         }
        }
       }
      }
     },
     "metadata": {},
     "output_type": "display_data"
    }
   ],
   "source": [
    "fig = go.Figure()\n",
    "for i in df_risk.threshold_arcilla.unique():\n",
    "    # Create traces\n",
    "\n",
    "    #fig.add_trace(go.Scatter(x=dic_data[0]['threshold_finos'], y=dic_data[0]['probability'],mode='lines',name='Arcillas corte 0'))\n",
    "    #fig.add_trace(go.Scatter(x=dic_data[0.25]['threshold_finos'], y=dic_data[0.25]['probability'],mode='lines',name='Arcillas corte 0.25'))\n",
    "    fig.add_trace(go.Scatter(x=df_risk.query(f\"threshold_arcilla=={i}\")['threshold_finos'], y=df_risk.query(f\"threshold_arcilla=={i}\")['probability'],mode='lines',name=f'Arcillas corte {i}'))\n",
    "\n",
    "fig.update_layout(height=500,width=1200,title_text=\"Índice de riesgo vs criterio de corte finos\")\n",
    "fig.update_xaxes(title_text=\"Threshold finos\" )\n",
    "fig.update_yaxes(title_text=\"% de atollos detectados respecto del grupo filtrado\")\n",
    "fig.show()"
   ]
  },
  {
   "cell_type": "code",
   "execution_count": 4,
   "metadata": {},
   "outputs": [
    {
     "data": {
      "text/plain": [
       "0.11733333333333333"
      ]
     },
     "execution_count": 4,
     "metadata": {},
     "output_type": "execute_result"
    }
   ],
   "source": [
    "median_probability=df_risk[\"probability\"].quantile(0.5)\n",
    "median_probability"
   ]
  },
  {
   "cell_type": "code",
   "execution_count": 5,
   "metadata": {},
   "outputs": [
    {
     "data": {
      "text/plain": [
       "0.291"
      ]
     },
     "execution_count": 5,
     "metadata": {},
     "output_type": "execute_result"
    }
   ],
   "source": [
    "max_probability=df_risk[\"probability\"].quantile(1)\n",
    "max_probability"
   ]
  },
  {
   "attachments": {},
   "cell_type": "markdown",
   "metadata": {},
   "source": [
    "-------------------"
   ]
  },
  {
   "cell_type": "code",
   "execution_count": 6,
   "metadata": {},
   "outputs": [],
   "source": [
    "df=pd.read_parquet('DF_Total_recomendaciones_LS1.parquet')\n",
    "df=df[df[\"mean_avg_fresh_feed_tonnage_3_(t-1)\"]>4990]\n",
    "for i in df.columns:\n",
    "    df=df[df[i]>=0]\n",
    "df2=df.copy()\n",
    "\n",
    "# variable dummie para riesgo arcilla\n",
    "df2['riesgo_arcilla']=df2.mean_arcillas_3.apply(lambda x : 1 if x> 0.29 else 0 )"
   ]
  },
  {
   "cell_type": "code",
   "execution_count": 7,
   "metadata": {},
   "outputs": [
    {
     "data": {
      "text/plain": [
       "(1556, 18)"
      ]
     },
     "execution_count": 7,
     "metadata": {},
     "output_type": "execute_result"
    }
   ],
   "source": [
    "df2.shape"
   ]
  },
  {
   "cell_type": "code",
   "execution_count": 8,
   "metadata": {},
   "outputs": [
    {
     "data": {
      "text/plain": [
       "count    1556.000000\n",
       "mean        8.038388\n",
       "std         0.514825\n",
       "min         6.398164\n",
       "25%         7.677173\n",
       "50%         8.057499\n",
       "75%         8.420532\n",
       "max         9.019002\n",
       "Name: mean_avg_rpm_3_(t-1), dtype: float64"
      ]
     },
     "execution_count": 8,
     "metadata": {},
     "output_type": "execute_result"
    }
   ],
   "source": [
    "df2[\"mean_avg_rpm_3_(t-1)\"].describe()"
   ]
  },
  {
   "cell_type": "code",
   "execution_count": 9,
   "metadata": {},
   "outputs": [
    {
     "data": {
      "application/vnd.plotly.v1+json": {
       "config": {
        "plotlyServerURL": "https://plot.ly"
       },
       "data": [
        {
         "alignmentgroup": "True",
         "bingroup": "x",
         "hovertemplate": "mean_avg_rpm_3_(t-1)=%{x}<br>count=%{y}<extra></extra>",
         "legendgroup": "",
         "marker": {
          "color": "#636efa",
          "pattern": {
           "shape": ""
          }
         },
         "name": "",
         "offsetgroup": "",
         "orientation": "v",
         "showlegend": false,
         "type": "histogram",
         "x": [
          8.21810596884628,
          8.31627698771747,
          8.375140043006333,
          8.633134047511982,
          8.540384308796957,
          8.572868704158203,
          8.646876906656813,
          8.781127736909076,
          8.735090181430207,
          8.72419994584054,
          8.463788026119422,
          8.148749356007224,
          8.186496863192609,
          8.30440998061225,
          8.428272378941877,
          8.35107420320604,
          8.329963151883112,
          8.325734289519968,
          7.970951221371437,
          8.1270082725527,
          8.235874503087187,
          8.470816117249848,
          8.570212098078903,
          8.657259618847894,
          8.682512697128454,
          8.667977150052076,
          8.620504906938942,
          8.331058845686742,
          8.141302224160109,
          8.052609978920207,
          8.295770618699626,
          8.495549852799813,
          8.675052718159028,
          8.704670612644408,
          8.710009696550406,
          8.688608559423294,
          8.6079635880718,
          8.527796997952874,
          8.546697536588276,
          8.641502598264243,
          8.65963469064569,
          8.612315395351919,
          8.581637152026117,
          8.599091172288514,
          8.594446652483137,
          8.541188027356576,
          8.381927417547338,
          8.202377780751165,
          8.402170808998738,
          8.581626163041731,
          8.657501804575622,
          8.539569144588631,
          8.481973923077886,
          8.550653883692114,
          8.639462811995342,
          8.804904400745713,
          8.792697241703353,
          8.797854024770915,
          8.79111313397181,
          8.796743797222446,
          8.780144937958523,
          8.783493417434522,
          8.77619597658599,
          8.776546265438581,
          8.697831832569738,
          8.676018258241301,
          8.67814859866947,
          8.743196534668835,
          8.774173726996821,
          8.803647830951787,
          8.80260431990523,
          8.809378298883644,
          8.81504792025624,
          8.787989569428065,
          8.790631186216183,
          8.778256829599245,
          8.769390643281193,
          8.790835981152117,
          8.819195858674716,
          8.836913148081988,
          8.816943720984348,
          8.80938685159632,
          8.803843841903436,
          8.790078467668442,
          8.773349832912587,
          8.800136463878951,
          8.784049586051522,
          8.803693921692869,
          8.784943038628809,
          8.768507482528959,
          8.750522473953653,
          8.764334307942894,
          8.778172120287627,
          8.79676195914463,
          8.821594360490858,
          8.817608008857361,
          8.818920060465397,
          8.819822855902641,
          8.813827741856901,
          8.811946400973241,
          8.820483433395495,
          8.805114387318232,
          8.799605084178468,
          8.803362600150685,
          8.817828632991693,
          8.829509799889356,
          8.8231679329461,
          8.817173781710077,
          8.81303464724394,
          8.821192941564552,
          8.82901241526448,
          8.826205380013578,
          8.82487451997641,
          8.830697009485428,
          8.78885278526868,
          8.775015942603666,
          8.767708644229879,
          8.766847383159078,
          8.776369682427118,
          8.812751660481771,
          8.811383865167361,
          8.81572251294188,
          8.823700686285754,
          8.819487107523855,
          8.798582847296911,
          8.809275085699548,
          8.820956832707738,
          8.821719099676244,
          8.814113300352806,
          8.809498012134364,
          8.84030742841211,
          8.840224375570578,
          8.825547695686597,
          8.720600993291812,
          8.508166630275804,
          8.388243590372499,
          8.483567740276373,
          8.694313874367404,
          7.475517461228203,
          7.094060392573738,
          6.931706500215918,
          6.9228536230735855,
          7.2046017043177075,
          7.425288962576204,
          7.7367004535663595,
          8.0201205503785,
          7.944035875341254,
          7.928274352856191,
          7.974038844307441,
          7.9997152853127185,
          8.183783895788814,
          7.977596953111896,
          8.001852207635652,
          7.9501879865323986,
          7.833722077994768,
          7.806878229191825,
          7.840672886211213,
          8.055060002389625,
          8.261855534649692,
          8.241740235385958,
          8.022922696724564,
          7.852934432831809,
          7.70905912666548,
          8.020343864444802,
          8.241999463352036,
          7.7124440462526485,
          7.51165702037986,
          7.671345446734023,
          8.007993891462066,
          7.769698198593466,
          7.582391706542587,
          7.465029625355641,
          7.409457891714613,
          7.466190099395482,
          8.509422131261786,
          8.541058087034331,
          8.055859087614476,
          8.087250851361192,
          8.107016471326213,
          8.101594660135712,
          8.294075901517628,
          8.26285811207188,
          8.270702937494589,
          7.916645953795688,
          7.906637944988193,
          7.804115584026445,
          8.502381391280272,
          8.73716602433238,
          8.736858421400603,
          8.672055562126802,
          8.481443776428371,
          8.379388323600752,
          8.507369581959738,
          8.69658820524053,
          7.864931869988493,
          7.769178580031856,
          7.869723944696109,
          8.477102476701925,
          8.487366383447366,
          8.4818419661044,
          8.607453244978066,
          8.801739358409122,
          8.725908634341357,
          8.727170830942526,
          8.600064838279527,
          8.395754042232534,
          8.335220530330114,
          8.400564220638875,
          8.62812324577121,
          8.689019781592654,
          8.695890234234314,
          8.704846461865863,
          8.668171724069945,
          8.147394835479032,
          8.270588441121127,
          8.356547573302313,
          7.134692782920343,
          6.9031475219322935,
          7.064492676301062,
          7.291493094519914,
          7.338452198364204,
          7.459324507927545,
          7.698177673970261,
          7.593786403272396,
          7.437383717349892,
          6.9575805516250355,
          6.740387462441117,
          6.797972474180971,
          6.911385191578458,
          6.925047739070931,
          6.9025920170408135,
          6.8984765572724704,
          7.197723953517927,
          7.132827972369803,
          7.109746676143151,
          7.089624872129043,
          7.026663535085745,
          6.951827867338193,
          6.853272983747504,
          6.823507006069416,
          7.599733550169199,
          7.562395701424033,
          7.414377746625282,
          7.383077402740159,
          7.575011513554386,
          7.668054459343748,
          7.781702055990654,
          7.676467197740101,
          7.676553107622349,
          7.622785847088195,
          7.700409037246338,
          7.5867414618272875,
          7.268941032529214,
          7.9040400614180015,
          7.870757944150552,
          7.980973892845651,
          8.519616685149144,
          8.640159286059154,
          8.386580383868784,
          8.32629593408573,
          7.995793082088473,
          7.847867841916583,
          7.140240609111868,
          7.141136477487314,
          7.169128736668585,
          7.376595612249457,
          7.51902225950123,
          7.609678077303588,
          7.5327391159584165,
          7.423756364586176,
          7.3932487651502194,
          6.542409016596238,
          6.4245225229330485,
          6.634273078911897,
          6.9250937900261045,
          7.24543375447804,
          7.575701143172263,
          7.591116321161287,
          7.662658416399769,
          7.60891137037106,
          7.662683452097233,
          7.722239061966903,
          7.7217998551022236,
          7.6210728731811015,
          7.559825916937888,
          7.633666738037956,
          7.820666463971097,
          7.996230910351007,
          8.09777599642252,
          8.076962703348608,
          8.04111910269903,
          7.874307542098696,
          7.869979423886158,
          7.836623259877528,
          7.840995334389397,
          7.741138791912886,
          7.652655687104237,
          7.347578722896209,
          7.476642517477404,
          7.689697002833088,
          7.962719967734107,
          8.035520552361483,
          7.880911278623608,
          7.907287681774906,
          8.445054188572337,
          8.114267741331313,
          7.927185706774047,
          7.9219547613831764,
          7.92360741512955,
          8.004264687395633,
          7.9869563339498955,
          8.109309083230494,
          8.392808812594096,
          8.189943872060939,
          8.50942524315171,
          8.318053102854494,
          8.949972840809416,
          8.874713235667656,
          8.418933110144634,
          8.452149657508246,
          8.487400159576403,
          8.39886219834783,
          8.369892245905772,
          8.221317465515124,
          8.140738379005864,
          8.361583889853325,
          8.452186834994217,
          8.655680651130721,
          8.840641582174932,
          8.950387633360291,
          8.840094501802296,
          8.937697465424312,
          8.596248690982685,
          7.9636258150576085,
          7.620987449973385,
          7.860638739619296,
          7.905026333827426,
          7.851188544198934,
          7.785269887974693,
          7.86272637444183,
          8.596163333299303,
          8.64633858321062,
          8.720931778134746,
          8.869880979296495,
          8.650477535319085,
          8.525059337619112,
          8.480300015034073,
          8.459320426196095,
          8.380808823019349,
          8.27460192951073,
          8.261421371404372,
          8.09981908092572,
          8.226858025388273,
          8.16682995742618,
          8.259104348381838,
          8.304250921005465,
          8.459808124367813,
          8.359593884726259,
          8.260066153893312,
          8.3091238091738,
          8.38083867615114,
          8.386106964915179,
          8.241542894966928,
          8.157114948643406,
          8.008535373934471,
          7.981374603988466,
          7.882025352467063,
          7.852256058419843,
          7.763521480300806,
          7.794443205769386,
          7.909228670318125,
          8.801309012496288,
          8.739573746101522,
          8.654478300501777,
          8.676390073242464,
          8.833211516348337,
          8.947415397006331,
          8.921255232934243,
          8.815334266302186,
          8.544271208020307,
          8.209856896365114,
          8.06437187705207,
          8.044734514580242,
          8.26171314546484,
          8.527872127613684,
          8.757989636945346,
          8.838397085186804,
          8.828537101025285,
          8.79489880138116,
          8.679220155847256,
          8.44647929452981,
          8.47955678349206,
          8.632626936967371,
          8.728821386366786,
          8.547463797180393,
          8.29526055199968,
          8.177588740747668,
          8.229063532925347,
          8.237780466421837,
          8.291319881625716,
          8.36339333355228,
          8.645690421588862,
          8.78682871763617,
          8.609498718977116,
          8.404469694003303,
          8.270847586519892,
          8.171082037915006,
          8.065761350227616,
          8.106019379790153,
          8.30806185541252,
          8.880177589796673,
          8.726427377806417,
          8.630638137179462,
          8.693102436021007,
          8.79068327078643,
          8.825320944525357,
          8.775572019293142,
          8.688084423206602,
          8.617971441608303,
          8.649774672727498,
          8.604378431831817,
          8.512035606754457,
          8.37925873353384,
          8.291210232547618,
          8.2294375829025,
          8.219582939929142,
          8.244744970126773,
          8.61756939936202,
          8.603192808555283,
          8.573506473126402,
          8.796435197078212,
          7.778768273698809,
          7.703295562231367,
          7.714716235123137,
          7.842131599746096,
          8.140731791439284,
          8.192218816846912,
          8.238454591551935,
          8.007749606783866,
          7.914145419837689,
          7.847905264303318,
          8.030712703974958,
          8.149245367223452,
          8.486992950886966,
          8.482699488000954,
          8.483192136034347,
          8.425382506361748,
          8.418995077679655,
          8.395116532460243,
          8.223804645377811,
          8.027496289087999,
          7.833491619583255,
          8.511166463482837,
          8.323849432537907,
          8.287142161247234,
          8.12088909989616,
          8.068808774517263,
          8.224184312066306,
          8.572873742587879,
          8.356195230783802,
          8.19231536666424,
          8.173074449031162,
          8.248816004978206,
          8.42513848085032,
          8.57354380290532,
          8.017628504150471,
          8.270753333471049,
          8.236952956736951,
          8.21556441648694,
          8.174105054180908,
          8.206635469016698,
          8.558452277815027,
          8.447674256952522,
          8.330114024292113,
          8.226397343374188,
          8.191917142438056,
          8.119869512343477,
          7.94073834375867,
          7.873112780230042,
          7.589506733958468,
          7.752791508478331,
          7.678266645755007,
          7.894255913958262,
          7.640546056670136,
          7.473960737465824,
          7.370439366984672,
          7.317259831232342,
          7.3750098716537,
          7.389995134174314,
          7.420804985448974,
          7.39600992751281,
          7.431028824924813,
          7.464169125169584,
          7.47684921227748,
          7.524525570243095,
          7.478307232647778,
          7.568301608025574,
          7.715199461451253,
          7.90944231843397,
          7.70668849946263,
          7.349827203154429,
          7.049896450833842,
          6.739742229373319,
          6.922028543468777,
          7.032679058545682,
          7.0132344713402,
          6.882306616843937,
          6.7281001706728,
          6.675909544613837,
          6.6029953020139045,
          6.398163720298135,
          7.347887551676514,
          7.57151914909705,
          6.9109736614111865,
          6.863485954128442,
          7.73418680760907,
          7.689006350856947,
          7.603112439417106,
          7.429773030528384,
          7.11935143708801,
          6.976424495179626,
          6.836865422793255,
          6.845453350998053,
          6.835100602295422,
          6.943301080670689,
          7.203190757127797,
          7.71943135480477,
          7.656456093225356,
          7.930946495846652,
          7.590201224395449,
          7.2874795610229475,
          7.257872414289189,
          7.409543855808496,
          7.365976378576735,
          7.228642198888884,
          7.396077668085613,
          8.05841746013544,
          8.02093155463278,
          8.099287156104294,
          8.270551852773119,
          8.384841481722454,
          8.232313289490877,
          8.05668472666955,
          7.918026232694918,
          7.697780772047822,
          7.395015486050444,
          7.187807866393535,
          7.1908173646322835,
          7.2365580016739,
          7.207476383009351,
          7.09748889726643,
          7.020063767548905,
          7.080672332647517,
          7.245784455433213,
          7.401079370252226,
          7.455601571963804,
          7.4829784528789896,
          7.503771863182158,
          7.370138073391658,
          7.158702307190295,
          6.989119247115942,
          6.99970891078717,
          7.808959534439073,
          7.6714629050516985,
          7.742118321043332,
          7.584746723231582,
          7.48284208279621,
          8.010327606623997,
          7.419196252575442,
          7.2186754954516665,
          7.160328931643266,
          7.16456694747646,
          7.432471767139037,
          7.534209590088551,
          8.401410891304346,
          8.291630593365893,
          8.258402378838786,
          8.21878263020101,
          8.169121106999919,
          8.130966496765971,
          8.104921685745571,
          7.848523227220846,
          7.655634911103629,
          7.511375655680893,
          7.595949358944144,
          7.566921017721165,
          7.521449415108838,
          7.451429036265236,
          7.43535250578394,
          7.4951128089957715,
          7.920030466187543,
          7.827198850614856,
          7.7036309834046905,
          7.5992877320802315,
          7.620237058177756,
          6.83620728625629,
          6.774837021445751,
          6.857187954982618,
          7.640783777948873,
          7.32319876028846,
          7.799238863687473,
          8.072582063140077,
          7.903462152170132,
          7.96411697691228,
          8.035909137236592,
          8.164168945158385,
          8.028146963801131,
          7.709696988321766,
          7.567874104648854,
          7.365664209909144,
          7.370726834315417,
          7.2707601114229155,
          7.3039352491769245,
          7.630060123977846,
          7.947761835773837,
          8.368253874103168,
          8.397282753500066,
          8.470360335414854,
          8.484692707933194,
          8.482349080086857,
          8.339825649779618,
          8.226681941581022,
          8.096639461984095,
          8.161031561394303,
          8.276645123744146,
          8.382161799604232,
          8.391460098350299,
          8.303290342221388,
          8.25626249108224,
          8.116870286531931,
          8.24043505684633,
          8.314185518451186,
          8.426211984238831,
          8.095683999396622,
          8.178429505009285,
          8.281784444962964,
          8.32128516058344,
          8.338680278535334,
          8.326181830871437,
          8.258652433113904,
          8.151968276057403,
          8.029251661403277,
          7.946877723837237,
          7.885842197911981,
          7.909135347176805,
          7.782558772290488,
          7.7921238853940595,
          8.33084045549994,
          8.109939583838544,
          7.94418261815859,
          7.841831057506366,
          7.804017439920698,
          7.838117092014518,
          7.87052177977841,
          7.816100090945603,
          7.82385313113678,
          8.203157025278767,
          8.091989736417657,
          8.011256398297133,
          7.941135109026551,
          7.809918949307153,
          7.847564776919685,
          7.892737986771699,
          7.785010431273602,
          7.8631492855875935,
          7.968163117413553,
          8.072664993476439,
          8.306965209161767,
          8.263934447229806,
          8.181956179675272,
          8.101587686721656,
          8.23681994503549,
          8.36559042541335,
          8.532379008518188,
          8.541832832190167,
          8.747459362161628,
          8.79184916835201,
          8.737464088258122,
          8.726370660075053,
          8.7596771844652,
          8.750720254708108,
          8.772000233275927,
          8.836030338846642,
          8.098059438207445,
          7.887548150967585,
          8.003224905752857,
          8.343729999062374,
          8.38507479581669,
          8.414063030599506,
          8.21308024299873,
          7.899219510338228,
          7.771930248697143,
          7.7730137117162394,
          8.1830130566355,
          8.495354156128185,
          8.424277906753167,
          8.402370686525861,
          8.276951792897973,
          8.205304157371508,
          8.070855751850361,
          7.917729245350479,
          7.657574920904541,
          7.6223201765413044,
          7.883431513902392,
          8.264447307626723,
          8.43824003736835,
          8.460480986805885,
          8.360445536567076,
          8.212777776314434,
          8.264142132601371,
          8.325362136179514,
          8.307870464687518,
          8.17784777957799,
          8.176903603673695,
          7.9754488403603,
          8.144457896250367,
          8.324890585011017,
          8.25000258322681,
          8.074533301192924,
          8.028736279460809,
          8.183909161017851,
          8.47147356380056,
          7.430424212769331,
          7.28147355600712,
          7.324392598125402,
          7.396147205442902,
          7.651853259970573,
          7.681778403847378,
          7.732153345433361,
          7.781168785435192,
          8.148214426315313,
          8.430403602519268,
          8.635808451852546,
          7.762582973685761,
          7.6443994670365,
          7.5842642121873105,
          7.404118258162555,
          7.322298438338049,
          7.887124061511628,
          8.208078149394908,
          8.063811237899925,
          7.991581695909052,
          7.909934049403506,
          7.725802451006108,
          7.804028522372584,
          8.453382155678234,
          8.348768981037233,
          8.298304109841629,
          8.412261965537661,
          8.337575408951723,
          8.386739737545469,
          8.444321780875198,
          8.525912091799919,
          8.611121634558382,
          8.57417419781879,
          8.470859020013206,
          8.484034765697997,
          8.502017138415754,
          8.61332700938571,
          8.710006964134308,
          8.80932422618429,
          8.691095149094997,
          8.371691573285762,
          8.202973357948265,
          8.06612254267118,
          8.00177928205004,
          7.8104193336918675,
          7.719883822769424,
          8.482971578069282,
          8.265279810877011,
          8.270312943616508,
          8.23338857606982,
          8.152598165131577,
          7.946611548200443,
          7.845117353371857,
          7.94498689632445,
          8.215404085611146,
          8.513354938408286,
          8.765206830889268,
          8.696094888291519,
          8.618393508898349,
          8.646431834914685,
          8.776339307817322,
          7.926479862088466,
          8.04992202458955,
          8.293075281687765,
          8.095231564884891,
          7.972816088086495,
          7.9843760002719355,
          8.066508528327816,
          8.14480402770342,
          8.197742826313316,
          8.25894085173576,
          8.387355492466298,
          8.226882743097308,
          8.186253650513583,
          8.869507579002448,
          8.901271162532295,
          8.891318153877252,
          8.838980652706818,
          8.720928334536232,
          8.725506521704226,
          8.562707521079881,
          8.521361304286948,
          8.351256616360443,
          8.292097829093867,
          7.943312949348578,
          8.196575997545377,
          8.537659869925243,
          8.813767247601993,
          8.903303353441409,
          8.914883789538566,
          8.947513909712791,
          8.421610904652923,
          8.264697873889208,
          8.199525020192274,
          8.186658286596263,
          8.126966808011424,
          8.110518131686788,
          8.201579535688797,
          8.518341998130566,
          8.761119750004989,
          8.562900509410184,
          8.73618032268451,
          8.575696583575315,
          8.438022510777737,
          8.590092607132041,
          8.474147404032768,
          8.56944709285389,
          8.625677632467967,
          8.621476499373278,
          8.535505809377721,
          8.524631485954753,
          8.634290788743412,
          8.816172442072604,
          9.004448550267666,
          9.019001540546768,
          8.98911467069854,
          8.957282687283083,
          8.983474287494825,
          9.006725381218354,
          8.669857059172273,
          8.697337353254264,
          8.811329205013015,
          8.93926007676558,
          8.995502555041853,
          8.69757671090836,
          8.575338696880623,
          8.596461520408559,
          8.661469696391228,
          8.81225681635029,
          8.6089571340916,
          8.825171768872883,
          8.709862462916492,
          8.753422489077362,
          8.794632729443864,
          8.862137803304346,
          8.751726905747503,
          8.977416783207309,
          8.997421417351028,
          8.976186350785364,
          8.951216604676546,
          8.6776879845749,
          8.928736824532548,
          9.009898282864642,
          8.993893823899183,
          8.984600457709137,
          7.963806064731313,
          8.196249922933019,
          8.011492285905883,
          7.771681126731951,
          7.885278685789408,
          8.015775336985362,
          7.612034710436376,
          7.462247885784485,
          7.467376513749401,
          7.788653828218401,
          8.003801602332933,
          7.9540713195580866,
          7.735327265692507,
          7.994286326849817,
          7.813412491580224,
          7.6665074812623075,
          7.604661596975082,
          7.585513190079364,
          7.658975765530623,
          7.696279873836441,
          7.73160983806601,
          7.632285265315322,
          7.552125839318322,
          7.56215266370346,
          7.593327190819276,
          7.681171328628917,
          7.7811113984765745,
          7.742904602819208,
          7.691710891740393,
          7.659587881307917,
          7.766858496908605,
          7.919200581529769,
          8.051636186559369,
          8.186398353813289,
          8.259702249475845,
          8.223739131778437,
          7.928639582451894,
          7.856837885359511,
          7.97112355496412,
          8.14759586262063,
          8.34397341503202,
          8.114208278867379,
          8.02960902345309,
          7.926621522295562,
          7.930854337603999,
          7.9547469496795244,
          7.921107271800397,
          7.628327780342475,
          8.120509004389278,
          8.462906256326884,
          8.512415718492408,
          8.51742269950274,
          7.852111487330364,
          8.230626210706511,
          8.321445480060211,
          8.367143620945798,
          8.318719303482617,
          8.042666082494305,
          7.691771087392778,
          7.406311357778198,
          8.050298841003427,
          7.868127532860689,
          7.83294323435496,
          7.8328626494398,
          7.907624342780307,
          8.010556164305344,
          8.384928305582052,
          8.413582414887449,
          8.41577570178127,
          8.585440455282217,
          8.085014141256016,
          8.39936413741474,
          8.34845885401514,
          7.532452619129856,
          7.588137335116262,
          7.603792500097299,
          7.630293999380388,
          7.789798097985849,
          8.120882154291003,
          8.352730057819963,
          8.190804025444788,
          7.981458343084223,
          7.8175576625101835,
          7.568004649443203,
          7.6992635691476,
          8.34238802695724,
          8.532647195641701,
          8.484121382007103,
          7.633774944295161,
          7.780594812127711,
          7.734387684003395,
          7.773207629107574,
          8.10571386102953,
          8.198849696013857,
          8.252767559011863,
          8.272744706081342,
          8.119337351928719,
          7.896775455784007,
          7.775725262401584,
          7.57369862407806,
          7.71649323919826,
          7.224902721223038,
          7.212082774850617,
          7.131384430573038,
          7.092996005072216,
          7.167429350076842,
          7.461346496105214,
          7.3611137706077665,
          7.862503348065805,
          7.50865922882454,
          7.393861477326429,
          7.4239157950277255,
          7.389565388934841,
          7.407062636265489,
          8.12342389641785,
          8.103700402495011,
          8.253888972859373,
          8.149420413415816,
          7.831980274538176,
          7.83681062987506,
          7.9662983643932845,
          8.07039653963612,
          7.8529373298714065,
          7.728713235776806,
          7.648209111734208,
          7.693748539259215,
          7.758807701150453,
          7.887992524999668,
          8.001004792254564,
          8.075434003797026,
          7.892788364825265,
          7.798139907684891,
          8.04082570343932,
          8.157410045588207,
          8.179146216013997,
          8.18456035175297,
          8.245053920148136,
          8.263372453003837,
          8.182580621400893,
          8.271968970685341,
          8.262656917284586,
          8.40243721414778,
          8.424236443986343,
          8.28679231338233,
          7.614783238907826,
          7.691349060003236,
          7.683404001627288,
          7.695945527211262,
          8.355588982197567,
          7.87377734565536,
          7.629348612766182,
          7.544800392508338,
          8.441297560462408,
          8.174498454830506,
          7.410598322529545,
          7.572617506805519,
          7.921309343077798,
          7.963102019665143,
          7.939536180978332,
          7.874841090968494,
          7.612823272434002,
          7.5138229803649965,
          7.592935506117957,
          7.434251492198847,
          8.349038784701321,
          8.610490980260847,
          8.612731366024107,
          8.586206890838996,
          8.491262375869232,
          8.42882539046571,
          8.362168080747923,
          8.31179811845581,
          8.342313578612556,
          8.713880036215558,
          8.726892789505806,
          8.784745247277968,
          8.809281502381115,
          8.79552181455226,
          8.715648534655303,
          8.624006587084695,
          8.655847289092131,
          8.462092600454712,
          8.288466642143336,
          8.147858289956558,
          8.193888636137324,
          8.373364610617992,
          8.622348626219242,
          8.724283114216313,
          8.367581284390951,
          8.396797638107216,
          8.527833075208859,
          8.662095610321861,
          8.688854837625518,
          8.591009652436115,
          8.39433350105464,
          8.137745539150963,
          8.00791175971861,
          7.85792782629193,
          7.988514542356292,
          8.371011167278546,
          8.475158399163364,
          8.571495700102778,
          8.627162634733075,
          8.67830104378591,
          8.658197234724208,
          8.632323943458738,
          8.786049677364858,
          8.694875775343304,
          8.522763560884487,
          8.372243993374736,
          8.4288411332081,
          8.598366118471345,
          8.737067564539744,
          8.711457649800684,
          8.563724309805854,
          8.366621732438546,
          8.237643515582212,
          8.272480318693193,
          8.412393825426237,
          8.48456262037667,
          8.453829814007769,
          8.346267437270107,
          8.279937100881112,
          8.27242136997474,
          8.355710668435488,
          8.408359303754935,
          8.428812400989697,
          8.40381005902988,
          8.275370248046293,
          8.109519000094178,
          7.87234085973886,
          7.780818168328699,
          7.776551426304974,
          7.830640051610028,
          7.867687308232867,
          7.850079700854114,
          7.841365000680422,
          8.294079820052488,
          8.247901552721254,
          8.23049073701455,
          8.245496459911818,
          8.36833054480512,
          8.350496852051391,
          8.30157100091113,
          8.03394710691367,
          7.735480493456386,
          7.745519673789331,
          7.788192086990446,
          7.794186423592226,
          7.806206804895393,
          7.720007393292955,
          7.613698603649648,
          7.82938370287582,
          7.8560769573048015,
          7.737871702986987,
          7.426887207350229,
          7.397120332896544,
          7.698986460109745,
          8.008003797335268,
          8.207941114439135,
          8.252769232282327,
          8.23990496196035,
          8.215503082623856,
          8.227412033719377,
          8.164789110913977,
          7.962248906744564,
          7.733222118339846,
          7.574302373831891,
          7.552078806839629,
          7.5227118781066435,
          7.6599017668133405,
          7.928447781527875,
          8.052293626115164,
          8.16832333585548,
          8.23301822368076,
          8.11855210280566,
          7.879612143458903,
          7.726392649373427,
          7.824137413283442,
          8.012785926640907,
          7.94818930625696,
          8.059756990539913,
          7.943290568048887,
          7.798829458514784,
          7.806373333908465,
          8.738499709199862,
          8.673071731920052,
          8.582862035937652,
          8.77078705756893,
          8.630105384951095,
          7.965671959003132,
          7.556420410649554,
          7.447322673380527,
          7.629819317529723,
          7.629625667921258,
          7.664574668560646,
          7.650758992132093,
          7.7072208643963895,
          7.724403587029955,
          7.96519062497067,
          7.837405963923089,
          7.806120698277371,
          7.69755885121743,
          7.662703241422797,
          7.875579682601633,
          7.907842179100949,
          7.971754445182634,
          7.951403873587918,
          8.14662184051626,
          8.265275225724643,
          8.255680392453426,
          8.035708222281572,
          8.086967180675272,
          8.114911035468488,
          8.162242559991514,
          8.32149420712878,
          8.528770597273052,
          8.273848413121856,
          8.041351293850255,
          7.309706061078973,
          7.178105658889048,
          7.443619903699459,
          7.675054940219684,
          7.854249227019875,
          7.359317723998342,
          7.354724659077848,
          7.405029265246036,
          7.484148907322365,
          7.6747739152379,
          7.821172005183736,
          7.861609390182795,
          7.627438342523288,
          7.505075333537657,
          7.416848237527062,
          7.373180879299453,
          7.3082189383075855,
          7.164254743776792,
          7.190100141533325,
          7.19409932399931,
          6.9052328221588075,
          6.922077758437397,
          6.885023685297139,
          6.927084006145871,
          7.0012044825182,
          7.126711242900907,
          7.144388835628902,
          7.110101693939424,
          7.1728944461941495,
          7.2665508648461286,
          7.5134117564253655,
          7.58602284230088,
          7.616314481227474,
          7.828420191249005,
          7.930048731934857,
          7.851270207595637,
          7.693295997363915,
          7.50055087643872,
          7.325573864311122,
          7.2238922095645135,
          7.09551484589912,
          7.099727696275994,
          7.197917573523324,
          7.452819991361603,
          7.594275426375681,
          7.614052972528579,
          7.552837800182339,
          7.64985009519143,
          7.794677517957363,
          7.6783425332197615,
          7.573976710434953,
          7.534024391575559,
          7.603236223800196,
          7.580742940494662,
          7.543877570854633,
          7.56481677390644,
          7.626460091654255,
          7.682660851833201,
          7.70656613791433,
          7.3940516554958355,
          7.319379616091674,
          7.384850251789122,
          7.532033501651178,
          7.350123422132789,
          7.088376523042686,
          6.987236385320443,
          6.867215162658592,
          7.720762529940821,
          7.7952094024722385,
          7.7691487096870055,
          7.746475149905521,
          7.716828015129103,
          7.677380031017383,
          7.692465945972681,
          7.72154629793211,
          7.79095820596708,
          7.840523705523213,
          7.949484085667713,
          7.9200814084416065,
          7.935075745525714,
          7.7434418644715555,
          7.727363572149617,
          7.704899376972719,
          7.828517922019976,
          7.83649333538857,
          7.7108783972478605,
          7.716200524958143,
          7.681639530461699,
          7.668184689441385,
          7.621489440222235,
          7.668956488731169,
          7.604407159798428,
          7.576535649587309,
          7.582499153519575,
          7.684749746550935,
          7.569005592502619,
          7.596788732807274,
          7.785004118905853,
          7.6183366338385925,
          7.612883940169172,
          7.668449748711609,
          7.55222387045535,
          7.40422646592458,
          7.098094409161909,
          6.989477959005174,
          6.983926432859973,
          7.030883863763328,
          7.0767369828833635,
          7.149136274513077,
          7.317833277500985,
          7.5037089703858735,
          7.628431104418396,
          7.533716342385422,
          7.525433827619092,
          7.5466825020745985,
          7.664748818605504,
          7.638091225227768,
          7.5564491317030535,
          7.383803197980174,
          7.5110482558014935,
          7.586367005256154,
          7.706937884786325,
          7.889458834090284,
          7.965868158103494,
          7.992302381745817,
          7.9602355408224605,
          7.822577781661842,
          7.705413084559641,
          7.598179311676556,
          7.513912814736563,
          7.678055211723741,
          7.933583960142127,
          7.982474265651234,
          8.037985746812323,
          7.993123271580873,
          7.893829472535397,
          7.983765961007774,
          8.003042650018122,
          7.994495176319326,
          7.934624962388252,
          7.955377532563323,
          7.9836321610393854,
          8.184945630745267,
          7.46654450570946,
          7.389092237077346,
          7.400932648771089,
          7.301417468533551,
          7.1508455574987515,
          7.081266351962367,
          7.194487046854547,
          7.594026791976738,
          7.302551522528291,
          7.256392769440226,
          7.145315765664049,
          7.155729809272603,
          7.254096458926938,
          7.366991074377711,
          7.39673600404979,
          7.389250208252807,
          7.286597564038362,
          7.155628570509582,
          6.923725822032445,
          6.942092598530354,
          7.883576491488288,
          7.935710049979671,
          7.947871385247592,
          7.866777200570915,
          7.828821705015009,
          7.776528189496101,
          7.887393723750563,
          7.8655159397289465,
          7.820092546504402,
          7.770629130481718,
          7.72302547209562,
          7.591871551514501,
          7.329362135804306,
          7.2263361637105845,
          7.279398873180547,
          7.823476237721185,
          7.798231488683732,
          7.541889671321248,
          7.357461669499624,
          7.148024567911236,
          7.227163155871061,
          7.2304970812766625,
          7.153967447228221,
          6.9707368099553975,
          6.950963510316018,
          7.22981304910675,
          7.538102831081157,
          7.815541714547732,
          7.912479658288727,
          7.912475589999997,
          7.912475589999997,
          7.912475589999997,
          7.946804524444443,
          7.8622205292509895,
          7.587969225917656,
          7.283427368020917,
          7.191185859221971,
          7.349146978916793,
          7.44137307979359,
          7.417582161482616,
          7.2757659687192495,
          7.214722322615304,
          7.210323497444434,
          7.411302695366731,
          7.659983200971946,
          7.821534071600574,
          7.733345684744105,
          7.672006552568653,
          7.975101901808226,
          8.05831261981278,
          7.811928727986003,
          7.624579343176478,
          7.443108257263215,
          7.537943531776147,
          7.607750389385397,
          7.695822087824555,
          7.693867350868814,
          7.640829850739441,
          7.671126483841621,
          7.649159682367393,
          7.660407802236762,
          7.753627132373602,
          7.823265517753833,
          7.785965768628554,
          7.638646766480815,
          7.538565163684609,
          7.726121068896333,
          7.872798110181363,
          7.902760439491087,
          7.800730332551062,
          7.870115311300519,
          8.027760161166718,
          8.209510414373367,
          8.275134567832435,
          8.266624603176451,
          8.297433396316636,
          8.27268884705621,
          8.29658815051662,
          8.32734661829789,
          8.387016058071778,
          8.427776699581306,
          8.423755391410475,
          8.45762200432087,
          8.420172172386364,
          8.570555483984249,
          8.601077352280951,
          8.60841931634158,
          8.23246310271441,
          8.357638088955014,
          8.581712951028678,
          8.791574529824068,
          8.82613273026619,
          8.504181309619264,
          8.544004117455431,
          8.487596922150102,
          8.534067919649543,
          8.548402727349469,
          8.606093931704697,
          8.619144196522603,
          8.607480560551112,
          8.599345546027521,
          8.549031142938277,
          7.905907863339361,
          7.756194860861083,
          7.560667319440107,
          7.833778517656538,
          8.493084260608411,
          8.41811686783089,
          8.35632414332411,
          8.259130734089732,
          8.25428265363639,
          8.298320238413803,
          8.07630701037717,
          7.89229198061155,
          7.80042033859451,
          7.933562447513751,
          8.04592301227087,
          8.106501725760154,
          7.990845878429639,
          7.961789181699996,
          8.098539601815954,
          8.208310600048629,
          8.27549192547766,
          8.261061493253566,
          8.232814173198612,
          8.260954265042917,
          8.298457402078244,
          8.363580778717994,
          8.19421963472485,
          8.210090201369114,
          8.329318694881502,
          8.339986164186973,
          8.370779106378086,
          8.371343623905858,
          8.40697585987195,
          8.377459067954149,
          8.31294749953752,
          8.223533252136068,
          8.385877805559147,
          8.349538565914692,
          8.369278001022634,
          8.367000952383956,
          8.387043085294735,
          8.384488359497979,
          8.338366516338267,
          8.334708428743753,
          8.382990409511146,
          8.371723649547077,
          8.290482146496096,
          8.23749514907008,
          8.284221096934049,
          8.324052926719943,
          8.40154908159657,
          8.403079695663278,
          8.301281532702488,
          8.310378023160533,
          8.341902644425607,
          8.284176149424626,
          8.274662339317405,
          8.27762304713538,
          8.30848696260721,
          8.30852435393899,
          8.253280445828358,
          8.23424419175957,
          8.219439070229974,
          8.391526013573538,
          8.389221740274145,
          8.333507863458912,
          8.297792763360277,
          8.085483934471055,
          7.992631713557394,
          8.004049400217843,
          8.079949398530205,
          7.822801128602767,
          6.68036287283132,
          7.408005381571087,
          7.338059818590195,
          7.31061435513464,
          7.1218650576974225,
          7.070259966559095,
          8.373953153021576,
          8.567211760820095,
          8.766609665596945,
          8.864516072824973,
          7.881595664719808,
          8.18442652800571,
          8.179785272787663,
          8.133330653278076,
          7.951478865264956,
          7.8379237388251655,
          7.81592760019321,
          7.8554585485866,
          7.824285038760727,
          7.8312503967353555,
          7.767574526294254,
          7.8320335485170105,
          7.910007162980663,
          7.769684081732215,
          7.59918218766357,
          7.4578338141044584,
          7.63323842656267,
          7.951670500203676,
          8.299510058815514,
          8.273919079061335,
          8.130574148250501,
          8.462686181814043,
          8.343547697542263
         ],
         "xaxis": "x",
         "yaxis": "y"
        },
        {
         "alignmentgroup": "True",
         "hovertemplate": "mean_avg_rpm_3_(t-1)=%{x}<extra></extra>",
         "legendgroup": "",
         "marker": {
          "color": "#636efa"
         },
         "name": "",
         "notched": true,
         "offsetgroup": "",
         "showlegend": false,
         "type": "box",
         "x": [
          8.21810596884628,
          8.31627698771747,
          8.375140043006333,
          8.633134047511982,
          8.540384308796957,
          8.572868704158203,
          8.646876906656813,
          8.781127736909076,
          8.735090181430207,
          8.72419994584054,
          8.463788026119422,
          8.148749356007224,
          8.186496863192609,
          8.30440998061225,
          8.428272378941877,
          8.35107420320604,
          8.329963151883112,
          8.325734289519968,
          7.970951221371437,
          8.1270082725527,
          8.235874503087187,
          8.470816117249848,
          8.570212098078903,
          8.657259618847894,
          8.682512697128454,
          8.667977150052076,
          8.620504906938942,
          8.331058845686742,
          8.141302224160109,
          8.052609978920207,
          8.295770618699626,
          8.495549852799813,
          8.675052718159028,
          8.704670612644408,
          8.710009696550406,
          8.688608559423294,
          8.6079635880718,
          8.527796997952874,
          8.546697536588276,
          8.641502598264243,
          8.65963469064569,
          8.612315395351919,
          8.581637152026117,
          8.599091172288514,
          8.594446652483137,
          8.541188027356576,
          8.381927417547338,
          8.202377780751165,
          8.402170808998738,
          8.581626163041731,
          8.657501804575622,
          8.539569144588631,
          8.481973923077886,
          8.550653883692114,
          8.639462811995342,
          8.804904400745713,
          8.792697241703353,
          8.797854024770915,
          8.79111313397181,
          8.796743797222446,
          8.780144937958523,
          8.783493417434522,
          8.77619597658599,
          8.776546265438581,
          8.697831832569738,
          8.676018258241301,
          8.67814859866947,
          8.743196534668835,
          8.774173726996821,
          8.803647830951787,
          8.80260431990523,
          8.809378298883644,
          8.81504792025624,
          8.787989569428065,
          8.790631186216183,
          8.778256829599245,
          8.769390643281193,
          8.790835981152117,
          8.819195858674716,
          8.836913148081988,
          8.816943720984348,
          8.80938685159632,
          8.803843841903436,
          8.790078467668442,
          8.773349832912587,
          8.800136463878951,
          8.784049586051522,
          8.803693921692869,
          8.784943038628809,
          8.768507482528959,
          8.750522473953653,
          8.764334307942894,
          8.778172120287627,
          8.79676195914463,
          8.821594360490858,
          8.817608008857361,
          8.818920060465397,
          8.819822855902641,
          8.813827741856901,
          8.811946400973241,
          8.820483433395495,
          8.805114387318232,
          8.799605084178468,
          8.803362600150685,
          8.817828632991693,
          8.829509799889356,
          8.8231679329461,
          8.817173781710077,
          8.81303464724394,
          8.821192941564552,
          8.82901241526448,
          8.826205380013578,
          8.82487451997641,
          8.830697009485428,
          8.78885278526868,
          8.775015942603666,
          8.767708644229879,
          8.766847383159078,
          8.776369682427118,
          8.812751660481771,
          8.811383865167361,
          8.81572251294188,
          8.823700686285754,
          8.819487107523855,
          8.798582847296911,
          8.809275085699548,
          8.820956832707738,
          8.821719099676244,
          8.814113300352806,
          8.809498012134364,
          8.84030742841211,
          8.840224375570578,
          8.825547695686597,
          8.720600993291812,
          8.508166630275804,
          8.388243590372499,
          8.483567740276373,
          8.694313874367404,
          7.475517461228203,
          7.094060392573738,
          6.931706500215918,
          6.9228536230735855,
          7.2046017043177075,
          7.425288962576204,
          7.7367004535663595,
          8.0201205503785,
          7.944035875341254,
          7.928274352856191,
          7.974038844307441,
          7.9997152853127185,
          8.183783895788814,
          7.977596953111896,
          8.001852207635652,
          7.9501879865323986,
          7.833722077994768,
          7.806878229191825,
          7.840672886211213,
          8.055060002389625,
          8.261855534649692,
          8.241740235385958,
          8.022922696724564,
          7.852934432831809,
          7.70905912666548,
          8.020343864444802,
          8.241999463352036,
          7.7124440462526485,
          7.51165702037986,
          7.671345446734023,
          8.007993891462066,
          7.769698198593466,
          7.582391706542587,
          7.465029625355641,
          7.409457891714613,
          7.466190099395482,
          8.509422131261786,
          8.541058087034331,
          8.055859087614476,
          8.087250851361192,
          8.107016471326213,
          8.101594660135712,
          8.294075901517628,
          8.26285811207188,
          8.270702937494589,
          7.916645953795688,
          7.906637944988193,
          7.804115584026445,
          8.502381391280272,
          8.73716602433238,
          8.736858421400603,
          8.672055562126802,
          8.481443776428371,
          8.379388323600752,
          8.507369581959738,
          8.69658820524053,
          7.864931869988493,
          7.769178580031856,
          7.869723944696109,
          8.477102476701925,
          8.487366383447366,
          8.4818419661044,
          8.607453244978066,
          8.801739358409122,
          8.725908634341357,
          8.727170830942526,
          8.600064838279527,
          8.395754042232534,
          8.335220530330114,
          8.400564220638875,
          8.62812324577121,
          8.689019781592654,
          8.695890234234314,
          8.704846461865863,
          8.668171724069945,
          8.147394835479032,
          8.270588441121127,
          8.356547573302313,
          7.134692782920343,
          6.9031475219322935,
          7.064492676301062,
          7.291493094519914,
          7.338452198364204,
          7.459324507927545,
          7.698177673970261,
          7.593786403272396,
          7.437383717349892,
          6.9575805516250355,
          6.740387462441117,
          6.797972474180971,
          6.911385191578458,
          6.925047739070931,
          6.9025920170408135,
          6.8984765572724704,
          7.197723953517927,
          7.132827972369803,
          7.109746676143151,
          7.089624872129043,
          7.026663535085745,
          6.951827867338193,
          6.853272983747504,
          6.823507006069416,
          7.599733550169199,
          7.562395701424033,
          7.414377746625282,
          7.383077402740159,
          7.575011513554386,
          7.668054459343748,
          7.781702055990654,
          7.676467197740101,
          7.676553107622349,
          7.622785847088195,
          7.700409037246338,
          7.5867414618272875,
          7.268941032529214,
          7.9040400614180015,
          7.870757944150552,
          7.980973892845651,
          8.519616685149144,
          8.640159286059154,
          8.386580383868784,
          8.32629593408573,
          7.995793082088473,
          7.847867841916583,
          7.140240609111868,
          7.141136477487314,
          7.169128736668585,
          7.376595612249457,
          7.51902225950123,
          7.609678077303588,
          7.5327391159584165,
          7.423756364586176,
          7.3932487651502194,
          6.542409016596238,
          6.4245225229330485,
          6.634273078911897,
          6.9250937900261045,
          7.24543375447804,
          7.575701143172263,
          7.591116321161287,
          7.662658416399769,
          7.60891137037106,
          7.662683452097233,
          7.722239061966903,
          7.7217998551022236,
          7.6210728731811015,
          7.559825916937888,
          7.633666738037956,
          7.820666463971097,
          7.996230910351007,
          8.09777599642252,
          8.076962703348608,
          8.04111910269903,
          7.874307542098696,
          7.869979423886158,
          7.836623259877528,
          7.840995334389397,
          7.741138791912886,
          7.652655687104237,
          7.347578722896209,
          7.476642517477404,
          7.689697002833088,
          7.962719967734107,
          8.035520552361483,
          7.880911278623608,
          7.907287681774906,
          8.445054188572337,
          8.114267741331313,
          7.927185706774047,
          7.9219547613831764,
          7.92360741512955,
          8.004264687395633,
          7.9869563339498955,
          8.109309083230494,
          8.392808812594096,
          8.189943872060939,
          8.50942524315171,
          8.318053102854494,
          8.949972840809416,
          8.874713235667656,
          8.418933110144634,
          8.452149657508246,
          8.487400159576403,
          8.39886219834783,
          8.369892245905772,
          8.221317465515124,
          8.140738379005864,
          8.361583889853325,
          8.452186834994217,
          8.655680651130721,
          8.840641582174932,
          8.950387633360291,
          8.840094501802296,
          8.937697465424312,
          8.596248690982685,
          7.9636258150576085,
          7.620987449973385,
          7.860638739619296,
          7.905026333827426,
          7.851188544198934,
          7.785269887974693,
          7.86272637444183,
          8.596163333299303,
          8.64633858321062,
          8.720931778134746,
          8.869880979296495,
          8.650477535319085,
          8.525059337619112,
          8.480300015034073,
          8.459320426196095,
          8.380808823019349,
          8.27460192951073,
          8.261421371404372,
          8.09981908092572,
          8.226858025388273,
          8.16682995742618,
          8.259104348381838,
          8.304250921005465,
          8.459808124367813,
          8.359593884726259,
          8.260066153893312,
          8.3091238091738,
          8.38083867615114,
          8.386106964915179,
          8.241542894966928,
          8.157114948643406,
          8.008535373934471,
          7.981374603988466,
          7.882025352467063,
          7.852256058419843,
          7.763521480300806,
          7.794443205769386,
          7.909228670318125,
          8.801309012496288,
          8.739573746101522,
          8.654478300501777,
          8.676390073242464,
          8.833211516348337,
          8.947415397006331,
          8.921255232934243,
          8.815334266302186,
          8.544271208020307,
          8.209856896365114,
          8.06437187705207,
          8.044734514580242,
          8.26171314546484,
          8.527872127613684,
          8.757989636945346,
          8.838397085186804,
          8.828537101025285,
          8.79489880138116,
          8.679220155847256,
          8.44647929452981,
          8.47955678349206,
          8.632626936967371,
          8.728821386366786,
          8.547463797180393,
          8.29526055199968,
          8.177588740747668,
          8.229063532925347,
          8.237780466421837,
          8.291319881625716,
          8.36339333355228,
          8.645690421588862,
          8.78682871763617,
          8.609498718977116,
          8.404469694003303,
          8.270847586519892,
          8.171082037915006,
          8.065761350227616,
          8.106019379790153,
          8.30806185541252,
          8.880177589796673,
          8.726427377806417,
          8.630638137179462,
          8.693102436021007,
          8.79068327078643,
          8.825320944525357,
          8.775572019293142,
          8.688084423206602,
          8.617971441608303,
          8.649774672727498,
          8.604378431831817,
          8.512035606754457,
          8.37925873353384,
          8.291210232547618,
          8.2294375829025,
          8.219582939929142,
          8.244744970126773,
          8.61756939936202,
          8.603192808555283,
          8.573506473126402,
          8.796435197078212,
          7.778768273698809,
          7.703295562231367,
          7.714716235123137,
          7.842131599746096,
          8.140731791439284,
          8.192218816846912,
          8.238454591551935,
          8.007749606783866,
          7.914145419837689,
          7.847905264303318,
          8.030712703974958,
          8.149245367223452,
          8.486992950886966,
          8.482699488000954,
          8.483192136034347,
          8.425382506361748,
          8.418995077679655,
          8.395116532460243,
          8.223804645377811,
          8.027496289087999,
          7.833491619583255,
          8.511166463482837,
          8.323849432537907,
          8.287142161247234,
          8.12088909989616,
          8.068808774517263,
          8.224184312066306,
          8.572873742587879,
          8.356195230783802,
          8.19231536666424,
          8.173074449031162,
          8.248816004978206,
          8.42513848085032,
          8.57354380290532,
          8.017628504150471,
          8.270753333471049,
          8.236952956736951,
          8.21556441648694,
          8.174105054180908,
          8.206635469016698,
          8.558452277815027,
          8.447674256952522,
          8.330114024292113,
          8.226397343374188,
          8.191917142438056,
          8.119869512343477,
          7.94073834375867,
          7.873112780230042,
          7.589506733958468,
          7.752791508478331,
          7.678266645755007,
          7.894255913958262,
          7.640546056670136,
          7.473960737465824,
          7.370439366984672,
          7.317259831232342,
          7.3750098716537,
          7.389995134174314,
          7.420804985448974,
          7.39600992751281,
          7.431028824924813,
          7.464169125169584,
          7.47684921227748,
          7.524525570243095,
          7.478307232647778,
          7.568301608025574,
          7.715199461451253,
          7.90944231843397,
          7.70668849946263,
          7.349827203154429,
          7.049896450833842,
          6.739742229373319,
          6.922028543468777,
          7.032679058545682,
          7.0132344713402,
          6.882306616843937,
          6.7281001706728,
          6.675909544613837,
          6.6029953020139045,
          6.398163720298135,
          7.347887551676514,
          7.57151914909705,
          6.9109736614111865,
          6.863485954128442,
          7.73418680760907,
          7.689006350856947,
          7.603112439417106,
          7.429773030528384,
          7.11935143708801,
          6.976424495179626,
          6.836865422793255,
          6.845453350998053,
          6.835100602295422,
          6.943301080670689,
          7.203190757127797,
          7.71943135480477,
          7.656456093225356,
          7.930946495846652,
          7.590201224395449,
          7.2874795610229475,
          7.257872414289189,
          7.409543855808496,
          7.365976378576735,
          7.228642198888884,
          7.396077668085613,
          8.05841746013544,
          8.02093155463278,
          8.099287156104294,
          8.270551852773119,
          8.384841481722454,
          8.232313289490877,
          8.05668472666955,
          7.918026232694918,
          7.697780772047822,
          7.395015486050444,
          7.187807866393535,
          7.1908173646322835,
          7.2365580016739,
          7.207476383009351,
          7.09748889726643,
          7.020063767548905,
          7.080672332647517,
          7.245784455433213,
          7.401079370252226,
          7.455601571963804,
          7.4829784528789896,
          7.503771863182158,
          7.370138073391658,
          7.158702307190295,
          6.989119247115942,
          6.99970891078717,
          7.808959534439073,
          7.6714629050516985,
          7.742118321043332,
          7.584746723231582,
          7.48284208279621,
          8.010327606623997,
          7.419196252575442,
          7.2186754954516665,
          7.160328931643266,
          7.16456694747646,
          7.432471767139037,
          7.534209590088551,
          8.401410891304346,
          8.291630593365893,
          8.258402378838786,
          8.21878263020101,
          8.169121106999919,
          8.130966496765971,
          8.104921685745571,
          7.848523227220846,
          7.655634911103629,
          7.511375655680893,
          7.595949358944144,
          7.566921017721165,
          7.521449415108838,
          7.451429036265236,
          7.43535250578394,
          7.4951128089957715,
          7.920030466187543,
          7.827198850614856,
          7.7036309834046905,
          7.5992877320802315,
          7.620237058177756,
          6.83620728625629,
          6.774837021445751,
          6.857187954982618,
          7.640783777948873,
          7.32319876028846,
          7.799238863687473,
          8.072582063140077,
          7.903462152170132,
          7.96411697691228,
          8.035909137236592,
          8.164168945158385,
          8.028146963801131,
          7.709696988321766,
          7.567874104648854,
          7.365664209909144,
          7.370726834315417,
          7.2707601114229155,
          7.3039352491769245,
          7.630060123977846,
          7.947761835773837,
          8.368253874103168,
          8.397282753500066,
          8.470360335414854,
          8.484692707933194,
          8.482349080086857,
          8.339825649779618,
          8.226681941581022,
          8.096639461984095,
          8.161031561394303,
          8.276645123744146,
          8.382161799604232,
          8.391460098350299,
          8.303290342221388,
          8.25626249108224,
          8.116870286531931,
          8.24043505684633,
          8.314185518451186,
          8.426211984238831,
          8.095683999396622,
          8.178429505009285,
          8.281784444962964,
          8.32128516058344,
          8.338680278535334,
          8.326181830871437,
          8.258652433113904,
          8.151968276057403,
          8.029251661403277,
          7.946877723837237,
          7.885842197911981,
          7.909135347176805,
          7.782558772290488,
          7.7921238853940595,
          8.33084045549994,
          8.109939583838544,
          7.94418261815859,
          7.841831057506366,
          7.804017439920698,
          7.838117092014518,
          7.87052177977841,
          7.816100090945603,
          7.82385313113678,
          8.203157025278767,
          8.091989736417657,
          8.011256398297133,
          7.941135109026551,
          7.809918949307153,
          7.847564776919685,
          7.892737986771699,
          7.785010431273602,
          7.8631492855875935,
          7.968163117413553,
          8.072664993476439,
          8.306965209161767,
          8.263934447229806,
          8.181956179675272,
          8.101587686721656,
          8.23681994503549,
          8.36559042541335,
          8.532379008518188,
          8.541832832190167,
          8.747459362161628,
          8.79184916835201,
          8.737464088258122,
          8.726370660075053,
          8.7596771844652,
          8.750720254708108,
          8.772000233275927,
          8.836030338846642,
          8.098059438207445,
          7.887548150967585,
          8.003224905752857,
          8.343729999062374,
          8.38507479581669,
          8.414063030599506,
          8.21308024299873,
          7.899219510338228,
          7.771930248697143,
          7.7730137117162394,
          8.1830130566355,
          8.495354156128185,
          8.424277906753167,
          8.402370686525861,
          8.276951792897973,
          8.205304157371508,
          8.070855751850361,
          7.917729245350479,
          7.657574920904541,
          7.6223201765413044,
          7.883431513902392,
          8.264447307626723,
          8.43824003736835,
          8.460480986805885,
          8.360445536567076,
          8.212777776314434,
          8.264142132601371,
          8.325362136179514,
          8.307870464687518,
          8.17784777957799,
          8.176903603673695,
          7.9754488403603,
          8.144457896250367,
          8.324890585011017,
          8.25000258322681,
          8.074533301192924,
          8.028736279460809,
          8.183909161017851,
          8.47147356380056,
          7.430424212769331,
          7.28147355600712,
          7.324392598125402,
          7.396147205442902,
          7.651853259970573,
          7.681778403847378,
          7.732153345433361,
          7.781168785435192,
          8.148214426315313,
          8.430403602519268,
          8.635808451852546,
          7.762582973685761,
          7.6443994670365,
          7.5842642121873105,
          7.404118258162555,
          7.322298438338049,
          7.887124061511628,
          8.208078149394908,
          8.063811237899925,
          7.991581695909052,
          7.909934049403506,
          7.725802451006108,
          7.804028522372584,
          8.453382155678234,
          8.348768981037233,
          8.298304109841629,
          8.412261965537661,
          8.337575408951723,
          8.386739737545469,
          8.444321780875198,
          8.525912091799919,
          8.611121634558382,
          8.57417419781879,
          8.470859020013206,
          8.484034765697997,
          8.502017138415754,
          8.61332700938571,
          8.710006964134308,
          8.80932422618429,
          8.691095149094997,
          8.371691573285762,
          8.202973357948265,
          8.06612254267118,
          8.00177928205004,
          7.8104193336918675,
          7.719883822769424,
          8.482971578069282,
          8.265279810877011,
          8.270312943616508,
          8.23338857606982,
          8.152598165131577,
          7.946611548200443,
          7.845117353371857,
          7.94498689632445,
          8.215404085611146,
          8.513354938408286,
          8.765206830889268,
          8.696094888291519,
          8.618393508898349,
          8.646431834914685,
          8.776339307817322,
          7.926479862088466,
          8.04992202458955,
          8.293075281687765,
          8.095231564884891,
          7.972816088086495,
          7.9843760002719355,
          8.066508528327816,
          8.14480402770342,
          8.197742826313316,
          8.25894085173576,
          8.387355492466298,
          8.226882743097308,
          8.186253650513583,
          8.869507579002448,
          8.901271162532295,
          8.891318153877252,
          8.838980652706818,
          8.720928334536232,
          8.725506521704226,
          8.562707521079881,
          8.521361304286948,
          8.351256616360443,
          8.292097829093867,
          7.943312949348578,
          8.196575997545377,
          8.537659869925243,
          8.813767247601993,
          8.903303353441409,
          8.914883789538566,
          8.947513909712791,
          8.421610904652923,
          8.264697873889208,
          8.199525020192274,
          8.186658286596263,
          8.126966808011424,
          8.110518131686788,
          8.201579535688797,
          8.518341998130566,
          8.761119750004989,
          8.562900509410184,
          8.73618032268451,
          8.575696583575315,
          8.438022510777737,
          8.590092607132041,
          8.474147404032768,
          8.56944709285389,
          8.625677632467967,
          8.621476499373278,
          8.535505809377721,
          8.524631485954753,
          8.634290788743412,
          8.816172442072604,
          9.004448550267666,
          9.019001540546768,
          8.98911467069854,
          8.957282687283083,
          8.983474287494825,
          9.006725381218354,
          8.669857059172273,
          8.697337353254264,
          8.811329205013015,
          8.93926007676558,
          8.995502555041853,
          8.69757671090836,
          8.575338696880623,
          8.596461520408559,
          8.661469696391228,
          8.81225681635029,
          8.6089571340916,
          8.825171768872883,
          8.709862462916492,
          8.753422489077362,
          8.794632729443864,
          8.862137803304346,
          8.751726905747503,
          8.977416783207309,
          8.997421417351028,
          8.976186350785364,
          8.951216604676546,
          8.6776879845749,
          8.928736824532548,
          9.009898282864642,
          8.993893823899183,
          8.984600457709137,
          7.963806064731313,
          8.196249922933019,
          8.011492285905883,
          7.771681126731951,
          7.885278685789408,
          8.015775336985362,
          7.612034710436376,
          7.462247885784485,
          7.467376513749401,
          7.788653828218401,
          8.003801602332933,
          7.9540713195580866,
          7.735327265692507,
          7.994286326849817,
          7.813412491580224,
          7.6665074812623075,
          7.604661596975082,
          7.585513190079364,
          7.658975765530623,
          7.696279873836441,
          7.73160983806601,
          7.632285265315322,
          7.552125839318322,
          7.56215266370346,
          7.593327190819276,
          7.681171328628917,
          7.7811113984765745,
          7.742904602819208,
          7.691710891740393,
          7.659587881307917,
          7.766858496908605,
          7.919200581529769,
          8.051636186559369,
          8.186398353813289,
          8.259702249475845,
          8.223739131778437,
          7.928639582451894,
          7.856837885359511,
          7.97112355496412,
          8.14759586262063,
          8.34397341503202,
          8.114208278867379,
          8.02960902345309,
          7.926621522295562,
          7.930854337603999,
          7.9547469496795244,
          7.921107271800397,
          7.628327780342475,
          8.120509004389278,
          8.462906256326884,
          8.512415718492408,
          8.51742269950274,
          7.852111487330364,
          8.230626210706511,
          8.321445480060211,
          8.367143620945798,
          8.318719303482617,
          8.042666082494305,
          7.691771087392778,
          7.406311357778198,
          8.050298841003427,
          7.868127532860689,
          7.83294323435496,
          7.8328626494398,
          7.907624342780307,
          8.010556164305344,
          8.384928305582052,
          8.413582414887449,
          8.41577570178127,
          8.585440455282217,
          8.085014141256016,
          8.39936413741474,
          8.34845885401514,
          7.532452619129856,
          7.588137335116262,
          7.603792500097299,
          7.630293999380388,
          7.789798097985849,
          8.120882154291003,
          8.352730057819963,
          8.190804025444788,
          7.981458343084223,
          7.8175576625101835,
          7.568004649443203,
          7.6992635691476,
          8.34238802695724,
          8.532647195641701,
          8.484121382007103,
          7.633774944295161,
          7.780594812127711,
          7.734387684003395,
          7.773207629107574,
          8.10571386102953,
          8.198849696013857,
          8.252767559011863,
          8.272744706081342,
          8.119337351928719,
          7.896775455784007,
          7.775725262401584,
          7.57369862407806,
          7.71649323919826,
          7.224902721223038,
          7.212082774850617,
          7.131384430573038,
          7.092996005072216,
          7.167429350076842,
          7.461346496105214,
          7.3611137706077665,
          7.862503348065805,
          7.50865922882454,
          7.393861477326429,
          7.4239157950277255,
          7.389565388934841,
          7.407062636265489,
          8.12342389641785,
          8.103700402495011,
          8.253888972859373,
          8.149420413415816,
          7.831980274538176,
          7.83681062987506,
          7.9662983643932845,
          8.07039653963612,
          7.8529373298714065,
          7.728713235776806,
          7.648209111734208,
          7.693748539259215,
          7.758807701150453,
          7.887992524999668,
          8.001004792254564,
          8.075434003797026,
          7.892788364825265,
          7.798139907684891,
          8.04082570343932,
          8.157410045588207,
          8.179146216013997,
          8.18456035175297,
          8.245053920148136,
          8.263372453003837,
          8.182580621400893,
          8.271968970685341,
          8.262656917284586,
          8.40243721414778,
          8.424236443986343,
          8.28679231338233,
          7.614783238907826,
          7.691349060003236,
          7.683404001627288,
          7.695945527211262,
          8.355588982197567,
          7.87377734565536,
          7.629348612766182,
          7.544800392508338,
          8.441297560462408,
          8.174498454830506,
          7.410598322529545,
          7.572617506805519,
          7.921309343077798,
          7.963102019665143,
          7.939536180978332,
          7.874841090968494,
          7.612823272434002,
          7.5138229803649965,
          7.592935506117957,
          7.434251492198847,
          8.349038784701321,
          8.610490980260847,
          8.612731366024107,
          8.586206890838996,
          8.491262375869232,
          8.42882539046571,
          8.362168080747923,
          8.31179811845581,
          8.342313578612556,
          8.713880036215558,
          8.726892789505806,
          8.784745247277968,
          8.809281502381115,
          8.79552181455226,
          8.715648534655303,
          8.624006587084695,
          8.655847289092131,
          8.462092600454712,
          8.288466642143336,
          8.147858289956558,
          8.193888636137324,
          8.373364610617992,
          8.622348626219242,
          8.724283114216313,
          8.367581284390951,
          8.396797638107216,
          8.527833075208859,
          8.662095610321861,
          8.688854837625518,
          8.591009652436115,
          8.39433350105464,
          8.137745539150963,
          8.00791175971861,
          7.85792782629193,
          7.988514542356292,
          8.371011167278546,
          8.475158399163364,
          8.571495700102778,
          8.627162634733075,
          8.67830104378591,
          8.658197234724208,
          8.632323943458738,
          8.786049677364858,
          8.694875775343304,
          8.522763560884487,
          8.372243993374736,
          8.4288411332081,
          8.598366118471345,
          8.737067564539744,
          8.711457649800684,
          8.563724309805854,
          8.366621732438546,
          8.237643515582212,
          8.272480318693193,
          8.412393825426237,
          8.48456262037667,
          8.453829814007769,
          8.346267437270107,
          8.279937100881112,
          8.27242136997474,
          8.355710668435488,
          8.408359303754935,
          8.428812400989697,
          8.40381005902988,
          8.275370248046293,
          8.109519000094178,
          7.87234085973886,
          7.780818168328699,
          7.776551426304974,
          7.830640051610028,
          7.867687308232867,
          7.850079700854114,
          7.841365000680422,
          8.294079820052488,
          8.247901552721254,
          8.23049073701455,
          8.245496459911818,
          8.36833054480512,
          8.350496852051391,
          8.30157100091113,
          8.03394710691367,
          7.735480493456386,
          7.745519673789331,
          7.788192086990446,
          7.794186423592226,
          7.806206804895393,
          7.720007393292955,
          7.613698603649648,
          7.82938370287582,
          7.8560769573048015,
          7.737871702986987,
          7.426887207350229,
          7.397120332896544,
          7.698986460109745,
          8.008003797335268,
          8.207941114439135,
          8.252769232282327,
          8.23990496196035,
          8.215503082623856,
          8.227412033719377,
          8.164789110913977,
          7.962248906744564,
          7.733222118339846,
          7.574302373831891,
          7.552078806839629,
          7.5227118781066435,
          7.6599017668133405,
          7.928447781527875,
          8.052293626115164,
          8.16832333585548,
          8.23301822368076,
          8.11855210280566,
          7.879612143458903,
          7.726392649373427,
          7.824137413283442,
          8.012785926640907,
          7.94818930625696,
          8.059756990539913,
          7.943290568048887,
          7.798829458514784,
          7.806373333908465,
          8.738499709199862,
          8.673071731920052,
          8.582862035937652,
          8.77078705756893,
          8.630105384951095,
          7.965671959003132,
          7.556420410649554,
          7.447322673380527,
          7.629819317529723,
          7.629625667921258,
          7.664574668560646,
          7.650758992132093,
          7.7072208643963895,
          7.724403587029955,
          7.96519062497067,
          7.837405963923089,
          7.806120698277371,
          7.69755885121743,
          7.662703241422797,
          7.875579682601633,
          7.907842179100949,
          7.971754445182634,
          7.951403873587918,
          8.14662184051626,
          8.265275225724643,
          8.255680392453426,
          8.035708222281572,
          8.086967180675272,
          8.114911035468488,
          8.162242559991514,
          8.32149420712878,
          8.528770597273052,
          8.273848413121856,
          8.041351293850255,
          7.309706061078973,
          7.178105658889048,
          7.443619903699459,
          7.675054940219684,
          7.854249227019875,
          7.359317723998342,
          7.354724659077848,
          7.405029265246036,
          7.484148907322365,
          7.6747739152379,
          7.821172005183736,
          7.861609390182795,
          7.627438342523288,
          7.505075333537657,
          7.416848237527062,
          7.373180879299453,
          7.3082189383075855,
          7.164254743776792,
          7.190100141533325,
          7.19409932399931,
          6.9052328221588075,
          6.922077758437397,
          6.885023685297139,
          6.927084006145871,
          7.0012044825182,
          7.126711242900907,
          7.144388835628902,
          7.110101693939424,
          7.1728944461941495,
          7.2665508648461286,
          7.5134117564253655,
          7.58602284230088,
          7.616314481227474,
          7.828420191249005,
          7.930048731934857,
          7.851270207595637,
          7.693295997363915,
          7.50055087643872,
          7.325573864311122,
          7.2238922095645135,
          7.09551484589912,
          7.099727696275994,
          7.197917573523324,
          7.452819991361603,
          7.594275426375681,
          7.614052972528579,
          7.552837800182339,
          7.64985009519143,
          7.794677517957363,
          7.6783425332197615,
          7.573976710434953,
          7.534024391575559,
          7.603236223800196,
          7.580742940494662,
          7.543877570854633,
          7.56481677390644,
          7.626460091654255,
          7.682660851833201,
          7.70656613791433,
          7.3940516554958355,
          7.319379616091674,
          7.384850251789122,
          7.532033501651178,
          7.350123422132789,
          7.088376523042686,
          6.987236385320443,
          6.867215162658592,
          7.720762529940821,
          7.7952094024722385,
          7.7691487096870055,
          7.746475149905521,
          7.716828015129103,
          7.677380031017383,
          7.692465945972681,
          7.72154629793211,
          7.79095820596708,
          7.840523705523213,
          7.949484085667713,
          7.9200814084416065,
          7.935075745525714,
          7.7434418644715555,
          7.727363572149617,
          7.704899376972719,
          7.828517922019976,
          7.83649333538857,
          7.7108783972478605,
          7.716200524958143,
          7.681639530461699,
          7.668184689441385,
          7.621489440222235,
          7.668956488731169,
          7.604407159798428,
          7.576535649587309,
          7.582499153519575,
          7.684749746550935,
          7.569005592502619,
          7.596788732807274,
          7.785004118905853,
          7.6183366338385925,
          7.612883940169172,
          7.668449748711609,
          7.55222387045535,
          7.40422646592458,
          7.098094409161909,
          6.989477959005174,
          6.983926432859973,
          7.030883863763328,
          7.0767369828833635,
          7.149136274513077,
          7.317833277500985,
          7.5037089703858735,
          7.628431104418396,
          7.533716342385422,
          7.525433827619092,
          7.5466825020745985,
          7.664748818605504,
          7.638091225227768,
          7.5564491317030535,
          7.383803197980174,
          7.5110482558014935,
          7.586367005256154,
          7.706937884786325,
          7.889458834090284,
          7.965868158103494,
          7.992302381745817,
          7.9602355408224605,
          7.822577781661842,
          7.705413084559641,
          7.598179311676556,
          7.513912814736563,
          7.678055211723741,
          7.933583960142127,
          7.982474265651234,
          8.037985746812323,
          7.993123271580873,
          7.893829472535397,
          7.983765961007774,
          8.003042650018122,
          7.994495176319326,
          7.934624962388252,
          7.955377532563323,
          7.9836321610393854,
          8.184945630745267,
          7.46654450570946,
          7.389092237077346,
          7.400932648771089,
          7.301417468533551,
          7.1508455574987515,
          7.081266351962367,
          7.194487046854547,
          7.594026791976738,
          7.302551522528291,
          7.256392769440226,
          7.145315765664049,
          7.155729809272603,
          7.254096458926938,
          7.366991074377711,
          7.39673600404979,
          7.389250208252807,
          7.286597564038362,
          7.155628570509582,
          6.923725822032445,
          6.942092598530354,
          7.883576491488288,
          7.935710049979671,
          7.947871385247592,
          7.866777200570915,
          7.828821705015009,
          7.776528189496101,
          7.887393723750563,
          7.8655159397289465,
          7.820092546504402,
          7.770629130481718,
          7.72302547209562,
          7.591871551514501,
          7.329362135804306,
          7.2263361637105845,
          7.279398873180547,
          7.823476237721185,
          7.798231488683732,
          7.541889671321248,
          7.357461669499624,
          7.148024567911236,
          7.227163155871061,
          7.2304970812766625,
          7.153967447228221,
          6.9707368099553975,
          6.950963510316018,
          7.22981304910675,
          7.538102831081157,
          7.815541714547732,
          7.912479658288727,
          7.912475589999997,
          7.912475589999997,
          7.912475589999997,
          7.946804524444443,
          7.8622205292509895,
          7.587969225917656,
          7.283427368020917,
          7.191185859221971,
          7.349146978916793,
          7.44137307979359,
          7.417582161482616,
          7.2757659687192495,
          7.214722322615304,
          7.210323497444434,
          7.411302695366731,
          7.659983200971946,
          7.821534071600574,
          7.733345684744105,
          7.672006552568653,
          7.975101901808226,
          8.05831261981278,
          7.811928727986003,
          7.624579343176478,
          7.443108257263215,
          7.537943531776147,
          7.607750389385397,
          7.695822087824555,
          7.693867350868814,
          7.640829850739441,
          7.671126483841621,
          7.649159682367393,
          7.660407802236762,
          7.753627132373602,
          7.823265517753833,
          7.785965768628554,
          7.638646766480815,
          7.538565163684609,
          7.726121068896333,
          7.872798110181363,
          7.902760439491087,
          7.800730332551062,
          7.870115311300519,
          8.027760161166718,
          8.209510414373367,
          8.275134567832435,
          8.266624603176451,
          8.297433396316636,
          8.27268884705621,
          8.29658815051662,
          8.32734661829789,
          8.387016058071778,
          8.427776699581306,
          8.423755391410475,
          8.45762200432087,
          8.420172172386364,
          8.570555483984249,
          8.601077352280951,
          8.60841931634158,
          8.23246310271441,
          8.357638088955014,
          8.581712951028678,
          8.791574529824068,
          8.82613273026619,
          8.504181309619264,
          8.544004117455431,
          8.487596922150102,
          8.534067919649543,
          8.548402727349469,
          8.606093931704697,
          8.619144196522603,
          8.607480560551112,
          8.599345546027521,
          8.549031142938277,
          7.905907863339361,
          7.756194860861083,
          7.560667319440107,
          7.833778517656538,
          8.493084260608411,
          8.41811686783089,
          8.35632414332411,
          8.259130734089732,
          8.25428265363639,
          8.298320238413803,
          8.07630701037717,
          7.89229198061155,
          7.80042033859451,
          7.933562447513751,
          8.04592301227087,
          8.106501725760154,
          7.990845878429639,
          7.961789181699996,
          8.098539601815954,
          8.208310600048629,
          8.27549192547766,
          8.261061493253566,
          8.232814173198612,
          8.260954265042917,
          8.298457402078244,
          8.363580778717994,
          8.19421963472485,
          8.210090201369114,
          8.329318694881502,
          8.339986164186973,
          8.370779106378086,
          8.371343623905858,
          8.40697585987195,
          8.377459067954149,
          8.31294749953752,
          8.223533252136068,
          8.385877805559147,
          8.349538565914692,
          8.369278001022634,
          8.367000952383956,
          8.387043085294735,
          8.384488359497979,
          8.338366516338267,
          8.334708428743753,
          8.382990409511146,
          8.371723649547077,
          8.290482146496096,
          8.23749514907008,
          8.284221096934049,
          8.324052926719943,
          8.40154908159657,
          8.403079695663278,
          8.301281532702488,
          8.310378023160533,
          8.341902644425607,
          8.284176149424626,
          8.274662339317405,
          8.27762304713538,
          8.30848696260721,
          8.30852435393899,
          8.253280445828358,
          8.23424419175957,
          8.219439070229974,
          8.391526013573538,
          8.389221740274145,
          8.333507863458912,
          8.297792763360277,
          8.085483934471055,
          7.992631713557394,
          8.004049400217843,
          8.079949398530205,
          7.822801128602767,
          6.68036287283132,
          7.408005381571087,
          7.338059818590195,
          7.31061435513464,
          7.1218650576974225,
          7.070259966559095,
          8.373953153021576,
          8.567211760820095,
          8.766609665596945,
          8.864516072824973,
          7.881595664719808,
          8.18442652800571,
          8.179785272787663,
          8.133330653278076,
          7.951478865264956,
          7.8379237388251655,
          7.81592760019321,
          7.8554585485866,
          7.824285038760727,
          7.8312503967353555,
          7.767574526294254,
          7.8320335485170105,
          7.910007162980663,
          7.769684081732215,
          7.59918218766357,
          7.4578338141044584,
          7.63323842656267,
          7.951670500203676,
          8.299510058815514,
          8.273919079061335,
          8.130574148250501,
          8.462686181814043,
          8.343547697542263
         ],
         "xaxis": "x2",
         "yaxis": "y2"
        }
       ],
       "layout": {
        "barmode": "relative",
        "legend": {
         "tracegroupgap": 0
        },
        "margin": {
         "t": 60
        },
        "template": {
         "data": {
          "bar": [
           {
            "error_x": {
             "color": "#2a3f5f"
            },
            "error_y": {
             "color": "#2a3f5f"
            },
            "marker": {
             "line": {
              "color": "#E5ECF6",
              "width": 0.5
             },
             "pattern": {
              "fillmode": "overlay",
              "size": 10,
              "solidity": 0.2
             }
            },
            "type": "bar"
           }
          ],
          "barpolar": [
           {
            "marker": {
             "line": {
              "color": "#E5ECF6",
              "width": 0.5
             },
             "pattern": {
              "fillmode": "overlay",
              "size": 10,
              "solidity": 0.2
             }
            },
            "type": "barpolar"
           }
          ],
          "carpet": [
           {
            "aaxis": {
             "endlinecolor": "#2a3f5f",
             "gridcolor": "white",
             "linecolor": "white",
             "minorgridcolor": "white",
             "startlinecolor": "#2a3f5f"
            },
            "baxis": {
             "endlinecolor": "#2a3f5f",
             "gridcolor": "white",
             "linecolor": "white",
             "minorgridcolor": "white",
             "startlinecolor": "#2a3f5f"
            },
            "type": "carpet"
           }
          ],
          "choropleth": [
           {
            "colorbar": {
             "outlinewidth": 0,
             "ticks": ""
            },
            "type": "choropleth"
           }
          ],
          "contour": [
           {
            "colorbar": {
             "outlinewidth": 0,
             "ticks": ""
            },
            "colorscale": [
             [
              0,
              "#0d0887"
             ],
             [
              0.1111111111111111,
              "#46039f"
             ],
             [
              0.2222222222222222,
              "#7201a8"
             ],
             [
              0.3333333333333333,
              "#9c179e"
             ],
             [
              0.4444444444444444,
              "#bd3786"
             ],
             [
              0.5555555555555556,
              "#d8576b"
             ],
             [
              0.6666666666666666,
              "#ed7953"
             ],
             [
              0.7777777777777778,
              "#fb9f3a"
             ],
             [
              0.8888888888888888,
              "#fdca26"
             ],
             [
              1,
              "#f0f921"
             ]
            ],
            "type": "contour"
           }
          ],
          "contourcarpet": [
           {
            "colorbar": {
             "outlinewidth": 0,
             "ticks": ""
            },
            "type": "contourcarpet"
           }
          ],
          "heatmap": [
           {
            "colorbar": {
             "outlinewidth": 0,
             "ticks": ""
            },
            "colorscale": [
             [
              0,
              "#0d0887"
             ],
             [
              0.1111111111111111,
              "#46039f"
             ],
             [
              0.2222222222222222,
              "#7201a8"
             ],
             [
              0.3333333333333333,
              "#9c179e"
             ],
             [
              0.4444444444444444,
              "#bd3786"
             ],
             [
              0.5555555555555556,
              "#d8576b"
             ],
             [
              0.6666666666666666,
              "#ed7953"
             ],
             [
              0.7777777777777778,
              "#fb9f3a"
             ],
             [
              0.8888888888888888,
              "#fdca26"
             ],
             [
              1,
              "#f0f921"
             ]
            ],
            "type": "heatmap"
           }
          ],
          "heatmapgl": [
           {
            "colorbar": {
             "outlinewidth": 0,
             "ticks": ""
            },
            "colorscale": [
             [
              0,
              "#0d0887"
             ],
             [
              0.1111111111111111,
              "#46039f"
             ],
             [
              0.2222222222222222,
              "#7201a8"
             ],
             [
              0.3333333333333333,
              "#9c179e"
             ],
             [
              0.4444444444444444,
              "#bd3786"
             ],
             [
              0.5555555555555556,
              "#d8576b"
             ],
             [
              0.6666666666666666,
              "#ed7953"
             ],
             [
              0.7777777777777778,
              "#fb9f3a"
             ],
             [
              0.8888888888888888,
              "#fdca26"
             ],
             [
              1,
              "#f0f921"
             ]
            ],
            "type": "heatmapgl"
           }
          ],
          "histogram": [
           {
            "marker": {
             "pattern": {
              "fillmode": "overlay",
              "size": 10,
              "solidity": 0.2
             }
            },
            "type": "histogram"
           }
          ],
          "histogram2d": [
           {
            "colorbar": {
             "outlinewidth": 0,
             "ticks": ""
            },
            "colorscale": [
             [
              0,
              "#0d0887"
             ],
             [
              0.1111111111111111,
              "#46039f"
             ],
             [
              0.2222222222222222,
              "#7201a8"
             ],
             [
              0.3333333333333333,
              "#9c179e"
             ],
             [
              0.4444444444444444,
              "#bd3786"
             ],
             [
              0.5555555555555556,
              "#d8576b"
             ],
             [
              0.6666666666666666,
              "#ed7953"
             ],
             [
              0.7777777777777778,
              "#fb9f3a"
             ],
             [
              0.8888888888888888,
              "#fdca26"
             ],
             [
              1,
              "#f0f921"
             ]
            ],
            "type": "histogram2d"
           }
          ],
          "histogram2dcontour": [
           {
            "colorbar": {
             "outlinewidth": 0,
             "ticks": ""
            },
            "colorscale": [
             [
              0,
              "#0d0887"
             ],
             [
              0.1111111111111111,
              "#46039f"
             ],
             [
              0.2222222222222222,
              "#7201a8"
             ],
             [
              0.3333333333333333,
              "#9c179e"
             ],
             [
              0.4444444444444444,
              "#bd3786"
             ],
             [
              0.5555555555555556,
              "#d8576b"
             ],
             [
              0.6666666666666666,
              "#ed7953"
             ],
             [
              0.7777777777777778,
              "#fb9f3a"
             ],
             [
              0.8888888888888888,
              "#fdca26"
             ],
             [
              1,
              "#f0f921"
             ]
            ],
            "type": "histogram2dcontour"
           }
          ],
          "mesh3d": [
           {
            "colorbar": {
             "outlinewidth": 0,
             "ticks": ""
            },
            "type": "mesh3d"
           }
          ],
          "parcoords": [
           {
            "line": {
             "colorbar": {
              "outlinewidth": 0,
              "ticks": ""
             }
            },
            "type": "parcoords"
           }
          ],
          "pie": [
           {
            "automargin": true,
            "type": "pie"
           }
          ],
          "scatter": [
           {
            "marker": {
             "colorbar": {
              "outlinewidth": 0,
              "ticks": ""
             }
            },
            "type": "scatter"
           }
          ],
          "scatter3d": [
           {
            "line": {
             "colorbar": {
              "outlinewidth": 0,
              "ticks": ""
             }
            },
            "marker": {
             "colorbar": {
              "outlinewidth": 0,
              "ticks": ""
             }
            },
            "type": "scatter3d"
           }
          ],
          "scattercarpet": [
           {
            "marker": {
             "colorbar": {
              "outlinewidth": 0,
              "ticks": ""
             }
            },
            "type": "scattercarpet"
           }
          ],
          "scattergeo": [
           {
            "marker": {
             "colorbar": {
              "outlinewidth": 0,
              "ticks": ""
             }
            },
            "type": "scattergeo"
           }
          ],
          "scattergl": [
           {
            "marker": {
             "colorbar": {
              "outlinewidth": 0,
              "ticks": ""
             }
            },
            "type": "scattergl"
           }
          ],
          "scattermapbox": [
           {
            "marker": {
             "colorbar": {
              "outlinewidth": 0,
              "ticks": ""
             }
            },
            "type": "scattermapbox"
           }
          ],
          "scatterpolar": [
           {
            "marker": {
             "colorbar": {
              "outlinewidth": 0,
              "ticks": ""
             }
            },
            "type": "scatterpolar"
           }
          ],
          "scatterpolargl": [
           {
            "marker": {
             "colorbar": {
              "outlinewidth": 0,
              "ticks": ""
             }
            },
            "type": "scatterpolargl"
           }
          ],
          "scatterternary": [
           {
            "marker": {
             "colorbar": {
              "outlinewidth": 0,
              "ticks": ""
             }
            },
            "type": "scatterternary"
           }
          ],
          "surface": [
           {
            "colorbar": {
             "outlinewidth": 0,
             "ticks": ""
            },
            "colorscale": [
             [
              0,
              "#0d0887"
             ],
             [
              0.1111111111111111,
              "#46039f"
             ],
             [
              0.2222222222222222,
              "#7201a8"
             ],
             [
              0.3333333333333333,
              "#9c179e"
             ],
             [
              0.4444444444444444,
              "#bd3786"
             ],
             [
              0.5555555555555556,
              "#d8576b"
             ],
             [
              0.6666666666666666,
              "#ed7953"
             ],
             [
              0.7777777777777778,
              "#fb9f3a"
             ],
             [
              0.8888888888888888,
              "#fdca26"
             ],
             [
              1,
              "#f0f921"
             ]
            ],
            "type": "surface"
           }
          ],
          "table": [
           {
            "cells": {
             "fill": {
              "color": "#EBF0F8"
             },
             "line": {
              "color": "white"
             }
            },
            "header": {
             "fill": {
              "color": "#C8D4E3"
             },
             "line": {
              "color": "white"
             }
            },
            "type": "table"
           }
          ]
         },
         "layout": {
          "annotationdefaults": {
           "arrowcolor": "#2a3f5f",
           "arrowhead": 0,
           "arrowwidth": 1
          },
          "autotypenumbers": "strict",
          "coloraxis": {
           "colorbar": {
            "outlinewidth": 0,
            "ticks": ""
           }
          },
          "colorscale": {
           "diverging": [
            [
             0,
             "#8e0152"
            ],
            [
             0.1,
             "#c51b7d"
            ],
            [
             0.2,
             "#de77ae"
            ],
            [
             0.3,
             "#f1b6da"
            ],
            [
             0.4,
             "#fde0ef"
            ],
            [
             0.5,
             "#f7f7f7"
            ],
            [
             0.6,
             "#e6f5d0"
            ],
            [
             0.7,
             "#b8e186"
            ],
            [
             0.8,
             "#7fbc41"
            ],
            [
             0.9,
             "#4d9221"
            ],
            [
             1,
             "#276419"
            ]
           ],
           "sequential": [
            [
             0,
             "#0d0887"
            ],
            [
             0.1111111111111111,
             "#46039f"
            ],
            [
             0.2222222222222222,
             "#7201a8"
            ],
            [
             0.3333333333333333,
             "#9c179e"
            ],
            [
             0.4444444444444444,
             "#bd3786"
            ],
            [
             0.5555555555555556,
             "#d8576b"
            ],
            [
             0.6666666666666666,
             "#ed7953"
            ],
            [
             0.7777777777777778,
             "#fb9f3a"
            ],
            [
             0.8888888888888888,
             "#fdca26"
            ],
            [
             1,
             "#f0f921"
            ]
           ],
           "sequentialminus": [
            [
             0,
             "#0d0887"
            ],
            [
             0.1111111111111111,
             "#46039f"
            ],
            [
             0.2222222222222222,
             "#7201a8"
            ],
            [
             0.3333333333333333,
             "#9c179e"
            ],
            [
             0.4444444444444444,
             "#bd3786"
            ],
            [
             0.5555555555555556,
             "#d8576b"
            ],
            [
             0.6666666666666666,
             "#ed7953"
            ],
            [
             0.7777777777777778,
             "#fb9f3a"
            ],
            [
             0.8888888888888888,
             "#fdca26"
            ],
            [
             1,
             "#f0f921"
            ]
           ]
          },
          "colorway": [
           "#636efa",
           "#EF553B",
           "#00cc96",
           "#ab63fa",
           "#FFA15A",
           "#19d3f3",
           "#FF6692",
           "#B6E880",
           "#FF97FF",
           "#FECB52"
          ],
          "font": {
           "color": "#2a3f5f"
          },
          "geo": {
           "bgcolor": "white",
           "lakecolor": "white",
           "landcolor": "#E5ECF6",
           "showlakes": true,
           "showland": true,
           "subunitcolor": "white"
          },
          "hoverlabel": {
           "align": "left"
          },
          "hovermode": "closest",
          "mapbox": {
           "style": "light"
          },
          "paper_bgcolor": "white",
          "plot_bgcolor": "#E5ECF6",
          "polar": {
           "angularaxis": {
            "gridcolor": "white",
            "linecolor": "white",
            "ticks": ""
           },
           "bgcolor": "#E5ECF6",
           "radialaxis": {
            "gridcolor": "white",
            "linecolor": "white",
            "ticks": ""
           }
          },
          "scene": {
           "xaxis": {
            "backgroundcolor": "#E5ECF6",
            "gridcolor": "white",
            "gridwidth": 2,
            "linecolor": "white",
            "showbackground": true,
            "ticks": "",
            "zerolinecolor": "white"
           },
           "yaxis": {
            "backgroundcolor": "#E5ECF6",
            "gridcolor": "white",
            "gridwidth": 2,
            "linecolor": "white",
            "showbackground": true,
            "ticks": "",
            "zerolinecolor": "white"
           },
           "zaxis": {
            "backgroundcolor": "#E5ECF6",
            "gridcolor": "white",
            "gridwidth": 2,
            "linecolor": "white",
            "showbackground": true,
            "ticks": "",
            "zerolinecolor": "white"
           }
          },
          "shapedefaults": {
           "line": {
            "color": "#2a3f5f"
           }
          },
          "ternary": {
           "aaxis": {
            "gridcolor": "white",
            "linecolor": "white",
            "ticks": ""
           },
           "baxis": {
            "gridcolor": "white",
            "linecolor": "white",
            "ticks": ""
           },
           "bgcolor": "#E5ECF6",
           "caxis": {
            "gridcolor": "white",
            "linecolor": "white",
            "ticks": ""
           }
          },
          "title": {
           "x": 0.05
          },
          "xaxis": {
           "automargin": true,
           "gridcolor": "white",
           "linecolor": "white",
           "ticks": "",
           "title": {
            "standoff": 15
           },
           "zerolinecolor": "white",
           "zerolinewidth": 2
          },
          "yaxis": {
           "automargin": true,
           "gridcolor": "white",
           "linecolor": "white",
           "ticks": "",
           "title": {
            "standoff": 15
           },
           "zerolinecolor": "white",
           "zerolinewidth": 2
          }
         }
        },
        "xaxis": {
         "anchor": "y",
         "domain": [
          0,
          1
         ],
         "title": {
          "text": "mean_avg_rpm_3_(t-1)"
         }
        },
        "xaxis2": {
         "anchor": "y2",
         "domain": [
          0,
          1
         ],
         "matches": "x",
         "showgrid": true,
         "showticklabels": false
        },
        "yaxis": {
         "anchor": "x",
         "domain": [
          0,
          0.8316
         ],
         "title": {
          "text": "count"
         }
        },
        "yaxis2": {
         "anchor": "x2",
         "domain": [
          0.8416,
          1
         ],
         "matches": "y2",
         "showgrid": false,
         "showline": false,
         "showticklabels": false,
         "ticks": ""
        }
       }
      }
     },
     "metadata": {},
     "output_type": "display_data"
    }
   ],
   "source": [
    "import plotly.express as px\n",
    "\n",
    "fig = px.histogram(df2,x=\"mean_avg_rpm_3_(t-1)\", \n",
    "                   marginal=\"box\", # or violin, rug\n",
    "                   #hover_data=df2.columns\n",
    "                   )\n",
    "fig.show()"
   ]
  },
  {
   "cell_type": "code",
   "execution_count": 10,
   "metadata": {},
   "outputs": [
    {
     "data": {
      "text/plain": [
       "count    1556.000000\n",
       "mean     5184.177046\n",
       "std       172.015068\n",
       "min      4990.006076\n",
       "25%      5065.514531\n",
       "50%      5148.580729\n",
       "75%      5263.911465\n",
       "max      6000.539782\n",
       "Name: mean_avg_fresh_feed_tonnage_3_(t-1), dtype: float64"
      ]
     },
     "execution_count": 10,
     "metadata": {},
     "output_type": "execute_result"
    }
   ],
   "source": [
    "df2[\"mean_avg_fresh_feed_tonnage_3_(t-1)\"].describe()"
   ]
  },
  {
   "cell_type": "code",
   "execution_count": 11,
   "metadata": {},
   "outputs": [
    {
     "data": {
      "application/vnd.plotly.v1+json": {
       "config": {
        "plotlyServerURL": "https://plot.ly"
       },
       "data": [
        {
         "alignmentgroup": "True",
         "bingroup": "x",
         "hovertemplate": "mean_avg_fresh_feed_tonnage_3_(t-1)=%{x}<br>count=%{y}<extra></extra>",
         "legendgroup": "",
         "marker": {
          "color": "#636efa",
          "pattern": {
           "shape": ""
          }
         },
         "name": "",
         "offsetgroup": "",
         "orientation": "v",
         "showlegend": false,
         "type": "histogram",
         "x": [
          5193.792906746032,
          5194.514260912699,
          5077.79189401455,
          5341.889963624338,
          5467.355530753968,
          5404.113020833333,
          5427.096073082011,
          5577.364484126984,
          5764.122519841269,
          5875.501612103174,
          5773.571354166666,
          5791.307291666667,
          5759.075892857142,
          5644.117063492064,
          5539.657490079365,
          5474.498635912699,
          5523.12958829365,
          5790.696077215608,
          5335.781803266178,
          5269.401594932845,
          5266.828662367724,
          5324.309275793651,
          5334.673197751323,
          5190.792728683354,
          5171.829241071428,
          5242.577504960318,
          5301.488715277778,
          5439.943080357142,
          5487.993372464726,
          5554.9456294091715,
          5611.719025573192,
          5498.110780423281,
          5439.093474426806,
          5367.657716049382,
          5451.964178240739,
          5422.604475308641,
          5384.017672508818,
          5367.977799823632,
          5402.7212604717815,
          5351.459297839506,
          5407.931960978836,
          5308.05785383598,
          5412.113128306878,
          5305.671461852191,
          5322.8336333323305,
          5266.547671030744,
          5366.879094429875,
          5584.633010912698,
          5595.133341600529,
          5573.726796737214,
          5505.133383312289,
          5408.268716767415,
          5492.299630192339,
          5611.26019817374,
          5616.874016203703,
          5574.311135912699,
          5623.16723159171,
          5544.254657186949,
          5429.356839726632,
          5298.8390376984125,
          5309.280562319625,
          5398.367243867244,
          5389.966688693251,
          5346.691902387735,
          5078.751917989418,
          5130.26883542769,
          5213.371775793651,
          5285.696428571428,
          5260.97941468254,
          5322.195684523809,
          5306.747767857142,
          5255.320064484127,
          5164.873263888889,
          5065.019990079366,
          4993.921341765873,
          5016.1713559203135,
          5035.741902657527,
          5096.374118165785,
          5023.929921737214,
          5098.797619047619,
          5304.549479166667,
          5553.690986000882,
          5565.274691358024,
          5394.186083553792,
          5137.17973159171,
          5271.778480489418,
          5214.179205246914,
          5068.442584325397,
          5084.208953373016,
          5110.402444334216,
          5100.141407627866,
          5096.867226080247,
          5104.579296186067,
          5224.08735670194,
          5215.474261463845,
          5182.886436287477,
          5233.114707341269,
          5090.322172619048,
          5028.827863205467,
          5156.944540895062,
          5271.495659722222,
          5168.556613756614,
          5065.923194995591,
          5049.884628527337,
          5053.676738866843,
          5101.55718143739,
          5132.220003858024,
          5139.427416776895,
          5140.193165784833,
          5117.872853284833,
          5259.202132936509,
          5158.966090718695,
          5083.151110559965,
          4992.698729607583,
          5208.343129960317,
          5184.821056547619,
          5259.055059523809,
          5195.200190145503,
          4996.169684193122,
          5032.582217261905,
          5038.358823853615,
          5053.120342813051,
          5046.280009920635,
          5059.20683020683,
          5290.887628141535,
          5247.207651289682,
          5143.455729166667,
          5068.146577380951,
          5169.585813492064,
          5235.66691468254,
          5042.90910218254,
          5056.21267361111,
          5108.684151785714,
          5139.495535714285,
          5180.682614087302,
          5199.187946428571,
          5158.550049603175,
          5054.296130952382,
          5049.366098985891,
          5218.025421626985,
          5400.787601962082,
          5565.005098104056,
          5650.17722111993,
          5741.195896965689,
          5742.402552058281,
          5324.480654761905,
          5292.0571291170245,
          5327.664653016737,
          5343.044714795235,
          5442.973399170274,
          5464.78209579772,
          5548.6328538359785,
          5546.018879268879,
          5381.691997167457,
          5593.803695436508,
          5593.455109126985,
          5594.397472993827,
          5517.884421847443,
          5498.350008267196,
          5554.30679563492,
          5632.476884920634,
          5623.940749007937,
          5550.766292735043,
          5147.597507536831,
          5055.9777037487975,
          5440.546538550185,
          5576.048547228234,
          5567.3749586640215,
          5552.613329475309,
          5528.309165564374,
          5520.789710097001,
          5516.009328152558,
          5476.239112103175,
          5048.282242063492,
          5168.53427303792,
          5310.2821024461655,
          5310.527361662257,
          5281.172371031746,
          5276.45486111111,
          5240.4332160894655,
          5330.00117444284,
          5344.819328703704,
          5233.765895061729,
          5479.950435405644,
          5528.359628026295,
          5571.749803841992,
          5298.140859237214,
          5221.218047288359,
          5205.266454899268,
          5104.1077056623935,
          5288.131562881563,
          5531.436879960317,
          5633.938616071428,
          5461.377777777779,
          5270.656498015873,
          5013.868551587301,
          5199.982385361552,
          5690.179411926808,
          5838.929945774835,
          5931.5240153033155,
          5876.554398966681,
          5269.418898809524,
          5329.815418320107,
          5414.206622023809,
          5485.988839285715,
          5543.441096230159,
          5587.685777667549,
          5527.1261937329655,
          5399.701592813052,
          5148.337409060848,
          5191.159889820828,
          5150.884217923281,
          5459.014384920635,
          5476.040660824515,
          5290.62497933201,
          5065.679377480159,
          5905.179216269841,
          5865.295758928572,
          5785.536830357142,
          5651.6397707231035,
          5786.095238095238,
          5428.382371582892,
          5150.283286485891,
          5123.037698412699,
          5122.0070960097,
          5061.909722222222,
          5099.294518849206,
          5101.326636904762,
          5099.547908399471,
          5099.30857308201,
          5099.546792328042,
          5099.285342261905,
          5078.515277777778,
          5045.99035218254,
          5013.157986111111,
          5000.024305555556,
          4999.256200396826,
          4999.697792658731,
          4999.538318452382,
          5000.528521825397,
          5326.1245039682535,
          5439.604538690476,
          5579.72867063492,
          5618.85402888007,
          5709.022569444444,
          5678.106302358906,
          5713.749159501764,
          5877.128375771605,
          5993.36111111111,
          5861.179894179894,
          5324.507344025573,
          5309.915702160494,
          5298.483010912699,
          5363.517319775133,
          5272.468998015873,
          5117.617311507936,
          5009.90303957231,
          5071.093543320106,
          5084.910466269841,
          4994.9534419091715,
          5054.916294642857,
          5097.173294388137,
          4998.058531746032,
          4998.661830357143,
          5057.121279761905,
          5139.854042658731,
          5210.9523671737215,
          5146.907848324515,
          5108.316330467373,
          5115.518132716049,
          4990.625992063492,
          5001.967137896826,
          5025.485491071428,
          5093.762400793651,
          5165.006200396826,
          5224.467137896826,
          5189.521453373016,
          5040.398189484126,
          5083.1781994047615,
          5029.2901785714275,
          4992.234995039682,
          4991.404389880952,
          4992.515811011905,
          4997.156063988095,
          4999.431175595238,
          4998.805431547619,
          4998.8911210317465,
          4991.397941468254,
          4991.059771825397,
          4991.799231150794,
          4998.923487103174,
          4999.609623015873,
          4999.458581349206,
          5000.179935515873,
          4999.788938492064,
          4999.012276785714,
          4998.379588293651,
          4998.690476190476,
          5000.019469246032,
          5000.3484623015875,
          5076.284598214286,
          5100.365327380951,
          5101.113219246032,
          5060.512166556437,
          4997.891245039683,
          5018.043030753968,
          5047.045014880951,
          5123.18427579365,
          5188.749751984127,
          5242.130435681217,
          5249.38498263889,
          5249.509734623017,
          5249.350818452381,
          5249.96701388889,
          5247.994667658729,
          5161.579464285714,
          4997.57527970679,
          5074.302021329365,
          5081.516617063492,
          5079.905505952382,
          5079.740823412699,
          5078.493427579365,
          5077.925223214286,
          5078.128472222223,
          5082.416583994709,
          5079.249503968254,
          5076.914324294533,
          5072.6179453262785,
          5045.605668540565,
          5016.839795524691,
          5009.448674492945,
          5042.535094246033,
          4999.827876984126,
          5049.1640625,
          4998.272693452382,
          5000.338913690476,
          5000.05964781746,
          4999.263764880952,
          4996.221478174603,
          4998.739955357144,
          5000.087053571428,
          4998.650297619047,
          4998.548363095238,
          4990.00607638889,
          4990.082217261905,
          5000.803447420635,
          4998.949652777777,
          4998.002728174603,
          4997.614583333333,
          4999.309337797619,
          5000.320746527777,
          5000.690228174603,
          4999.025297619047,
          4998.311755952381,
          4998.920882936508,
          5000.411334325397,
          4999.814360119047,
          4999.265625,
          4997.92361111111,
          4998.745411706349,
          4999.418650793651,
          5035.415302579365,
          5049.500744047619,
          5048.262028769841,
          5048.6953125,
          5049.951760912699,
          5050.3828125,
          5049.869543650794,
          5049.785342261905,
          5051.7921626984125,
          5050.486855158731,
          5051.3046875,
          5027.6177662037035,
          5021.0312086640215,
          5013.11007771164,
          5029.869345238095,
          5008.996081349206,
          4999.178621031746,
          5009.7104414682535,
          5053.134176587301,
          5087.878224206349,
          5099.095238095238,
          5098.64558531746,
          5093.379092261905,
          5071.68927744709,
          5075.994874338624,
          5086.222167107583,
          5101.799675825718,
          5114.664341831009,
          5124.459246482683,
          5145.454241071428,
          5145.430183531746,
          5145.675223214286,
          5148.338541666667,
          5148.049851190477,
          5150.229166666667,
          5140.809895833333,
          5124.878472222222,
          5107.30964781746,
          5099.176339285715,
          5107.691096230159,
          5098.233754960317,
          5114.666046626984,
          5122.406125992064,
          5148.328745039683,
          5150.853050595238,
          5149.335441468254,
          5149.138764880953,
          5150.599454365079,
          5146.383680555556,
          5107.389880952381,
          5150.70275297619,
          5151.473300137363,
          5150.992721688034,
          5153.266989087301,
          5153.006610576923,
          5150.219455891332,
          5147.26314484127,
          5147.628968253968,
          5148.998608355379,
          5149.983727402999,
          5150.2766341490305,
          5151.295262896826,
          5150.459449404762,
          5158.402281746032,
          5174.5932539682535,
          5191.130911044974,
          5200.616691468254,
          5196.535342261905,
          5189.8234126984125,
          5183.082713293651,
          5100.571056547619,
          5098.348090277778,
          5096.321924603176,
          5096.943948412699,
          5098.101190476191,
          5099.4067460317465,
          5099.410714285715,
          5100.932167658731,
          5101.827504960317,
          5101.492311507936,
          5099.570064484127,
          5097.316344246032,
          5099.699404761905,
          5099.694692460317,
          5100.141245039682,
          5100.436631944444,
          5100.532118055556,
          5099.584945436508,
          5099.456597222222,
          5096.62177579365,
          5097.572296626985,
          5099.257192460318,
          5100.275545634921,
          5100.722718253968,
          5098.741691468254,
          5099.27132936508,
          5100.04402281746,
          5100.209945436508,
          5100.408234126983,
          5100.600818452381,
          5099.475942460317,
          5102.63454861111,
          5103.258680555555,
          5102.039186507936,
          4998.395275297618,
          5000.0390625,
          5002.159722222223,
          5000.636904761905,
          5002.025297619047,
          5000.263268849206,
          5099.670014880952,
          5101.579985119048,
          5100.4093501984125,
          5100.287078373017,
          5100.703745039683,
          5100.267485119049,
          5099.131944444444,
          5096.59089781746,
          4998.240327380953,
          4998.652777777778,
          4996.812003968254,
          4996.084325396826,
          4999.702959656085,
          5000.454737103175,
          5001.6870039682535,
          5001.468625992064,
          5000.530257936508,
          5001.139012896826,
          5000.355778769842,
          5000.260168650794,
          4998.954737103174,
          4999.336557539682,
          4999.432167658731,
          5001.612661210317,
          4998.841951884921,
          5020.638310185185,
          4999.959759424603,
          5008.160528273809,
          5032.321800595238,
          5035.540364583333,
          5036.289713541667,
          5006.328722993828,
          5001.162698412699,
          4997.945917038691,
          4996.066592261905,
          4996.772817460317,
          4999.60908048115,
          4999.733630952381,
          4997.169518849206,
          5001.65587797619,
          4998.829985119047,
          4995.503720238095,
          4999.819568452381,
          5000.277033730159,
          4998.792658730159,
          4999.686879960318,
          4998.702380952381,
          5000.796006944444,
          4998.209325396826,
          4998.874627976191,
          4998.841393849206,
          4999.02802579365,
          4999.541790674603,
          4995.0865162037035,
          4994.800181878307,
          4994.810763888888,
          4994.990575396825,
          4993.379464285715,
          4990.999255952381,
          4997.561011904762,
          4999.228174603174,
          5000.011284722223,
          5000.852554563492,
          4999.619295634921,
          4998.3709077380945,
          4998.9093501984125,
          5000.062996031746,
          4998.518849206349,
          5013.45138888889,
          5036.45027281746,
          5074.737475198413,
          5100.745783730159,
          5105.08557674964,
          5079.701730991127,
          5066.133392284115,
          5079.701640490384,
          5108.7081300981035,
          5120.746086860671,
          5120.53410218254,
          5121.110367063492,
          5121.716889880952,
          5115.035714285714,
          5107.003968253968,
          5095.6505456349205,
          5086.405381944444,
          5075.700396825397,
          5079.2390873015875,
          5087.230406746032,
          5098.019345238095,
          5096.175595238095,
          5082.363715277777,
          5119.542906746032,
          5119.037698412699,
          5099.334821428572,
          5099.480158730159,
          5098.400917658731,
          5085.456473214285,
          5119.4578373015875,
          5118.79402281746,
          5119.064112103174,
          5118.240823412699,
          5117.3520585317465,
          5113.935267857142,
          5025.854648919753,
          5055.129720568783,
          5091.174735449736,
          5089.230034722223,
          5092.174107142858,
          5109.525173611111,
          5076.383432539682,
          5108.0932539682535,
          5141.369295634921,
          5174.211867559524,
          5199.265066964285,
          5201.792348710317,
          5200.588541666667,
          5198.989831349207,
          5199.003968253968,
          5200.095610119049,
          4999.751984126983,
          5098.843005952381,
          5100.540860615079,
          5101.574838789683,
          5100.2495039682535,
          5200.090153769842,
          5201.289186507937,
          5200.144469246032,
          5185.984595458554,
          5199.850942460317,
          5210.991319444445,
          5213.918526785715,
          5242.710317460317,
          5238.451512896826,
          5236.220858134921,
          5243.222098214286,
          5246.243675595239,
          5248.318948412699,
          5247.3260168650795,
          5247.7661210317465,
          5248.220610119047,
          5250.0859375,
          5248.294642857142,
          5234.034722222223,
          5229.051215277777,
          5092.328180114639,
          5071.885347773369,
          5046.824776785714,
          5078.284598214285,
          5084.643353174603,
          5159.056671626983,
          5161.150793650794,
          5242.385044642858,
          5240.842757936508,
          5177.603519069665,
          4996.037366279554,
          5135.491195436508,
          5147.1218998015875,
          5148.613715277778,
          5189.661334325397,
          5157.10441468254,
          5113.635540674603,
          5112.063244047618,
          5197.515128968254,
          5188.763020833333,
          5182.418154761905,
          5184.619171626983,
          5190.104786706349,
          5211.372767857142,
          5244.01277281746,
          5280.263144841269,
          5299.213665674603,
          5295.001116071428,
          5295.067336309524,
          5295.577380952381,
          5296.095858134921,
          5296.038814484127,
          5079.716765873016,
          5277.148375496032,
          5357.665860615079,
          5388.808345734126,
          5330.938368055555,
          5263.515873015873,
          5198.129836309524,
          5199.994667658731,
          5199.941096230159,
          5222.835813492064,
          5250.330233134921,
          5250.170138888889,
          5250.277653769841,
          5250.258060515873,
          5183.305224867726,
          5117.986648478836,
          5279.971106150794,
          5312.844618055556,
          5340.768229166667,
          5317.637745260141,
          5109.513172398588,
          5152.115947420635,
          5091.705632716049,
          5099.435639880951,
          5147.59660218254,
          5007.4108355379185,
          5108.849586640212,
          5159.1224509479725,
          5167.947944223986,
          5164.06785989859,
          5128.071833664021,
          5102.268193342152,
          5104.481486992946,
          5139.367733134921,
          5140.135416666667,
          5148.3937251984125,
          5240.36892361111,
          5250.243220899471,
          4991.295014880951,
          4992.159226190476,
          4993.678695436508,
          5048.600597993827,
          5140.691220238095,
          5199.008928571428,
          5199.719370039682,
          5188.323536706349,
          5002.234567901235,
          5048.151000330688,
          5088.385006486569,
          5016.131534264347,
          5011.875496031746,
          5085.93464781746,
          5152.45771329365,
          5218.133308531746,
          5277.8203125,
          5296.637152777777,
          5269.284846230159,
          5171.462226430976,
          5127.837301587301,
          5180.487103174603,
          5191.845362103174,
          5193.635003306878,
          5191.724537037037,
          5207.523148148149,
          5239.293278769841,
          5272.6202876984125,
          5288.910466269841,
          5007.729887820514,
          5174.465153769841,
          5248.434895833333,
          5265.356150793651,
          5287.054935515874,
          5293.286334325397,
          5219.259987408425,
          5067.540989392553,
          5317.192274305556,
          5314.8322172619055,
          5319.329861111112,
          5318.543278769841,
          5318.970362103174,
          5318.918898809523,
          5314.701388888889,
          5288.371279761905,
          5261.253968253968,
          5260.040426587301,
          5222.6498704806,
          5317.426959325397,
          5311.540674603174,
          5289.780726410933,
          5355.495101686508,
          5389.695870535714,
          5487.157738095238,
          5165.597594246032,
          5190.107762896826,
          5259.847346230159,
          5293.96912202381,
          5300.196180555555,
          5296.014136904762,
          5098.838405257936,
          5141.438678075397,
          5091.4354662698415,
          5054.653893849206,
          5094.593129960317,
          5071.030505952381,
          5024.12529348545,
          5075.79689566799,
          5096.422061011905,
          5100.567832341269,
          5131.535218253968,
          5149.563392857143,
          5106.772821969697,
          5036.3008477633475,
          4992.889116612554,
          5015.136780753968,
          5065.85726686508,
          5094.502418154762,
          5099.71769593254,
          5099.029947916667,
          5099.063740079365,
          5098.998015873017,
          5090.105530753968,
          5072.9104910714295,
          5230.550223214286,
          5247.71875,
          5249.63777281746,
          5250.8666914682535,
          5251.399057539683,
          5250.525793650794,
          5246.353546626983,
          5213.972098214285,
          5165.83767361111,
          5093.44816468254,
          5074.605902777777,
          5071.48611111111,
          5051.686879960317,
          5012.130208333333,
          5137.603113977072,
          5051.816110008819,
          5028.139260912699,
          5127.3738839285725,
          5158.28658234127,
          5148.7859623015875,
          5148.879092261905,
          5133.924603174603,
          5162.598958333333,
          5140.860243055556,
          5064.587797619049,
          4998.737103174603,
          5035.451264880953,
          5052.059027777777,
          5120.168278769841,
          5123.573040674603,
          5074.7843501984125,
          5084.736359126985,
          5112.849206349206,
          5110.1870039682535,
          5044.975570436508,
          5023.707465277778,
          5170.574528769841,
          5295.640459656085,
          5254.455439814815,
          5234.353381283068,
          5197.260788690476,
          5227.337301587301,
          5191.4343998015875,
          5105.415426587301,
          5006.381696428572,
          5073.1166914682535,
          5105.37177579365,
          5108.7062251984125,
          5147.751240079365,
          5190.9656498015875,
          5207.269799933863,
          5057.478950466972,
          5022.8993787077125,
          5157.173239087301,
          5005.633077050265,
          5071.796544312169,
          5125.151331018518,
          5069.611003637566,
          5046.751364087301,
          5104.107142857142,
          5136.883804563492,
          5190.28658234127,
          5252.360863095238,
          5279.213045634921,
          5258.192708333333,
          5177.18005952381,
          5081.8546626984125,
          5072.690476190476,
          5132.201884920635,
          5190.671378968254,
          5134.751657196969,
          5023.116116522367,
          5299.747767857144,
          5296.652653769841,
          5261.061631944444,
          5134.7156498015875,
          5032.569816468254,
          5106.509176587301,
          5236.487847222222,
          5274.321676587301,
          5249.594618055556,
          5194.96267361111,
          5007.168278769841,
          5052.654017857142,
          5169.143256723986,
          5173.8226218033515,
          5207.942909501763,
          5210.171304563492,
          5322.101438492064,
          5196.251612103174,
          5189.547619047619,
          5154.986855158731,
          5074.658978174603,
          4995.351934523809,
          5140.554563492064,
          5122.236235119047,
          5105.176697530864,
          5077.540536816578,
          5147.398248607103,
          5173.517967372134,
          5201.146081349206,
          5203.453000992064,
          5201.160838293651,
          5199.843129960318,
          5062.824900793651,
          5128.812251984127,
          5196.613343253968,
          5200.140625,
          5200.2937748015875,
          5198.51277281746,
          5198.485243055556,
          5200.347346230159,
          5201.100942460318,
          5200.55964781746,
          5199.298735119049,
          5188.720734126985,
          5096.453869047619,
          5015.007688492064,
          5117.922838060859,
          5188.037643298059,
          5194.329406415343,
          5195.512951940035,
          5195.183352623458,
          5197.074266975309,
          5199.192942570547,
          5171.942584325397,
          5104.710565476191,
          5064.423735119049,
          5060.808746693122,
          5120.884887566138,
          5160.4420552248675,
          5193.996155753968,
          5200.486607142858,
          5199.664806547619,
          5201.379588293651,
          5204.523933531746,
          5201.561383928572,
          5160.855406746032,
          5159.828993055556,
          5220.476438492064,
          5218.23722718254,
          5217.516493055555,
          5214.290674603174,
          5210.422991071428,
          5087.363095238095,
          5000.508556547619,
          4993.968874007936,
          5013.30546186067,
          5015.6984430114635,
          5067.58771494709,
          4997.527447089947,
          5086.693452380953,
          5082.117063492064,
          5068.714285714286,
          5056.51669973545,
          5061.934358465609,
          5083.776124338625,
          5096.892526455026,
          5071.767587081129,
          5157.952504960317,
          5177.727086089065,
          5176.095086529983,
          5176.44323467813,
          5193.135584766314,
          4992.4561517957345,
          5045.835279882155,
          5055.6712156285075,
          5039.6762363215485,
          5195.025958994709,
          5188.546764770723,
          5075.466344246031,
          5142.678158068783,
          5200.551463293651,
          5199.495907738095,
          5195.363591269841,
          5156.31212797619,
          5059.194361772486,
          5032.114500661376,
          5149.156498015873,
          4991.823330026455,
          4990.766658399471,
          4996.090525793651,
          4995.793526785715,
          5064.846726190476,
          5047.8343667328045,
          5096.709642305997,
          5036.859250992064,
          5000.119543650794,
          5000.519221230159,
          4992.784846230158,
          5000.240079365079,
          5000.0994543650795,
          4998.063740079365,
          4997.337673611112,
          4996.4500248015875,
          4998.593874007936,
          4999.413566468254,
          5036.246651785715,
          4994.86545138889,
          5073.731646825397,
          5101.353918650794,
          5101.204861111111,
          5101.64384920635,
          5101.984375,
          5002.001446759259,
          5014.56535218254,
          5025.409536210318,
          5070.081721230159,
          5105.243427579365,
          5123.2156498015875,
          5138.605530753968,
          5148.208209325397,
          5048.591517857142,
          5048.3130787037035,
          4997.752314814815,
          4998.21701388889,
          5201.136036706349,
          5195.413070436508,
          5197.3755787037035,
          5193.298354828043,
          5095.069072420635,
          5013.142691798942,
          5004.408564814815,
          4999.801504629629,
          4998.572800925926,
          4992.811226851852,
          4994.966550925926,
          4998.499884259259,
          4996.725347222222,
          5000.694031084656,
          5008.849123677249,
          5063.0519675925925,
          5144.400099206348,
          5225.646626984127,
          5268.409143518518,
          5295.994419642858,
          5294.119419642858,
          5291.834449404762,
          5294.55753968254,
          5232.774900793651,
          5022.17585978836,
          5341.097222222222,
          5024.117777954734,
          5154.802285093075,
          5148.990993028658,
          5177.347292631833,
          5047.759358465609,
          5287.1724537037035,
          5349.319444444444,
          5004.991666666667,
          5199.812562003968,
          5209.694444444444,
          5052.314732142856,
          5017.873883928572,
          4997.098668981482,
          4998.1187582671955,
          5014.38244047619,
          5050.241195436506,
          5199.262152777777,
          5197.283978174603,
          5196.2729414682535,
          5201.363839285714,
          5199.452504960317,
          5069.524884259259,
          5056.867931547619,
          5184.337177579365,
          5149.680927579365,
          5201.799713403879,
          5207.056051587301,
          5228.453000992064,
          5207.697395833333,
          5054.3041914682535,
          5143.319692460317,
          5186.654885912699,
          5116.605158730159,
          5092.700396825397,
          5113.180183531746,
          5106.108506944444,
          5187.041666666667,
          5322.644965277777,
          5370.350322420635,
          5393.132688492064,
          5398.991071428572,
          5378.187127976191,
          5317.901413690476,
          5235.165054563492,
          5247.714006696428,
          5314.318638392856,
          5365.240513392856,
          5410.047495039682,
          5443.592509920634,
          5478.730158730159,
          5499.626488095238,
          5454.064484126983,
          5386.866939484126,
          5461.015252976191,
          5499.765873015873,
          5508.477306547618,
          5523.637152777777,
          5552.6515376984125,
          5577.915922619047,
          5605.145709325397,
          5609.859250992063,
          5607.359126984126,
          5128.161045725108,
          5293.249463383839,
          5466.682043650794,
          5515.458209325397,
          5434.047743055556,
          5366.589905753968,
          5338.483134920635,
          5390.959915123457,
          5456.334915123457,
          5484.893818893298,
          5497.808779761905,
          5500.96701388889,
          5500.731770833333,
          5499.541418650794,
          5499.226314484127,
          5498.973958333335,
          5473.106619268078,
          5477.256668871253,
          5454.044877094356,
          5481.688753858024,
          5441.849220127866,
          5415.251240079365,
          5356.952380952381,
          5280.24469521605,
          5155.758611662258,
          5042.911141424162,
          5041.957341269841,
          5091.801173941799,
          5099.182043650794,
          5098.17013888889,
          5032.80303030303,
          4999.449032738095,
          5018.341517857143,
          5084.209945436509,
          5135.65339781746,
          5137.671130952382,
          5102.241691468254,
          5051.4536210317465,
          5017.632936507937,
          5000.427827380953,
          5023.0551835317465,
          5051.021825396826,
          5109.647445436508,
          5152.73152281746,
          5200.316964285715,
          5188.863219246032,
          5357.502108134921,
          5478.12326388889,
          5369.447098214286,
          5202.082514880953,
          5035.073834325397,
          4999.441096230159,
          5045.578373015873,
          5079.71875,
          5080.299851190476,
          5034.754092261905,
          5000.849082341269,
          5000.225322420635,
          4998.203621031746,
          4998.980034722222,
          4999.143601190476,
          4999.523685515873,
          4997.8598710317465,
          4997.86222718254,
          5077.749007936508,
          5145.441344246032,
          5197.555927579365,
          5199.821304563492,
          5198.060143849206,
          5195.985119047618,
          5186.383060515873,
          5136.942336309524,
          5069.16902281746,
          5012.109623015873,
          4997.232886904762,
          5199.736359126984,
          5200.245163690476,
          5199.091393849206,
          5199.457093253968,
          4996.947296626985,
          4997.841145833333,
          4998.035590277777,
          5050.074925595239,
          5047.411706349208,
          4991.120461309524,
          5046.064360119048,
          5068.31460813492,
          4996.637152777777,
          4996.591765873017,
          4996.725046847444,
          5001.721574625221,
          5001.7434000220455,
          5001.730778769841,
          5261.424843674845,
          5302.171875,
          5278.002232142858,
          5242.392237103174,
          5165.049851190476,
          5081.103794642857,
          5014.459449404762,
          5100.58771494709,
          5096.349495701058,
          5048.7443369709,
          5030.102182539683,
          5032.986483134921,
          5079.093625992064,
          5095.884424603175,
          5098.535962301587,
          5092.829613095238,
          5004.766121031746,
          4998.432716049382,
          5015.300223214285,
          5035.038070436508,
          5103.336805555556,
          5104.81423611111,
          5099.883680555556,
          5101.997106481482,
          5093.20419973545,
          5299.473148148148,
          5299.855191798942,
          5299.382208994709,
          5293.768518518518,
          5282.476231812169,
          5210.110325727514,
          5148.547743055556,
          5099.484375,
          5140.240162037037,
          5173.600694444444,
          5212.295138888888,
          5253.287615740741,
          5321.188888888889,
          5378.21875,
          5372.971527777777,
          5077.398466675565,
          5298.630720899471,
          5300.878571428572,
          5301.264219576719,
          5300.015873015873,
          5299.305555555556,
          5298.479166666667,
          5296.539351851851,
          5296.0983796296305,
          5287.737268518518,
          5276.700810185185,
          5264.923726851852,
          5268.5053240740735,
          5254.93265542328,
          5245.592724867725,
          5263.650595238095,
          5255.148349104599,
          5280.188549721884,
          5277.8464200922535,
          5301.627733686067,
          5300.587301587301,
          5279.730249669312,
          5263.225992063492,
          5240.632242063492,
          5239.345775462963,
          5243.752314814815,
          5253.8275462962965,
          5260.295717592592,
          5272.854976851852,
          5286.46087962963,
          5300.845717592593,
          5298.129398148148,
          5293.697337962963,
          5290.068865740741,
          5290.661226851852,
          5291.681365740741,
          5296.125248015873,
          5295.8408730158735,
          5300.710548941799,
          5125.396874999999,
          5090.182291666667,
          5053.265625,
          5194.847222222223,
          5196.116898148149,
          5195.346064814815,
          5142.082754629629,
          5059.943287037037,
          5001.20138888889,
          5004.002314814815,
          5001.194444444444,
          5000.464583333333,
          4998.494560185186,
          5000.486226851852,
          4996.537185846561,
          4996.825082671959,
          4994.94423776455,
          5000.889632936508,
          5000.625,
          5002.182002314815,
          4997.380787037037,
          4998.09375,
          4994.860532407408,
          5007.567824074074,
          5016.539583333334,
          5039.847123015873,
          5063.646114417989,
          5120.18361441799,
          5166.973296957673,
          5202.949652777778,
          5199.665509259259,
          5196.311921296296,
          5196.444444444444,
          5200.591782407407,
          5202.625925925925,
          5217.013773148148,
          5248.451620370371,
          5301.283440806878,
          5300.189318783069,
          5247.279365079366,
          5294.390319113757,
          5293.548090277778,
          5295.262359457673,
          5296.3046461640215,
          5298.302662037037,
          5297.424768518518,
          5298.677083333333,
          5300.6984953703695,
          5301.464930555557,
          5303.454050925927,
          5029.32638888889,
          5136.271990740741,
          5251.677083333333,
          5290.933449074074,
          5303.909871031746,
          5304.078290343916,
          5301.435813492063,
          5300.798842592593,
          5299.7187169312165,
          5304.849041005291,
          5297.34837962963,
          5295.8287037037035,
          5295.492476851852,
          5296.722916666667,
          5291.329629629629,
          5295.718634259259,
          5296.618750000001,
          5302.982936507936,
          5172.245634920635,
          5283.691782407408,
          5283.257231040564,
          5281.4733272707235,
          5269.988894400353,
          5285.4494874338625,
          5287.458622685185,
          5299.219907407408,
          5300.097800925926,
          5293.835739087302,
          5324.949049272487,
          5359.676231812169,
          5400.837103174604,
          5398.635540674603,
          5401.295882936508,
          5116.06572420635,
          5030.5234375,
          5045.3978587962965,
          5047.251736111111,
          5013.100694444444,
          4999.9068287037035,
          4998.347569444445,
          5000.782291666667,
          4996.975570436507,
          5055.114583333333,
          5093.158564814815,
          5096.428819444444,
          5100.957175925926,
          5094.719212962963,
          5077.1426623774505,
          5077.1326260017895,
          5083.346283409196,
          5102.2665013227515,
          5100.251157407408,
          5101.31960978836,
          5103.085400132276,
          5080.840773809523,
          5194.7141203703695,
          5197.438657407407,
          5196.949652777778,
          5198.547222222222,
          5197.431762566137,
          5199.101066468254,
          5300.29375,
          5298.607159391534,
          5299.483432539682,
          5299.986441798942,
          5300.158730158731,
          5297.290674603174,
          5297.582341269841,
          5297.118055555556,
          5288.288078703704,
          5237.5053240740735,
          5186.00582010582,
          5150.445634920635,
          5151.585615079365,
          5144.928772597002,
          5147.333402226632,
          5142.886477623456,
          5150.645833333333,
          5146.649305555555,
          5149.5057870370365,
          5152.037037037037,
          5156.603009259259,
          5161.895833333333,
          5162.125,
          5162.125,
          5162.125,
          5162.125,
          5147.0625,
          5122.520833333333,
          5099.7625,
          5093.192013888889,
          5091.926099537038,
          5092.722354497355,
          5098.005415013227,
          5099.967137896826,
          5099.823908730159,
          5101.081597222223,
          5100.055679563492,
          5099.733010912699,
          5098.821800595238,
          5100.387152777778,
          5100.424355158731,
          5100.587549603174,
          5097.958705357142,
          5097.58382936508,
          5096.811259920635,
          5120.611979166667,
          5139.142782738095,
          5173.14505621693,
          5130.663206602086,
          5145.3380081893865,
          5025.67683531746,
          5167.517609126985,
          5170.645957341269,
          5172.18787202381,
          5172.077752976191,
          5170.056299603174,
          5169.052951388889,
          5169.194320436508,
          5171.705233134921,
          5170.076016865079,
          5169.985491071428,
          5170.050719246032,
          5170.249627976191,
          5168.890500992064,
          5167.245907738095,
          5167.659722222223,
          5168.7358630952385,
          5170.35652281746,
          5170.915922619049,
          5172.034226190476,
          5173.847966269841,
          5206.226190476191,
          5238.289930555555,
          5279.682415674603,
          5203.475942460317,
          4996.357638888889,
          5061.991079695767,
          5095.941592261905,
          5120.234623015873,
          5045.322203837829,
          5057.618427579365,
          5075.836557539683,
          5020.671254960318,
          5028.4077380952385,
          5016.893725198413,
          5174.976860119047,
          5238.729042658731,
          5275.626240079365,
          5285.9171626984125,
          5192.325148809524,
          5203.119171626985,
          5243.29079861111,
          5234.022459215168,
          5199.54487083133,
          5056.2239923463885,
          5019.041197691197,
          5024.8885356541605,
          5068.240083065083,
          5078.123943244256,
          5057.90955312049,
          5080.162574404762,
          5216.4812748015875,
          5281.436011904761,
          5295.587921626983,
          5088.112103174603,
          5233.4500248015875,
          5268.884424603174,
          5270.635292658731,
          5266.922123015873,
          5266.784722222223,
          5268.382440476191,
          5273.535094246032,
          5272.846230158731,
          5248.926669973545,
          5136.502066798942,
          5129.795221560847,
          5150.800967261905,
          5266.1385168650795,
          5264.694072420635,
          5071.136243386244,
          5029.015101410935,
          4999.613839285714,
          5065.977926587301,
          5131.368427579365,
          5169.257068452381,
          5036.8853615520275,
          5062.8082286155195,
          5198.94246031746,
          5261.485367063492,
          5351.709573412699,
          5380.299851190476,
          5249.587522045856,
          5265.718226410935,
          5240.871307319224,
          5176.140073853615,
          5168.696125440917,
          5202.800636574074,
          5242.965277777777,
          5154.883060515873,
          5095.737723214286,
          5121.399429563492,
          5179.497023809524,
          5310.401661706349,
          5331.291542658731,
          5358.154238315697,
          5307.561094576719,
          5345.582961309524,
          5246.941840277778,
          5228.8051835317465,
          5230.872974537037,
          5256.604869378308,
          5226.972552910053,
          5182.1297123015875,
          5144.605902777777,
          5028.945450286596,
          5152.933804563491,
          5210.028935185185,
          5239.950148809524,
          5027.478373015873,
          5165.414012896825,
          5075.567933802308,
          5015.602417277939,
          5001.582630621692,
          5248.351025132274,
          5271.502328593474,
          5172.787505511464,
          5080.472153328924,
          5080.643973214285,
          5111.377604166667,
          5074.316550925926,
          5103.650297619049,
          5135.594345238095,
          5133.643576388889,
          5699.441344246032,
          5680.446180555556,
          5599.865478946208,
          5239.934498450097,
          5049.746279761905,
          5376.800099206349,
          5440.1276455026455,
          5470.320849867726,
          5500.267609126985,
          5499.540426587301,
          5486.924575617285,
          5476.147789902999,
          5473.210041887126,
          5485.17757936508,
          5494.895461309524,
          5490.568659060846,
          5494.878306878308,
          5596.491980820106,
          5735.972470238095,
          5907.614211309524,
          5888.438864087301,
          5914.859598214286,
          5915.742162698413,
          6000.5397817460325,
          5997.054191468254,
          5926.096300400987,
          5956.275987900987
         ],
         "xaxis": "x",
         "yaxis": "y"
        },
        {
         "alignmentgroup": "True",
         "hovertemplate": "mean_avg_fresh_feed_tonnage_3_(t-1)=%{x}<extra></extra>",
         "legendgroup": "",
         "marker": {
          "color": "#636efa"
         },
         "name": "",
         "notched": true,
         "offsetgroup": "",
         "showlegend": false,
         "type": "box",
         "x": [
          5193.792906746032,
          5194.514260912699,
          5077.79189401455,
          5341.889963624338,
          5467.355530753968,
          5404.113020833333,
          5427.096073082011,
          5577.364484126984,
          5764.122519841269,
          5875.501612103174,
          5773.571354166666,
          5791.307291666667,
          5759.075892857142,
          5644.117063492064,
          5539.657490079365,
          5474.498635912699,
          5523.12958829365,
          5790.696077215608,
          5335.781803266178,
          5269.401594932845,
          5266.828662367724,
          5324.309275793651,
          5334.673197751323,
          5190.792728683354,
          5171.829241071428,
          5242.577504960318,
          5301.488715277778,
          5439.943080357142,
          5487.993372464726,
          5554.9456294091715,
          5611.719025573192,
          5498.110780423281,
          5439.093474426806,
          5367.657716049382,
          5451.964178240739,
          5422.604475308641,
          5384.017672508818,
          5367.977799823632,
          5402.7212604717815,
          5351.459297839506,
          5407.931960978836,
          5308.05785383598,
          5412.113128306878,
          5305.671461852191,
          5322.8336333323305,
          5266.547671030744,
          5366.879094429875,
          5584.633010912698,
          5595.133341600529,
          5573.726796737214,
          5505.133383312289,
          5408.268716767415,
          5492.299630192339,
          5611.26019817374,
          5616.874016203703,
          5574.311135912699,
          5623.16723159171,
          5544.254657186949,
          5429.356839726632,
          5298.8390376984125,
          5309.280562319625,
          5398.367243867244,
          5389.966688693251,
          5346.691902387735,
          5078.751917989418,
          5130.26883542769,
          5213.371775793651,
          5285.696428571428,
          5260.97941468254,
          5322.195684523809,
          5306.747767857142,
          5255.320064484127,
          5164.873263888889,
          5065.019990079366,
          4993.921341765873,
          5016.1713559203135,
          5035.741902657527,
          5096.374118165785,
          5023.929921737214,
          5098.797619047619,
          5304.549479166667,
          5553.690986000882,
          5565.274691358024,
          5394.186083553792,
          5137.17973159171,
          5271.778480489418,
          5214.179205246914,
          5068.442584325397,
          5084.208953373016,
          5110.402444334216,
          5100.141407627866,
          5096.867226080247,
          5104.579296186067,
          5224.08735670194,
          5215.474261463845,
          5182.886436287477,
          5233.114707341269,
          5090.322172619048,
          5028.827863205467,
          5156.944540895062,
          5271.495659722222,
          5168.556613756614,
          5065.923194995591,
          5049.884628527337,
          5053.676738866843,
          5101.55718143739,
          5132.220003858024,
          5139.427416776895,
          5140.193165784833,
          5117.872853284833,
          5259.202132936509,
          5158.966090718695,
          5083.151110559965,
          4992.698729607583,
          5208.343129960317,
          5184.821056547619,
          5259.055059523809,
          5195.200190145503,
          4996.169684193122,
          5032.582217261905,
          5038.358823853615,
          5053.120342813051,
          5046.280009920635,
          5059.20683020683,
          5290.887628141535,
          5247.207651289682,
          5143.455729166667,
          5068.146577380951,
          5169.585813492064,
          5235.66691468254,
          5042.90910218254,
          5056.21267361111,
          5108.684151785714,
          5139.495535714285,
          5180.682614087302,
          5199.187946428571,
          5158.550049603175,
          5054.296130952382,
          5049.366098985891,
          5218.025421626985,
          5400.787601962082,
          5565.005098104056,
          5650.17722111993,
          5741.195896965689,
          5742.402552058281,
          5324.480654761905,
          5292.0571291170245,
          5327.664653016737,
          5343.044714795235,
          5442.973399170274,
          5464.78209579772,
          5548.6328538359785,
          5546.018879268879,
          5381.691997167457,
          5593.803695436508,
          5593.455109126985,
          5594.397472993827,
          5517.884421847443,
          5498.350008267196,
          5554.30679563492,
          5632.476884920634,
          5623.940749007937,
          5550.766292735043,
          5147.597507536831,
          5055.9777037487975,
          5440.546538550185,
          5576.048547228234,
          5567.3749586640215,
          5552.613329475309,
          5528.309165564374,
          5520.789710097001,
          5516.009328152558,
          5476.239112103175,
          5048.282242063492,
          5168.53427303792,
          5310.2821024461655,
          5310.527361662257,
          5281.172371031746,
          5276.45486111111,
          5240.4332160894655,
          5330.00117444284,
          5344.819328703704,
          5233.765895061729,
          5479.950435405644,
          5528.359628026295,
          5571.749803841992,
          5298.140859237214,
          5221.218047288359,
          5205.266454899268,
          5104.1077056623935,
          5288.131562881563,
          5531.436879960317,
          5633.938616071428,
          5461.377777777779,
          5270.656498015873,
          5013.868551587301,
          5199.982385361552,
          5690.179411926808,
          5838.929945774835,
          5931.5240153033155,
          5876.554398966681,
          5269.418898809524,
          5329.815418320107,
          5414.206622023809,
          5485.988839285715,
          5543.441096230159,
          5587.685777667549,
          5527.1261937329655,
          5399.701592813052,
          5148.337409060848,
          5191.159889820828,
          5150.884217923281,
          5459.014384920635,
          5476.040660824515,
          5290.62497933201,
          5065.679377480159,
          5905.179216269841,
          5865.295758928572,
          5785.536830357142,
          5651.6397707231035,
          5786.095238095238,
          5428.382371582892,
          5150.283286485891,
          5123.037698412699,
          5122.0070960097,
          5061.909722222222,
          5099.294518849206,
          5101.326636904762,
          5099.547908399471,
          5099.30857308201,
          5099.546792328042,
          5099.285342261905,
          5078.515277777778,
          5045.99035218254,
          5013.157986111111,
          5000.024305555556,
          4999.256200396826,
          4999.697792658731,
          4999.538318452382,
          5000.528521825397,
          5326.1245039682535,
          5439.604538690476,
          5579.72867063492,
          5618.85402888007,
          5709.022569444444,
          5678.106302358906,
          5713.749159501764,
          5877.128375771605,
          5993.36111111111,
          5861.179894179894,
          5324.507344025573,
          5309.915702160494,
          5298.483010912699,
          5363.517319775133,
          5272.468998015873,
          5117.617311507936,
          5009.90303957231,
          5071.093543320106,
          5084.910466269841,
          4994.9534419091715,
          5054.916294642857,
          5097.173294388137,
          4998.058531746032,
          4998.661830357143,
          5057.121279761905,
          5139.854042658731,
          5210.9523671737215,
          5146.907848324515,
          5108.316330467373,
          5115.518132716049,
          4990.625992063492,
          5001.967137896826,
          5025.485491071428,
          5093.762400793651,
          5165.006200396826,
          5224.467137896826,
          5189.521453373016,
          5040.398189484126,
          5083.1781994047615,
          5029.2901785714275,
          4992.234995039682,
          4991.404389880952,
          4992.515811011905,
          4997.156063988095,
          4999.431175595238,
          4998.805431547619,
          4998.8911210317465,
          4991.397941468254,
          4991.059771825397,
          4991.799231150794,
          4998.923487103174,
          4999.609623015873,
          4999.458581349206,
          5000.179935515873,
          4999.788938492064,
          4999.012276785714,
          4998.379588293651,
          4998.690476190476,
          5000.019469246032,
          5000.3484623015875,
          5076.284598214286,
          5100.365327380951,
          5101.113219246032,
          5060.512166556437,
          4997.891245039683,
          5018.043030753968,
          5047.045014880951,
          5123.18427579365,
          5188.749751984127,
          5242.130435681217,
          5249.38498263889,
          5249.509734623017,
          5249.350818452381,
          5249.96701388889,
          5247.994667658729,
          5161.579464285714,
          4997.57527970679,
          5074.302021329365,
          5081.516617063492,
          5079.905505952382,
          5079.740823412699,
          5078.493427579365,
          5077.925223214286,
          5078.128472222223,
          5082.416583994709,
          5079.249503968254,
          5076.914324294533,
          5072.6179453262785,
          5045.605668540565,
          5016.839795524691,
          5009.448674492945,
          5042.535094246033,
          4999.827876984126,
          5049.1640625,
          4998.272693452382,
          5000.338913690476,
          5000.05964781746,
          4999.263764880952,
          4996.221478174603,
          4998.739955357144,
          5000.087053571428,
          4998.650297619047,
          4998.548363095238,
          4990.00607638889,
          4990.082217261905,
          5000.803447420635,
          4998.949652777777,
          4998.002728174603,
          4997.614583333333,
          4999.309337797619,
          5000.320746527777,
          5000.690228174603,
          4999.025297619047,
          4998.311755952381,
          4998.920882936508,
          5000.411334325397,
          4999.814360119047,
          4999.265625,
          4997.92361111111,
          4998.745411706349,
          4999.418650793651,
          5035.415302579365,
          5049.500744047619,
          5048.262028769841,
          5048.6953125,
          5049.951760912699,
          5050.3828125,
          5049.869543650794,
          5049.785342261905,
          5051.7921626984125,
          5050.486855158731,
          5051.3046875,
          5027.6177662037035,
          5021.0312086640215,
          5013.11007771164,
          5029.869345238095,
          5008.996081349206,
          4999.178621031746,
          5009.7104414682535,
          5053.134176587301,
          5087.878224206349,
          5099.095238095238,
          5098.64558531746,
          5093.379092261905,
          5071.68927744709,
          5075.994874338624,
          5086.222167107583,
          5101.799675825718,
          5114.664341831009,
          5124.459246482683,
          5145.454241071428,
          5145.430183531746,
          5145.675223214286,
          5148.338541666667,
          5148.049851190477,
          5150.229166666667,
          5140.809895833333,
          5124.878472222222,
          5107.30964781746,
          5099.176339285715,
          5107.691096230159,
          5098.233754960317,
          5114.666046626984,
          5122.406125992064,
          5148.328745039683,
          5150.853050595238,
          5149.335441468254,
          5149.138764880953,
          5150.599454365079,
          5146.383680555556,
          5107.389880952381,
          5150.70275297619,
          5151.473300137363,
          5150.992721688034,
          5153.266989087301,
          5153.006610576923,
          5150.219455891332,
          5147.26314484127,
          5147.628968253968,
          5148.998608355379,
          5149.983727402999,
          5150.2766341490305,
          5151.295262896826,
          5150.459449404762,
          5158.402281746032,
          5174.5932539682535,
          5191.130911044974,
          5200.616691468254,
          5196.535342261905,
          5189.8234126984125,
          5183.082713293651,
          5100.571056547619,
          5098.348090277778,
          5096.321924603176,
          5096.943948412699,
          5098.101190476191,
          5099.4067460317465,
          5099.410714285715,
          5100.932167658731,
          5101.827504960317,
          5101.492311507936,
          5099.570064484127,
          5097.316344246032,
          5099.699404761905,
          5099.694692460317,
          5100.141245039682,
          5100.436631944444,
          5100.532118055556,
          5099.584945436508,
          5099.456597222222,
          5096.62177579365,
          5097.572296626985,
          5099.257192460318,
          5100.275545634921,
          5100.722718253968,
          5098.741691468254,
          5099.27132936508,
          5100.04402281746,
          5100.209945436508,
          5100.408234126983,
          5100.600818452381,
          5099.475942460317,
          5102.63454861111,
          5103.258680555555,
          5102.039186507936,
          4998.395275297618,
          5000.0390625,
          5002.159722222223,
          5000.636904761905,
          5002.025297619047,
          5000.263268849206,
          5099.670014880952,
          5101.579985119048,
          5100.4093501984125,
          5100.287078373017,
          5100.703745039683,
          5100.267485119049,
          5099.131944444444,
          5096.59089781746,
          4998.240327380953,
          4998.652777777778,
          4996.812003968254,
          4996.084325396826,
          4999.702959656085,
          5000.454737103175,
          5001.6870039682535,
          5001.468625992064,
          5000.530257936508,
          5001.139012896826,
          5000.355778769842,
          5000.260168650794,
          4998.954737103174,
          4999.336557539682,
          4999.432167658731,
          5001.612661210317,
          4998.841951884921,
          5020.638310185185,
          4999.959759424603,
          5008.160528273809,
          5032.321800595238,
          5035.540364583333,
          5036.289713541667,
          5006.328722993828,
          5001.162698412699,
          4997.945917038691,
          4996.066592261905,
          4996.772817460317,
          4999.60908048115,
          4999.733630952381,
          4997.169518849206,
          5001.65587797619,
          4998.829985119047,
          4995.503720238095,
          4999.819568452381,
          5000.277033730159,
          4998.792658730159,
          4999.686879960318,
          4998.702380952381,
          5000.796006944444,
          4998.209325396826,
          4998.874627976191,
          4998.841393849206,
          4999.02802579365,
          4999.541790674603,
          4995.0865162037035,
          4994.800181878307,
          4994.810763888888,
          4994.990575396825,
          4993.379464285715,
          4990.999255952381,
          4997.561011904762,
          4999.228174603174,
          5000.011284722223,
          5000.852554563492,
          4999.619295634921,
          4998.3709077380945,
          4998.9093501984125,
          5000.062996031746,
          4998.518849206349,
          5013.45138888889,
          5036.45027281746,
          5074.737475198413,
          5100.745783730159,
          5105.08557674964,
          5079.701730991127,
          5066.133392284115,
          5079.701640490384,
          5108.7081300981035,
          5120.746086860671,
          5120.53410218254,
          5121.110367063492,
          5121.716889880952,
          5115.035714285714,
          5107.003968253968,
          5095.6505456349205,
          5086.405381944444,
          5075.700396825397,
          5079.2390873015875,
          5087.230406746032,
          5098.019345238095,
          5096.175595238095,
          5082.363715277777,
          5119.542906746032,
          5119.037698412699,
          5099.334821428572,
          5099.480158730159,
          5098.400917658731,
          5085.456473214285,
          5119.4578373015875,
          5118.79402281746,
          5119.064112103174,
          5118.240823412699,
          5117.3520585317465,
          5113.935267857142,
          5025.854648919753,
          5055.129720568783,
          5091.174735449736,
          5089.230034722223,
          5092.174107142858,
          5109.525173611111,
          5076.383432539682,
          5108.0932539682535,
          5141.369295634921,
          5174.211867559524,
          5199.265066964285,
          5201.792348710317,
          5200.588541666667,
          5198.989831349207,
          5199.003968253968,
          5200.095610119049,
          4999.751984126983,
          5098.843005952381,
          5100.540860615079,
          5101.574838789683,
          5100.2495039682535,
          5200.090153769842,
          5201.289186507937,
          5200.144469246032,
          5185.984595458554,
          5199.850942460317,
          5210.991319444445,
          5213.918526785715,
          5242.710317460317,
          5238.451512896826,
          5236.220858134921,
          5243.222098214286,
          5246.243675595239,
          5248.318948412699,
          5247.3260168650795,
          5247.7661210317465,
          5248.220610119047,
          5250.0859375,
          5248.294642857142,
          5234.034722222223,
          5229.051215277777,
          5092.328180114639,
          5071.885347773369,
          5046.824776785714,
          5078.284598214285,
          5084.643353174603,
          5159.056671626983,
          5161.150793650794,
          5242.385044642858,
          5240.842757936508,
          5177.603519069665,
          4996.037366279554,
          5135.491195436508,
          5147.1218998015875,
          5148.613715277778,
          5189.661334325397,
          5157.10441468254,
          5113.635540674603,
          5112.063244047618,
          5197.515128968254,
          5188.763020833333,
          5182.418154761905,
          5184.619171626983,
          5190.104786706349,
          5211.372767857142,
          5244.01277281746,
          5280.263144841269,
          5299.213665674603,
          5295.001116071428,
          5295.067336309524,
          5295.577380952381,
          5296.095858134921,
          5296.038814484127,
          5079.716765873016,
          5277.148375496032,
          5357.665860615079,
          5388.808345734126,
          5330.938368055555,
          5263.515873015873,
          5198.129836309524,
          5199.994667658731,
          5199.941096230159,
          5222.835813492064,
          5250.330233134921,
          5250.170138888889,
          5250.277653769841,
          5250.258060515873,
          5183.305224867726,
          5117.986648478836,
          5279.971106150794,
          5312.844618055556,
          5340.768229166667,
          5317.637745260141,
          5109.513172398588,
          5152.115947420635,
          5091.705632716049,
          5099.435639880951,
          5147.59660218254,
          5007.4108355379185,
          5108.849586640212,
          5159.1224509479725,
          5167.947944223986,
          5164.06785989859,
          5128.071833664021,
          5102.268193342152,
          5104.481486992946,
          5139.367733134921,
          5140.135416666667,
          5148.3937251984125,
          5240.36892361111,
          5250.243220899471,
          4991.295014880951,
          4992.159226190476,
          4993.678695436508,
          5048.600597993827,
          5140.691220238095,
          5199.008928571428,
          5199.719370039682,
          5188.323536706349,
          5002.234567901235,
          5048.151000330688,
          5088.385006486569,
          5016.131534264347,
          5011.875496031746,
          5085.93464781746,
          5152.45771329365,
          5218.133308531746,
          5277.8203125,
          5296.637152777777,
          5269.284846230159,
          5171.462226430976,
          5127.837301587301,
          5180.487103174603,
          5191.845362103174,
          5193.635003306878,
          5191.724537037037,
          5207.523148148149,
          5239.293278769841,
          5272.6202876984125,
          5288.910466269841,
          5007.729887820514,
          5174.465153769841,
          5248.434895833333,
          5265.356150793651,
          5287.054935515874,
          5293.286334325397,
          5219.259987408425,
          5067.540989392553,
          5317.192274305556,
          5314.8322172619055,
          5319.329861111112,
          5318.543278769841,
          5318.970362103174,
          5318.918898809523,
          5314.701388888889,
          5288.371279761905,
          5261.253968253968,
          5260.040426587301,
          5222.6498704806,
          5317.426959325397,
          5311.540674603174,
          5289.780726410933,
          5355.495101686508,
          5389.695870535714,
          5487.157738095238,
          5165.597594246032,
          5190.107762896826,
          5259.847346230159,
          5293.96912202381,
          5300.196180555555,
          5296.014136904762,
          5098.838405257936,
          5141.438678075397,
          5091.4354662698415,
          5054.653893849206,
          5094.593129960317,
          5071.030505952381,
          5024.12529348545,
          5075.79689566799,
          5096.422061011905,
          5100.567832341269,
          5131.535218253968,
          5149.563392857143,
          5106.772821969697,
          5036.3008477633475,
          4992.889116612554,
          5015.136780753968,
          5065.85726686508,
          5094.502418154762,
          5099.71769593254,
          5099.029947916667,
          5099.063740079365,
          5098.998015873017,
          5090.105530753968,
          5072.9104910714295,
          5230.550223214286,
          5247.71875,
          5249.63777281746,
          5250.8666914682535,
          5251.399057539683,
          5250.525793650794,
          5246.353546626983,
          5213.972098214285,
          5165.83767361111,
          5093.44816468254,
          5074.605902777777,
          5071.48611111111,
          5051.686879960317,
          5012.130208333333,
          5137.603113977072,
          5051.816110008819,
          5028.139260912699,
          5127.3738839285725,
          5158.28658234127,
          5148.7859623015875,
          5148.879092261905,
          5133.924603174603,
          5162.598958333333,
          5140.860243055556,
          5064.587797619049,
          4998.737103174603,
          5035.451264880953,
          5052.059027777777,
          5120.168278769841,
          5123.573040674603,
          5074.7843501984125,
          5084.736359126985,
          5112.849206349206,
          5110.1870039682535,
          5044.975570436508,
          5023.707465277778,
          5170.574528769841,
          5295.640459656085,
          5254.455439814815,
          5234.353381283068,
          5197.260788690476,
          5227.337301587301,
          5191.4343998015875,
          5105.415426587301,
          5006.381696428572,
          5073.1166914682535,
          5105.37177579365,
          5108.7062251984125,
          5147.751240079365,
          5190.9656498015875,
          5207.269799933863,
          5057.478950466972,
          5022.8993787077125,
          5157.173239087301,
          5005.633077050265,
          5071.796544312169,
          5125.151331018518,
          5069.611003637566,
          5046.751364087301,
          5104.107142857142,
          5136.883804563492,
          5190.28658234127,
          5252.360863095238,
          5279.213045634921,
          5258.192708333333,
          5177.18005952381,
          5081.8546626984125,
          5072.690476190476,
          5132.201884920635,
          5190.671378968254,
          5134.751657196969,
          5023.116116522367,
          5299.747767857144,
          5296.652653769841,
          5261.061631944444,
          5134.7156498015875,
          5032.569816468254,
          5106.509176587301,
          5236.487847222222,
          5274.321676587301,
          5249.594618055556,
          5194.96267361111,
          5007.168278769841,
          5052.654017857142,
          5169.143256723986,
          5173.8226218033515,
          5207.942909501763,
          5210.171304563492,
          5322.101438492064,
          5196.251612103174,
          5189.547619047619,
          5154.986855158731,
          5074.658978174603,
          4995.351934523809,
          5140.554563492064,
          5122.236235119047,
          5105.176697530864,
          5077.540536816578,
          5147.398248607103,
          5173.517967372134,
          5201.146081349206,
          5203.453000992064,
          5201.160838293651,
          5199.843129960318,
          5062.824900793651,
          5128.812251984127,
          5196.613343253968,
          5200.140625,
          5200.2937748015875,
          5198.51277281746,
          5198.485243055556,
          5200.347346230159,
          5201.100942460318,
          5200.55964781746,
          5199.298735119049,
          5188.720734126985,
          5096.453869047619,
          5015.007688492064,
          5117.922838060859,
          5188.037643298059,
          5194.329406415343,
          5195.512951940035,
          5195.183352623458,
          5197.074266975309,
          5199.192942570547,
          5171.942584325397,
          5104.710565476191,
          5064.423735119049,
          5060.808746693122,
          5120.884887566138,
          5160.4420552248675,
          5193.996155753968,
          5200.486607142858,
          5199.664806547619,
          5201.379588293651,
          5204.523933531746,
          5201.561383928572,
          5160.855406746032,
          5159.828993055556,
          5220.476438492064,
          5218.23722718254,
          5217.516493055555,
          5214.290674603174,
          5210.422991071428,
          5087.363095238095,
          5000.508556547619,
          4993.968874007936,
          5013.30546186067,
          5015.6984430114635,
          5067.58771494709,
          4997.527447089947,
          5086.693452380953,
          5082.117063492064,
          5068.714285714286,
          5056.51669973545,
          5061.934358465609,
          5083.776124338625,
          5096.892526455026,
          5071.767587081129,
          5157.952504960317,
          5177.727086089065,
          5176.095086529983,
          5176.44323467813,
          5193.135584766314,
          4992.4561517957345,
          5045.835279882155,
          5055.6712156285075,
          5039.6762363215485,
          5195.025958994709,
          5188.546764770723,
          5075.466344246031,
          5142.678158068783,
          5200.551463293651,
          5199.495907738095,
          5195.363591269841,
          5156.31212797619,
          5059.194361772486,
          5032.114500661376,
          5149.156498015873,
          4991.823330026455,
          4990.766658399471,
          4996.090525793651,
          4995.793526785715,
          5064.846726190476,
          5047.8343667328045,
          5096.709642305997,
          5036.859250992064,
          5000.119543650794,
          5000.519221230159,
          4992.784846230158,
          5000.240079365079,
          5000.0994543650795,
          4998.063740079365,
          4997.337673611112,
          4996.4500248015875,
          4998.593874007936,
          4999.413566468254,
          5036.246651785715,
          4994.86545138889,
          5073.731646825397,
          5101.353918650794,
          5101.204861111111,
          5101.64384920635,
          5101.984375,
          5002.001446759259,
          5014.56535218254,
          5025.409536210318,
          5070.081721230159,
          5105.243427579365,
          5123.2156498015875,
          5138.605530753968,
          5148.208209325397,
          5048.591517857142,
          5048.3130787037035,
          4997.752314814815,
          4998.21701388889,
          5201.136036706349,
          5195.413070436508,
          5197.3755787037035,
          5193.298354828043,
          5095.069072420635,
          5013.142691798942,
          5004.408564814815,
          4999.801504629629,
          4998.572800925926,
          4992.811226851852,
          4994.966550925926,
          4998.499884259259,
          4996.725347222222,
          5000.694031084656,
          5008.849123677249,
          5063.0519675925925,
          5144.400099206348,
          5225.646626984127,
          5268.409143518518,
          5295.994419642858,
          5294.119419642858,
          5291.834449404762,
          5294.55753968254,
          5232.774900793651,
          5022.17585978836,
          5341.097222222222,
          5024.117777954734,
          5154.802285093075,
          5148.990993028658,
          5177.347292631833,
          5047.759358465609,
          5287.1724537037035,
          5349.319444444444,
          5004.991666666667,
          5199.812562003968,
          5209.694444444444,
          5052.314732142856,
          5017.873883928572,
          4997.098668981482,
          4998.1187582671955,
          5014.38244047619,
          5050.241195436506,
          5199.262152777777,
          5197.283978174603,
          5196.2729414682535,
          5201.363839285714,
          5199.452504960317,
          5069.524884259259,
          5056.867931547619,
          5184.337177579365,
          5149.680927579365,
          5201.799713403879,
          5207.056051587301,
          5228.453000992064,
          5207.697395833333,
          5054.3041914682535,
          5143.319692460317,
          5186.654885912699,
          5116.605158730159,
          5092.700396825397,
          5113.180183531746,
          5106.108506944444,
          5187.041666666667,
          5322.644965277777,
          5370.350322420635,
          5393.132688492064,
          5398.991071428572,
          5378.187127976191,
          5317.901413690476,
          5235.165054563492,
          5247.714006696428,
          5314.318638392856,
          5365.240513392856,
          5410.047495039682,
          5443.592509920634,
          5478.730158730159,
          5499.626488095238,
          5454.064484126983,
          5386.866939484126,
          5461.015252976191,
          5499.765873015873,
          5508.477306547618,
          5523.637152777777,
          5552.6515376984125,
          5577.915922619047,
          5605.145709325397,
          5609.859250992063,
          5607.359126984126,
          5128.161045725108,
          5293.249463383839,
          5466.682043650794,
          5515.458209325397,
          5434.047743055556,
          5366.589905753968,
          5338.483134920635,
          5390.959915123457,
          5456.334915123457,
          5484.893818893298,
          5497.808779761905,
          5500.96701388889,
          5500.731770833333,
          5499.541418650794,
          5499.226314484127,
          5498.973958333335,
          5473.106619268078,
          5477.256668871253,
          5454.044877094356,
          5481.688753858024,
          5441.849220127866,
          5415.251240079365,
          5356.952380952381,
          5280.24469521605,
          5155.758611662258,
          5042.911141424162,
          5041.957341269841,
          5091.801173941799,
          5099.182043650794,
          5098.17013888889,
          5032.80303030303,
          4999.449032738095,
          5018.341517857143,
          5084.209945436509,
          5135.65339781746,
          5137.671130952382,
          5102.241691468254,
          5051.4536210317465,
          5017.632936507937,
          5000.427827380953,
          5023.0551835317465,
          5051.021825396826,
          5109.647445436508,
          5152.73152281746,
          5200.316964285715,
          5188.863219246032,
          5357.502108134921,
          5478.12326388889,
          5369.447098214286,
          5202.082514880953,
          5035.073834325397,
          4999.441096230159,
          5045.578373015873,
          5079.71875,
          5080.299851190476,
          5034.754092261905,
          5000.849082341269,
          5000.225322420635,
          4998.203621031746,
          4998.980034722222,
          4999.143601190476,
          4999.523685515873,
          4997.8598710317465,
          4997.86222718254,
          5077.749007936508,
          5145.441344246032,
          5197.555927579365,
          5199.821304563492,
          5198.060143849206,
          5195.985119047618,
          5186.383060515873,
          5136.942336309524,
          5069.16902281746,
          5012.109623015873,
          4997.232886904762,
          5199.736359126984,
          5200.245163690476,
          5199.091393849206,
          5199.457093253968,
          4996.947296626985,
          4997.841145833333,
          4998.035590277777,
          5050.074925595239,
          5047.411706349208,
          4991.120461309524,
          5046.064360119048,
          5068.31460813492,
          4996.637152777777,
          4996.591765873017,
          4996.725046847444,
          5001.721574625221,
          5001.7434000220455,
          5001.730778769841,
          5261.424843674845,
          5302.171875,
          5278.002232142858,
          5242.392237103174,
          5165.049851190476,
          5081.103794642857,
          5014.459449404762,
          5100.58771494709,
          5096.349495701058,
          5048.7443369709,
          5030.102182539683,
          5032.986483134921,
          5079.093625992064,
          5095.884424603175,
          5098.535962301587,
          5092.829613095238,
          5004.766121031746,
          4998.432716049382,
          5015.300223214285,
          5035.038070436508,
          5103.336805555556,
          5104.81423611111,
          5099.883680555556,
          5101.997106481482,
          5093.20419973545,
          5299.473148148148,
          5299.855191798942,
          5299.382208994709,
          5293.768518518518,
          5282.476231812169,
          5210.110325727514,
          5148.547743055556,
          5099.484375,
          5140.240162037037,
          5173.600694444444,
          5212.295138888888,
          5253.287615740741,
          5321.188888888889,
          5378.21875,
          5372.971527777777,
          5077.398466675565,
          5298.630720899471,
          5300.878571428572,
          5301.264219576719,
          5300.015873015873,
          5299.305555555556,
          5298.479166666667,
          5296.539351851851,
          5296.0983796296305,
          5287.737268518518,
          5276.700810185185,
          5264.923726851852,
          5268.5053240740735,
          5254.93265542328,
          5245.592724867725,
          5263.650595238095,
          5255.148349104599,
          5280.188549721884,
          5277.8464200922535,
          5301.627733686067,
          5300.587301587301,
          5279.730249669312,
          5263.225992063492,
          5240.632242063492,
          5239.345775462963,
          5243.752314814815,
          5253.8275462962965,
          5260.295717592592,
          5272.854976851852,
          5286.46087962963,
          5300.845717592593,
          5298.129398148148,
          5293.697337962963,
          5290.068865740741,
          5290.661226851852,
          5291.681365740741,
          5296.125248015873,
          5295.8408730158735,
          5300.710548941799,
          5125.396874999999,
          5090.182291666667,
          5053.265625,
          5194.847222222223,
          5196.116898148149,
          5195.346064814815,
          5142.082754629629,
          5059.943287037037,
          5001.20138888889,
          5004.002314814815,
          5001.194444444444,
          5000.464583333333,
          4998.494560185186,
          5000.486226851852,
          4996.537185846561,
          4996.825082671959,
          4994.94423776455,
          5000.889632936508,
          5000.625,
          5002.182002314815,
          4997.380787037037,
          4998.09375,
          4994.860532407408,
          5007.567824074074,
          5016.539583333334,
          5039.847123015873,
          5063.646114417989,
          5120.18361441799,
          5166.973296957673,
          5202.949652777778,
          5199.665509259259,
          5196.311921296296,
          5196.444444444444,
          5200.591782407407,
          5202.625925925925,
          5217.013773148148,
          5248.451620370371,
          5301.283440806878,
          5300.189318783069,
          5247.279365079366,
          5294.390319113757,
          5293.548090277778,
          5295.262359457673,
          5296.3046461640215,
          5298.302662037037,
          5297.424768518518,
          5298.677083333333,
          5300.6984953703695,
          5301.464930555557,
          5303.454050925927,
          5029.32638888889,
          5136.271990740741,
          5251.677083333333,
          5290.933449074074,
          5303.909871031746,
          5304.078290343916,
          5301.435813492063,
          5300.798842592593,
          5299.7187169312165,
          5304.849041005291,
          5297.34837962963,
          5295.8287037037035,
          5295.492476851852,
          5296.722916666667,
          5291.329629629629,
          5295.718634259259,
          5296.618750000001,
          5302.982936507936,
          5172.245634920635,
          5283.691782407408,
          5283.257231040564,
          5281.4733272707235,
          5269.988894400353,
          5285.4494874338625,
          5287.458622685185,
          5299.219907407408,
          5300.097800925926,
          5293.835739087302,
          5324.949049272487,
          5359.676231812169,
          5400.837103174604,
          5398.635540674603,
          5401.295882936508,
          5116.06572420635,
          5030.5234375,
          5045.3978587962965,
          5047.251736111111,
          5013.100694444444,
          4999.9068287037035,
          4998.347569444445,
          5000.782291666667,
          4996.975570436507,
          5055.114583333333,
          5093.158564814815,
          5096.428819444444,
          5100.957175925926,
          5094.719212962963,
          5077.1426623774505,
          5077.1326260017895,
          5083.346283409196,
          5102.2665013227515,
          5100.251157407408,
          5101.31960978836,
          5103.085400132276,
          5080.840773809523,
          5194.7141203703695,
          5197.438657407407,
          5196.949652777778,
          5198.547222222222,
          5197.431762566137,
          5199.101066468254,
          5300.29375,
          5298.607159391534,
          5299.483432539682,
          5299.986441798942,
          5300.158730158731,
          5297.290674603174,
          5297.582341269841,
          5297.118055555556,
          5288.288078703704,
          5237.5053240740735,
          5186.00582010582,
          5150.445634920635,
          5151.585615079365,
          5144.928772597002,
          5147.333402226632,
          5142.886477623456,
          5150.645833333333,
          5146.649305555555,
          5149.5057870370365,
          5152.037037037037,
          5156.603009259259,
          5161.895833333333,
          5162.125,
          5162.125,
          5162.125,
          5162.125,
          5147.0625,
          5122.520833333333,
          5099.7625,
          5093.192013888889,
          5091.926099537038,
          5092.722354497355,
          5098.005415013227,
          5099.967137896826,
          5099.823908730159,
          5101.081597222223,
          5100.055679563492,
          5099.733010912699,
          5098.821800595238,
          5100.387152777778,
          5100.424355158731,
          5100.587549603174,
          5097.958705357142,
          5097.58382936508,
          5096.811259920635,
          5120.611979166667,
          5139.142782738095,
          5173.14505621693,
          5130.663206602086,
          5145.3380081893865,
          5025.67683531746,
          5167.517609126985,
          5170.645957341269,
          5172.18787202381,
          5172.077752976191,
          5170.056299603174,
          5169.052951388889,
          5169.194320436508,
          5171.705233134921,
          5170.076016865079,
          5169.985491071428,
          5170.050719246032,
          5170.249627976191,
          5168.890500992064,
          5167.245907738095,
          5167.659722222223,
          5168.7358630952385,
          5170.35652281746,
          5170.915922619049,
          5172.034226190476,
          5173.847966269841,
          5206.226190476191,
          5238.289930555555,
          5279.682415674603,
          5203.475942460317,
          4996.357638888889,
          5061.991079695767,
          5095.941592261905,
          5120.234623015873,
          5045.322203837829,
          5057.618427579365,
          5075.836557539683,
          5020.671254960318,
          5028.4077380952385,
          5016.893725198413,
          5174.976860119047,
          5238.729042658731,
          5275.626240079365,
          5285.9171626984125,
          5192.325148809524,
          5203.119171626985,
          5243.29079861111,
          5234.022459215168,
          5199.54487083133,
          5056.2239923463885,
          5019.041197691197,
          5024.8885356541605,
          5068.240083065083,
          5078.123943244256,
          5057.90955312049,
          5080.162574404762,
          5216.4812748015875,
          5281.436011904761,
          5295.587921626983,
          5088.112103174603,
          5233.4500248015875,
          5268.884424603174,
          5270.635292658731,
          5266.922123015873,
          5266.784722222223,
          5268.382440476191,
          5273.535094246032,
          5272.846230158731,
          5248.926669973545,
          5136.502066798942,
          5129.795221560847,
          5150.800967261905,
          5266.1385168650795,
          5264.694072420635,
          5071.136243386244,
          5029.015101410935,
          4999.613839285714,
          5065.977926587301,
          5131.368427579365,
          5169.257068452381,
          5036.8853615520275,
          5062.8082286155195,
          5198.94246031746,
          5261.485367063492,
          5351.709573412699,
          5380.299851190476,
          5249.587522045856,
          5265.718226410935,
          5240.871307319224,
          5176.140073853615,
          5168.696125440917,
          5202.800636574074,
          5242.965277777777,
          5154.883060515873,
          5095.737723214286,
          5121.399429563492,
          5179.497023809524,
          5310.401661706349,
          5331.291542658731,
          5358.154238315697,
          5307.561094576719,
          5345.582961309524,
          5246.941840277778,
          5228.8051835317465,
          5230.872974537037,
          5256.604869378308,
          5226.972552910053,
          5182.1297123015875,
          5144.605902777777,
          5028.945450286596,
          5152.933804563491,
          5210.028935185185,
          5239.950148809524,
          5027.478373015873,
          5165.414012896825,
          5075.567933802308,
          5015.602417277939,
          5001.582630621692,
          5248.351025132274,
          5271.502328593474,
          5172.787505511464,
          5080.472153328924,
          5080.643973214285,
          5111.377604166667,
          5074.316550925926,
          5103.650297619049,
          5135.594345238095,
          5133.643576388889,
          5699.441344246032,
          5680.446180555556,
          5599.865478946208,
          5239.934498450097,
          5049.746279761905,
          5376.800099206349,
          5440.1276455026455,
          5470.320849867726,
          5500.267609126985,
          5499.540426587301,
          5486.924575617285,
          5476.147789902999,
          5473.210041887126,
          5485.17757936508,
          5494.895461309524,
          5490.568659060846,
          5494.878306878308,
          5596.491980820106,
          5735.972470238095,
          5907.614211309524,
          5888.438864087301,
          5914.859598214286,
          5915.742162698413,
          6000.5397817460325,
          5997.054191468254,
          5926.096300400987,
          5956.275987900987
         ],
         "xaxis": "x2",
         "yaxis": "y2"
        }
       ],
       "layout": {
        "barmode": "relative",
        "legend": {
         "tracegroupgap": 0
        },
        "margin": {
         "t": 60
        },
        "template": {
         "data": {
          "bar": [
           {
            "error_x": {
             "color": "#2a3f5f"
            },
            "error_y": {
             "color": "#2a3f5f"
            },
            "marker": {
             "line": {
              "color": "#E5ECF6",
              "width": 0.5
             },
             "pattern": {
              "fillmode": "overlay",
              "size": 10,
              "solidity": 0.2
             }
            },
            "type": "bar"
           }
          ],
          "barpolar": [
           {
            "marker": {
             "line": {
              "color": "#E5ECF6",
              "width": 0.5
             },
             "pattern": {
              "fillmode": "overlay",
              "size": 10,
              "solidity": 0.2
             }
            },
            "type": "barpolar"
           }
          ],
          "carpet": [
           {
            "aaxis": {
             "endlinecolor": "#2a3f5f",
             "gridcolor": "white",
             "linecolor": "white",
             "minorgridcolor": "white",
             "startlinecolor": "#2a3f5f"
            },
            "baxis": {
             "endlinecolor": "#2a3f5f",
             "gridcolor": "white",
             "linecolor": "white",
             "minorgridcolor": "white",
             "startlinecolor": "#2a3f5f"
            },
            "type": "carpet"
           }
          ],
          "choropleth": [
           {
            "colorbar": {
             "outlinewidth": 0,
             "ticks": ""
            },
            "type": "choropleth"
           }
          ],
          "contour": [
           {
            "colorbar": {
             "outlinewidth": 0,
             "ticks": ""
            },
            "colorscale": [
             [
              0,
              "#0d0887"
             ],
             [
              0.1111111111111111,
              "#46039f"
             ],
             [
              0.2222222222222222,
              "#7201a8"
             ],
             [
              0.3333333333333333,
              "#9c179e"
             ],
             [
              0.4444444444444444,
              "#bd3786"
             ],
             [
              0.5555555555555556,
              "#d8576b"
             ],
             [
              0.6666666666666666,
              "#ed7953"
             ],
             [
              0.7777777777777778,
              "#fb9f3a"
             ],
             [
              0.8888888888888888,
              "#fdca26"
             ],
             [
              1,
              "#f0f921"
             ]
            ],
            "type": "contour"
           }
          ],
          "contourcarpet": [
           {
            "colorbar": {
             "outlinewidth": 0,
             "ticks": ""
            },
            "type": "contourcarpet"
           }
          ],
          "heatmap": [
           {
            "colorbar": {
             "outlinewidth": 0,
             "ticks": ""
            },
            "colorscale": [
             [
              0,
              "#0d0887"
             ],
             [
              0.1111111111111111,
              "#46039f"
             ],
             [
              0.2222222222222222,
              "#7201a8"
             ],
             [
              0.3333333333333333,
              "#9c179e"
             ],
             [
              0.4444444444444444,
              "#bd3786"
             ],
             [
              0.5555555555555556,
              "#d8576b"
             ],
             [
              0.6666666666666666,
              "#ed7953"
             ],
             [
              0.7777777777777778,
              "#fb9f3a"
             ],
             [
              0.8888888888888888,
              "#fdca26"
             ],
             [
              1,
              "#f0f921"
             ]
            ],
            "type": "heatmap"
           }
          ],
          "heatmapgl": [
           {
            "colorbar": {
             "outlinewidth": 0,
             "ticks": ""
            },
            "colorscale": [
             [
              0,
              "#0d0887"
             ],
             [
              0.1111111111111111,
              "#46039f"
             ],
             [
              0.2222222222222222,
              "#7201a8"
             ],
             [
              0.3333333333333333,
              "#9c179e"
             ],
             [
              0.4444444444444444,
              "#bd3786"
             ],
             [
              0.5555555555555556,
              "#d8576b"
             ],
             [
              0.6666666666666666,
              "#ed7953"
             ],
             [
              0.7777777777777778,
              "#fb9f3a"
             ],
             [
              0.8888888888888888,
              "#fdca26"
             ],
             [
              1,
              "#f0f921"
             ]
            ],
            "type": "heatmapgl"
           }
          ],
          "histogram": [
           {
            "marker": {
             "pattern": {
              "fillmode": "overlay",
              "size": 10,
              "solidity": 0.2
             }
            },
            "type": "histogram"
           }
          ],
          "histogram2d": [
           {
            "colorbar": {
             "outlinewidth": 0,
             "ticks": ""
            },
            "colorscale": [
             [
              0,
              "#0d0887"
             ],
             [
              0.1111111111111111,
              "#46039f"
             ],
             [
              0.2222222222222222,
              "#7201a8"
             ],
             [
              0.3333333333333333,
              "#9c179e"
             ],
             [
              0.4444444444444444,
              "#bd3786"
             ],
             [
              0.5555555555555556,
              "#d8576b"
             ],
             [
              0.6666666666666666,
              "#ed7953"
             ],
             [
              0.7777777777777778,
              "#fb9f3a"
             ],
             [
              0.8888888888888888,
              "#fdca26"
             ],
             [
              1,
              "#f0f921"
             ]
            ],
            "type": "histogram2d"
           }
          ],
          "histogram2dcontour": [
           {
            "colorbar": {
             "outlinewidth": 0,
             "ticks": ""
            },
            "colorscale": [
             [
              0,
              "#0d0887"
             ],
             [
              0.1111111111111111,
              "#46039f"
             ],
             [
              0.2222222222222222,
              "#7201a8"
             ],
             [
              0.3333333333333333,
              "#9c179e"
             ],
             [
              0.4444444444444444,
              "#bd3786"
             ],
             [
              0.5555555555555556,
              "#d8576b"
             ],
             [
              0.6666666666666666,
              "#ed7953"
             ],
             [
              0.7777777777777778,
              "#fb9f3a"
             ],
             [
              0.8888888888888888,
              "#fdca26"
             ],
             [
              1,
              "#f0f921"
             ]
            ],
            "type": "histogram2dcontour"
           }
          ],
          "mesh3d": [
           {
            "colorbar": {
             "outlinewidth": 0,
             "ticks": ""
            },
            "type": "mesh3d"
           }
          ],
          "parcoords": [
           {
            "line": {
             "colorbar": {
              "outlinewidth": 0,
              "ticks": ""
             }
            },
            "type": "parcoords"
           }
          ],
          "pie": [
           {
            "automargin": true,
            "type": "pie"
           }
          ],
          "scatter": [
           {
            "marker": {
             "colorbar": {
              "outlinewidth": 0,
              "ticks": ""
             }
            },
            "type": "scatter"
           }
          ],
          "scatter3d": [
           {
            "line": {
             "colorbar": {
              "outlinewidth": 0,
              "ticks": ""
             }
            },
            "marker": {
             "colorbar": {
              "outlinewidth": 0,
              "ticks": ""
             }
            },
            "type": "scatter3d"
           }
          ],
          "scattercarpet": [
           {
            "marker": {
             "colorbar": {
              "outlinewidth": 0,
              "ticks": ""
             }
            },
            "type": "scattercarpet"
           }
          ],
          "scattergeo": [
           {
            "marker": {
             "colorbar": {
              "outlinewidth": 0,
              "ticks": ""
             }
            },
            "type": "scattergeo"
           }
          ],
          "scattergl": [
           {
            "marker": {
             "colorbar": {
              "outlinewidth": 0,
              "ticks": ""
             }
            },
            "type": "scattergl"
           }
          ],
          "scattermapbox": [
           {
            "marker": {
             "colorbar": {
              "outlinewidth": 0,
              "ticks": ""
             }
            },
            "type": "scattermapbox"
           }
          ],
          "scatterpolar": [
           {
            "marker": {
             "colorbar": {
              "outlinewidth": 0,
              "ticks": ""
             }
            },
            "type": "scatterpolar"
           }
          ],
          "scatterpolargl": [
           {
            "marker": {
             "colorbar": {
              "outlinewidth": 0,
              "ticks": ""
             }
            },
            "type": "scatterpolargl"
           }
          ],
          "scatterternary": [
           {
            "marker": {
             "colorbar": {
              "outlinewidth": 0,
              "ticks": ""
             }
            },
            "type": "scatterternary"
           }
          ],
          "surface": [
           {
            "colorbar": {
             "outlinewidth": 0,
             "ticks": ""
            },
            "colorscale": [
             [
              0,
              "#0d0887"
             ],
             [
              0.1111111111111111,
              "#46039f"
             ],
             [
              0.2222222222222222,
              "#7201a8"
             ],
             [
              0.3333333333333333,
              "#9c179e"
             ],
             [
              0.4444444444444444,
              "#bd3786"
             ],
             [
              0.5555555555555556,
              "#d8576b"
             ],
             [
              0.6666666666666666,
              "#ed7953"
             ],
             [
              0.7777777777777778,
              "#fb9f3a"
             ],
             [
              0.8888888888888888,
              "#fdca26"
             ],
             [
              1,
              "#f0f921"
             ]
            ],
            "type": "surface"
           }
          ],
          "table": [
           {
            "cells": {
             "fill": {
              "color": "#EBF0F8"
             },
             "line": {
              "color": "white"
             }
            },
            "header": {
             "fill": {
              "color": "#C8D4E3"
             },
             "line": {
              "color": "white"
             }
            },
            "type": "table"
           }
          ]
         },
         "layout": {
          "annotationdefaults": {
           "arrowcolor": "#2a3f5f",
           "arrowhead": 0,
           "arrowwidth": 1
          },
          "autotypenumbers": "strict",
          "coloraxis": {
           "colorbar": {
            "outlinewidth": 0,
            "ticks": ""
           }
          },
          "colorscale": {
           "diverging": [
            [
             0,
             "#8e0152"
            ],
            [
             0.1,
             "#c51b7d"
            ],
            [
             0.2,
             "#de77ae"
            ],
            [
             0.3,
             "#f1b6da"
            ],
            [
             0.4,
             "#fde0ef"
            ],
            [
             0.5,
             "#f7f7f7"
            ],
            [
             0.6,
             "#e6f5d0"
            ],
            [
             0.7,
             "#b8e186"
            ],
            [
             0.8,
             "#7fbc41"
            ],
            [
             0.9,
             "#4d9221"
            ],
            [
             1,
             "#276419"
            ]
           ],
           "sequential": [
            [
             0,
             "#0d0887"
            ],
            [
             0.1111111111111111,
             "#46039f"
            ],
            [
             0.2222222222222222,
             "#7201a8"
            ],
            [
             0.3333333333333333,
             "#9c179e"
            ],
            [
             0.4444444444444444,
             "#bd3786"
            ],
            [
             0.5555555555555556,
             "#d8576b"
            ],
            [
             0.6666666666666666,
             "#ed7953"
            ],
            [
             0.7777777777777778,
             "#fb9f3a"
            ],
            [
             0.8888888888888888,
             "#fdca26"
            ],
            [
             1,
             "#f0f921"
            ]
           ],
           "sequentialminus": [
            [
             0,
             "#0d0887"
            ],
            [
             0.1111111111111111,
             "#46039f"
            ],
            [
             0.2222222222222222,
             "#7201a8"
            ],
            [
             0.3333333333333333,
             "#9c179e"
            ],
            [
             0.4444444444444444,
             "#bd3786"
            ],
            [
             0.5555555555555556,
             "#d8576b"
            ],
            [
             0.6666666666666666,
             "#ed7953"
            ],
            [
             0.7777777777777778,
             "#fb9f3a"
            ],
            [
             0.8888888888888888,
             "#fdca26"
            ],
            [
             1,
             "#f0f921"
            ]
           ]
          },
          "colorway": [
           "#636efa",
           "#EF553B",
           "#00cc96",
           "#ab63fa",
           "#FFA15A",
           "#19d3f3",
           "#FF6692",
           "#B6E880",
           "#FF97FF",
           "#FECB52"
          ],
          "font": {
           "color": "#2a3f5f"
          },
          "geo": {
           "bgcolor": "white",
           "lakecolor": "white",
           "landcolor": "#E5ECF6",
           "showlakes": true,
           "showland": true,
           "subunitcolor": "white"
          },
          "hoverlabel": {
           "align": "left"
          },
          "hovermode": "closest",
          "mapbox": {
           "style": "light"
          },
          "paper_bgcolor": "white",
          "plot_bgcolor": "#E5ECF6",
          "polar": {
           "angularaxis": {
            "gridcolor": "white",
            "linecolor": "white",
            "ticks": ""
           },
           "bgcolor": "#E5ECF6",
           "radialaxis": {
            "gridcolor": "white",
            "linecolor": "white",
            "ticks": ""
           }
          },
          "scene": {
           "xaxis": {
            "backgroundcolor": "#E5ECF6",
            "gridcolor": "white",
            "gridwidth": 2,
            "linecolor": "white",
            "showbackground": true,
            "ticks": "",
            "zerolinecolor": "white"
           },
           "yaxis": {
            "backgroundcolor": "#E5ECF6",
            "gridcolor": "white",
            "gridwidth": 2,
            "linecolor": "white",
            "showbackground": true,
            "ticks": "",
            "zerolinecolor": "white"
           },
           "zaxis": {
            "backgroundcolor": "#E5ECF6",
            "gridcolor": "white",
            "gridwidth": 2,
            "linecolor": "white",
            "showbackground": true,
            "ticks": "",
            "zerolinecolor": "white"
           }
          },
          "shapedefaults": {
           "line": {
            "color": "#2a3f5f"
           }
          },
          "ternary": {
           "aaxis": {
            "gridcolor": "white",
            "linecolor": "white",
            "ticks": ""
           },
           "baxis": {
            "gridcolor": "white",
            "linecolor": "white",
            "ticks": ""
           },
           "bgcolor": "#E5ECF6",
           "caxis": {
            "gridcolor": "white",
            "linecolor": "white",
            "ticks": ""
           }
          },
          "title": {
           "x": 0.05
          },
          "xaxis": {
           "automargin": true,
           "gridcolor": "white",
           "linecolor": "white",
           "ticks": "",
           "title": {
            "standoff": 15
           },
           "zerolinecolor": "white",
           "zerolinewidth": 2
          },
          "yaxis": {
           "automargin": true,
           "gridcolor": "white",
           "linecolor": "white",
           "ticks": "",
           "title": {
            "standoff": 15
           },
           "zerolinecolor": "white",
           "zerolinewidth": 2
          }
         }
        },
        "xaxis": {
         "anchor": "y",
         "domain": [
          0,
          1
         ],
         "title": {
          "text": "mean_avg_fresh_feed_tonnage_3_(t-1)"
         }
        },
        "xaxis2": {
         "anchor": "y2",
         "domain": [
          0,
          1
         ],
         "matches": "x",
         "showgrid": true,
         "showticklabels": false
        },
        "yaxis": {
         "anchor": "x",
         "domain": [
          0,
          0.8316
         ],
         "title": {
          "text": "count"
         }
        },
        "yaxis2": {
         "anchor": "x2",
         "domain": [
          0.8416,
          1
         ],
         "matches": "y2",
         "showgrid": false,
         "showline": false,
         "showticklabels": false,
         "ticks": ""
        }
       }
      }
     },
     "metadata": {},
     "output_type": "display_data"
    }
   ],
   "source": [
    "import plotly.express as px\n",
    "\n",
    "fig = px.histogram(df2,x=\"mean_avg_fresh_feed_tonnage_3_(t-1)\", \n",
    "                   marginal=\"box\", # or violin, rug\n",
    "                   #hover_data=df2.columns\n",
    "                   )\n",
    "fig.show()"
   ]
  },
  {
   "cell_type": "code",
   "execution_count": 12,
   "metadata": {},
   "outputs": [],
   "source": [
    "var_contexto=[\n",
    "# Promedio movil 3 horas:\n",
    "'mean_avg_finos_3_(t-1)',\n",
    "'mean_recirculated_pebbles_3_(t-1)',\n",
    "'mean_speed_central_feeders_3_(t-1)',\n",
    "'mean_avg_fresh_feed_tonnage_3_(t-1)',\n",
    "#'mean_avg_rpm_3_(t-1)',\n",
    "#'mean_avg_pct_solids_3_(t-1)',\n",
    "'mean_avg_presion_descanso_3_(t-1)',\n",
    "'mean_arcillas_3',\n",
    "'mean_BN_054_3_(t-1)',\n",
    "'mean_BN_055_3_(t-1)',\n",
    "#'mean_avg_rpm_sum_3_(t-1)',\n",
    "#'sum_Atollos_Total_3_(t-1)',\n",
    "#'Atollos_Total_case',\n",
    "#'Atollos_Total'\n",
    "]\n",
    "\n",
    "var_operacionales=[\n",
    "'mean_avg_pct_solids_3_(t-1)','mean_avg_rpm_3_(t-1)'\n",
    "]"
   ]
  },
  {
   "cell_type": "code",
   "execution_count": 13,
   "metadata": {},
   "outputs": [
    {
     "data": {
      "text/html": [
       "<div>\n",
       "<style scoped>\n",
       "    .dataframe tbody tr th:only-of-type {\n",
       "        vertical-align: middle;\n",
       "    }\n",
       "\n",
       "    .dataframe tbody tr th {\n",
       "        vertical-align: top;\n",
       "    }\n",
       "\n",
       "    .dataframe thead th {\n",
       "        text-align: right;\n",
       "    }\n",
       "</style>\n",
       "<table border=\"1\" class=\"dataframe\">\n",
       "  <thead>\n",
       "    <tr style=\"text-align: right;\">\n",
       "      <th></th>\n",
       "      <th>mean_avg_fresh_feed_tonnage_3_(t-1)</th>\n",
       "      <th>mean_avg_presion_descanso_3_(t-1)</th>\n",
       "      <th>mean_avg_rpm_sum_3_(t-1)</th>\n",
       "      <th>mean_arcillas_3</th>\n",
       "      <th>mean_BN_054_3_(t-1)</th>\n",
       "      <th>mean_agua_harnero_sag4_3_(t-1)</th>\n",
       "      <th>mean_avg_pebbles_3_(t-1)</th>\n",
       "      <th>mean_BN_055_3_(t-1)</th>\n",
       "      <th>mean_avg_finos_3_(t-1)</th>\n",
       "      <th>mean_avg_pct_solids_3_(t-1)</th>\n",
       "      <th>mean_recirculated_pebbles_3_(t-1)</th>\n",
       "      <th>mean_avg_rpm_3_(t-1)</th>\n",
       "      <th>mean_speed_central_feeders_3_(t-1)</th>\n",
       "      <th>mean_agua_trommel_sag4_3_(t-1)</th>\n",
       "      <th>mean_intermedios_3_(t-1)</th>\n",
       "      <th>sum_Atollos_Total_3_(t-1)</th>\n",
       "    </tr>\n",
       "    <tr>\n",
       "      <th>timestamp</th>\n",
       "      <th></th>\n",
       "      <th></th>\n",
       "      <th></th>\n",
       "      <th></th>\n",
       "      <th></th>\n",
       "      <th></th>\n",
       "      <th></th>\n",
       "      <th></th>\n",
       "      <th></th>\n",
       "      <th></th>\n",
       "      <th></th>\n",
       "      <th></th>\n",
       "      <th></th>\n",
       "      <th></th>\n",
       "      <th></th>\n",
       "      <th></th>\n",
       "    </tr>\n",
       "  </thead>\n",
       "  <tbody>\n",
       "    <tr>\n",
       "      <th>2021-04-01 05:00:00</th>\n",
       "      <td>0.201663</td>\n",
       "      <td>0.978432</td>\n",
       "      <td>0.824946</td>\n",
       "      <td>0.776865</td>\n",
       "      <td>0.580277</td>\n",
       "      <td>0.503600</td>\n",
       "      <td>0.662657</td>\n",
       "      <td>0.424878</td>\n",
       "      <td>0.988142</td>\n",
       "      <td>0.015502</td>\n",
       "      <td>0.0</td>\n",
       "      <td>0.694412</td>\n",
       "      <td>0.0</td>\n",
       "      <td>0.760760</td>\n",
       "      <td>0.120684</td>\n",
       "      <td>0.0</td>\n",
       "    </tr>\n",
       "    <tr>\n",
       "      <th>2021-04-01 06:00:00</th>\n",
       "      <td>0.202376</td>\n",
       "      <td>0.980861</td>\n",
       "      <td>0.846402</td>\n",
       "      <td>0.719696</td>\n",
       "      <td>0.686191</td>\n",
       "      <td>0.488394</td>\n",
       "      <td>0.672359</td>\n",
       "      <td>0.361673</td>\n",
       "      <td>0.979847</td>\n",
       "      <td>0.016995</td>\n",
       "      <td>0.0</td>\n",
       "      <td>0.731870</td>\n",
       "      <td>0.0</td>\n",
       "      <td>0.744371</td>\n",
       "      <td>0.152440</td>\n",
       "      <td>1.0</td>\n",
       "    </tr>\n",
       "    <tr>\n",
       "      <th>2021-04-01 10:00:00</th>\n",
       "      <td>0.086871</td>\n",
       "      <td>0.955219</td>\n",
       "      <td>0.859446</td>\n",
       "      <td>0.735936</td>\n",
       "      <td>0.881468</td>\n",
       "      <td>0.454160</td>\n",
       "      <td>0.654071</td>\n",
       "      <td>0.400886</td>\n",
       "      <td>0.960627</td>\n",
       "      <td>0.021343</td>\n",
       "      <td>0.0</td>\n",
       "      <td>0.754330</td>\n",
       "      <td>0.0</td>\n",
       "      <td>0.702687</td>\n",
       "      <td>0.210741</td>\n",
       "      <td>0.0</td>\n",
       "    </tr>\n",
       "    <tr>\n",
       "      <th>2021-04-01 22:00:00</th>\n",
       "      <td>0.348216</td>\n",
       "      <td>0.930976</td>\n",
       "      <td>0.915421</td>\n",
       "      <td>0.752089</td>\n",
       "      <td>0.760101</td>\n",
       "      <td>0.417230</td>\n",
       "      <td>0.691197</td>\n",
       "      <td>0.628505</td>\n",
       "      <td>0.913093</td>\n",
       "      <td>0.190055</td>\n",
       "      <td>0.0</td>\n",
       "      <td>0.852769</td>\n",
       "      <td>0.0</td>\n",
       "      <td>0.644028</td>\n",
       "      <td>0.360802</td>\n",
       "      <td>0.0</td>\n",
       "    </tr>\n",
       "    <tr>\n",
       "      <th>2021-04-01 23:00:00</th>\n",
       "      <td>0.472374</td>\n",
       "      <td>0.937950</td>\n",
       "      <td>0.895288</td>\n",
       "      <td>0.756954</td>\n",
       "      <td>0.617105</td>\n",
       "      <td>0.418297</td>\n",
       "      <td>0.675446</td>\n",
       "      <td>0.518308</td>\n",
       "      <td>0.927979</td>\n",
       "      <td>0.143873</td>\n",
       "      <td>0.0</td>\n",
       "      <td>0.817380</td>\n",
       "      <td>0.0</td>\n",
       "      <td>0.633982</td>\n",
       "      <td>0.325837</td>\n",
       "      <td>0.0</td>\n",
       "    </tr>\n",
       "  </tbody>\n",
       "</table>\n",
       "</div>"
      ],
      "text/plain": [
       "                     mean_avg_fresh_feed_tonnage_3_(t-1)  \\\n",
       "timestamp                                                  \n",
       "2021-04-01 05:00:00                             0.201663   \n",
       "2021-04-01 06:00:00                             0.202376   \n",
       "2021-04-01 10:00:00                             0.086871   \n",
       "2021-04-01 22:00:00                             0.348216   \n",
       "2021-04-01 23:00:00                             0.472374   \n",
       "\n",
       "                     mean_avg_presion_descanso_3_(t-1)  \\\n",
       "timestamp                                                \n",
       "2021-04-01 05:00:00                           0.978432   \n",
       "2021-04-01 06:00:00                           0.980861   \n",
       "2021-04-01 10:00:00                           0.955219   \n",
       "2021-04-01 22:00:00                           0.930976   \n",
       "2021-04-01 23:00:00                           0.937950   \n",
       "\n",
       "                     mean_avg_rpm_sum_3_(t-1)  mean_arcillas_3  \\\n",
       "timestamp                                                        \n",
       "2021-04-01 05:00:00                  0.824946         0.776865   \n",
       "2021-04-01 06:00:00                  0.846402         0.719696   \n",
       "2021-04-01 10:00:00                  0.859446         0.735936   \n",
       "2021-04-01 22:00:00                  0.915421         0.752089   \n",
       "2021-04-01 23:00:00                  0.895288         0.756954   \n",
       "\n",
       "                     mean_BN_054_3_(t-1)  mean_agua_harnero_sag4_3_(t-1)  \\\n",
       "timestamp                                                                  \n",
       "2021-04-01 05:00:00             0.580277                        0.503600   \n",
       "2021-04-01 06:00:00             0.686191                        0.488394   \n",
       "2021-04-01 10:00:00             0.881468                        0.454160   \n",
       "2021-04-01 22:00:00             0.760101                        0.417230   \n",
       "2021-04-01 23:00:00             0.617105                        0.418297   \n",
       "\n",
       "                     mean_avg_pebbles_3_(t-1)  mean_BN_055_3_(t-1)  \\\n",
       "timestamp                                                            \n",
       "2021-04-01 05:00:00                  0.662657             0.424878   \n",
       "2021-04-01 06:00:00                  0.672359             0.361673   \n",
       "2021-04-01 10:00:00                  0.654071             0.400886   \n",
       "2021-04-01 22:00:00                  0.691197             0.628505   \n",
       "2021-04-01 23:00:00                  0.675446             0.518308   \n",
       "\n",
       "                     mean_avg_finos_3_(t-1)  mean_avg_pct_solids_3_(t-1)  \\\n",
       "timestamp                                                                  \n",
       "2021-04-01 05:00:00                0.988142                     0.015502   \n",
       "2021-04-01 06:00:00                0.979847                     0.016995   \n",
       "2021-04-01 10:00:00                0.960627                     0.021343   \n",
       "2021-04-01 22:00:00                0.913093                     0.190055   \n",
       "2021-04-01 23:00:00                0.927979                     0.143873   \n",
       "\n",
       "                     mean_recirculated_pebbles_3_(t-1)  mean_avg_rpm_3_(t-1)  \\\n",
       "timestamp                                                                      \n",
       "2021-04-01 05:00:00                                0.0              0.694412   \n",
       "2021-04-01 06:00:00                                0.0              0.731870   \n",
       "2021-04-01 10:00:00                                0.0              0.754330   \n",
       "2021-04-01 22:00:00                                0.0              0.852769   \n",
       "2021-04-01 23:00:00                                0.0              0.817380   \n",
       "\n",
       "                     mean_speed_central_feeders_3_(t-1)  \\\n",
       "timestamp                                                 \n",
       "2021-04-01 05:00:00                                 0.0   \n",
       "2021-04-01 06:00:00                                 0.0   \n",
       "2021-04-01 10:00:00                                 0.0   \n",
       "2021-04-01 22:00:00                                 0.0   \n",
       "2021-04-01 23:00:00                                 0.0   \n",
       "\n",
       "                     mean_agua_trommel_sag4_3_(t-1)  mean_intermedios_3_(t-1)  \\\n",
       "timestamp                                                                       \n",
       "2021-04-01 05:00:00                        0.760760                  0.120684   \n",
       "2021-04-01 06:00:00                        0.744371                  0.152440   \n",
       "2021-04-01 10:00:00                        0.702687                  0.210741   \n",
       "2021-04-01 22:00:00                        0.644028                  0.360802   \n",
       "2021-04-01 23:00:00                        0.633982                  0.325837   \n",
       "\n",
       "                     sum_Atollos_Total_3_(t-1)  \n",
       "timestamp                                       \n",
       "2021-04-01 05:00:00                        0.0  \n",
       "2021-04-01 06:00:00                        1.0  \n",
       "2021-04-01 10:00:00                        0.0  \n",
       "2021-04-01 22:00:00                        0.0  \n",
       "2021-04-01 23:00:00                        0.0  "
      ]
     },
     "execution_count": 13,
     "metadata": {},
     "output_type": "execute_result"
    }
   ],
   "source": [
    "# escalamiento de valores (no todos, no dummies)\n",
    "df_mm=MinMaxScaler().fit_transform( df2.drop(columns=['sum_Atollos_Total_3_(t-1)','Atollos_Total_case','riesgo_arcilla']) )\n",
    "df_mm=pd.DataFrame(data=df_mm,index=df2.index, columns=df2.drop(columns=['sum_Atollos_Total_3_(t-1)','Atollos_Total_case','riesgo_arcilla']).columns)\n",
    "df_mm['sum_Atollos_Total_3_(t-1)']=df2['sum_Atollos_Total_3_(t-1)']\n",
    "df_mm.head()"
   ]
  },
  {
   "cell_type": "code",
   "execution_count": 14,
   "metadata": {},
   "outputs": [
    {
     "data": {
      "application/vnd.plotly.v1+json": {
       "config": {
        "plotlyServerURL": "https://plot.ly"
       },
       "data": [
        {
         "hovertemplate": "x=%{x}<br>y=%{y}<extra></extra>",
         "legendgroup": "",
         "line": {
          "color": "#636efa",
          "dash": "solid"
         },
         "marker": {
          "symbol": "circle"
         },
         "mode": "lines",
         "name": "",
         "orientation": "v",
         "showlegend": false,
         "type": "scatter",
         "x": [
          1,
          2,
          3,
          4,
          5,
          6,
          7,
          8,
          9,
          10,
          11,
          12,
          13,
          14
         ],
         "xaxis": "x",
         "y": [
          442.4114854473017,
          372.89253751924434,
          319.43657913545877,
          282.07624761519725,
          249.03936019703863,
          228.1734188672989,
          212.86985149889836,
          199.18322052260095,
          188.86234212374413,
          180.89202913116748,
          171.866729786571,
          163.71812685908114,
          156.60851745571634,
          150.80531291193424
         ],
         "yaxis": "y"
        }
       ],
       "layout": {
        "legend": {
         "tracegroupgap": 0
        },
        "template": {
         "data": {
          "bar": [
           {
            "error_x": {
             "color": "#2a3f5f"
            },
            "error_y": {
             "color": "#2a3f5f"
            },
            "marker": {
             "line": {
              "color": "#E5ECF6",
              "width": 0.5
             },
             "pattern": {
              "fillmode": "overlay",
              "size": 10,
              "solidity": 0.2
             }
            },
            "type": "bar"
           }
          ],
          "barpolar": [
           {
            "marker": {
             "line": {
              "color": "#E5ECF6",
              "width": 0.5
             },
             "pattern": {
              "fillmode": "overlay",
              "size": 10,
              "solidity": 0.2
             }
            },
            "type": "barpolar"
           }
          ],
          "carpet": [
           {
            "aaxis": {
             "endlinecolor": "#2a3f5f",
             "gridcolor": "white",
             "linecolor": "white",
             "minorgridcolor": "white",
             "startlinecolor": "#2a3f5f"
            },
            "baxis": {
             "endlinecolor": "#2a3f5f",
             "gridcolor": "white",
             "linecolor": "white",
             "minorgridcolor": "white",
             "startlinecolor": "#2a3f5f"
            },
            "type": "carpet"
           }
          ],
          "choropleth": [
           {
            "colorbar": {
             "outlinewidth": 0,
             "ticks": ""
            },
            "type": "choropleth"
           }
          ],
          "contour": [
           {
            "colorbar": {
             "outlinewidth": 0,
             "ticks": ""
            },
            "colorscale": [
             [
              0,
              "#0d0887"
             ],
             [
              0.1111111111111111,
              "#46039f"
             ],
             [
              0.2222222222222222,
              "#7201a8"
             ],
             [
              0.3333333333333333,
              "#9c179e"
             ],
             [
              0.4444444444444444,
              "#bd3786"
             ],
             [
              0.5555555555555556,
              "#d8576b"
             ],
             [
              0.6666666666666666,
              "#ed7953"
             ],
             [
              0.7777777777777778,
              "#fb9f3a"
             ],
             [
              0.8888888888888888,
              "#fdca26"
             ],
             [
              1,
              "#f0f921"
             ]
            ],
            "type": "contour"
           }
          ],
          "contourcarpet": [
           {
            "colorbar": {
             "outlinewidth": 0,
             "ticks": ""
            },
            "type": "contourcarpet"
           }
          ],
          "heatmap": [
           {
            "colorbar": {
             "outlinewidth": 0,
             "ticks": ""
            },
            "colorscale": [
             [
              0,
              "#0d0887"
             ],
             [
              0.1111111111111111,
              "#46039f"
             ],
             [
              0.2222222222222222,
              "#7201a8"
             ],
             [
              0.3333333333333333,
              "#9c179e"
             ],
             [
              0.4444444444444444,
              "#bd3786"
             ],
             [
              0.5555555555555556,
              "#d8576b"
             ],
             [
              0.6666666666666666,
              "#ed7953"
             ],
             [
              0.7777777777777778,
              "#fb9f3a"
             ],
             [
              0.8888888888888888,
              "#fdca26"
             ],
             [
              1,
              "#f0f921"
             ]
            ],
            "type": "heatmap"
           }
          ],
          "heatmapgl": [
           {
            "colorbar": {
             "outlinewidth": 0,
             "ticks": ""
            },
            "colorscale": [
             [
              0,
              "#0d0887"
             ],
             [
              0.1111111111111111,
              "#46039f"
             ],
             [
              0.2222222222222222,
              "#7201a8"
             ],
             [
              0.3333333333333333,
              "#9c179e"
             ],
             [
              0.4444444444444444,
              "#bd3786"
             ],
             [
              0.5555555555555556,
              "#d8576b"
             ],
             [
              0.6666666666666666,
              "#ed7953"
             ],
             [
              0.7777777777777778,
              "#fb9f3a"
             ],
             [
              0.8888888888888888,
              "#fdca26"
             ],
             [
              1,
              "#f0f921"
             ]
            ],
            "type": "heatmapgl"
           }
          ],
          "histogram": [
           {
            "marker": {
             "pattern": {
              "fillmode": "overlay",
              "size": 10,
              "solidity": 0.2
             }
            },
            "type": "histogram"
           }
          ],
          "histogram2d": [
           {
            "colorbar": {
             "outlinewidth": 0,
             "ticks": ""
            },
            "colorscale": [
             [
              0,
              "#0d0887"
             ],
             [
              0.1111111111111111,
              "#46039f"
             ],
             [
              0.2222222222222222,
              "#7201a8"
             ],
             [
              0.3333333333333333,
              "#9c179e"
             ],
             [
              0.4444444444444444,
              "#bd3786"
             ],
             [
              0.5555555555555556,
              "#d8576b"
             ],
             [
              0.6666666666666666,
              "#ed7953"
             ],
             [
              0.7777777777777778,
              "#fb9f3a"
             ],
             [
              0.8888888888888888,
              "#fdca26"
             ],
             [
              1,
              "#f0f921"
             ]
            ],
            "type": "histogram2d"
           }
          ],
          "histogram2dcontour": [
           {
            "colorbar": {
             "outlinewidth": 0,
             "ticks": ""
            },
            "colorscale": [
             [
              0,
              "#0d0887"
             ],
             [
              0.1111111111111111,
              "#46039f"
             ],
             [
              0.2222222222222222,
              "#7201a8"
             ],
             [
              0.3333333333333333,
              "#9c179e"
             ],
             [
              0.4444444444444444,
              "#bd3786"
             ],
             [
              0.5555555555555556,
              "#d8576b"
             ],
             [
              0.6666666666666666,
              "#ed7953"
             ],
             [
              0.7777777777777778,
              "#fb9f3a"
             ],
             [
              0.8888888888888888,
              "#fdca26"
             ],
             [
              1,
              "#f0f921"
             ]
            ],
            "type": "histogram2dcontour"
           }
          ],
          "mesh3d": [
           {
            "colorbar": {
             "outlinewidth": 0,
             "ticks": ""
            },
            "type": "mesh3d"
           }
          ],
          "parcoords": [
           {
            "line": {
             "colorbar": {
              "outlinewidth": 0,
              "ticks": ""
             }
            },
            "type": "parcoords"
           }
          ],
          "pie": [
           {
            "automargin": true,
            "type": "pie"
           }
          ],
          "scatter": [
           {
            "marker": {
             "colorbar": {
              "outlinewidth": 0,
              "ticks": ""
             }
            },
            "type": "scatter"
           }
          ],
          "scatter3d": [
           {
            "line": {
             "colorbar": {
              "outlinewidth": 0,
              "ticks": ""
             }
            },
            "marker": {
             "colorbar": {
              "outlinewidth": 0,
              "ticks": ""
             }
            },
            "type": "scatter3d"
           }
          ],
          "scattercarpet": [
           {
            "marker": {
             "colorbar": {
              "outlinewidth": 0,
              "ticks": ""
             }
            },
            "type": "scattercarpet"
           }
          ],
          "scattergeo": [
           {
            "marker": {
             "colorbar": {
              "outlinewidth": 0,
              "ticks": ""
             }
            },
            "type": "scattergeo"
           }
          ],
          "scattergl": [
           {
            "marker": {
             "colorbar": {
              "outlinewidth": 0,
              "ticks": ""
             }
            },
            "type": "scattergl"
           }
          ],
          "scattermapbox": [
           {
            "marker": {
             "colorbar": {
              "outlinewidth": 0,
              "ticks": ""
             }
            },
            "type": "scattermapbox"
           }
          ],
          "scatterpolar": [
           {
            "marker": {
             "colorbar": {
              "outlinewidth": 0,
              "ticks": ""
             }
            },
            "type": "scatterpolar"
           }
          ],
          "scatterpolargl": [
           {
            "marker": {
             "colorbar": {
              "outlinewidth": 0,
              "ticks": ""
             }
            },
            "type": "scatterpolargl"
           }
          ],
          "scatterternary": [
           {
            "marker": {
             "colorbar": {
              "outlinewidth": 0,
              "ticks": ""
             }
            },
            "type": "scatterternary"
           }
          ],
          "surface": [
           {
            "colorbar": {
             "outlinewidth": 0,
             "ticks": ""
            },
            "colorscale": [
             [
              0,
              "#0d0887"
             ],
             [
              0.1111111111111111,
              "#46039f"
             ],
             [
              0.2222222222222222,
              "#7201a8"
             ],
             [
              0.3333333333333333,
              "#9c179e"
             ],
             [
              0.4444444444444444,
              "#bd3786"
             ],
             [
              0.5555555555555556,
              "#d8576b"
             ],
             [
              0.6666666666666666,
              "#ed7953"
             ],
             [
              0.7777777777777778,
              "#fb9f3a"
             ],
             [
              0.8888888888888888,
              "#fdca26"
             ],
             [
              1,
              "#f0f921"
             ]
            ],
            "type": "surface"
           }
          ],
          "table": [
           {
            "cells": {
             "fill": {
              "color": "#EBF0F8"
             },
             "line": {
              "color": "white"
             }
            },
            "header": {
             "fill": {
              "color": "#C8D4E3"
             },
             "line": {
              "color": "white"
             }
            },
            "type": "table"
           }
          ]
         },
         "layout": {
          "annotationdefaults": {
           "arrowcolor": "#2a3f5f",
           "arrowhead": 0,
           "arrowwidth": 1
          },
          "autotypenumbers": "strict",
          "coloraxis": {
           "colorbar": {
            "outlinewidth": 0,
            "ticks": ""
           }
          },
          "colorscale": {
           "diverging": [
            [
             0,
             "#8e0152"
            ],
            [
             0.1,
             "#c51b7d"
            ],
            [
             0.2,
             "#de77ae"
            ],
            [
             0.3,
             "#f1b6da"
            ],
            [
             0.4,
             "#fde0ef"
            ],
            [
             0.5,
             "#f7f7f7"
            ],
            [
             0.6,
             "#e6f5d0"
            ],
            [
             0.7,
             "#b8e186"
            ],
            [
             0.8,
             "#7fbc41"
            ],
            [
             0.9,
             "#4d9221"
            ],
            [
             1,
             "#276419"
            ]
           ],
           "sequential": [
            [
             0,
             "#0d0887"
            ],
            [
             0.1111111111111111,
             "#46039f"
            ],
            [
             0.2222222222222222,
             "#7201a8"
            ],
            [
             0.3333333333333333,
             "#9c179e"
            ],
            [
             0.4444444444444444,
             "#bd3786"
            ],
            [
             0.5555555555555556,
             "#d8576b"
            ],
            [
             0.6666666666666666,
             "#ed7953"
            ],
            [
             0.7777777777777778,
             "#fb9f3a"
            ],
            [
             0.8888888888888888,
             "#fdca26"
            ],
            [
             1,
             "#f0f921"
            ]
           ],
           "sequentialminus": [
            [
             0,
             "#0d0887"
            ],
            [
             0.1111111111111111,
             "#46039f"
            ],
            [
             0.2222222222222222,
             "#7201a8"
            ],
            [
             0.3333333333333333,
             "#9c179e"
            ],
            [
             0.4444444444444444,
             "#bd3786"
            ],
            [
             0.5555555555555556,
             "#d8576b"
            ],
            [
             0.6666666666666666,
             "#ed7953"
            ],
            [
             0.7777777777777778,
             "#fb9f3a"
            ],
            [
             0.8888888888888888,
             "#fdca26"
            ],
            [
             1,
             "#f0f921"
            ]
           ]
          },
          "colorway": [
           "#636efa",
           "#EF553B",
           "#00cc96",
           "#ab63fa",
           "#FFA15A",
           "#19d3f3",
           "#FF6692",
           "#B6E880",
           "#FF97FF",
           "#FECB52"
          ],
          "font": {
           "color": "#2a3f5f"
          },
          "geo": {
           "bgcolor": "white",
           "lakecolor": "white",
           "landcolor": "#E5ECF6",
           "showlakes": true,
           "showland": true,
           "subunitcolor": "white"
          },
          "hoverlabel": {
           "align": "left"
          },
          "hovermode": "closest",
          "mapbox": {
           "style": "light"
          },
          "paper_bgcolor": "white",
          "plot_bgcolor": "#E5ECF6",
          "polar": {
           "angularaxis": {
            "gridcolor": "white",
            "linecolor": "white",
            "ticks": ""
           },
           "bgcolor": "#E5ECF6",
           "radialaxis": {
            "gridcolor": "white",
            "linecolor": "white",
            "ticks": ""
           }
          },
          "scene": {
           "xaxis": {
            "backgroundcolor": "#E5ECF6",
            "gridcolor": "white",
            "gridwidth": 2,
            "linecolor": "white",
            "showbackground": true,
            "ticks": "",
            "zerolinecolor": "white"
           },
           "yaxis": {
            "backgroundcolor": "#E5ECF6",
            "gridcolor": "white",
            "gridwidth": 2,
            "linecolor": "white",
            "showbackground": true,
            "ticks": "",
            "zerolinecolor": "white"
           },
           "zaxis": {
            "backgroundcolor": "#E5ECF6",
            "gridcolor": "white",
            "gridwidth": 2,
            "linecolor": "white",
            "showbackground": true,
            "ticks": "",
            "zerolinecolor": "white"
           }
          },
          "shapedefaults": {
           "line": {
            "color": "#2a3f5f"
           }
          },
          "ternary": {
           "aaxis": {
            "gridcolor": "white",
            "linecolor": "white",
            "ticks": ""
           },
           "baxis": {
            "gridcolor": "white",
            "linecolor": "white",
            "ticks": ""
           },
           "bgcolor": "#E5ECF6",
           "caxis": {
            "gridcolor": "white",
            "linecolor": "white",
            "ticks": ""
           }
          },
          "title": {
           "x": 0.05
          },
          "xaxis": {
           "automargin": true,
           "gridcolor": "white",
           "linecolor": "white",
           "ticks": "",
           "title": {
            "standoff": 15
           },
           "zerolinecolor": "white",
           "zerolinewidth": 2
          },
          "yaxis": {
           "automargin": true,
           "gridcolor": "white",
           "linecolor": "white",
           "ticks": "",
           "title": {
            "standoff": 15
           },
           "zerolinecolor": "white",
           "zerolinewidth": 2
          }
         }
        },
        "title": {
         "text": "Elbow method"
        },
        "xaxis": {
         "anchor": "y",
         "domain": [
          0,
          1
         ],
         "title": {
          "text": "x"
         }
        },
        "yaxis": {
         "anchor": "x",
         "domain": [
          0,
          1
         ],
         "title": {
          "text": "y"
         }
        }
       }
      }
     },
     "metadata": {},
     "output_type": "display_data"
    }
   ],
   "source": [
    "# Decision de numero de clusters de acuerdo al metodo del codo\n",
    "df_mm_contexto=df_mm[var_contexto] # solo de acuerdo a las variables de contexto, NO operacionales\n",
    "inercias = []\n",
    "K = range(1,15)\n",
    "for k in K:\n",
    "    km = KMeans(init='k-means++',n_clusters=k)\n",
    "    km.fit(df_mm_contexto)\n",
    "    inercias.append(km.inertia_)\n",
    "    \n",
    "    y_km=km.predict(df_mm_contexto)\n",
    "\n",
    "fig = px.line( x=K, y=inercias, title=\"Elbow method\") \n",
    "fig.show()"
   ]
  },
  {
   "cell_type": "code",
   "execution_count": 15,
   "metadata": {},
   "outputs": [],
   "source": [
    "# Aplicamos K-means\n",
    "n_clusters=4\n",
    "km = KMeans(n_clusters=n_clusters, init='k-means++')\n",
    "y_km = km.fit_predict(df_mm_contexto) # predict de las labels de acuerdo al contexto\n",
    "# creacion de variable de la label de los clusters en ambos DF\n",
    "df2['cluster']=y_km\n",
    "df['cluster']=y_km \n",
    "df_mm['cluster']=y_km\n",
    "df_mm['Atollos_Total_case']=df2['Atollos_Total_case']\n",
    "\n",
    "# creacion de DF con estadisticos de cada cluster\n",
    "df_est=pd.DataFrame()\n",
    "Total_atollos=df2.Atollos_Total_case.sum()\n",
    "df_est[\"Num atollos\"]=df2[[\"cluster\",\"Atollos_Total_case\"]].groupby(\"cluster\").sum()\n",
    "df_est[\"Num casos\"]= df2[[\"cluster\",\"Atollos_Total_case\"]].groupby(\"cluster\").apply(lambda x: len(x))\n",
    "df_est[\"Prob atollo dentro del cluster\"]=df_est[\"Num atollos\"]/df_est[\"Num casos\"]*100\n",
    "df_est[\"Covertura\"]=df_est[\"Num atollos\"]/Total_atollos*100\n",
    "df_est[\"riesgo arcilla\"]=df2[[\"cluster\",\"riesgo_arcilla\"]].groupby(\"cluster\").sum()\n",
    "df_est[\"Prob riesgo arcilla\"]=df_est[\"riesgo arcilla\"]/df_est[\"Num casos\"]*100\n"
   ]
  },
  {
   "cell_type": "code",
   "execution_count": 16,
   "metadata": {},
   "outputs": [
    {
     "data": {
      "text/html": [
       "<div>\n",
       "<style scoped>\n",
       "    .dataframe tbody tr th:only-of-type {\n",
       "        vertical-align: middle;\n",
       "    }\n",
       "\n",
       "    .dataframe tbody tr th {\n",
       "        vertical-align: top;\n",
       "    }\n",
       "\n",
       "    .dataframe thead th {\n",
       "        text-align: right;\n",
       "    }\n",
       "</style>\n",
       "<table border=\"1\" class=\"dataframe\">\n",
       "  <thead>\n",
       "    <tr style=\"text-align: right;\">\n",
       "      <th></th>\n",
       "      <th>mean_avg_finos_3_(t-1)</th>\n",
       "      <th>mean_recirculated_pebbles_3_(t-1)</th>\n",
       "      <th>mean_speed_central_feeders_3_(t-1)</th>\n",
       "      <th>mean_avg_fresh_feed_tonnage_3_(t-1)</th>\n",
       "      <th>mean_avg_presion_descanso_3_(t-1)</th>\n",
       "      <th>mean_arcillas_3</th>\n",
       "      <th>mean_BN_054_3_(t-1)</th>\n",
       "      <th>mean_BN_055_3_(t-1)</th>\n",
       "    </tr>\n",
       "    <tr>\n",
       "      <th>cluster</th>\n",
       "      <th></th>\n",
       "      <th></th>\n",
       "      <th></th>\n",
       "      <th></th>\n",
       "      <th></th>\n",
       "      <th></th>\n",
       "      <th></th>\n",
       "      <th></th>\n",
       "    </tr>\n",
       "  </thead>\n",
       "  <tbody>\n",
       "    <tr>\n",
       "      <th>0</th>\n",
       "      <td>84.873459</td>\n",
       "      <td>145.163156</td>\n",
       "      <td>41.156822</td>\n",
       "      <td>5213.850814</td>\n",
       "      <td>5229.495919</td>\n",
       "      <td>0.295272</td>\n",
       "      <td>52.329328</td>\n",
       "      <td>50.769268</td>\n",
       "    </tr>\n",
       "    <tr>\n",
       "      <th>1</th>\n",
       "      <td>81.920914</td>\n",
       "      <td>476.722774</td>\n",
       "      <td>49.832395</td>\n",
       "      <td>5162.139395</td>\n",
       "      <td>5188.046078</td>\n",
       "      <td>0.280196</td>\n",
       "      <td>58.947220</td>\n",
       "      <td>93.014841</td>\n",
       "    </tr>\n",
       "    <tr>\n",
       "      <th>2</th>\n",
       "      <td>83.899122</td>\n",
       "      <td>408.490158</td>\n",
       "      <td>49.617318</td>\n",
       "      <td>5147.082684</td>\n",
       "      <td>5118.831702</td>\n",
       "      <td>0.287827</td>\n",
       "      <td>55.549580</td>\n",
       "      <td>39.589649</td>\n",
       "    </tr>\n",
       "    <tr>\n",
       "      <th>3</th>\n",
       "      <td>80.093493</td>\n",
       "      <td>381.070678</td>\n",
       "      <td>91.672531</td>\n",
       "      <td>5256.589366</td>\n",
       "      <td>5212.413986</td>\n",
       "      <td>0.287623</td>\n",
       "      <td>56.813063</td>\n",
       "      <td>48.461768</td>\n",
       "    </tr>\n",
       "  </tbody>\n",
       "</table>\n",
       "</div>"
      ],
      "text/plain": [
       "         mean_avg_finos_3_(t-1)  mean_recirculated_pebbles_3_(t-1)  \\\n",
       "cluster                                                              \n",
       "0                     84.873459                         145.163156   \n",
       "1                     81.920914                         476.722774   \n",
       "2                     83.899122                         408.490158   \n",
       "3                     80.093493                         381.070678   \n",
       "\n",
       "         mean_speed_central_feeders_3_(t-1)  \\\n",
       "cluster                                       \n",
       "0                                 41.156822   \n",
       "1                                 49.832395   \n",
       "2                                 49.617318   \n",
       "3                                 91.672531   \n",
       "\n",
       "         mean_avg_fresh_feed_tonnage_3_(t-1)  \\\n",
       "cluster                                        \n",
       "0                                5213.850814   \n",
       "1                                5162.139395   \n",
       "2                                5147.082684   \n",
       "3                                5256.589366   \n",
       "\n",
       "         mean_avg_presion_descanso_3_(t-1)  mean_arcillas_3  \\\n",
       "cluster                                                       \n",
       "0                              5229.495919         0.295272   \n",
       "1                              5188.046078         0.280196   \n",
       "2                              5118.831702         0.287827   \n",
       "3                              5212.413986         0.287623   \n",
       "\n",
       "         mean_BN_054_3_(t-1)  mean_BN_055_3_(t-1)  \n",
       "cluster                                            \n",
       "0                  52.329328            50.769268  \n",
       "1                  58.947220            93.014841  \n",
       "2                  55.549580            39.589649  \n",
       "3                  56.813063            48.461768  "
      ]
     },
     "execution_count": 16,
     "metadata": {},
     "output_type": "execute_result"
    }
   ],
   "source": [
    "# promedio de como se comporta cada variable en cada cluster\n",
    "df_context=df2[var_contexto+['cluster']].groupby(\"cluster\").mean() \n",
    "df_context"
   ]
  },
  {
   "cell_type": "code",
   "execution_count": 17,
   "metadata": {},
   "outputs": [],
   "source": [
    "df_context.to_excel(\"ls1_context.xlsx\")"
   ]
  },
  {
   "cell_type": "code",
   "execution_count": 18,
   "metadata": {},
   "outputs": [],
   "source": [
    "df['cluster_rec']=np.nan # nueva columna de recomendador de variables operacionales"
   ]
  },
  {
   "cell_type": "code",
   "execution_count": 19,
   "metadata": {},
   "outputs": [
    {
     "data": {
      "text/html": [
       "<div>\n",
       "<style scoped>\n",
       "    .dataframe tbody tr th:only-of-type {\n",
       "        vertical-align: middle;\n",
       "    }\n",
       "\n",
       "    .dataframe tbody tr th {\n",
       "        vertical-align: top;\n",
       "    }\n",
       "\n",
       "    .dataframe thead th {\n",
       "        text-align: right;\n",
       "    }\n",
       "</style>\n",
       "<table border=\"1\" class=\"dataframe\">\n",
       "  <thead>\n",
       "    <tr style=\"text-align: right;\">\n",
       "      <th></th>\n",
       "      <th>Num atollos</th>\n",
       "      <th>Num casos</th>\n",
       "      <th>Prob atollo dentro del cluster</th>\n",
       "      <th>Covertura</th>\n",
       "      <th>riesgo arcilla</th>\n",
       "      <th>Prob riesgo arcilla</th>\n",
       "      <th>prob panda</th>\n",
       "    </tr>\n",
       "    <tr>\n",
       "      <th>cluster</th>\n",
       "      <th></th>\n",
       "      <th></th>\n",
       "      <th></th>\n",
       "      <th></th>\n",
       "      <th></th>\n",
       "      <th></th>\n",
       "      <th></th>\n",
       "    </tr>\n",
       "  </thead>\n",
       "  <tbody>\n",
       "    <tr>\n",
       "      <th>0</th>\n",
       "      <td>72.0</td>\n",
       "      <td>375</td>\n",
       "      <td>19.200000</td>\n",
       "      <td>17.224880</td>\n",
       "      <td>217</td>\n",
       "      <td>57.866667</td>\n",
       "      <td>40.206186</td>\n",
       "    </tr>\n",
       "    <tr>\n",
       "      <th>1</th>\n",
       "      <td>57.0</td>\n",
       "      <td>265</td>\n",
       "      <td>21.509434</td>\n",
       "      <td>13.636364</td>\n",
       "      <td>98</td>\n",
       "      <td>36.981132</td>\n",
       "      <td>39.518900</td>\n",
       "    </tr>\n",
       "    <tr>\n",
       "      <th>2</th>\n",
       "      <td>196.0</td>\n",
       "      <td>654</td>\n",
       "      <td>29.969419</td>\n",
       "      <td>46.889952</td>\n",
       "      <td>310</td>\n",
       "      <td>47.400612</td>\n",
       "      <td>41.122566</td>\n",
       "    </tr>\n",
       "    <tr>\n",
       "      <th>3</th>\n",
       "      <td>93.0</td>\n",
       "      <td>262</td>\n",
       "      <td>35.496183</td>\n",
       "      <td>22.248804</td>\n",
       "      <td>132</td>\n",
       "      <td>50.381679</td>\n",
       "      <td>41.237113</td>\n",
       "    </tr>\n",
       "  </tbody>\n",
       "</table>\n",
       "</div>"
      ],
      "text/plain": [
       "         Num atollos  Num casos  Prob atollo dentro del cluster  Covertura  \\\n",
       "cluster                                                                      \n",
       "0               72.0        375                       19.200000  17.224880   \n",
       "1               57.0        265                       21.509434  13.636364   \n",
       "2              196.0        654                       29.969419  46.889952   \n",
       "3               93.0        262                       35.496183  22.248804   \n",
       "\n",
       "         riesgo arcilla  Prob riesgo arcilla  prob panda  \n",
       "cluster                                                   \n",
       "0                   217            57.866667   40.206186  \n",
       "1                    98            36.981132   39.518900  \n",
       "2                   310            47.400612   41.122566  \n",
       "3                   132            50.381679   41.237113  "
      ]
     },
     "execution_count": 19,
     "metadata": {},
     "output_type": "execute_result"
    }
   ],
   "source": [
    "# Para las horas de interes se calcula la probabilidad de atollo más cercana\n",
    "list_prob = []\n",
    "for i in [0,1,2,3]:\n",
    "    \n",
    "    # print(i)\n",
    "    finos_to_risk = df_context[df_context.index\n",
    "                                    == i][\"mean_avg_finos_3_(t-1)\"].values[0]\n",
    "    arcilla_to_risk = df_context[df_context.index\n",
    "                                        == i][\"mean_arcillas_3\"].values[0]\n",
    "    df_risk[\"dist\"] = df_risk.apply(lambda x: np.sqrt(\n",
    "        (x[\"threshold_arcilla\"]-arcilla_to_risk)**2+(x[\"threshold_finos\"]-finos_to_risk)**2), axis=1)\n",
    "    prob = df_risk[df_risk[\"dist\"] ==\n",
    "                    df_risk[\"dist\"].min()][\"probability\"].values[0]\n",
    "    list_prob.append(prob)\n",
    "    \n",
    "# lista de probabilidades\n",
    "df_est[\"prob panda\"] = list_prob\n",
    "df_est[\"prob panda\"]=df_est[\"prob panda\"]/max_probability*100\n",
    "df_est\n"
   ]
  },
  {
   "cell_type": "code",
   "execution_count": 20,
   "metadata": {},
   "outputs": [],
   "source": [
    "df_est.to_excel(\"ls1_est.xlsx\")"
   ]
  },
  {
   "attachments": {},
   "cell_type": "markdown",
   "metadata": {},
   "source": [
    "# Cluster 0\n"
   ]
  },
  {
   "cell_type": "code",
   "execution_count": 21,
   "metadata": {},
   "outputs": [
    {
     "data": {
      "application/vnd.plotly.v1+json": {
       "config": {
        "plotlyServerURL": "https://plot.ly"
       },
       "data": [
        {
         "hovertemplate": "x=%{x}<br>y=%{y}<extra></extra>",
         "legendgroup": "",
         "line": {
          "color": "#636efa",
          "dash": "solid"
         },
         "marker": {
          "symbol": "circle"
         },
         "mode": "lines",
         "name": "",
         "orientation": "v",
         "showlegend": false,
         "type": "scatter",
         "x": [
          1,
          2,
          3,
          4,
          5,
          6,
          7,
          8,
          9,
          10,
          11,
          12,
          13,
          14
         ],
         "xaxis": "x",
         "y": [
          32.61749367555308,
          11.864393471085414,
          6.473222704959913,
          4.814689349270649,
          3.7812986480251785,
          3.131295800758786,
          2.6928637985258748,
          2.3056889630925554,
          1.9571371245190765,
          1.745384120977541,
          1.5421018655538905,
          1.4479074977404263,
          1.2657847967414881,
          1.1626794291206377
         ],
         "yaxis": "y"
        }
       ],
       "layout": {
        "legend": {
         "tracegroupgap": 0
        },
        "template": {
         "data": {
          "bar": [
           {
            "error_x": {
             "color": "#2a3f5f"
            },
            "error_y": {
             "color": "#2a3f5f"
            },
            "marker": {
             "line": {
              "color": "#E5ECF6",
              "width": 0.5
             },
             "pattern": {
              "fillmode": "overlay",
              "size": 10,
              "solidity": 0.2
             }
            },
            "type": "bar"
           }
          ],
          "barpolar": [
           {
            "marker": {
             "line": {
              "color": "#E5ECF6",
              "width": 0.5
             },
             "pattern": {
              "fillmode": "overlay",
              "size": 10,
              "solidity": 0.2
             }
            },
            "type": "barpolar"
           }
          ],
          "carpet": [
           {
            "aaxis": {
             "endlinecolor": "#2a3f5f",
             "gridcolor": "white",
             "linecolor": "white",
             "minorgridcolor": "white",
             "startlinecolor": "#2a3f5f"
            },
            "baxis": {
             "endlinecolor": "#2a3f5f",
             "gridcolor": "white",
             "linecolor": "white",
             "minorgridcolor": "white",
             "startlinecolor": "#2a3f5f"
            },
            "type": "carpet"
           }
          ],
          "choropleth": [
           {
            "colorbar": {
             "outlinewidth": 0,
             "ticks": ""
            },
            "type": "choropleth"
           }
          ],
          "contour": [
           {
            "colorbar": {
             "outlinewidth": 0,
             "ticks": ""
            },
            "colorscale": [
             [
              0,
              "#0d0887"
             ],
             [
              0.1111111111111111,
              "#46039f"
             ],
             [
              0.2222222222222222,
              "#7201a8"
             ],
             [
              0.3333333333333333,
              "#9c179e"
             ],
             [
              0.4444444444444444,
              "#bd3786"
             ],
             [
              0.5555555555555556,
              "#d8576b"
             ],
             [
              0.6666666666666666,
              "#ed7953"
             ],
             [
              0.7777777777777778,
              "#fb9f3a"
             ],
             [
              0.8888888888888888,
              "#fdca26"
             ],
             [
              1,
              "#f0f921"
             ]
            ],
            "type": "contour"
           }
          ],
          "contourcarpet": [
           {
            "colorbar": {
             "outlinewidth": 0,
             "ticks": ""
            },
            "type": "contourcarpet"
           }
          ],
          "heatmap": [
           {
            "colorbar": {
             "outlinewidth": 0,
             "ticks": ""
            },
            "colorscale": [
             [
              0,
              "#0d0887"
             ],
             [
              0.1111111111111111,
              "#46039f"
             ],
             [
              0.2222222222222222,
              "#7201a8"
             ],
             [
              0.3333333333333333,
              "#9c179e"
             ],
             [
              0.4444444444444444,
              "#bd3786"
             ],
             [
              0.5555555555555556,
              "#d8576b"
             ],
             [
              0.6666666666666666,
              "#ed7953"
             ],
             [
              0.7777777777777778,
              "#fb9f3a"
             ],
             [
              0.8888888888888888,
              "#fdca26"
             ],
             [
              1,
              "#f0f921"
             ]
            ],
            "type": "heatmap"
           }
          ],
          "heatmapgl": [
           {
            "colorbar": {
             "outlinewidth": 0,
             "ticks": ""
            },
            "colorscale": [
             [
              0,
              "#0d0887"
             ],
             [
              0.1111111111111111,
              "#46039f"
             ],
             [
              0.2222222222222222,
              "#7201a8"
             ],
             [
              0.3333333333333333,
              "#9c179e"
             ],
             [
              0.4444444444444444,
              "#bd3786"
             ],
             [
              0.5555555555555556,
              "#d8576b"
             ],
             [
              0.6666666666666666,
              "#ed7953"
             ],
             [
              0.7777777777777778,
              "#fb9f3a"
             ],
             [
              0.8888888888888888,
              "#fdca26"
             ],
             [
              1,
              "#f0f921"
             ]
            ],
            "type": "heatmapgl"
           }
          ],
          "histogram": [
           {
            "marker": {
             "pattern": {
              "fillmode": "overlay",
              "size": 10,
              "solidity": 0.2
             }
            },
            "type": "histogram"
           }
          ],
          "histogram2d": [
           {
            "colorbar": {
             "outlinewidth": 0,
             "ticks": ""
            },
            "colorscale": [
             [
              0,
              "#0d0887"
             ],
             [
              0.1111111111111111,
              "#46039f"
             ],
             [
              0.2222222222222222,
              "#7201a8"
             ],
             [
              0.3333333333333333,
              "#9c179e"
             ],
             [
              0.4444444444444444,
              "#bd3786"
             ],
             [
              0.5555555555555556,
              "#d8576b"
             ],
             [
              0.6666666666666666,
              "#ed7953"
             ],
             [
              0.7777777777777778,
              "#fb9f3a"
             ],
             [
              0.8888888888888888,
              "#fdca26"
             ],
             [
              1,
              "#f0f921"
             ]
            ],
            "type": "histogram2d"
           }
          ],
          "histogram2dcontour": [
           {
            "colorbar": {
             "outlinewidth": 0,
             "ticks": ""
            },
            "colorscale": [
             [
              0,
              "#0d0887"
             ],
             [
              0.1111111111111111,
              "#46039f"
             ],
             [
              0.2222222222222222,
              "#7201a8"
             ],
             [
              0.3333333333333333,
              "#9c179e"
             ],
             [
              0.4444444444444444,
              "#bd3786"
             ],
             [
              0.5555555555555556,
              "#d8576b"
             ],
             [
              0.6666666666666666,
              "#ed7953"
             ],
             [
              0.7777777777777778,
              "#fb9f3a"
             ],
             [
              0.8888888888888888,
              "#fdca26"
             ],
             [
              1,
              "#f0f921"
             ]
            ],
            "type": "histogram2dcontour"
           }
          ],
          "mesh3d": [
           {
            "colorbar": {
             "outlinewidth": 0,
             "ticks": ""
            },
            "type": "mesh3d"
           }
          ],
          "parcoords": [
           {
            "line": {
             "colorbar": {
              "outlinewidth": 0,
              "ticks": ""
             }
            },
            "type": "parcoords"
           }
          ],
          "pie": [
           {
            "automargin": true,
            "type": "pie"
           }
          ],
          "scatter": [
           {
            "marker": {
             "colorbar": {
              "outlinewidth": 0,
              "ticks": ""
             }
            },
            "type": "scatter"
           }
          ],
          "scatter3d": [
           {
            "line": {
             "colorbar": {
              "outlinewidth": 0,
              "ticks": ""
             }
            },
            "marker": {
             "colorbar": {
              "outlinewidth": 0,
              "ticks": ""
             }
            },
            "type": "scatter3d"
           }
          ],
          "scattercarpet": [
           {
            "marker": {
             "colorbar": {
              "outlinewidth": 0,
              "ticks": ""
             }
            },
            "type": "scattercarpet"
           }
          ],
          "scattergeo": [
           {
            "marker": {
             "colorbar": {
              "outlinewidth": 0,
              "ticks": ""
             }
            },
            "type": "scattergeo"
           }
          ],
          "scattergl": [
           {
            "marker": {
             "colorbar": {
              "outlinewidth": 0,
              "ticks": ""
             }
            },
            "type": "scattergl"
           }
          ],
          "scattermapbox": [
           {
            "marker": {
             "colorbar": {
              "outlinewidth": 0,
              "ticks": ""
             }
            },
            "type": "scattermapbox"
           }
          ],
          "scatterpolar": [
           {
            "marker": {
             "colorbar": {
              "outlinewidth": 0,
              "ticks": ""
             }
            },
            "type": "scatterpolar"
           }
          ],
          "scatterpolargl": [
           {
            "marker": {
             "colorbar": {
              "outlinewidth": 0,
              "ticks": ""
             }
            },
            "type": "scatterpolargl"
           }
          ],
          "scatterternary": [
           {
            "marker": {
             "colorbar": {
              "outlinewidth": 0,
              "ticks": ""
             }
            },
            "type": "scatterternary"
           }
          ],
          "surface": [
           {
            "colorbar": {
             "outlinewidth": 0,
             "ticks": ""
            },
            "colorscale": [
             [
              0,
              "#0d0887"
             ],
             [
              0.1111111111111111,
              "#46039f"
             ],
             [
              0.2222222222222222,
              "#7201a8"
             ],
             [
              0.3333333333333333,
              "#9c179e"
             ],
             [
              0.4444444444444444,
              "#bd3786"
             ],
             [
              0.5555555555555556,
              "#d8576b"
             ],
             [
              0.6666666666666666,
              "#ed7953"
             ],
             [
              0.7777777777777778,
              "#fb9f3a"
             ],
             [
              0.8888888888888888,
              "#fdca26"
             ],
             [
              1,
              "#f0f921"
             ]
            ],
            "type": "surface"
           }
          ],
          "table": [
           {
            "cells": {
             "fill": {
              "color": "#EBF0F8"
             },
             "line": {
              "color": "white"
             }
            },
            "header": {
             "fill": {
              "color": "#C8D4E3"
             },
             "line": {
              "color": "white"
             }
            },
            "type": "table"
           }
          ]
         },
         "layout": {
          "annotationdefaults": {
           "arrowcolor": "#2a3f5f",
           "arrowhead": 0,
           "arrowwidth": 1
          },
          "autotypenumbers": "strict",
          "coloraxis": {
           "colorbar": {
            "outlinewidth": 0,
            "ticks": ""
           }
          },
          "colorscale": {
           "diverging": [
            [
             0,
             "#8e0152"
            ],
            [
             0.1,
             "#c51b7d"
            ],
            [
             0.2,
             "#de77ae"
            ],
            [
             0.3,
             "#f1b6da"
            ],
            [
             0.4,
             "#fde0ef"
            ],
            [
             0.5,
             "#f7f7f7"
            ],
            [
             0.6,
             "#e6f5d0"
            ],
            [
             0.7,
             "#b8e186"
            ],
            [
             0.8,
             "#7fbc41"
            ],
            [
             0.9,
             "#4d9221"
            ],
            [
             1,
             "#276419"
            ]
           ],
           "sequential": [
            [
             0,
             "#0d0887"
            ],
            [
             0.1111111111111111,
             "#46039f"
            ],
            [
             0.2222222222222222,
             "#7201a8"
            ],
            [
             0.3333333333333333,
             "#9c179e"
            ],
            [
             0.4444444444444444,
             "#bd3786"
            ],
            [
             0.5555555555555556,
             "#d8576b"
            ],
            [
             0.6666666666666666,
             "#ed7953"
            ],
            [
             0.7777777777777778,
             "#fb9f3a"
            ],
            [
             0.8888888888888888,
             "#fdca26"
            ],
            [
             1,
             "#f0f921"
            ]
           ],
           "sequentialminus": [
            [
             0,
             "#0d0887"
            ],
            [
             0.1111111111111111,
             "#46039f"
            ],
            [
             0.2222222222222222,
             "#7201a8"
            ],
            [
             0.3333333333333333,
             "#9c179e"
            ],
            [
             0.4444444444444444,
             "#bd3786"
            ],
            [
             0.5555555555555556,
             "#d8576b"
            ],
            [
             0.6666666666666666,
             "#ed7953"
            ],
            [
             0.7777777777777778,
             "#fb9f3a"
            ],
            [
             0.8888888888888888,
             "#fdca26"
            ],
            [
             1,
             "#f0f921"
            ]
           ]
          },
          "colorway": [
           "#636efa",
           "#EF553B",
           "#00cc96",
           "#ab63fa",
           "#FFA15A",
           "#19d3f3",
           "#FF6692",
           "#B6E880",
           "#FF97FF",
           "#FECB52"
          ],
          "font": {
           "color": "#2a3f5f"
          },
          "geo": {
           "bgcolor": "white",
           "lakecolor": "white",
           "landcolor": "#E5ECF6",
           "showlakes": true,
           "showland": true,
           "subunitcolor": "white"
          },
          "hoverlabel": {
           "align": "left"
          },
          "hovermode": "closest",
          "mapbox": {
           "style": "light"
          },
          "paper_bgcolor": "white",
          "plot_bgcolor": "#E5ECF6",
          "polar": {
           "angularaxis": {
            "gridcolor": "white",
            "linecolor": "white",
            "ticks": ""
           },
           "bgcolor": "#E5ECF6",
           "radialaxis": {
            "gridcolor": "white",
            "linecolor": "white",
            "ticks": ""
           }
          },
          "scene": {
           "xaxis": {
            "backgroundcolor": "#E5ECF6",
            "gridcolor": "white",
            "gridwidth": 2,
            "linecolor": "white",
            "showbackground": true,
            "ticks": "",
            "zerolinecolor": "white"
           },
           "yaxis": {
            "backgroundcolor": "#E5ECF6",
            "gridcolor": "white",
            "gridwidth": 2,
            "linecolor": "white",
            "showbackground": true,
            "ticks": "",
            "zerolinecolor": "white"
           },
           "zaxis": {
            "backgroundcolor": "#E5ECF6",
            "gridcolor": "white",
            "gridwidth": 2,
            "linecolor": "white",
            "showbackground": true,
            "ticks": "",
            "zerolinecolor": "white"
           }
          },
          "shapedefaults": {
           "line": {
            "color": "#2a3f5f"
           }
          },
          "ternary": {
           "aaxis": {
            "gridcolor": "white",
            "linecolor": "white",
            "ticks": ""
           },
           "baxis": {
            "gridcolor": "white",
            "linecolor": "white",
            "ticks": ""
           },
           "bgcolor": "#E5ECF6",
           "caxis": {
            "gridcolor": "white",
            "linecolor": "white",
            "ticks": ""
           }
          },
          "title": {
           "x": 0.05
          },
          "xaxis": {
           "automargin": true,
           "gridcolor": "white",
           "linecolor": "white",
           "ticks": "",
           "title": {
            "standoff": 15
           },
           "zerolinecolor": "white",
           "zerolinewidth": 2
          },
          "yaxis": {
           "automargin": true,
           "gridcolor": "white",
           "linecolor": "white",
           "ticks": "",
           "title": {
            "standoff": 15
           },
           "zerolinecolor": "white",
           "zerolinewidth": 2
          }
         }
        },
        "title": {
         "text": "Elbow method"
        },
        "xaxis": {
         "anchor": "y",
         "domain": [
          0,
          1
         ],
         "title": {
          "text": "x"
         }
        },
        "yaxis": {
         "anchor": "x",
         "domain": [
          0,
          1
         ],
         "title": {
          "text": "y"
         }
        }
       }
      }
     },
     "metadata": {},
     "output_type": "display_data"
    }
   ],
   "source": [
    "# Decision de numero de clusters para cluster 0 en variables de operación\n",
    "df_cluster_0=df_mm.copy().query(\"cluster==0\") # df escalado con solo el cluster 0\n",
    "df_mm_control0=df_cluster_0[var_operacionales] # df de variables operacionales para clusterizar\n",
    "inercias = [] \n",
    "K = range(1,15) \n",
    "for k in K:\n",
    "    km = KMeans(init='k-means++',n_clusters=k)\n",
    "    km.fit(df_mm_control0)\n",
    "    inercias.append(km.inertia_)\n",
    "    \n",
    "    y_km=km.predict(df_mm_control0)\n",
    "\n",
    "fig = px.line( x=K, y=inercias, title=\"Elbow method\") \n",
    "fig.show()"
   ]
  },
  {
   "cell_type": "code",
   "execution_count": 22,
   "metadata": {},
   "outputs": [],
   "source": [
    "# Aplicamos K-means \n",
    "n_clusters=4\n",
    "km = KMeans(n_clusters=n_clusters, init='k-means++') \n",
    "y_km = km.fit_predict(df_mm_control0) \n",
    "df_cluster_0['cluster_rec']=y_km \n",
    "df_cluster_0['Atollos_Total_case']=df.loc[df_cluster_0.index,'Atollos_Total_case']\n",
    "df2.loc[df_cluster_0.index,'cluster_rec']=df_cluster_0['cluster_rec'] # df sin escalar con la variables de cluster segun variables opearacionales\n",
    "\n",
    "df20=df2.copy().query('cluster==0') "
   ]
  },
  {
   "cell_type": "code",
   "execution_count": 23,
   "metadata": {},
   "outputs": [
    {
     "data": {
      "text/html": [
       "<div>\n",
       "<style scoped>\n",
       "    .dataframe tbody tr th:only-of-type {\n",
       "        vertical-align: middle;\n",
       "    }\n",
       "\n",
       "    .dataframe tbody tr th {\n",
       "        vertical-align: top;\n",
       "    }\n",
       "\n",
       "    .dataframe thead th {\n",
       "        text-align: right;\n",
       "    }\n",
       "</style>\n",
       "<table border=\"1\" class=\"dataframe\">\n",
       "  <thead>\n",
       "    <tr style=\"text-align: right;\">\n",
       "      <th></th>\n",
       "      <th>mean_avg_finos_3_(t-1)</th>\n",
       "      <th>mean_recirculated_pebbles_3_(t-1)</th>\n",
       "      <th>mean_speed_central_feeders_3_(t-1)</th>\n",
       "      <th>mean_avg_fresh_feed_tonnage_3_(t-1)</th>\n",
       "      <th>mean_avg_presion_descanso_3_(t-1)</th>\n",
       "      <th>mean_arcillas_3</th>\n",
       "      <th>mean_BN_054_3_(t-1)</th>\n",
       "      <th>mean_BN_055_3_(t-1)</th>\n",
       "    </tr>\n",
       "    <tr>\n",
       "      <th>cluster_rec</th>\n",
       "      <th></th>\n",
       "      <th></th>\n",
       "      <th></th>\n",
       "      <th></th>\n",
       "      <th></th>\n",
       "      <th></th>\n",
       "      <th></th>\n",
       "      <th></th>\n",
       "    </tr>\n",
       "  </thead>\n",
       "  <tbody>\n",
       "    <tr>\n",
       "      <th>0.0</th>\n",
       "      <td>86.753538</td>\n",
       "      <td>97.861310</td>\n",
       "      <td>39.636598</td>\n",
       "      <td>5252.060168</td>\n",
       "      <td>5283.515572</td>\n",
       "      <td>0.292391</td>\n",
       "      <td>55.668429</td>\n",
       "      <td>49.091922</td>\n",
       "    </tr>\n",
       "    <tr>\n",
       "      <th>1.0</th>\n",
       "      <td>85.653208</td>\n",
       "      <td>257.026094</td>\n",
       "      <td>36.224493</td>\n",
       "      <td>5231.365403</td>\n",
       "      <td>5239.078059</td>\n",
       "      <td>0.286592</td>\n",
       "      <td>46.960484</td>\n",
       "      <td>35.209974</td>\n",
       "    </tr>\n",
       "    <tr>\n",
       "      <th>2.0</th>\n",
       "      <td>82.935390</td>\n",
       "      <td>186.487954</td>\n",
       "      <td>43.823815</td>\n",
       "      <td>5195.037986</td>\n",
       "      <td>5172.936843</td>\n",
       "      <td>0.299454</td>\n",
       "      <td>50.819132</td>\n",
       "      <td>57.219676</td>\n",
       "    </tr>\n",
       "    <tr>\n",
       "      <th>3.0</th>\n",
       "      <td>83.496631</td>\n",
       "      <td>141.996169</td>\n",
       "      <td>42.813688</td>\n",
       "      <td>5168.657260</td>\n",
       "      <td>5194.916859</td>\n",
       "      <td>0.298896</td>\n",
       "      <td>50.571338</td>\n",
       "      <td>53.130147</td>\n",
       "    </tr>\n",
       "  </tbody>\n",
       "</table>\n",
       "</div>"
      ],
      "text/plain": [
       "             mean_avg_finos_3_(t-1)  mean_recirculated_pebbles_3_(t-1)  \\\n",
       "cluster_rec                                                              \n",
       "0.0                       86.753538                          97.861310   \n",
       "1.0                       85.653208                         257.026094   \n",
       "2.0                       82.935390                         186.487954   \n",
       "3.0                       83.496631                         141.996169   \n",
       "\n",
       "             mean_speed_central_feeders_3_(t-1)  \\\n",
       "cluster_rec                                       \n",
       "0.0                                   39.636598   \n",
       "1.0                                   36.224493   \n",
       "2.0                                   43.823815   \n",
       "3.0                                   42.813688   \n",
       "\n",
       "             mean_avg_fresh_feed_tonnage_3_(t-1)  \\\n",
       "cluster_rec                                        \n",
       "0.0                                  5252.060168   \n",
       "1.0                                  5231.365403   \n",
       "2.0                                  5195.037986   \n",
       "3.0                                  5168.657260   \n",
       "\n",
       "             mean_avg_presion_descanso_3_(t-1)  mean_arcillas_3  \\\n",
       "cluster_rec                                                       \n",
       "0.0                                5283.515572         0.292391   \n",
       "1.0                                5239.078059         0.286592   \n",
       "2.0                                5172.936843         0.299454   \n",
       "3.0                                5194.916859         0.298896   \n",
       "\n",
       "             mean_BN_054_3_(t-1)  mean_BN_055_3_(t-1)  \n",
       "cluster_rec                                            \n",
       "0.0                    55.668429            49.091922  \n",
       "1.0                    46.960484            35.209974  \n",
       "2.0                    50.819132            57.219676  \n",
       "3.0                    50.571338            53.130147  "
      ]
     },
     "execution_count": 23,
     "metadata": {},
     "output_type": "execute_result"
    }
   ],
   "source": [
    "# promedio de como se comporta cada variable en cada cluster\n",
    "df_context20=df20[var_contexto+['cluster_rec']].groupby(\"cluster_rec\").mean() \n",
    "df_context20"
   ]
  },
  {
   "cell_type": "code",
   "execution_count": 24,
   "metadata": {},
   "outputs": [
    {
     "data": {
      "text/html": [
       "<div>\n",
       "<style scoped>\n",
       "    .dataframe tbody tr th:only-of-type {\n",
       "        vertical-align: middle;\n",
       "    }\n",
       "\n",
       "    .dataframe tbody tr th {\n",
       "        vertical-align: top;\n",
       "    }\n",
       "\n",
       "    .dataframe thead th {\n",
       "        text-align: right;\n",
       "    }\n",
       "</style>\n",
       "<table border=\"1\" class=\"dataframe\">\n",
       "  <thead>\n",
       "    <tr style=\"text-align: right;\">\n",
       "      <th></th>\n",
       "      <th>Num atollos</th>\n",
       "      <th>Num casos</th>\n",
       "      <th>Prob atollo dentro del cluster</th>\n",
       "      <th>Covertura</th>\n",
       "      <th>riesgo arcilla</th>\n",
       "      <th>Prob riesgo arcilla</th>\n",
       "      <th>pct_cmin</th>\n",
       "      <th>pct_cmax</th>\n",
       "      <th>pct_med</th>\n",
       "      <th>rpm_cmin</th>\n",
       "      <th>rpm_cmax</th>\n",
       "      <th>rpm_med</th>\n",
       "      <th>arc_med</th>\n",
       "      <th>fino_med</th>\n",
       "      <th>tph_med</th>\n",
       "      <th>pebbles_med</th>\n",
       "      <th>agua_trommel_sag4_med</th>\n",
       "      <th>agua_harnero_sag4_med</th>\n",
       "      <th>presion_descanso_med</th>\n",
       "      <th>agua_total</th>\n",
       "      <th>intermedios_med</th>\n",
       "    </tr>\n",
       "    <tr>\n",
       "      <th>cluster_rec</th>\n",
       "      <th></th>\n",
       "      <th></th>\n",
       "      <th></th>\n",
       "      <th></th>\n",
       "      <th></th>\n",
       "      <th></th>\n",
       "      <th></th>\n",
       "      <th></th>\n",
       "      <th></th>\n",
       "      <th></th>\n",
       "      <th></th>\n",
       "      <th></th>\n",
       "      <th></th>\n",
       "      <th></th>\n",
       "      <th></th>\n",
       "      <th></th>\n",
       "      <th></th>\n",
       "      <th></th>\n",
       "      <th></th>\n",
       "      <th></th>\n",
       "      <th></th>\n",
       "    </tr>\n",
       "  </thead>\n",
       "  <tbody>\n",
       "    <tr>\n",
       "      <th>0</th>\n",
       "      <td>20.0</td>\n",
       "      <td>150</td>\n",
       "      <td>13.333333</td>\n",
       "      <td>27.777778</td>\n",
       "      <td>75</td>\n",
       "      <td>50.000000</td>\n",
       "      <td>70.018751</td>\n",
       "      <td>71.588379</td>\n",
       "      <td>70.488578</td>\n",
       "      <td>8.309750</td>\n",
       "      <td>8.834116</td>\n",
       "      <td>8.768550</td>\n",
       "      <td>0.290200</td>\n",
       "      <td>87.159907</td>\n",
       "      <td>5195.081432</td>\n",
       "      <td>190.673086</td>\n",
       "      <td>95.852103</td>\n",
       "      <td>368.593915</td>\n",
       "      <td>5259.954409</td>\n",
       "      <td>464.446019</td>\n",
       "      <td>7.179104</td>\n",
       "    </tr>\n",
       "    <tr>\n",
       "      <th>1</th>\n",
       "      <td>8.0</td>\n",
       "      <td>35</td>\n",
       "      <td>22.857143</td>\n",
       "      <td>11.111111</td>\n",
       "      <td>13</td>\n",
       "      <td>37.142857</td>\n",
       "      <td>73.623552</td>\n",
       "      <td>76.317450</td>\n",
       "      <td>73.993565</td>\n",
       "      <td>6.815847</td>\n",
       "      <td>7.522926</td>\n",
       "      <td>7.132828</td>\n",
       "      <td>0.285140</td>\n",
       "      <td>85.999240</td>\n",
       "      <td>5099.967138</td>\n",
       "      <td>326.756736</td>\n",
       "      <td>70.724309</td>\n",
       "      <td>425.549547</td>\n",
       "      <td>5272.979010</td>\n",
       "      <td>496.273856</td>\n",
       "      <td>6.999725</td>\n",
       "    </tr>\n",
       "    <tr>\n",
       "      <th>2</th>\n",
       "      <td>22.0</td>\n",
       "      <td>85</td>\n",
       "      <td>25.882353</td>\n",
       "      <td>30.555556</td>\n",
       "      <td>55</td>\n",
       "      <td>64.705882</td>\n",
       "      <td>72.885255</td>\n",
       "      <td>74.920873</td>\n",
       "      <td>73.940216</td>\n",
       "      <td>7.608136</td>\n",
       "      <td>8.253756</td>\n",
       "      <td>7.887124</td>\n",
       "      <td>0.296491</td>\n",
       "      <td>82.663228</td>\n",
       "      <td>5172.077753</td>\n",
       "      <td>254.826474</td>\n",
       "      <td>58.870568</td>\n",
       "      <td>236.446268</td>\n",
       "      <td>5177.432554</td>\n",
       "      <td>295.316836</td>\n",
       "      <td>9.322467</td>\n",
       "    </tr>\n",
       "    <tr>\n",
       "      <th>3</th>\n",
       "      <td>22.0</td>\n",
       "      <td>105</td>\n",
       "      <td>20.952381</td>\n",
       "      <td>30.555556</td>\n",
       "      <td>74</td>\n",
       "      <td>70.476190</td>\n",
       "      <td>71.853429</td>\n",
       "      <td>73.828801</td>\n",
       "      <td>72.745031</td>\n",
       "      <td>8.197577</td>\n",
       "      <td>8.934385</td>\n",
       "      <td>8.518342</td>\n",
       "      <td>0.298813</td>\n",
       "      <td>83.311526</td>\n",
       "      <td>5157.173239</td>\n",
       "      <td>251.987004</td>\n",
       "      <td>70.149732</td>\n",
       "      <td>235.372929</td>\n",
       "      <td>5184.136203</td>\n",
       "      <td>305.522662</td>\n",
       "      <td>8.352428</td>\n",
       "    </tr>\n",
       "  </tbody>\n",
       "</table>\n",
       "</div>"
      ],
      "text/plain": [
       "             Num atollos  Num casos  Prob atollo dentro del cluster  \\\n",
       "cluster_rec                                                           \n",
       "0                   20.0        150                       13.333333   \n",
       "1                    8.0         35                       22.857143   \n",
       "2                   22.0         85                       25.882353   \n",
       "3                   22.0        105                       20.952381   \n",
       "\n",
       "             Covertura  riesgo arcilla  Prob riesgo arcilla   pct_cmin  \\\n",
       "cluster_rec                                                              \n",
       "0            27.777778              75            50.000000  70.018751   \n",
       "1            11.111111              13            37.142857  73.623552   \n",
       "2            30.555556              55            64.705882  72.885255   \n",
       "3            30.555556              74            70.476190  71.853429   \n",
       "\n",
       "              pct_cmax    pct_med  rpm_cmin  rpm_cmax   rpm_med   arc_med  \\\n",
       "cluster_rec                                                                 \n",
       "0            71.588379  70.488578  8.309750  8.834116  8.768550  0.290200   \n",
       "1            76.317450  73.993565  6.815847  7.522926  7.132828  0.285140   \n",
       "2            74.920873  73.940216  7.608136  8.253756  7.887124  0.296491   \n",
       "3            73.828801  72.745031  8.197577  8.934385  8.518342  0.298813   \n",
       "\n",
       "              fino_med      tph_med  pebbles_med  agua_trommel_sag4_med  \\\n",
       "cluster_rec                                                               \n",
       "0            87.159907  5195.081432   190.673086              95.852103   \n",
       "1            85.999240  5099.967138   326.756736              70.724309   \n",
       "2            82.663228  5172.077753   254.826474              58.870568   \n",
       "3            83.311526  5157.173239   251.987004              70.149732   \n",
       "\n",
       "             agua_harnero_sag4_med  presion_descanso_med  agua_total  \\\n",
       "cluster_rec                                                            \n",
       "0                       368.593915           5259.954409  464.446019   \n",
       "1                       425.549547           5272.979010  496.273856   \n",
       "2                       236.446268           5177.432554  295.316836   \n",
       "3                       235.372929           5184.136203  305.522662   \n",
       "\n",
       "             intermedios_med  \n",
       "cluster_rec                   \n",
       "0                   7.179104  \n",
       "1                   6.999725  \n",
       "2                   9.322467  \n",
       "3                   8.352428  "
      ]
     },
     "execution_count": 24,
     "metadata": {},
     "output_type": "execute_result"
    }
   ],
   "source": [
    "\n",
    "# df20['cluster_rec']=y_km \n",
    "\n",
    "# DF con estadisticos del clusterizacion de variables operacionales\n",
    "df_est=pd.DataFrame() \n",
    "Total_atollos=df_cluster_0.Atollos_Total_case.sum()\n",
    "df_est[\"Num atollos\"]=df_cluster_0[[\"cluster_rec\",\"Atollos_Total_case\"]].groupby(\"cluster_rec\").sum()\n",
    "df_est[\"Num casos\"]=df_cluster_0[[\"cluster_rec\",\"Atollos_Total_case\"]].groupby(\"cluster_rec\").apply(lambda x: len(x))\n",
    "df_est[\"Prob atollo dentro del cluster\"]=df_est[\"Num atollos\"]/df_est[\"Num casos\"]*100\n",
    "df_est[\"Covertura\"]=df_est[\"Num atollos\"]/Total_atollos*100 \n",
    "\n",
    "df_est[\"riesgo arcilla\"]=df20[[\"cluster_rec\",\"riesgo_arcilla\"]].groupby(\"cluster_rec\").sum()\n",
    "df_est[\"Prob riesgo arcilla\"]=df_est[\"riesgo arcilla\"]/df_est[\"Num casos\"]*100\n",
    " \n",
    "# incorporacion de variables que contienen las cotas de recomendaciones, y variables mineralogicas como informativas\n",
    "df_rec_0=df_est.copy()\n",
    "df_rec_0['pct_cmin']=df20[[\"cluster_rec\"]+var_operacionales].groupby(\"cluster_rec\").quantile(q=0.05)['mean_avg_pct_solids_3_(t-1)'] \n",
    "df_rec_0['pct_cmax']=df20[[\"cluster_rec\"]+var_operacionales].groupby(\"cluster_rec\").quantile(q=0.95)['mean_avg_pct_solids_3_(t-1)']\n",
    "df_rec_0['pct_med']=df20[[\"cluster_rec\"]+var_operacionales].groupby(\"cluster_rec\").median()['mean_avg_pct_solids_3_(t-1)']\n",
    "df_rec_0['rpm_cmin']=df20[[\"cluster_rec\"]+var_operacionales].groupby(\"cluster_rec\").quantile(q=0.05)['mean_avg_rpm_3_(t-1)']\n",
    "df_rec_0['rpm_cmax']=df20[[\"cluster_rec\"]+var_operacionales].groupby(\"cluster_rec\").quantile(q=0.95)['mean_avg_rpm_3_(t-1)']\n",
    "df_rec_0['rpm_med']=df20[[\"cluster_rec\"]+var_operacionales].groupby(\"cluster_rec\").median()['mean_avg_rpm_3_(t-1)']\n",
    "df_rec_0['arc_med']=df20[[\"cluster_rec\"]+var_operacionales+var_contexto].groupby(\"cluster_rec\").median()['mean_arcillas_3']\n",
    "df_rec_0['fino_med']=df20[[\"cluster_rec\"]+var_operacionales+var_contexto].groupby(\"cluster_rec\").median()['mean_avg_finos_3_(t-1)']\n",
    "df_rec_0['tph_med']=df20[[\"cluster_rec\"]+var_operacionales+var_contexto].groupby(\"cluster_rec\").median()[\"mean_avg_fresh_feed_tonnage_3_(t-1)\"]\n",
    "df_rec_0['pebbles_med']=df20[[\"cluster_rec\"]+var_operacionales+var_contexto+[\"mean_avg_pebbles_3_(t-1)\"]].groupby(\"cluster_rec\").median()[\"mean_avg_pebbles_3_(t-1)\"]\n",
    "df_rec_0['agua_trommel_sag4_med']=df20[[\"cluster_rec\"]+var_operacionales+var_contexto+[\"mean_agua_trommel_sag4_3_(t-1)\"]].groupby(\"cluster_rec\").median()[\"mean_agua_trommel_sag4_3_(t-1)\"]\n",
    "df_rec_0['agua_harnero_sag4_med']=df20[[\"cluster_rec\"]+var_operacionales+var_contexto+[\"mean_agua_harnero_sag4_3_(t-1)\"]].groupby(\"cluster_rec\").median()[\"mean_agua_harnero_sag4_3_(t-1)\"]\n",
    "df_rec_0[\"presion_descanso_med\"]=df20[[\"cluster_rec\"]+var_operacionales+var_contexto].groupby(\"cluster_rec\").median()[\"mean_avg_presion_descanso_3_(t-1)\"]\n",
    "df_rec_0['agua_total']=df_rec_0['agua_trommel_sag4_med']+df_rec_0['agua_harnero_sag4_med']\n",
    "df_rec_0['intermedios_med']=df20[[\"cluster_rec\"]+var_operacionales+var_contexto+[\"mean_intermedios_3_(t-1)\"]].groupby(\"cluster_rec\").median()[\"mean_intermedios_3_(t-1)\"]\n",
    "df_rec_0"
   ]
  },
  {
   "cell_type": "code",
   "execution_count": 25,
   "metadata": {},
   "outputs": [
    {
     "data": {
      "text/html": [
       "<div>\n",
       "<style scoped>\n",
       "    .dataframe tbody tr th:only-of-type {\n",
       "        vertical-align: middle;\n",
       "    }\n",
       "\n",
       "    .dataframe tbody tr th {\n",
       "        vertical-align: top;\n",
       "    }\n",
       "\n",
       "    .dataframe thead th {\n",
       "        text-align: right;\n",
       "    }\n",
       "</style>\n",
       "<table border=\"1\" class=\"dataframe\">\n",
       "  <thead>\n",
       "    <tr style=\"text-align: right;\">\n",
       "      <th></th>\n",
       "      <th>Num atollos</th>\n",
       "      <th>Num casos</th>\n",
       "      <th>Prob atollo dentro del cluster</th>\n",
       "      <th>Covertura</th>\n",
       "      <th>riesgo arcilla</th>\n",
       "      <th>Prob riesgo arcilla</th>\n",
       "      <th>pct_cmin</th>\n",
       "      <th>pct_cmax</th>\n",
       "      <th>pct_med</th>\n",
       "      <th>rpm_cmin</th>\n",
       "      <th>rpm_cmax</th>\n",
       "      <th>rpm_med</th>\n",
       "      <th>arc_med</th>\n",
       "      <th>fino_med</th>\n",
       "      <th>tph_med</th>\n",
       "      <th>pebbles_med</th>\n",
       "      <th>agua_trommel_sag4_med</th>\n",
       "      <th>agua_harnero_sag4_med</th>\n",
       "      <th>presion_descanso_med</th>\n",
       "      <th>agua_total</th>\n",
       "      <th>intermedios_med</th>\n",
       "      <th>prob panda</th>\n",
       "    </tr>\n",
       "    <tr>\n",
       "      <th>cluster_rec</th>\n",
       "      <th></th>\n",
       "      <th></th>\n",
       "      <th></th>\n",
       "      <th></th>\n",
       "      <th></th>\n",
       "      <th></th>\n",
       "      <th></th>\n",
       "      <th></th>\n",
       "      <th></th>\n",
       "      <th></th>\n",
       "      <th></th>\n",
       "      <th></th>\n",
       "      <th></th>\n",
       "      <th></th>\n",
       "      <th></th>\n",
       "      <th></th>\n",
       "      <th></th>\n",
       "      <th></th>\n",
       "      <th></th>\n",
       "      <th></th>\n",
       "      <th></th>\n",
       "      <th></th>\n",
       "    </tr>\n",
       "  </thead>\n",
       "  <tbody>\n",
       "    <tr>\n",
       "      <th>0</th>\n",
       "      <td>20.0</td>\n",
       "      <td>150</td>\n",
       "      <td>13.333333</td>\n",
       "      <td>27.777778</td>\n",
       "      <td>75</td>\n",
       "      <td>50.000000</td>\n",
       "      <td>70.018751</td>\n",
       "      <td>71.588379</td>\n",
       "      <td>70.488578</td>\n",
       "      <td>8.309750</td>\n",
       "      <td>8.834116</td>\n",
       "      <td>8.768550</td>\n",
       "      <td>0.290200</td>\n",
       "      <td>87.159907</td>\n",
       "      <td>5195.081432</td>\n",
       "      <td>190.673086</td>\n",
       "      <td>95.852103</td>\n",
       "      <td>368.593915</td>\n",
       "      <td>5259.954409</td>\n",
       "      <td>464.446019</td>\n",
       "      <td>7.179104</td>\n",
       "      <td>41.122566</td>\n",
       "    </tr>\n",
       "    <tr>\n",
       "      <th>1</th>\n",
       "      <td>8.0</td>\n",
       "      <td>35</td>\n",
       "      <td>22.857143</td>\n",
       "      <td>11.111111</td>\n",
       "      <td>13</td>\n",
       "      <td>37.142857</td>\n",
       "      <td>73.623552</td>\n",
       "      <td>76.317450</td>\n",
       "      <td>73.993565</td>\n",
       "      <td>6.815847</td>\n",
       "      <td>7.522926</td>\n",
       "      <td>7.132828</td>\n",
       "      <td>0.285140</td>\n",
       "      <td>85.999240</td>\n",
       "      <td>5099.967138</td>\n",
       "      <td>326.756736</td>\n",
       "      <td>70.724309</td>\n",
       "      <td>425.549547</td>\n",
       "      <td>5272.979010</td>\n",
       "      <td>496.273856</td>\n",
       "      <td>6.999725</td>\n",
       "      <td>41.122566</td>\n",
       "    </tr>\n",
       "    <tr>\n",
       "      <th>2</th>\n",
       "      <td>22.0</td>\n",
       "      <td>85</td>\n",
       "      <td>25.882353</td>\n",
       "      <td>30.555556</td>\n",
       "      <td>55</td>\n",
       "      <td>64.705882</td>\n",
       "      <td>72.885255</td>\n",
       "      <td>74.920873</td>\n",
       "      <td>73.940216</td>\n",
       "      <td>7.608136</td>\n",
       "      <td>8.253756</td>\n",
       "      <td>7.887124</td>\n",
       "      <td>0.296491</td>\n",
       "      <td>82.663228</td>\n",
       "      <td>5172.077753</td>\n",
       "      <td>254.826474</td>\n",
       "      <td>58.870568</td>\n",
       "      <td>236.446268</td>\n",
       "      <td>5177.432554</td>\n",
       "      <td>295.316836</td>\n",
       "      <td>9.322467</td>\n",
       "      <td>40.206186</td>\n",
       "    </tr>\n",
       "    <tr>\n",
       "      <th>3</th>\n",
       "      <td>22.0</td>\n",
       "      <td>105</td>\n",
       "      <td>20.952381</td>\n",
       "      <td>30.555556</td>\n",
       "      <td>74</td>\n",
       "      <td>70.476190</td>\n",
       "      <td>71.853429</td>\n",
       "      <td>73.828801</td>\n",
       "      <td>72.745031</td>\n",
       "      <td>8.197577</td>\n",
       "      <td>8.934385</td>\n",
       "      <td>8.518342</td>\n",
       "      <td>0.298813</td>\n",
       "      <td>83.311526</td>\n",
       "      <td>5157.173239</td>\n",
       "      <td>251.987004</td>\n",
       "      <td>70.149732</td>\n",
       "      <td>235.372929</td>\n",
       "      <td>5184.136203</td>\n",
       "      <td>305.522662</td>\n",
       "      <td>8.352428</td>\n",
       "      <td>40.206186</td>\n",
       "    </tr>\n",
       "  </tbody>\n",
       "</table>\n",
       "</div>"
      ],
      "text/plain": [
       "             Num atollos  Num casos  Prob atollo dentro del cluster  \\\n",
       "cluster_rec                                                           \n",
       "0                   20.0        150                       13.333333   \n",
       "1                    8.0         35                       22.857143   \n",
       "2                   22.0         85                       25.882353   \n",
       "3                   22.0        105                       20.952381   \n",
       "\n",
       "             Covertura  riesgo arcilla  Prob riesgo arcilla   pct_cmin  \\\n",
       "cluster_rec                                                              \n",
       "0            27.777778              75            50.000000  70.018751   \n",
       "1            11.111111              13            37.142857  73.623552   \n",
       "2            30.555556              55            64.705882  72.885255   \n",
       "3            30.555556              74            70.476190  71.853429   \n",
       "\n",
       "              pct_cmax    pct_med  rpm_cmin  rpm_cmax   rpm_med   arc_med  \\\n",
       "cluster_rec                                                                 \n",
       "0            71.588379  70.488578  8.309750  8.834116  8.768550  0.290200   \n",
       "1            76.317450  73.993565  6.815847  7.522926  7.132828  0.285140   \n",
       "2            74.920873  73.940216  7.608136  8.253756  7.887124  0.296491   \n",
       "3            73.828801  72.745031  8.197577  8.934385  8.518342  0.298813   \n",
       "\n",
       "              fino_med      tph_med  pebbles_med  agua_trommel_sag4_med  \\\n",
       "cluster_rec                                                               \n",
       "0            87.159907  5195.081432   190.673086              95.852103   \n",
       "1            85.999240  5099.967138   326.756736              70.724309   \n",
       "2            82.663228  5172.077753   254.826474              58.870568   \n",
       "3            83.311526  5157.173239   251.987004              70.149732   \n",
       "\n",
       "             agua_harnero_sag4_med  presion_descanso_med  agua_total  \\\n",
       "cluster_rec                                                            \n",
       "0                       368.593915           5259.954409  464.446019   \n",
       "1                       425.549547           5272.979010  496.273856   \n",
       "2                       236.446268           5177.432554  295.316836   \n",
       "3                       235.372929           5184.136203  305.522662   \n",
       "\n",
       "             intermedios_med  prob panda  \n",
       "cluster_rec                               \n",
       "0                   7.179104   41.122566  \n",
       "1                   6.999725   41.122566  \n",
       "2                   9.322467   40.206186  \n",
       "3                   8.352428   40.206186  "
      ]
     },
     "execution_count": 25,
     "metadata": {},
     "output_type": "execute_result"
    }
   ],
   "source": [
    "# Para las horas de interes se calcula la probabilidad de atollo más cercana\n",
    "list_prob = []\n",
    "for i in [0,1,2,3]:\n",
    "    \n",
    "    # print(i)\n",
    "    finos_to_risk = df_context20[df_context20.index\n",
    "                                    == i][\"mean_avg_finos_3_(t-1)\"].values[0]\n",
    "    arcilla_to_risk = df_context20[df_context20.index\n",
    "                                        == i][\"mean_arcillas_3\"].values[0]\n",
    "    df_risk[\"dist\"] = df_risk.apply(lambda x: np.sqrt(\n",
    "        (x[\"threshold_arcilla\"]-arcilla_to_risk)**2+(x[\"threshold_finos\"]-finos_to_risk)**2), axis=1)\n",
    "    prob = df_risk[df_risk[\"dist\"] ==\n",
    "                    df_risk[\"dist\"].min()][\"probability\"].values[0]\n",
    "    list_prob.append(prob)\n",
    "    \n",
    "# lista de probabilidades\n",
    "df_rec_0[\"prob panda\"] = list_prob\n",
    "df_rec_0[\"prob panda\"]=df_rec_0[\"prob panda\"]/max_probability*100\n",
    "df_rec_0"
   ]
  },
  {
   "cell_type": "code",
   "execution_count": 26,
   "metadata": {},
   "outputs": [],
   "source": [
    "df_rec_0.to_excel(\"ls1_df_rec_0.xlsx\")"
   ]
  },
  {
   "cell_type": "code",
   "execution_count": 27,
   "metadata": {},
   "outputs": [
    {
     "data": {
      "text/plain": [
       "<AxesSubplot:xlabel='cluster_rec', ylabel='mean_avg_rpm_3_(t-1)'>"
      ]
     },
     "execution_count": 27,
     "metadata": {},
     "output_type": "execute_result"
    },
    {
     "data": {
      "image/png": "[encoded data removed]",
      "text/plain": [
       "<Figure size 936x360 with 2 Axes>"
      ]
     },
     "metadata": {
      "needs_background": "light"
     },
     "output_type": "display_data"
    }
   ],
   "source": [
    "# sns.histplot(data=df_cluster_0, x=\"mean_avg_rpm_3\", hue=\"cluster_rec\") # 'mean_avg_rpm_3','mean_avg_pct_solids_3'\n",
    "fig, axes = plt.subplots(1,2,figsize=(13,5))\n",
    "sns.boxplot(data=df20, x=\"cluster_rec\", y='mean_avg_pct_solids_3_(t-1)',ax=axes[0])\n",
    "sns.boxplot(data=df20, x=\"cluster_rec\", y='mean_avg_rpm_3_(t-1)',ax=axes[1])"
   ]
  },
  {
   "attachments": {},
   "cell_type": "markdown",
   "metadata": {},
   "source": [
    "# Cluster 1"
   ]
  },
  {
   "cell_type": "code",
   "execution_count": 28,
   "metadata": {},
   "outputs": [
    {
     "data": {
      "application/vnd.plotly.v1+json": {
       "config": {
        "plotlyServerURL": "https://plot.ly"
       },
       "data": [
        {
         "hovertemplate": "x=%{x}<br>y=%{y}<extra></extra>",
         "legendgroup": "",
         "line": {
          "color": "#636efa",
          "dash": "solid"
         },
         "marker": {
          "symbol": "circle"
         },
         "mode": "lines",
         "name": "",
         "orientation": "v",
         "showlegend": false,
         "type": "scatter",
         "x": [
          1,
          2,
          3,
          4,
          5,
          6,
          7,
          8,
          9,
          10,
          11,
          12,
          13,
          14
         ],
         "xaxis": "x",
         "y": [
          11.567227297632268,
          6.6786305305545515,
          4.476775150151992,
          3.5470410486928743,
          2.9488825757436845,
          2.429337334944575,
          2.0196612511431247,
          1.8025592025611041,
          1.5553802255639038,
          1.4264869584615787,
          1.2382686993059582,
          1.1082977558286142,
          1.0162258103493358,
          0.9145859272053022
         ],
         "yaxis": "y"
        }
       ],
       "layout": {
        "legend": {
         "tracegroupgap": 0
        },
        "template": {
         "data": {
          "bar": [
           {
            "error_x": {
             "color": "#2a3f5f"
            },
            "error_y": {
             "color": "#2a3f5f"
            },
            "marker": {
             "line": {
              "color": "#E5ECF6",
              "width": 0.5
             },
             "pattern": {
              "fillmode": "overlay",
              "size": 10,
              "solidity": 0.2
             }
            },
            "type": "bar"
           }
          ],
          "barpolar": [
           {
            "marker": {
             "line": {
              "color": "#E5ECF6",
              "width": 0.5
             },
             "pattern": {
              "fillmode": "overlay",
              "size": 10,
              "solidity": 0.2
             }
            },
            "type": "barpolar"
           }
          ],
          "carpet": [
           {
            "aaxis": {
             "endlinecolor": "#2a3f5f",
             "gridcolor": "white",
             "linecolor": "white",
             "minorgridcolor": "white",
             "startlinecolor": "#2a3f5f"
            },
            "baxis": {
             "endlinecolor": "#2a3f5f",
             "gridcolor": "white",
             "linecolor": "white",
             "minorgridcolor": "white",
             "startlinecolor": "#2a3f5f"
            },
            "type": "carpet"
           }
          ],
          "choropleth": [
           {
            "colorbar": {
             "outlinewidth": 0,
             "ticks": ""
            },
            "type": "choropleth"
           }
          ],
          "contour": [
           {
            "colorbar": {
             "outlinewidth": 0,
             "ticks": ""
            },
            "colorscale": [
             [
              0,
              "#0d0887"
             ],
             [
              0.1111111111111111,
              "#46039f"
             ],
             [
              0.2222222222222222,
              "#7201a8"
             ],
             [
              0.3333333333333333,
              "#9c179e"
             ],
             [
              0.4444444444444444,
              "#bd3786"
             ],
             [
              0.5555555555555556,
              "#d8576b"
             ],
             [
              0.6666666666666666,
              "#ed7953"
             ],
             [
              0.7777777777777778,
              "#fb9f3a"
             ],
             [
              0.8888888888888888,
              "#fdca26"
             ],
             [
              1,
              "#f0f921"
             ]
            ],
            "type": "contour"
           }
          ],
          "contourcarpet": [
           {
            "colorbar": {
             "outlinewidth": 0,
             "ticks": ""
            },
            "type": "contourcarpet"
           }
          ],
          "heatmap": [
           {
            "colorbar": {
             "outlinewidth": 0,
             "ticks": ""
            },
            "colorscale": [
             [
              0,
              "#0d0887"
             ],
             [
              0.1111111111111111,
              "#46039f"
             ],
             [
              0.2222222222222222,
              "#7201a8"
             ],
             [
              0.3333333333333333,
              "#9c179e"
             ],
             [
              0.4444444444444444,
              "#bd3786"
             ],
             [
              0.5555555555555556,
              "#d8576b"
             ],
             [
              0.6666666666666666,
              "#ed7953"
             ],
             [
              0.7777777777777778,
              "#fb9f3a"
             ],
             [
              0.8888888888888888,
              "#fdca26"
             ],
             [
              1,
              "#f0f921"
             ]
            ],
            "type": "heatmap"
           }
          ],
          "heatmapgl": [
           {
            "colorbar": {
             "outlinewidth": 0,
             "ticks": ""
            },
            "colorscale": [
             [
              0,
              "#0d0887"
             ],
             [
              0.1111111111111111,
              "#46039f"
             ],
             [
              0.2222222222222222,
              "#7201a8"
             ],
             [
              0.3333333333333333,
              "#9c179e"
             ],
             [
              0.4444444444444444,
              "#bd3786"
             ],
             [
              0.5555555555555556,
              "#d8576b"
             ],
             [
              0.6666666666666666,
              "#ed7953"
             ],
             [
              0.7777777777777778,
              "#fb9f3a"
             ],
             [
              0.8888888888888888,
              "#fdca26"
             ],
             [
              1,
              "#f0f921"
             ]
            ],
            "type": "heatmapgl"
           }
          ],
          "histogram": [
           {
            "marker": {
             "pattern": {
              "fillmode": "overlay",
              "size": 10,
              "solidity": 0.2
             }
            },
            "type": "histogram"
           }
          ],
          "histogram2d": [
           {
            "colorbar": {
             "outlinewidth": 0,
             "ticks": ""
            },
            "colorscale": [
             [
              0,
              "#0d0887"
             ],
             [
              0.1111111111111111,
              "#46039f"
             ],
             [
              0.2222222222222222,
              "#7201a8"
             ],
             [
              0.3333333333333333,
              "#9c179e"
             ],
             [
              0.4444444444444444,
              "#bd3786"
             ],
             [
              0.5555555555555556,
              "#d8576b"
             ],
             [
              0.6666666666666666,
              "#ed7953"
             ],
             [
              0.7777777777777778,
              "#fb9f3a"
             ],
             [
              0.8888888888888888,
              "#fdca26"
             ],
             [
              1,
              "#f0f921"
             ]
            ],
            "type": "histogram2d"
           }
          ],
          "histogram2dcontour": [
           {
            "colorbar": {
             "outlinewidth": 0,
             "ticks": ""
            },
            "colorscale": [
             [
              0,
              "#0d0887"
             ],
             [
              0.1111111111111111,
              "#46039f"
             ],
             [
              0.2222222222222222,
              "#7201a8"
             ],
             [
              0.3333333333333333,
              "#9c179e"
             ],
             [
              0.4444444444444444,
              "#bd3786"
             ],
             [
              0.5555555555555556,
              "#d8576b"
             ],
             [
              0.6666666666666666,
              "#ed7953"
             ],
             [
              0.7777777777777778,
              "#fb9f3a"
             ],
             [
              0.8888888888888888,
              "#fdca26"
             ],
             [
              1,
              "#f0f921"
             ]
            ],
            "type": "histogram2dcontour"
           }
          ],
          "mesh3d": [
           {
            "colorbar": {
             "outlinewidth": 0,
             "ticks": ""
            },
            "type": "mesh3d"
           }
          ],
          "parcoords": [
           {
            "line": {
             "colorbar": {
              "outlinewidth": 0,
              "ticks": ""
             }
            },
            "type": "parcoords"
           }
          ],
          "pie": [
           {
            "automargin": true,
            "type": "pie"
           }
          ],
          "scatter": [
           {
            "marker": {
             "colorbar": {
              "outlinewidth": 0,
              "ticks": ""
             }
            },
            "type": "scatter"
           }
          ],
          "scatter3d": [
           {
            "line": {
             "colorbar": {
              "outlinewidth": 0,
              "ticks": ""
             }
            },
            "marker": {
             "colorbar": {
              "outlinewidth": 0,
              "ticks": ""
             }
            },
            "type": "scatter3d"
           }
          ],
          "scattercarpet": [
           {
            "marker": {
             "colorbar": {
              "outlinewidth": 0,
              "ticks": ""
             }
            },
            "type": "scattercarpet"
           }
          ],
          "scattergeo": [
           {
            "marker": {
             "colorbar": {
              "outlinewidth": 0,
              "ticks": ""
             }
            },
            "type": "scattergeo"
           }
          ],
          "scattergl": [
           {
            "marker": {
             "colorbar": {
              "outlinewidth": 0,
              "ticks": ""
             }
            },
            "type": "scattergl"
           }
          ],
          "scattermapbox": [
           {
            "marker": {
             "colorbar": {
              "outlinewidth": 0,
              "ticks": ""
             }
            },
            "type": "scattermapbox"
           }
          ],
          "scatterpolar": [
           {
            "marker": {
             "colorbar": {
              "outlinewidth": 0,
              "ticks": ""
             }
            },
            "type": "scatterpolar"
           }
          ],
          "scatterpolargl": [
           {
            "marker": {
             "colorbar": {
              "outlinewidth": 0,
              "ticks": ""
             }
            },
            "type": "scatterpolargl"
           }
          ],
          "scatterternary": [
           {
            "marker": {
             "colorbar": {
              "outlinewidth": 0,
              "ticks": ""
             }
            },
            "type": "scatterternary"
           }
          ],
          "surface": [
           {
            "colorbar": {
             "outlinewidth": 0,
             "ticks": ""
            },
            "colorscale": [
             [
              0,
              "#0d0887"
             ],
             [
              0.1111111111111111,
              "#46039f"
             ],
             [
              0.2222222222222222,
              "#7201a8"
             ],
             [
              0.3333333333333333,
              "#9c179e"
             ],
             [
              0.4444444444444444,
              "#bd3786"
             ],
             [
              0.5555555555555556,
              "#d8576b"
             ],
             [
              0.6666666666666666,
              "#ed7953"
             ],
             [
              0.7777777777777778,
              "#fb9f3a"
             ],
             [
              0.8888888888888888,
              "#fdca26"
             ],
             [
              1,
              "#f0f921"
             ]
            ],
            "type": "surface"
           }
          ],
          "table": [
           {
            "cells": {
             "fill": {
              "color": "#EBF0F8"
             },
             "line": {
              "color": "white"
             }
            },
            "header": {
             "fill": {
              "color": "#C8D4E3"
             },
             "line": {
              "color": "white"
             }
            },
            "type": "table"
           }
          ]
         },
         "layout": {
          "annotationdefaults": {
           "arrowcolor": "#2a3f5f",
           "arrowhead": 0,
           "arrowwidth": 1
          },
          "autotypenumbers": "strict",
          "coloraxis": {
           "colorbar": {
            "outlinewidth": 0,
            "ticks": ""
           }
          },
          "colorscale": {
           "diverging": [
            [
             0,
             "#8e0152"
            ],
            [
             0.1,
             "#c51b7d"
            ],
            [
             0.2,
             "#de77ae"
            ],
            [
             0.3,
             "#f1b6da"
            ],
            [
             0.4,
             "#fde0ef"
            ],
            [
             0.5,
             "#f7f7f7"
            ],
            [
             0.6,
             "#e6f5d0"
            ],
            [
             0.7,
             "#b8e186"
            ],
            [
             0.8,
             "#7fbc41"
            ],
            [
             0.9,
             "#4d9221"
            ],
            [
             1,
             "#276419"
            ]
           ],
           "sequential": [
            [
             0,
             "#0d0887"
            ],
            [
             0.1111111111111111,
             "#46039f"
            ],
            [
             0.2222222222222222,
             "#7201a8"
            ],
            [
             0.3333333333333333,
             "#9c179e"
            ],
            [
             0.4444444444444444,
             "#bd3786"
            ],
            [
             0.5555555555555556,
             "#d8576b"
            ],
            [
             0.6666666666666666,
             "#ed7953"
            ],
            [
             0.7777777777777778,
             "#fb9f3a"
            ],
            [
             0.8888888888888888,
             "#fdca26"
            ],
            [
             1,
             "#f0f921"
            ]
           ],
           "sequentialminus": [
            [
             0,
             "#0d0887"
            ],
            [
             0.1111111111111111,
             "#46039f"
            ],
            [
             0.2222222222222222,
             "#7201a8"
            ],
            [
             0.3333333333333333,
             "#9c179e"
            ],
            [
             0.4444444444444444,
             "#bd3786"
            ],
            [
             0.5555555555555556,
             "#d8576b"
            ],
            [
             0.6666666666666666,
             "#ed7953"
            ],
            [
             0.7777777777777778,
             "#fb9f3a"
            ],
            [
             0.8888888888888888,
             "#fdca26"
            ],
            [
             1,
             "#f0f921"
            ]
           ]
          },
          "colorway": [
           "#636efa",
           "#EF553B",
           "#00cc96",
           "#ab63fa",
           "#FFA15A",
           "#19d3f3",
           "#FF6692",
           "#B6E880",
           "#FF97FF",
           "#FECB52"
          ],
          "font": {
           "color": "#2a3f5f"
          },
          "geo": {
           "bgcolor": "white",
           "lakecolor": "white",
           "landcolor": "#E5ECF6",
           "showlakes": true,
           "showland": true,
           "subunitcolor": "white"
          },
          "hoverlabel": {
           "align": "left"
          },
          "hovermode": "closest",
          "mapbox": {
           "style": "light"
          },
          "paper_bgcolor": "white",
          "plot_bgcolor": "#E5ECF6",
          "polar": {
           "angularaxis": {
            "gridcolor": "white",
            "linecolor": "white",
            "ticks": ""
           },
           "bgcolor": "#E5ECF6",
           "radialaxis": {
            "gridcolor": "white",
            "linecolor": "white",
            "ticks": ""
           }
          },
          "scene": {
           "xaxis": {
            "backgroundcolor": "#E5ECF6",
            "gridcolor": "white",
            "gridwidth": 2,
            "linecolor": "white",
            "showbackground": true,
            "ticks": "",
            "zerolinecolor": "white"
           },
           "yaxis": {
            "backgroundcolor": "#E5ECF6",
            "gridcolor": "white",
            "gridwidth": 2,
            "linecolor": "white",
            "showbackground": true,
            "ticks": "",
            "zerolinecolor": "white"
           },
           "zaxis": {
            "backgroundcolor": "#E5ECF6",
            "gridcolor": "white",
            "gridwidth": 2,
            "linecolor": "white",
            "showbackground": true,
            "ticks": "",
            "zerolinecolor": "white"
           }
          },
          "shapedefaults": {
           "line": {
            "color": "#2a3f5f"
           }
          },
          "ternary": {
           "aaxis": {
            "gridcolor": "white",
            "linecolor": "white",
            "ticks": ""
           },
           "baxis": {
            "gridcolor": "white",
            "linecolor": "white",
            "ticks": ""
           },
           "bgcolor": "#E5ECF6",
           "caxis": {
            "gridcolor": "white",
            "linecolor": "white",
            "ticks": ""
           }
          },
          "title": {
           "x": 0.05
          },
          "xaxis": {
           "automargin": true,
           "gridcolor": "white",
           "linecolor": "white",
           "ticks": "",
           "title": {
            "standoff": 15
           },
           "zerolinecolor": "white",
           "zerolinewidth": 2
          },
          "yaxis": {
           "automargin": true,
           "gridcolor": "white",
           "linecolor": "white",
           "ticks": "",
           "title": {
            "standoff": 15
           },
           "zerolinecolor": "white",
           "zerolinewidth": 2
          }
         }
        },
        "title": {
         "text": "Elbow method"
        },
        "xaxis": {
         "anchor": "y",
         "domain": [
          0,
          1
         ],
         "title": {
          "text": "x"
         }
        },
        "yaxis": {
         "anchor": "x",
         "domain": [
          0,
          1
         ],
         "title": {
          "text": "y"
         }
        }
       }
      }
     },
     "metadata": {},
     "output_type": "display_data"
    }
   ],
   "source": [
    "df_cluster_1=df_mm.copy().query(\"cluster==1\")\n",
    "df_mm_control1=df_cluster_1[var_operacionales]\n",
    "inercias = []\n",
    "K = range(1,15)\n",
    "for k in K:\n",
    "    km = KMeans(init='k-means++',n_clusters=k)\n",
    "    km.fit(df_mm_control1)\n",
    "    inercias.append(km.inertia_)\n",
    "    \n",
    "    y_km=km.predict(df_mm_control1)\n",
    "\n",
    "fig = px.line( x=K, y=inercias, title=\"Elbow method\") \n",
    "fig.show()"
   ]
  },
  {
   "cell_type": "code",
   "execution_count": 29,
   "metadata": {},
   "outputs": [
    {
     "data": {
      "text/html": [
       "<div>\n",
       "<style scoped>\n",
       "    .dataframe tbody tr th:only-of-type {\n",
       "        vertical-align: middle;\n",
       "    }\n",
       "\n",
       "    .dataframe tbody tr th {\n",
       "        vertical-align: top;\n",
       "    }\n",
       "\n",
       "    .dataframe thead th {\n",
       "        text-align: right;\n",
       "    }\n",
       "</style>\n",
       "<table border=\"1\" class=\"dataframe\">\n",
       "  <thead>\n",
       "    <tr style=\"text-align: right;\">\n",
       "      <th></th>\n",
       "      <th>Num atollos</th>\n",
       "      <th>Num casos</th>\n",
       "      <th>Prob atollo dentro del cluster</th>\n",
       "      <th>Covertura</th>\n",
       "      <th>riesgo arcilla</th>\n",
       "      <th>Prob riesgo arcilla</th>\n",
       "      <th>pct_cmin</th>\n",
       "      <th>pct_cmax</th>\n",
       "      <th>pct_med</th>\n",
       "      <th>rpm_cmin</th>\n",
       "      <th>rpm_cmax</th>\n",
       "      <th>rpm_med</th>\n",
       "      <th>arc_med</th>\n",
       "      <th>fino_med</th>\n",
       "      <th>tph_med</th>\n",
       "      <th>pebbles_med</th>\n",
       "      <th>agua_trommel_sag4_med</th>\n",
       "      <th>agua_harnero_sag4_med</th>\n",
       "      <th>presion_descanso_med</th>\n",
       "      <th>agua_total</th>\n",
       "      <th>intermedios_med</th>\n",
       "    </tr>\n",
       "    <tr>\n",
       "      <th>cluster_rec</th>\n",
       "      <th></th>\n",
       "      <th></th>\n",
       "      <th></th>\n",
       "      <th></th>\n",
       "      <th></th>\n",
       "      <th></th>\n",
       "      <th></th>\n",
       "      <th></th>\n",
       "      <th></th>\n",
       "      <th></th>\n",
       "      <th></th>\n",
       "      <th></th>\n",
       "      <th></th>\n",
       "      <th></th>\n",
       "      <th></th>\n",
       "      <th></th>\n",
       "      <th></th>\n",
       "      <th></th>\n",
       "      <th></th>\n",
       "      <th></th>\n",
       "      <th></th>\n",
       "    </tr>\n",
       "  </thead>\n",
       "  <tbody>\n",
       "    <tr>\n",
       "      <th>0</th>\n",
       "      <td>9.0</td>\n",
       "      <td>55</td>\n",
       "      <td>16.363636</td>\n",
       "      <td>15.789474</td>\n",
       "      <td>29</td>\n",
       "      <td>52.727273</td>\n",
       "      <td>74.793135</td>\n",
       "      <td>77.202897</td>\n",
       "      <td>75.392760</td>\n",
       "      <td>7.273983</td>\n",
       "      <td>7.935874</td>\n",
       "      <td>7.648209</td>\n",
       "      <td>0.291356</td>\n",
       "      <td>83.002384</td>\n",
       "      <td>5201.136037</td>\n",
       "      <td>512.116793</td>\n",
       "      <td>77.080788</td>\n",
       "      <td>376.415688</td>\n",
       "      <td>5167.557868</td>\n",
       "      <td>453.496476</td>\n",
       "      <td>11.227707</td>\n",
       "    </tr>\n",
       "    <tr>\n",
       "      <th>1</th>\n",
       "      <td>23.0</td>\n",
       "      <td>82</td>\n",
       "      <td>28.048780</td>\n",
       "      <td>40.350877</td>\n",
       "      <td>19</td>\n",
       "      <td>23.170732</td>\n",
       "      <td>72.926268</td>\n",
       "      <td>74.318561</td>\n",
       "      <td>73.781587</td>\n",
       "      <td>7.585019</td>\n",
       "      <td>8.020902</td>\n",
       "      <td>7.825742</td>\n",
       "      <td>0.280308</td>\n",
       "      <td>81.639452</td>\n",
       "      <td>5099.088914</td>\n",
       "      <td>464.324794</td>\n",
       "      <td>63.752660</td>\n",
       "      <td>337.638920</td>\n",
       "      <td>5233.706217</td>\n",
       "      <td>401.391579</td>\n",
       "      <td>11.591287</td>\n",
       "    </tr>\n",
       "    <tr>\n",
       "      <th>2</th>\n",
       "      <td>12.0</td>\n",
       "      <td>53</td>\n",
       "      <td>22.641509</td>\n",
       "      <td>21.052632</td>\n",
       "      <td>24</td>\n",
       "      <td>45.283019</td>\n",
       "      <td>72.904268</td>\n",
       "      <td>74.393832</td>\n",
       "      <td>73.901256</td>\n",
       "      <td>6.811659</td>\n",
       "      <td>7.491296</td>\n",
       "      <td>7.309706</td>\n",
       "      <td>0.283519</td>\n",
       "      <td>83.381675</td>\n",
       "      <td>5098.400918</td>\n",
       "      <td>430.368186</td>\n",
       "      <td>43.937674</td>\n",
       "      <td>341.299945</td>\n",
       "      <td>5230.250660</td>\n",
       "      <td>385.237619</td>\n",
       "      <td>9.567162</td>\n",
       "    </tr>\n",
       "    <tr>\n",
       "      <th>3</th>\n",
       "      <td>13.0</td>\n",
       "      <td>75</td>\n",
       "      <td>17.333333</td>\n",
       "      <td>22.807018</td>\n",
       "      <td>26</td>\n",
       "      <td>34.666667</td>\n",
       "      <td>72.668219</td>\n",
       "      <td>74.686640</td>\n",
       "      <td>73.812411</td>\n",
       "      <td>8.074993</td>\n",
       "      <td>8.767863</td>\n",
       "      <td>8.253889</td>\n",
       "      <td>0.284035</td>\n",
       "      <td>80.226339</td>\n",
       "      <td>5092.829613</td>\n",
       "      <td>507.390676</td>\n",
       "      <td>87.483179</td>\n",
       "      <td>334.804689</td>\n",
       "      <td>5192.444678</td>\n",
       "      <td>422.287868</td>\n",
       "      <td>12.382559</td>\n",
       "    </tr>\n",
       "  </tbody>\n",
       "</table>\n",
       "</div>"
      ],
      "text/plain": [
       "             Num atollos  Num casos  Prob atollo dentro del cluster  \\\n",
       "cluster_rec                                                           \n",
       "0                    9.0         55                       16.363636   \n",
       "1                   23.0         82                       28.048780   \n",
       "2                   12.0         53                       22.641509   \n",
       "3                   13.0         75                       17.333333   \n",
       "\n",
       "             Covertura  riesgo arcilla  Prob riesgo arcilla   pct_cmin  \\\n",
       "cluster_rec                                                              \n",
       "0            15.789474              29            52.727273  74.793135   \n",
       "1            40.350877              19            23.170732  72.926268   \n",
       "2            21.052632              24            45.283019  72.904268   \n",
       "3            22.807018              26            34.666667  72.668219   \n",
       "\n",
       "              pct_cmax    pct_med  rpm_cmin  rpm_cmax   rpm_med   arc_med  \\\n",
       "cluster_rec                                                                 \n",
       "0            77.202897  75.392760  7.273983  7.935874  7.648209  0.291356   \n",
       "1            74.318561  73.781587  7.585019  8.020902  7.825742  0.280308   \n",
       "2            74.393832  73.901256  6.811659  7.491296  7.309706  0.283519   \n",
       "3            74.686640  73.812411  8.074993  8.767863  8.253889  0.284035   \n",
       "\n",
       "              fino_med      tph_med  pebbles_med  agua_trommel_sag4_med  \\\n",
       "cluster_rec                                                               \n",
       "0            83.002384  5201.136037   512.116793              77.080788   \n",
       "1            81.639452  5099.088914   464.324794              63.752660   \n",
       "2            83.381675  5098.400918   430.368186              43.937674   \n",
       "3            80.226339  5092.829613   507.390676              87.483179   \n",
       "\n",
       "             agua_harnero_sag4_med  presion_descanso_med  agua_total  \\\n",
       "cluster_rec                                                            \n",
       "0                       376.415688           5167.557868  453.496476   \n",
       "1                       337.638920           5233.706217  401.391579   \n",
       "2                       341.299945           5230.250660  385.237619   \n",
       "3                       334.804689           5192.444678  422.287868   \n",
       "\n",
       "             intermedios_med  \n",
       "cluster_rec                   \n",
       "0                  11.227707  \n",
       "1                  11.591287  \n",
       "2                   9.567162  \n",
       "3                  12.382559  "
      ]
     },
     "execution_count": 29,
     "metadata": {},
     "output_type": "execute_result"
    }
   ],
   "source": [
    "# Aplicamos K-means\n",
    "n_clusters=4\n",
    "km = KMeans(n_clusters=n_clusters, init='k-means++') \n",
    "y_km = km.fit_predict(df_mm_control1) \n",
    "df_cluster_1['cluster_rec']=y_km \n",
    "df_cluster_1['Atollos_Total_case']=df.loc[df_cluster_1.index,'Atollos_Total_case']\n",
    "df2.loc[df_cluster_1.index,'cluster_rec']=df_cluster_1['cluster_rec']\n",
    "\n",
    "df21=df2.copy().query('cluster==1') \n",
    "\n",
    "# df21['cluster_rec']=y_km \n",
    "\n",
    "df_est=pd.DataFrame() \n",
    "Total_atollos=df_cluster_1.Atollos_Total_case.sum()\n",
    "df_est[\"Num atollos\"]=df_cluster_1[[\"cluster_rec\",\"Atollos_Total_case\"]].groupby(\"cluster_rec\").sum()\n",
    "df_est[\"Num casos\"]=df_cluster_1[[\"cluster_rec\",\"Atollos_Total_case\"]].groupby(\"cluster_rec\").apply(lambda x: len(x))\n",
    "df_est[\"Prob atollo dentro del cluster\"]=df_est[\"Num atollos\"]/df_est[\"Num casos\"]*100\n",
    "df_est[\"Covertura\"]=df_est[\"Num atollos\"]/Total_atollos*100 \n",
    "df_est[\"riesgo arcilla\"]=df21[[\"cluster_rec\",\"riesgo_arcilla\"]].groupby(\"cluster_rec\").sum()\n",
    "df_est[\"Prob riesgo arcilla\"]=df_est[\"riesgo arcilla\"]/df_est[\"Num casos\"]*100\n",
    " \n",
    "df_rec_1=df_est.copy()\n",
    "df_rec_1['pct_cmin']=df21[[\"cluster_rec\"]+var_operacionales].groupby(\"cluster_rec\").quantile(q=0.05)['mean_avg_pct_solids_3_(t-1)'] \n",
    "df_rec_1['pct_cmax']=df21[[\"cluster_rec\"]+var_operacionales].groupby(\"cluster_rec\").quantile(q=0.95)['mean_avg_pct_solids_3_(t-1)']\n",
    "df_rec_1['pct_med']=df21[[\"cluster_rec\"]+var_operacionales].groupby(\"cluster_rec\").median()['mean_avg_pct_solids_3_(t-1)']\n",
    "df_rec_1['rpm_cmin']=df21[[\"cluster_rec\"]+var_operacionales].groupby(\"cluster_rec\").quantile(q=0.05)['mean_avg_rpm_3_(t-1)']\n",
    "df_rec_1['rpm_cmax']=df21[[\"cluster_rec\"]+var_operacionales].groupby(\"cluster_rec\").quantile(q=0.95)['mean_avg_rpm_3_(t-1)']\n",
    "df_rec_1['rpm_med']=df21[[\"cluster_rec\"]+var_operacionales].groupby(\"cluster_rec\").median()['mean_avg_rpm_3_(t-1)']\n",
    "df_rec_1['arc_med']=df21[[\"cluster_rec\"]+var_operacionales+var_contexto].groupby(\"cluster_rec\").median()['mean_arcillas_3']\n",
    "df_rec_1['fino_med']=df21[[\"cluster_rec\"]+var_operacionales+var_contexto].groupby(\"cluster_rec\").median()['mean_avg_finos_3_(t-1)']\n",
    "df_rec_1['tph_med']=df21[[\"cluster_rec\"]+var_operacionales+var_contexto].groupby(\"cluster_rec\").median()[\"mean_avg_fresh_feed_tonnage_3_(t-1)\"]\n",
    "df_rec_1['pebbles_med']=df21[[\"cluster_rec\"]+var_operacionales+var_contexto+[\"mean_avg_pebbles_3_(t-1)\"]].groupby(\"cluster_rec\").median()[\"mean_avg_pebbles_3_(t-1)\"]\n",
    "df_rec_1['agua_trommel_sag4_med']=df21[[\"cluster_rec\"]+var_operacionales+var_contexto+[\"mean_agua_trommel_sag4_3_(t-1)\"]].groupby(\"cluster_rec\").median()[\"mean_agua_trommel_sag4_3_(t-1)\"]\n",
    "df_rec_1['agua_harnero_sag4_med']=df21[[\"cluster_rec\"]+var_operacionales+var_contexto+[\"mean_agua_harnero_sag4_3_(t-1)\"]].groupby(\"cluster_rec\").median()[\"mean_agua_harnero_sag4_3_(t-1)\"]\n",
    "df_rec_1[\"presion_descanso_med\"]=df21[[\"cluster_rec\"]+var_operacionales+var_contexto].groupby(\"cluster_rec\").median()[\"mean_avg_presion_descanso_3_(t-1)\"]\n",
    "df_rec_1['agua_total']=df_rec_1['agua_trommel_sag4_med']+df_rec_1['agua_harnero_sag4_med']\n",
    "df_rec_1['intermedios_med']=df21[[\"cluster_rec\"]+var_operacionales+var_contexto+[\"mean_intermedios_3_(t-1)\"]].groupby(\"cluster_rec\").median()[\"mean_intermedios_3_(t-1)\"]\n",
    "df_rec_1 "
   ]
  },
  {
   "cell_type": "code",
   "execution_count": 30,
   "metadata": {},
   "outputs": [
    {
     "data": {
      "text/html": [
       "<div>\n",
       "<style scoped>\n",
       "    .dataframe tbody tr th:only-of-type {\n",
       "        vertical-align: middle;\n",
       "    }\n",
       "\n",
       "    .dataframe tbody tr th {\n",
       "        vertical-align: top;\n",
       "    }\n",
       "\n",
       "    .dataframe thead th {\n",
       "        text-align: right;\n",
       "    }\n",
       "</style>\n",
       "<table border=\"1\" class=\"dataframe\">\n",
       "  <thead>\n",
       "    <tr style=\"text-align: right;\">\n",
       "      <th></th>\n",
       "      <th>mean_avg_finos_3_(t-1)</th>\n",
       "      <th>mean_recirculated_pebbles_3_(t-1)</th>\n",
       "      <th>mean_speed_central_feeders_3_(t-1)</th>\n",
       "      <th>mean_avg_fresh_feed_tonnage_3_(t-1)</th>\n",
       "      <th>mean_avg_presion_descanso_3_(t-1)</th>\n",
       "      <th>mean_arcillas_3</th>\n",
       "      <th>mean_BN_054_3_(t-1)</th>\n",
       "      <th>mean_BN_055_3_(t-1)</th>\n",
       "    </tr>\n",
       "    <tr>\n",
       "      <th>cluster_rec</th>\n",
       "      <th></th>\n",
       "      <th></th>\n",
       "      <th></th>\n",
       "      <th></th>\n",
       "      <th></th>\n",
       "      <th></th>\n",
       "      <th></th>\n",
       "      <th></th>\n",
       "    </tr>\n",
       "  </thead>\n",
       "  <tbody>\n",
       "    <tr>\n",
       "      <th>0.0</th>\n",
       "      <td>83.748410</td>\n",
       "      <td>480.866766</td>\n",
       "      <td>54.323367</td>\n",
       "      <td>5176.186549</td>\n",
       "      <td>5156.749544</td>\n",
       "      <td>0.290897</td>\n",
       "      <td>50.214507</td>\n",
       "      <td>95.900226</td>\n",
       "    </tr>\n",
       "    <tr>\n",
       "      <th>1.0</th>\n",
       "      <td>81.351375</td>\n",
       "      <td>470.104373</td>\n",
       "      <td>50.655691</td>\n",
       "      <td>5164.003688</td>\n",
       "      <td>5199.237538</td>\n",
       "      <td>0.278543</td>\n",
       "      <td>62.249870</td>\n",
       "      <td>95.135206</td>\n",
       "    </tr>\n",
       "    <tr>\n",
       "      <th>2.0</th>\n",
       "      <td>83.644287</td>\n",
       "      <td>458.249006</td>\n",
       "      <td>45.115770</td>\n",
       "      <td>5106.567052</td>\n",
       "      <td>5201.982996</td>\n",
       "      <td>0.265626</td>\n",
       "      <td>56.975688</td>\n",
       "      <td>88.866351</td>\n",
       "    </tr>\n",
       "    <tr>\n",
       "      <th>3.0</th>\n",
       "      <td>79.985596</td>\n",
       "      <td>493.974763</td>\n",
       "      <td>48.971960</td>\n",
       "      <td>5189.070977</td>\n",
       "      <td>5188.912119</td>\n",
       "      <td>0.284453</td>\n",
       "      <td>63.133528</td>\n",
       "      <td>91.512225</td>\n",
       "    </tr>\n",
       "  </tbody>\n",
       "</table>\n",
       "</div>"
      ],
      "text/plain": [
       "             mean_avg_finos_3_(t-1)  mean_recirculated_pebbles_3_(t-1)  \\\n",
       "cluster_rec                                                              \n",
       "0.0                       83.748410                         480.866766   \n",
       "1.0                       81.351375                         470.104373   \n",
       "2.0                       83.644287                         458.249006   \n",
       "3.0                       79.985596                         493.974763   \n",
       "\n",
       "             mean_speed_central_feeders_3_(t-1)  \\\n",
       "cluster_rec                                       \n",
       "0.0                                   54.323367   \n",
       "1.0                                   50.655691   \n",
       "2.0                                   45.115770   \n",
       "3.0                                   48.971960   \n",
       "\n",
       "             mean_avg_fresh_feed_tonnage_3_(t-1)  \\\n",
       "cluster_rec                                        \n",
       "0.0                                  5176.186549   \n",
       "1.0                                  5164.003688   \n",
       "2.0                                  5106.567052   \n",
       "3.0                                  5189.070977   \n",
       "\n",
       "             mean_avg_presion_descanso_3_(t-1)  mean_arcillas_3  \\\n",
       "cluster_rec                                                       \n",
       "0.0                                5156.749544         0.290897   \n",
       "1.0                                5199.237538         0.278543   \n",
       "2.0                                5201.982996         0.265626   \n",
       "3.0                                5188.912119         0.284453   \n",
       "\n",
       "             mean_BN_054_3_(t-1)  mean_BN_055_3_(t-1)  \n",
       "cluster_rec                                            \n",
       "0.0                    50.214507            95.900226  \n",
       "1.0                    62.249870            95.135206  \n",
       "2.0                    56.975688            88.866351  \n",
       "3.0                    63.133528            91.512225  "
      ]
     },
     "execution_count": 30,
     "metadata": {},
     "output_type": "execute_result"
    }
   ],
   "source": [
    "# promedio de como se comporta cada variable en cada cluster\n",
    "df_context21=df21[var_contexto+['cluster_rec']].groupby(\"cluster_rec\").mean() \n",
    "df_context21"
   ]
  },
  {
   "cell_type": "code",
   "execution_count": 31,
   "metadata": {},
   "outputs": [
    {
     "data": {
      "text/html": [
       "<div>\n",
       "<style scoped>\n",
       "    .dataframe tbody tr th:only-of-type {\n",
       "        vertical-align: middle;\n",
       "    }\n",
       "\n",
       "    .dataframe tbody tr th {\n",
       "        vertical-align: top;\n",
       "    }\n",
       "\n",
       "    .dataframe thead th {\n",
       "        text-align: right;\n",
       "    }\n",
       "</style>\n",
       "<table border=\"1\" class=\"dataframe\">\n",
       "  <thead>\n",
       "    <tr style=\"text-align: right;\">\n",
       "      <th></th>\n",
       "      <th>Num atollos</th>\n",
       "      <th>Num casos</th>\n",
       "      <th>Prob atollo dentro del cluster</th>\n",
       "      <th>Covertura</th>\n",
       "      <th>riesgo arcilla</th>\n",
       "      <th>Prob riesgo arcilla</th>\n",
       "      <th>pct_cmin</th>\n",
       "      <th>pct_cmax</th>\n",
       "      <th>pct_med</th>\n",
       "      <th>rpm_cmin</th>\n",
       "      <th>rpm_cmax</th>\n",
       "      <th>rpm_med</th>\n",
       "      <th>arc_med</th>\n",
       "      <th>fino_med</th>\n",
       "      <th>tph_med</th>\n",
       "      <th>pebbles_med</th>\n",
       "      <th>agua_trommel_sag4_med</th>\n",
       "      <th>agua_harnero_sag4_med</th>\n",
       "      <th>presion_descanso_med</th>\n",
       "      <th>agua_total</th>\n",
       "      <th>intermedios_med</th>\n",
       "      <th>prob panda</th>\n",
       "    </tr>\n",
       "    <tr>\n",
       "      <th>cluster_rec</th>\n",
       "      <th></th>\n",
       "      <th></th>\n",
       "      <th></th>\n",
       "      <th></th>\n",
       "      <th></th>\n",
       "      <th></th>\n",
       "      <th></th>\n",
       "      <th></th>\n",
       "      <th></th>\n",
       "      <th></th>\n",
       "      <th></th>\n",
       "      <th></th>\n",
       "      <th></th>\n",
       "      <th></th>\n",
       "      <th></th>\n",
       "      <th></th>\n",
       "      <th></th>\n",
       "      <th></th>\n",
       "      <th></th>\n",
       "      <th></th>\n",
       "      <th></th>\n",
       "      <th></th>\n",
       "    </tr>\n",
       "  </thead>\n",
       "  <tbody>\n",
       "    <tr>\n",
       "      <th>0</th>\n",
       "      <td>9.0</td>\n",
       "      <td>55</td>\n",
       "      <td>16.363636</td>\n",
       "      <td>15.789474</td>\n",
       "      <td>29</td>\n",
       "      <td>52.727273</td>\n",
       "      <td>74.793135</td>\n",
       "      <td>77.202897</td>\n",
       "      <td>75.392760</td>\n",
       "      <td>7.273983</td>\n",
       "      <td>7.935874</td>\n",
       "      <td>7.648209</td>\n",
       "      <td>0.291356</td>\n",
       "      <td>83.002384</td>\n",
       "      <td>5201.136037</td>\n",
       "      <td>512.116793</td>\n",
       "      <td>77.080788</td>\n",
       "      <td>376.415688</td>\n",
       "      <td>5167.557868</td>\n",
       "      <td>453.496476</td>\n",
       "      <td>11.227707</td>\n",
       "      <td>41.122566</td>\n",
       "    </tr>\n",
       "    <tr>\n",
       "      <th>1</th>\n",
       "      <td>23.0</td>\n",
       "      <td>82</td>\n",
       "      <td>28.048780</td>\n",
       "      <td>40.350877</td>\n",
       "      <td>19</td>\n",
       "      <td>23.170732</td>\n",
       "      <td>72.926268</td>\n",
       "      <td>74.318561</td>\n",
       "      <td>73.781587</td>\n",
       "      <td>7.585019</td>\n",
       "      <td>8.020902</td>\n",
       "      <td>7.825742</td>\n",
       "      <td>0.280308</td>\n",
       "      <td>81.639452</td>\n",
       "      <td>5099.088914</td>\n",
       "      <td>464.324794</td>\n",
       "      <td>63.752660</td>\n",
       "      <td>337.638920</td>\n",
       "      <td>5233.706217</td>\n",
       "      <td>401.391579</td>\n",
       "      <td>11.591287</td>\n",
       "      <td>39.747995</td>\n",
       "    </tr>\n",
       "    <tr>\n",
       "      <th>2</th>\n",
       "      <td>12.0</td>\n",
       "      <td>53</td>\n",
       "      <td>22.641509</td>\n",
       "      <td>21.052632</td>\n",
       "      <td>24</td>\n",
       "      <td>45.283019</td>\n",
       "      <td>72.904268</td>\n",
       "      <td>74.393832</td>\n",
       "      <td>73.901256</td>\n",
       "      <td>6.811659</td>\n",
       "      <td>7.491296</td>\n",
       "      <td>7.309706</td>\n",
       "      <td>0.283519</td>\n",
       "      <td>83.381675</td>\n",
       "      <td>5098.400918</td>\n",
       "      <td>430.368186</td>\n",
       "      <td>43.937674</td>\n",
       "      <td>341.299945</td>\n",
       "      <td>5230.250660</td>\n",
       "      <td>385.237619</td>\n",
       "      <td>9.567162</td>\n",
       "      <td>39.862543</td>\n",
       "    </tr>\n",
       "    <tr>\n",
       "      <th>3</th>\n",
       "      <td>13.0</td>\n",
       "      <td>75</td>\n",
       "      <td>17.333333</td>\n",
       "      <td>22.807018</td>\n",
       "      <td>26</td>\n",
       "      <td>34.666667</td>\n",
       "      <td>72.668219</td>\n",
       "      <td>74.686640</td>\n",
       "      <td>73.812411</td>\n",
       "      <td>8.074993</td>\n",
       "      <td>8.767863</td>\n",
       "      <td>8.253889</td>\n",
       "      <td>0.284035</td>\n",
       "      <td>80.226339</td>\n",
       "      <td>5092.829613</td>\n",
       "      <td>507.390676</td>\n",
       "      <td>87.483179</td>\n",
       "      <td>334.804689</td>\n",
       "      <td>5192.444678</td>\n",
       "      <td>422.287868</td>\n",
       "      <td>12.382559</td>\n",
       "      <td>39.862543</td>\n",
       "    </tr>\n",
       "  </tbody>\n",
       "</table>\n",
       "</div>"
      ],
      "text/plain": [
       "             Num atollos  Num casos  Prob atollo dentro del cluster  \\\n",
       "cluster_rec                                                           \n",
       "0                    9.0         55                       16.363636   \n",
       "1                   23.0         82                       28.048780   \n",
       "2                   12.0         53                       22.641509   \n",
       "3                   13.0         75                       17.333333   \n",
       "\n",
       "             Covertura  riesgo arcilla  Prob riesgo arcilla   pct_cmin  \\\n",
       "cluster_rec                                                              \n",
       "0            15.789474              29            52.727273  74.793135   \n",
       "1            40.350877              19            23.170732  72.926268   \n",
       "2            21.052632              24            45.283019  72.904268   \n",
       "3            22.807018              26            34.666667  72.668219   \n",
       "\n",
       "              pct_cmax    pct_med  rpm_cmin  rpm_cmax   rpm_med   arc_med  \\\n",
       "cluster_rec                                                                 \n",
       "0            77.202897  75.392760  7.273983  7.935874  7.648209  0.291356   \n",
       "1            74.318561  73.781587  7.585019  8.020902  7.825742  0.280308   \n",
       "2            74.393832  73.901256  6.811659  7.491296  7.309706  0.283519   \n",
       "3            74.686640  73.812411  8.074993  8.767863  8.253889  0.284035   \n",
       "\n",
       "              fino_med      tph_med  pebbles_med  agua_trommel_sag4_med  \\\n",
       "cluster_rec                                                               \n",
       "0            83.002384  5201.136037   512.116793              77.080788   \n",
       "1            81.639452  5099.088914   464.324794              63.752660   \n",
       "2            83.381675  5098.400918   430.368186              43.937674   \n",
       "3            80.226339  5092.829613   507.390676              87.483179   \n",
       "\n",
       "             agua_harnero_sag4_med  presion_descanso_med  agua_total  \\\n",
       "cluster_rec                                                            \n",
       "0                       376.415688           5167.557868  453.496476   \n",
       "1                       337.638920           5233.706217  401.391579   \n",
       "2                       341.299945           5230.250660  385.237619   \n",
       "3                       334.804689           5192.444678  422.287868   \n",
       "\n",
       "             intermedios_med  prob panda  \n",
       "cluster_rec                               \n",
       "0                  11.227707   41.122566  \n",
       "1                  11.591287   39.747995  \n",
       "2                   9.567162   39.862543  \n",
       "3                  12.382559   39.862543  "
      ]
     },
     "execution_count": 31,
     "metadata": {},
     "output_type": "execute_result"
    }
   ],
   "source": [
    "# Para las horas de interes se calcula la probabilidad de atollo más cercana\n",
    "list_prob = []\n",
    "for i in [0,1,2,3]:\n",
    "    \n",
    "    # print(i)\n",
    "    finos_to_risk = df_context21[df_context21.index\n",
    "                                    == i][\"mean_avg_finos_3_(t-1)\"].values[0]\n",
    "    arcilla_to_risk = df_context21[df_context21.index\n",
    "                                        == i][\"mean_arcillas_3\"].values[0]\n",
    "    df_risk[\"dist\"] = df_risk.apply(lambda x: np.sqrt(\n",
    "        (x[\"threshold_arcilla\"]-arcilla_to_risk)**2+(x[\"threshold_finos\"]-finos_to_risk)**2), axis=1)\n",
    "    prob = df_risk[df_risk[\"dist\"] ==\n",
    "                    df_risk[\"dist\"].min()][\"probability\"].values[0]\n",
    "    list_prob.append(prob)\n",
    "    \n",
    "# lista de probabilidades\n",
    "df_rec_1[\"prob panda\"] = list_prob\n",
    "df_rec_1[\"prob panda\"]=df_rec_1[\"prob panda\"]/max_probability*100\n",
    "df_rec_1"
   ]
  },
  {
   "cell_type": "code",
   "execution_count": 32,
   "metadata": {},
   "outputs": [],
   "source": [
    "df_rec_1.to_excel(\"ls1_df_rec_1.xlsx\")"
   ]
  },
  {
   "cell_type": "code",
   "execution_count": 33,
   "metadata": {},
   "outputs": [
    {
     "data": {
      "text/plain": [
       "<AxesSubplot:xlabel='cluster_rec', ylabel='mean_avg_rpm_3_(t-1)'>"
      ]
     },
     "execution_count": 33,
     "metadata": {},
     "output_type": "execute_result"
    },
    {
     "data": {
      "image/png": "[encoded data removed]",
      "text/plain": [
       "<Figure size 936x360 with 2 Axes>"
      ]
     },
     "metadata": {
      "needs_background": "light"
     },
     "output_type": "display_data"
    }
   ],
   "source": [
    "# sns.histplot(data=df_cluster_0, x=\"mean_avg_rpm_3\", hue=\"cluster_rec\") # 'mean_avg_rpm_3','mean_avg_pct_solids_3'\n",
    "fig, axes = plt.subplots(1,2,figsize=(13,5))\n",
    "sns.boxplot(data=df21, x=\"cluster_rec\", y='mean_avg_pct_solids_3_(t-1)',ax=axes[0])\n",
    "sns.boxplot(data=df21, x=\"cluster_rec\", y='mean_avg_rpm_3_(t-1)',ax=axes[1])"
   ]
  },
  {
   "attachments": {},
   "cell_type": "markdown",
   "metadata": {},
   "source": [
    "# Cluster 2"
   ]
  },
  {
   "cell_type": "code",
   "execution_count": 34,
   "metadata": {},
   "outputs": [
    {
     "data": {
      "application/vnd.plotly.v1+json": {
       "config": {
        "plotlyServerURL": "https://plot.ly"
       },
       "data": [
        {
         "hovertemplate": "x=%{x}<br>y=%{y}<extra></extra>",
         "legendgroup": "",
         "line": {
          "color": "#636efa",
          "dash": "solid"
         },
         "marker": {
          "symbol": "circle"
         },
         "mode": "lines",
         "name": "",
         "orientation": "v",
         "showlegend": false,
         "type": "scatter",
         "x": [
          1,
          2,
          3,
          4,
          5,
          6,
          7,
          8,
          9,
          10,
          11,
          12,
          13,
          14
         ],
         "xaxis": "x",
         "y": [
          34.97739959081154,
          17.522078926892974,
          12.121926554485738,
          9.908199778416993,
          7.937102624736241,
          6.318570637496755,
          5.2706533491634735,
          4.59898577754982,
          4.106718069289044,
          3.6836900915415427,
          3.2734399307429323,
          2.9513877343607913,
          2.6944068341619727,
          2.4105507711396674
         ],
         "yaxis": "y"
        }
       ],
       "layout": {
        "legend": {
         "tracegroupgap": 0
        },
        "template": {
         "data": {
          "bar": [
           {
            "error_x": {
             "color": "#2a3f5f"
            },
            "error_y": {
             "color": "#2a3f5f"
            },
            "marker": {
             "line": {
              "color": "#E5ECF6",
              "width": 0.5
             },
             "pattern": {
              "fillmode": "overlay",
              "size": 10,
              "solidity": 0.2
             }
            },
            "type": "bar"
           }
          ],
          "barpolar": [
           {
            "marker": {
             "line": {
              "color": "#E5ECF6",
              "width": 0.5
             },
             "pattern": {
              "fillmode": "overlay",
              "size": 10,
              "solidity": 0.2
             }
            },
            "type": "barpolar"
           }
          ],
          "carpet": [
           {
            "aaxis": {
             "endlinecolor": "#2a3f5f",
             "gridcolor": "white",
             "linecolor": "white",
             "minorgridcolor": "white",
             "startlinecolor": "#2a3f5f"
            },
            "baxis": {
             "endlinecolor": "#2a3f5f",
             "gridcolor": "white",
             "linecolor": "white",
             "minorgridcolor": "white",
             "startlinecolor": "#2a3f5f"
            },
            "type": "carpet"
           }
          ],
          "choropleth": [
           {
            "colorbar": {
             "outlinewidth": 0,
             "ticks": ""
            },
            "type": "choropleth"
           }
          ],
          "contour": [
           {
            "colorbar": {
             "outlinewidth": 0,
             "ticks": ""
            },
            "colorscale": [
             [
              0,
              "#0d0887"
             ],
             [
              0.1111111111111111,
              "#46039f"
             ],
             [
              0.2222222222222222,
              "#7201a8"
             ],
             [
              0.3333333333333333,
              "#9c179e"
             ],
             [
              0.4444444444444444,
              "#bd3786"
             ],
             [
              0.5555555555555556,
              "#d8576b"
             ],
             [
              0.6666666666666666,
              "#ed7953"
             ],
             [
              0.7777777777777778,
              "#fb9f3a"
             ],
             [
              0.8888888888888888,
              "#fdca26"
             ],
             [
              1,
              "#f0f921"
             ]
            ],
            "type": "contour"
           }
          ],
          "contourcarpet": [
           {
            "colorbar": {
             "outlinewidth": 0,
             "ticks": ""
            },
            "type": "contourcarpet"
           }
          ],
          "heatmap": [
           {
            "colorbar": {
             "outlinewidth": 0,
             "ticks": ""
            },
            "colorscale": [
             [
              0,
              "#0d0887"
             ],
             [
              0.1111111111111111,
              "#46039f"
             ],
             [
              0.2222222222222222,
              "#7201a8"
             ],
             [
              0.3333333333333333,
              "#9c179e"
             ],
             [
              0.4444444444444444,
              "#bd3786"
             ],
             [
              0.5555555555555556,
              "#d8576b"
             ],
             [
              0.6666666666666666,
              "#ed7953"
             ],
             [
              0.7777777777777778,
              "#fb9f3a"
             ],
             [
              0.8888888888888888,
              "#fdca26"
             ],
             [
              1,
              "#f0f921"
             ]
            ],
            "type": "heatmap"
           }
          ],
          "heatmapgl": [
           {
            "colorbar": {
             "outlinewidth": 0,
             "ticks": ""
            },
            "colorscale": [
             [
              0,
              "#0d0887"
             ],
             [
              0.1111111111111111,
              "#46039f"
             ],
             [
              0.2222222222222222,
              "#7201a8"
             ],
             [
              0.3333333333333333,
              "#9c179e"
             ],
             [
              0.4444444444444444,
              "#bd3786"
             ],
             [
              0.5555555555555556,
              "#d8576b"
             ],
             [
              0.6666666666666666,
              "#ed7953"
             ],
             [
              0.7777777777777778,
              "#fb9f3a"
             ],
             [
              0.8888888888888888,
              "#fdca26"
             ],
             [
              1,
              "#f0f921"
             ]
            ],
            "type": "heatmapgl"
           }
          ],
          "histogram": [
           {
            "marker": {
             "pattern": {
              "fillmode": "overlay",
              "size": 10,
              "solidity": 0.2
             }
            },
            "type": "histogram"
           }
          ],
          "histogram2d": [
           {
            "colorbar": {
             "outlinewidth": 0,
             "ticks": ""
            },
            "colorscale": [
             [
              0,
              "#0d0887"
             ],
             [
              0.1111111111111111,
              "#46039f"
             ],
             [
              0.2222222222222222,
              "#7201a8"
             ],
             [
              0.3333333333333333,
              "#9c179e"
             ],
             [
              0.4444444444444444,
              "#bd3786"
             ],
             [
              0.5555555555555556,
              "#d8576b"
             ],
             [
              0.6666666666666666,
              "#ed7953"
             ],
             [
              0.7777777777777778,
              "#fb9f3a"
             ],
             [
              0.8888888888888888,
              "#fdca26"
             ],
             [
              1,
              "#f0f921"
             ]
            ],
            "type": "histogram2d"
           }
          ],
          "histogram2dcontour": [
           {
            "colorbar": {
             "outlinewidth": 0,
             "ticks": ""
            },
            "colorscale": [
             [
              0,
              "#0d0887"
             ],
             [
              0.1111111111111111,
              "#46039f"
             ],
             [
              0.2222222222222222,
              "#7201a8"
             ],
             [
              0.3333333333333333,
              "#9c179e"
             ],
             [
              0.4444444444444444,
              "#bd3786"
             ],
             [
              0.5555555555555556,
              "#d8576b"
             ],
             [
              0.6666666666666666,
              "#ed7953"
             ],
             [
              0.7777777777777778,
              "#fb9f3a"
             ],
             [
              0.8888888888888888,
              "#fdca26"
             ],
             [
              1,
              "#f0f921"
             ]
            ],
            "type": "histogram2dcontour"
           }
          ],
          "mesh3d": [
           {
            "colorbar": {
             "outlinewidth": 0,
             "ticks": ""
            },
            "type": "mesh3d"
           }
          ],
          "parcoords": [
           {
            "line": {
             "colorbar": {
              "outlinewidth": 0,
              "ticks": ""
             }
            },
            "type": "parcoords"
           }
          ],
          "pie": [
           {
            "automargin": true,
            "type": "pie"
           }
          ],
          "scatter": [
           {
            "marker": {
             "colorbar": {
              "outlinewidth": 0,
              "ticks": ""
             }
            },
            "type": "scatter"
           }
          ],
          "scatter3d": [
           {
            "line": {
             "colorbar": {
              "outlinewidth": 0,
              "ticks": ""
             }
            },
            "marker": {
             "colorbar": {
              "outlinewidth": 0,
              "ticks": ""
             }
            },
            "type": "scatter3d"
           }
          ],
          "scattercarpet": [
           {
            "marker": {
             "colorbar": {
              "outlinewidth": 0,
              "ticks": ""
             }
            },
            "type": "scattercarpet"
           }
          ],
          "scattergeo": [
           {
            "marker": {
             "colorbar": {
              "outlinewidth": 0,
              "ticks": ""
             }
            },
            "type": "scattergeo"
           }
          ],
          "scattergl": [
           {
            "marker": {
             "colorbar": {
              "outlinewidth": 0,
              "ticks": ""
             }
            },
            "type": "scattergl"
           }
          ],
          "scattermapbox": [
           {
            "marker": {
             "colorbar": {
              "outlinewidth": 0,
              "ticks": ""
             }
            },
            "type": "scattermapbox"
           }
          ],
          "scatterpolar": [
           {
            "marker": {
             "colorbar": {
              "outlinewidth": 0,
              "ticks": ""
             }
            },
            "type": "scatterpolar"
           }
          ],
          "scatterpolargl": [
           {
            "marker": {
             "colorbar": {
              "outlinewidth": 0,
              "ticks": ""
             }
            },
            "type": "scatterpolargl"
           }
          ],
          "scatterternary": [
           {
            "marker": {
             "colorbar": {
              "outlinewidth": 0,
              "ticks": ""
             }
            },
            "type": "scatterternary"
           }
          ],
          "surface": [
           {
            "colorbar": {
             "outlinewidth": 0,
             "ticks": ""
            },
            "colorscale": [
             [
              0,
              "#0d0887"
             ],
             [
              0.1111111111111111,
              "#46039f"
             ],
             [
              0.2222222222222222,
              "#7201a8"
             ],
             [
              0.3333333333333333,
              "#9c179e"
             ],
             [
              0.4444444444444444,
              "#bd3786"
             ],
             [
              0.5555555555555556,
              "#d8576b"
             ],
             [
              0.6666666666666666,
              "#ed7953"
             ],
             [
              0.7777777777777778,
              "#fb9f3a"
             ],
             [
              0.8888888888888888,
              "#fdca26"
             ],
             [
              1,
              "#f0f921"
             ]
            ],
            "type": "surface"
           }
          ],
          "table": [
           {
            "cells": {
             "fill": {
              "color": "#EBF0F8"
             },
             "line": {
              "color": "white"
             }
            },
            "header": {
             "fill": {
              "color": "#C8D4E3"
             },
             "line": {
              "color": "white"
             }
            },
            "type": "table"
           }
          ]
         },
         "layout": {
          "annotationdefaults": {
           "arrowcolor": "#2a3f5f",
           "arrowhead": 0,
           "arrowwidth": 1
          },
          "autotypenumbers": "strict",
          "coloraxis": {
           "colorbar": {
            "outlinewidth": 0,
            "ticks": ""
           }
          },
          "colorscale": {
           "diverging": [
            [
             0,
             "#8e0152"
            ],
            [
             0.1,
             "#c51b7d"
            ],
            [
             0.2,
             "#de77ae"
            ],
            [
             0.3,
             "#f1b6da"
            ],
            [
             0.4,
             "#fde0ef"
            ],
            [
             0.5,
             "#f7f7f7"
            ],
            [
             0.6,
             "#e6f5d0"
            ],
            [
             0.7,
             "#b8e186"
            ],
            [
             0.8,
             "#7fbc41"
            ],
            [
             0.9,
             "#4d9221"
            ],
            [
             1,
             "#276419"
            ]
           ],
           "sequential": [
            [
             0,
             "#0d0887"
            ],
            [
             0.1111111111111111,
             "#46039f"
            ],
            [
             0.2222222222222222,
             "#7201a8"
            ],
            [
             0.3333333333333333,
             "#9c179e"
            ],
            [
             0.4444444444444444,
             "#bd3786"
            ],
            [
             0.5555555555555556,
             "#d8576b"
            ],
            [
             0.6666666666666666,
             "#ed7953"
            ],
            [
             0.7777777777777778,
             "#fb9f3a"
            ],
            [
             0.8888888888888888,
             "#fdca26"
            ],
            [
             1,
             "#f0f921"
            ]
           ],
           "sequentialminus": [
            [
             0,
             "#0d0887"
            ],
            [
             0.1111111111111111,
             "#46039f"
            ],
            [
             0.2222222222222222,
             "#7201a8"
            ],
            [
             0.3333333333333333,
             "#9c179e"
            ],
            [
             0.4444444444444444,
             "#bd3786"
            ],
            [
             0.5555555555555556,
             "#d8576b"
            ],
            [
             0.6666666666666666,
             "#ed7953"
            ],
            [
             0.7777777777777778,
             "#fb9f3a"
            ],
            [
             0.8888888888888888,
             "#fdca26"
            ],
            [
             1,
             "#f0f921"
            ]
           ]
          },
          "colorway": [
           "#636efa",
           "#EF553B",
           "#00cc96",
           "#ab63fa",
           "#FFA15A",
           "#19d3f3",
           "#FF6692",
           "#B6E880",
           "#FF97FF",
           "#FECB52"
          ],
          "font": {
           "color": "#2a3f5f"
          },
          "geo": {
           "bgcolor": "white",
           "lakecolor": "white",
           "landcolor": "#E5ECF6",
           "showlakes": true,
           "showland": true,
           "subunitcolor": "white"
          },
          "hoverlabel": {
           "align": "left"
          },
          "hovermode": "closest",
          "mapbox": {
           "style": "light"
          },
          "paper_bgcolor": "white",
          "plot_bgcolor": "#E5ECF6",
          "polar": {
           "angularaxis": {
            "gridcolor": "white",
            "linecolor": "white",
            "ticks": ""
           },
           "bgcolor": "#E5ECF6",
           "radialaxis": {
            "gridcolor": "white",
            "linecolor": "white",
            "ticks": ""
           }
          },
          "scene": {
           "xaxis": {
            "backgroundcolor": "#E5ECF6",
            "gridcolor": "white",
            "gridwidth": 2,
            "linecolor": "white",
            "showbackground": true,
            "ticks": "",
            "zerolinecolor": "white"
           },
           "yaxis": {
            "backgroundcolor": "#E5ECF6",
            "gridcolor": "white",
            "gridwidth": 2,
            "linecolor": "white",
            "showbackground": true,
            "ticks": "",
            "zerolinecolor": "white"
           },
           "zaxis": {
            "backgroundcolor": "#E5ECF6",
            "gridcolor": "white",
            "gridwidth": 2,
            "linecolor": "white",
            "showbackground": true,
            "ticks": "",
            "zerolinecolor": "white"
           }
          },
          "shapedefaults": {
           "line": {
            "color": "#2a3f5f"
           }
          },
          "ternary": {
           "aaxis": {
            "gridcolor": "white",
            "linecolor": "white",
            "ticks": ""
           },
           "baxis": {
            "gridcolor": "white",
            "linecolor": "white",
            "ticks": ""
           },
           "bgcolor": "#E5ECF6",
           "caxis": {
            "gridcolor": "white",
            "linecolor": "white",
            "ticks": ""
           }
          },
          "title": {
           "x": 0.05
          },
          "xaxis": {
           "automargin": true,
           "gridcolor": "white",
           "linecolor": "white",
           "ticks": "",
           "title": {
            "standoff": 15
           },
           "zerolinecolor": "white",
           "zerolinewidth": 2
          },
          "yaxis": {
           "automargin": true,
           "gridcolor": "white",
           "linecolor": "white",
           "ticks": "",
           "title": {
            "standoff": 15
           },
           "zerolinecolor": "white",
           "zerolinewidth": 2
          }
         }
        },
        "title": {
         "text": "Elbow method"
        },
        "xaxis": {
         "anchor": "y",
         "domain": [
          0,
          1
         ],
         "title": {
          "text": "x"
         }
        },
        "yaxis": {
         "anchor": "x",
         "domain": [
          0,
          1
         ],
         "title": {
          "text": "y"
         }
        }
       }
      }
     },
     "metadata": {},
     "output_type": "display_data"
    }
   ],
   "source": [
    "df_cluster_2=df_mm.copy().query(\"cluster==2\")\n",
    "df_mm_control2=df_cluster_2[var_operacionales]\n",
    "inercias = []\n",
    "K = range(1,15)\n",
    "for k in K:\n",
    "    km = KMeans(init='k-means++',n_clusters=k)\n",
    "    km.fit(df_mm_control2)\n",
    "    inercias.append(km.inertia_)\n",
    "    y_km=km.predict(df_mm_control2)\n",
    "fig = px.line( x=K, y=inercias, title=\"Elbow method\") \n",
    "fig.show()"
   ]
  },
  {
   "cell_type": "code",
   "execution_count": 35,
   "metadata": {},
   "outputs": [
    {
     "data": {
      "text/html": [
       "<div>\n",
       "<style scoped>\n",
       "    .dataframe tbody tr th:only-of-type {\n",
       "        vertical-align: middle;\n",
       "    }\n",
       "\n",
       "    .dataframe tbody tr th {\n",
       "        vertical-align: top;\n",
       "    }\n",
       "\n",
       "    .dataframe thead th {\n",
       "        text-align: right;\n",
       "    }\n",
       "</style>\n",
       "<table border=\"1\" class=\"dataframe\">\n",
       "  <thead>\n",
       "    <tr style=\"text-align: right;\">\n",
       "      <th></th>\n",
       "      <th>Num atollos</th>\n",
       "      <th>Num casos</th>\n",
       "      <th>Prob atollo dentro del cluster</th>\n",
       "      <th>Covertura</th>\n",
       "      <th>riesgo arcilla</th>\n",
       "      <th>Prob riesgo arcilla</th>\n",
       "      <th>pct_cmin</th>\n",
       "      <th>pct_cmax</th>\n",
       "      <th>pct_med</th>\n",
       "      <th>rpm_cmin</th>\n",
       "      <th>rpm_cmax</th>\n",
       "      <th>rpm_med</th>\n",
       "      <th>arc_med</th>\n",
       "      <th>fino_med</th>\n",
       "      <th>tph_med</th>\n",
       "      <th>pebbles_med</th>\n",
       "      <th>agua_trommel_sag4_med</th>\n",
       "      <th>agua_harnero_sag4_med</th>\n",
       "      <th>presion_descanso_med</th>\n",
       "      <th>agua_total</th>\n",
       "      <th>intermedios_med</th>\n",
       "    </tr>\n",
       "    <tr>\n",
       "      <th>cluster_rec</th>\n",
       "      <th></th>\n",
       "      <th></th>\n",
       "      <th></th>\n",
       "      <th></th>\n",
       "      <th></th>\n",
       "      <th></th>\n",
       "      <th></th>\n",
       "      <th></th>\n",
       "      <th></th>\n",
       "      <th></th>\n",
       "      <th></th>\n",
       "      <th></th>\n",
       "      <th></th>\n",
       "      <th></th>\n",
       "      <th></th>\n",
       "      <th></th>\n",
       "      <th></th>\n",
       "      <th></th>\n",
       "      <th></th>\n",
       "      <th></th>\n",
       "      <th></th>\n",
       "    </tr>\n",
       "  </thead>\n",
       "  <tbody>\n",
       "    <tr>\n",
       "      <th>0</th>\n",
       "      <td>80.0</td>\n",
       "      <td>202</td>\n",
       "      <td>39.603960</td>\n",
       "      <td>40.816327</td>\n",
       "      <td>108</td>\n",
       "      <td>53.465347</td>\n",
       "      <td>72.294019</td>\n",
       "      <td>74.150664</td>\n",
       "      <td>73.399876</td>\n",
       "      <td>7.317911</td>\n",
       "      <td>7.862141</td>\n",
       "      <td>7.665628</td>\n",
       "      <td>0.291496</td>\n",
       "      <td>82.815710</td>\n",
       "      <td>5129.737729</td>\n",
       "      <td>399.192457</td>\n",
       "      <td>76.847120</td>\n",
       "      <td>376.028296</td>\n",
       "      <td>5143.012597</td>\n",
       "      <td>452.875417</td>\n",
       "      <td>11.060838</td>\n",
       "    </tr>\n",
       "    <tr>\n",
       "      <th>1</th>\n",
       "      <td>57.0</td>\n",
       "      <td>214</td>\n",
       "      <td>26.635514</td>\n",
       "      <td>29.081633</td>\n",
       "      <td>86</td>\n",
       "      <td>40.186916</td>\n",
       "      <td>72.831062</td>\n",
       "      <td>74.340463</td>\n",
       "      <td>73.484408</td>\n",
       "      <td>7.911414</td>\n",
       "      <td>8.418751</td>\n",
       "      <td>8.148421</td>\n",
       "      <td>0.285860</td>\n",
       "      <td>83.173957</td>\n",
       "      <td>5116.841518</td>\n",
       "      <td>345.590300</td>\n",
       "      <td>72.158460</td>\n",
       "      <td>358.804965</td>\n",
       "      <td>5074.890665</td>\n",
       "      <td>430.963424</td>\n",
       "      <td>9.205484</td>\n",
       "    </tr>\n",
       "    <tr>\n",
       "      <th>2</th>\n",
       "      <td>36.0</td>\n",
       "      <td>93</td>\n",
       "      <td>38.709677</td>\n",
       "      <td>18.367347</td>\n",
       "      <td>62</td>\n",
       "      <td>66.666667</td>\n",
       "      <td>73.891001</td>\n",
       "      <td>77.221229</td>\n",
       "      <td>74.697677</td>\n",
       "      <td>6.709005</td>\n",
       "      <td>7.746422</td>\n",
       "      <td>7.223892</td>\n",
       "      <td>0.295941</td>\n",
       "      <td>84.471791</td>\n",
       "      <td>5135.594345</td>\n",
       "      <td>447.180936</td>\n",
       "      <td>67.710111</td>\n",
       "      <td>418.569752</td>\n",
       "      <td>5155.237011</td>\n",
       "      <td>486.279863</td>\n",
       "      <td>9.590321</td>\n",
       "    </tr>\n",
       "    <tr>\n",
       "      <th>3</th>\n",
       "      <td>23.0</td>\n",
       "      <td>145</td>\n",
       "      <td>15.862069</td>\n",
       "      <td>11.734694</td>\n",
       "      <td>54</td>\n",
       "      <td>37.241379</td>\n",
       "      <td>70.891389</td>\n",
       "      <td>73.295234</td>\n",
       "      <td>72.815732</td>\n",
       "      <td>8.263948</td>\n",
       "      <td>8.873747</td>\n",
       "      <td>8.544004</td>\n",
       "      <td>0.285536</td>\n",
       "      <td>86.218750</td>\n",
       "      <td>5107.389881</td>\n",
       "      <td>291.960472</td>\n",
       "      <td>98.536940</td>\n",
       "      <td>375.532589</td>\n",
       "      <td>5049.684497</td>\n",
       "      <td>474.069529</td>\n",
       "      <td>7.711651</td>\n",
       "    </tr>\n",
       "  </tbody>\n",
       "</table>\n",
       "</div>"
      ],
      "text/plain": [
       "             Num atollos  Num casos  Prob atollo dentro del cluster  \\\n",
       "cluster_rec                                                           \n",
       "0                   80.0        202                       39.603960   \n",
       "1                   57.0        214                       26.635514   \n",
       "2                   36.0         93                       38.709677   \n",
       "3                   23.0        145                       15.862069   \n",
       "\n",
       "             Covertura  riesgo arcilla  Prob riesgo arcilla   pct_cmin  \\\n",
       "cluster_rec                                                              \n",
       "0            40.816327             108            53.465347  72.294019   \n",
       "1            29.081633              86            40.186916  72.831062   \n",
       "2            18.367347              62            66.666667  73.891001   \n",
       "3            11.734694              54            37.241379  70.891389   \n",
       "\n",
       "              pct_cmax    pct_med  rpm_cmin  rpm_cmax   rpm_med   arc_med  \\\n",
       "cluster_rec                                                                 \n",
       "0            74.150664  73.399876  7.317911  7.862141  7.665628  0.291496   \n",
       "1            74.340463  73.484408  7.911414  8.418751  8.148421  0.285860   \n",
       "2            77.221229  74.697677  6.709005  7.746422  7.223892  0.295941   \n",
       "3            73.295234  72.815732  8.263948  8.873747  8.544004  0.285536   \n",
       "\n",
       "              fino_med      tph_med  pebbles_med  agua_trommel_sag4_med  \\\n",
       "cluster_rec                                                               \n",
       "0            82.815710  5129.737729   399.192457              76.847120   \n",
       "1            83.173957  5116.841518   345.590300              72.158460   \n",
       "2            84.471791  5135.594345   447.180936              67.710111   \n",
       "3            86.218750  5107.389881   291.960472              98.536940   \n",
       "\n",
       "             agua_harnero_sag4_med  presion_descanso_med  agua_total  \\\n",
       "cluster_rec                                                            \n",
       "0                       376.028296           5143.012597  452.875417   \n",
       "1                       358.804965           5074.890665  430.963424   \n",
       "2                       418.569752           5155.237011  486.279863   \n",
       "3                       375.532589           5049.684497  474.069529   \n",
       "\n",
       "             intermedios_med  \n",
       "cluster_rec                   \n",
       "0                  11.060838  \n",
       "1                   9.205484  \n",
       "2                   9.590321  \n",
       "3                   7.711651  "
      ]
     },
     "execution_count": 35,
     "metadata": {},
     "output_type": "execute_result"
    }
   ],
   "source": [
    "# Aplicamos K-means\n",
    "n_clusters=4\n",
    "km = KMeans(n_clusters=n_clusters, init='k-means++') \n",
    "y_km = km.fit_predict(df_mm_control2) \n",
    "df_cluster_2['cluster_rec']=y_km \n",
    "df_cluster_2['Atollos_Total_case']=df.loc[df_cluster_2.index,'Atollos_Total_case']\n",
    "df2.loc[df_cluster_2.index,'cluster_rec']=df_cluster_2['cluster_rec']\n",
    "\n",
    "df22=df2.copy().query('cluster==2') \n",
    "# df22['cluster_rec']=y_km \n",
    "\n",
    "df_est=pd.DataFrame() \n",
    "Total_atollos=df_cluster_2.Atollos_Total_case.sum() \n",
    "df_est[\"Num atollos\"]=df_cluster_2[[\"cluster_rec\",\"Atollos_Total_case\"]].groupby(\"cluster_rec\").sum() \n",
    "df_est[\"Num casos\"]=df_cluster_2[[\"cluster_rec\",\"Atollos_Total_case\"]].groupby(\"cluster_rec\").apply(lambda x: len(x))\n",
    "df_est[\"Prob atollo dentro del cluster\"]=df_est[\"Num atollos\"]/df_est[\"Num casos\"]*100 \n",
    "df_est[\"Covertura\"]=df_est[\"Num atollos\"]/Total_atollos*100 \n",
    "df_est[\"riesgo arcilla\"]=df22[[\"cluster_rec\",\"riesgo_arcilla\"]].groupby(\"cluster_rec\").sum() \n",
    "df_est[\"Prob riesgo arcilla\"]=df_est[\"riesgo arcilla\"]/df_est[\"Num casos\"]*100 \n",
    " \n",
    "df_rec_2=df_est.copy()\n",
    "df_rec_2['pct_cmin']=df22[[\"cluster_rec\"]+var_operacionales].groupby(\"cluster_rec\").quantile(q=0.05)['mean_avg_pct_solids_3_(t-1)'] \n",
    "df_rec_2['pct_cmax']=df22[[\"cluster_rec\"]+var_operacionales].groupby(\"cluster_rec\").quantile(q=0.95)['mean_avg_pct_solids_3_(t-1)']\n",
    "df_rec_2['pct_med']=df22[[\"cluster_rec\"]+var_operacionales].groupby(\"cluster_rec\").median()['mean_avg_pct_solids_3_(t-1)']\n",
    "df_rec_2['rpm_cmin']=df22[[\"cluster_rec\"]+var_operacionales].groupby(\"cluster_rec\").quantile(q=0.05)['mean_avg_rpm_3_(t-1)']\n",
    "df_rec_2['rpm_cmax']=df22[[\"cluster_rec\"]+var_operacionales].groupby(\"cluster_rec\").quantile(q=0.95)['mean_avg_rpm_3_(t-1)']\n",
    "df_rec_2['rpm_med']=df22[[\"cluster_rec\"]+var_operacionales].groupby(\"cluster_rec\").median()['mean_avg_rpm_3_(t-1)']\n",
    "df_rec_2['arc_med']=df22[[\"cluster_rec\"]+var_operacionales+var_contexto].groupby(\"cluster_rec\").median()['mean_arcillas_3']\n",
    "df_rec_2['fino_med']=df22[[\"cluster_rec\"]+var_operacionales+var_contexto].groupby(\"cluster_rec\").median()['mean_avg_finos_3_(t-1)']\n",
    "df_rec_2['tph_med']=df22[[\"cluster_rec\"]+var_operacionales+var_contexto].groupby(\"cluster_rec\").median()[\"mean_avg_fresh_feed_tonnage_3_(t-1)\"]\n",
    "df_rec_2['pebbles_med']=df22[[\"cluster_rec\"]+var_operacionales+var_contexto+[\"mean_avg_pebbles_3_(t-1)\"]].groupby(\"cluster_rec\").median()[\"mean_avg_pebbles_3_(t-1)\"]\n",
    "df_rec_2['agua_trommel_sag4_med']=df22[[\"cluster_rec\"]+var_operacionales+var_contexto+[\"mean_agua_trommel_sag4_3_(t-1)\"]].groupby(\"cluster_rec\").median()[\"mean_agua_trommel_sag4_3_(t-1)\"]\n",
    "df_rec_2['agua_harnero_sag4_med']=df22[[\"cluster_rec\"]+var_operacionales+var_contexto+[\"mean_agua_harnero_sag4_3_(t-1)\"]].groupby(\"cluster_rec\").median()[\"mean_agua_harnero_sag4_3_(t-1)\"]\n",
    "df_rec_2[\"presion_descanso_med\"]=df22[[\"cluster_rec\"]+var_operacionales+var_contexto].groupby(\"cluster_rec\").median()[\"mean_avg_presion_descanso_3_(t-1)\"]\n",
    "df_rec_2['agua_total']=df_rec_2['agua_trommel_sag4_med']+df_rec_2['agua_harnero_sag4_med']\n",
    "df_rec_2['intermedios_med']=df22[[\"cluster_rec\"]+var_operacionales+var_contexto+[\"mean_intermedios_3_(t-1)\"]].groupby(\"cluster_rec\").median()[\"mean_intermedios_3_(t-1)\"]\n",
    "df_rec_2\n"
   ]
  },
  {
   "cell_type": "code",
   "execution_count": 36,
   "metadata": {},
   "outputs": [
    {
     "data": {
      "text/html": [
       "<div>\n",
       "<style scoped>\n",
       "    .dataframe tbody tr th:only-of-type {\n",
       "        vertical-align: middle;\n",
       "    }\n",
       "\n",
       "    .dataframe tbody tr th {\n",
       "        vertical-align: top;\n",
       "    }\n",
       "\n",
       "    .dataframe thead th {\n",
       "        text-align: right;\n",
       "    }\n",
       "</style>\n",
       "<table border=\"1\" class=\"dataframe\">\n",
       "  <thead>\n",
       "    <tr style=\"text-align: right;\">\n",
       "      <th></th>\n",
       "      <th>mean_avg_finos_3_(t-1)</th>\n",
       "      <th>mean_recirculated_pebbles_3_(t-1)</th>\n",
       "      <th>mean_speed_central_feeders_3_(t-1)</th>\n",
       "      <th>mean_avg_fresh_feed_tonnage_3_(t-1)</th>\n",
       "      <th>mean_avg_presion_descanso_3_(t-1)</th>\n",
       "      <th>mean_arcillas_3</th>\n",
       "      <th>mean_BN_054_3_(t-1)</th>\n",
       "      <th>mean_BN_055_3_(t-1)</th>\n",
       "    </tr>\n",
       "    <tr>\n",
       "      <th>cluster_rec</th>\n",
       "      <th></th>\n",
       "      <th></th>\n",
       "      <th></th>\n",
       "      <th></th>\n",
       "      <th></th>\n",
       "      <th></th>\n",
       "      <th></th>\n",
       "      <th></th>\n",
       "    </tr>\n",
       "  </thead>\n",
       "  <tbody>\n",
       "    <tr>\n",
       "      <th>0.0</th>\n",
       "      <td>82.350915</td>\n",
       "      <td>408.511409</td>\n",
       "      <td>44.482872</td>\n",
       "      <td>5162.020760</td>\n",
       "      <td>5126.810205</td>\n",
       "      <td>0.290322</td>\n",
       "      <td>56.566859</td>\n",
       "      <td>39.253571</td>\n",
       "    </tr>\n",
       "    <tr>\n",
       "      <th>1.0</th>\n",
       "      <td>83.994986</td>\n",
       "      <td>419.636112</td>\n",
       "      <td>53.252581</td>\n",
       "      <td>5138.711729</td>\n",
       "      <td>5106.203311</td>\n",
       "      <td>0.283826</td>\n",
       "      <td>57.265100</td>\n",
       "      <td>40.071539</td>\n",
       "    </tr>\n",
       "    <tr>\n",
       "      <th>2.0</th>\n",
       "      <td>84.002829</td>\n",
       "      <td>419.544697</td>\n",
       "      <td>41.286803</td>\n",
       "      <td>5167.236557</td>\n",
       "      <td>5179.766596</td>\n",
       "      <td>0.295917</td>\n",
       "      <td>55.561893</td>\n",
       "      <td>37.440063</td>\n",
       "    </tr>\n",
       "    <tr>\n",
       "      <th>3.0</th>\n",
       "      <td>85.847935</td>\n",
       "      <td>384.920510</td>\n",
       "      <td>56.748008</td>\n",
       "      <td>5125.700494</td>\n",
       "      <td>5087.272203</td>\n",
       "      <td>0.285069</td>\n",
       "      <td>51.592637</td>\n",
       "      <td>40.725335</td>\n",
       "    </tr>\n",
       "  </tbody>\n",
       "</table>\n",
       "</div>"
      ],
      "text/plain": [
       "             mean_avg_finos_3_(t-1)  mean_recirculated_pebbles_3_(t-1)  \\\n",
       "cluster_rec                                                              \n",
       "0.0                       82.350915                         408.511409   \n",
       "1.0                       83.994986                         419.636112   \n",
       "2.0                       84.002829                         419.544697   \n",
       "3.0                       85.847935                         384.920510   \n",
       "\n",
       "             mean_speed_central_feeders_3_(t-1)  \\\n",
       "cluster_rec                                       \n",
       "0.0                                   44.482872   \n",
       "1.0                                   53.252581   \n",
       "2.0                                   41.286803   \n",
       "3.0                                   56.748008   \n",
       "\n",
       "             mean_avg_fresh_feed_tonnage_3_(t-1)  \\\n",
       "cluster_rec                                        \n",
       "0.0                                  5162.020760   \n",
       "1.0                                  5138.711729   \n",
       "2.0                                  5167.236557   \n",
       "3.0                                  5125.700494   \n",
       "\n",
       "             mean_avg_presion_descanso_3_(t-1)  mean_arcillas_3  \\\n",
       "cluster_rec                                                       \n",
       "0.0                                5126.810205         0.290322   \n",
       "1.0                                5106.203311         0.283826   \n",
       "2.0                                5179.766596         0.295917   \n",
       "3.0                                5087.272203         0.285069   \n",
       "\n",
       "             mean_BN_054_3_(t-1)  mean_BN_055_3_(t-1)  \n",
       "cluster_rec                                            \n",
       "0.0                    56.566859            39.253571  \n",
       "1.0                    57.265100            40.071539  \n",
       "2.0                    55.561893            37.440063  \n",
       "3.0                    51.592637            40.725335  "
      ]
     },
     "execution_count": 36,
     "metadata": {},
     "output_type": "execute_result"
    }
   ],
   "source": [
    "# promedio de como se comporta cada variable en cada cluster\n",
    "df_context22=df22[var_contexto+['cluster_rec']].groupby(\"cluster_rec\").mean() \n",
    "df_context22"
   ]
  },
  {
   "cell_type": "code",
   "execution_count": 37,
   "metadata": {},
   "outputs": [
    {
     "data": {
      "text/html": [
       "<div>\n",
       "<style scoped>\n",
       "    .dataframe tbody tr th:only-of-type {\n",
       "        vertical-align: middle;\n",
       "    }\n",
       "\n",
       "    .dataframe tbody tr th {\n",
       "        vertical-align: top;\n",
       "    }\n",
       "\n",
       "    .dataframe thead th {\n",
       "        text-align: right;\n",
       "    }\n",
       "</style>\n",
       "<table border=\"1\" class=\"dataframe\">\n",
       "  <thead>\n",
       "    <tr style=\"text-align: right;\">\n",
       "      <th></th>\n",
       "      <th>Num atollos</th>\n",
       "      <th>Num casos</th>\n",
       "      <th>Prob atollo dentro del cluster</th>\n",
       "      <th>Covertura</th>\n",
       "      <th>riesgo arcilla</th>\n",
       "      <th>Prob riesgo arcilla</th>\n",
       "      <th>pct_cmin</th>\n",
       "      <th>pct_cmax</th>\n",
       "      <th>pct_med</th>\n",
       "      <th>rpm_cmin</th>\n",
       "      <th>rpm_cmax</th>\n",
       "      <th>rpm_med</th>\n",
       "      <th>arc_med</th>\n",
       "      <th>fino_med</th>\n",
       "      <th>tph_med</th>\n",
       "      <th>pebbles_med</th>\n",
       "      <th>agua_trommel_sag4_med</th>\n",
       "      <th>agua_harnero_sag4_med</th>\n",
       "      <th>presion_descanso_med</th>\n",
       "      <th>agua_total</th>\n",
       "      <th>intermedios_med</th>\n",
       "      <th>prob panda</th>\n",
       "    </tr>\n",
       "    <tr>\n",
       "      <th>cluster_rec</th>\n",
       "      <th></th>\n",
       "      <th></th>\n",
       "      <th></th>\n",
       "      <th></th>\n",
       "      <th></th>\n",
       "      <th></th>\n",
       "      <th></th>\n",
       "      <th></th>\n",
       "      <th></th>\n",
       "      <th></th>\n",
       "      <th></th>\n",
       "      <th></th>\n",
       "      <th></th>\n",
       "      <th></th>\n",
       "      <th></th>\n",
       "      <th></th>\n",
       "      <th></th>\n",
       "      <th></th>\n",
       "      <th></th>\n",
       "      <th></th>\n",
       "      <th></th>\n",
       "      <th></th>\n",
       "    </tr>\n",
       "  </thead>\n",
       "  <tbody>\n",
       "    <tr>\n",
       "      <th>0</th>\n",
       "      <td>80.0</td>\n",
       "      <td>202</td>\n",
       "      <td>39.603960</td>\n",
       "      <td>40.816327</td>\n",
       "      <td>108</td>\n",
       "      <td>53.465347</td>\n",
       "      <td>72.294019</td>\n",
       "      <td>74.150664</td>\n",
       "      <td>73.399876</td>\n",
       "      <td>7.317911</td>\n",
       "      <td>7.862141</td>\n",
       "      <td>7.665628</td>\n",
       "      <td>0.291496</td>\n",
       "      <td>82.815710</td>\n",
       "      <td>5129.737729</td>\n",
       "      <td>399.192457</td>\n",
       "      <td>76.847120</td>\n",
       "      <td>376.028296</td>\n",
       "      <td>5143.012597</td>\n",
       "      <td>452.875417</td>\n",
       "      <td>11.060838</td>\n",
       "      <td>41.122566</td>\n",
       "    </tr>\n",
       "    <tr>\n",
       "      <th>1</th>\n",
       "      <td>57.0</td>\n",
       "      <td>214</td>\n",
       "      <td>26.635514</td>\n",
       "      <td>29.081633</td>\n",
       "      <td>86</td>\n",
       "      <td>40.186916</td>\n",
       "      <td>72.831062</td>\n",
       "      <td>74.340463</td>\n",
       "      <td>73.484408</td>\n",
       "      <td>7.911414</td>\n",
       "      <td>8.418751</td>\n",
       "      <td>8.148421</td>\n",
       "      <td>0.285860</td>\n",
       "      <td>83.173957</td>\n",
       "      <td>5116.841518</td>\n",
       "      <td>345.590300</td>\n",
       "      <td>72.158460</td>\n",
       "      <td>358.804965</td>\n",
       "      <td>5074.890665</td>\n",
       "      <td>430.963424</td>\n",
       "      <td>9.205484</td>\n",
       "      <td>39.518900</td>\n",
       "    </tr>\n",
       "    <tr>\n",
       "      <th>2</th>\n",
       "      <td>36.0</td>\n",
       "      <td>93</td>\n",
       "      <td>38.709677</td>\n",
       "      <td>18.367347</td>\n",
       "      <td>62</td>\n",
       "      <td>66.666667</td>\n",
       "      <td>73.891001</td>\n",
       "      <td>77.221229</td>\n",
       "      <td>74.697677</td>\n",
       "      <td>6.709005</td>\n",
       "      <td>7.746422</td>\n",
       "      <td>7.223892</td>\n",
       "      <td>0.295941</td>\n",
       "      <td>84.471791</td>\n",
       "      <td>5135.594345</td>\n",
       "      <td>447.180936</td>\n",
       "      <td>67.710111</td>\n",
       "      <td>418.569752</td>\n",
       "      <td>5155.237011</td>\n",
       "      <td>486.279863</td>\n",
       "      <td>9.590321</td>\n",
       "      <td>40.206186</td>\n",
       "    </tr>\n",
       "    <tr>\n",
       "      <th>3</th>\n",
       "      <td>23.0</td>\n",
       "      <td>145</td>\n",
       "      <td>15.862069</td>\n",
       "      <td>11.734694</td>\n",
       "      <td>54</td>\n",
       "      <td>37.241379</td>\n",
       "      <td>70.891389</td>\n",
       "      <td>73.295234</td>\n",
       "      <td>72.815732</td>\n",
       "      <td>8.263948</td>\n",
       "      <td>8.873747</td>\n",
       "      <td>8.544004</td>\n",
       "      <td>0.285536</td>\n",
       "      <td>86.218750</td>\n",
       "      <td>5107.389881</td>\n",
       "      <td>291.960472</td>\n",
       "      <td>98.536940</td>\n",
       "      <td>375.532589</td>\n",
       "      <td>5049.684497</td>\n",
       "      <td>474.069529</td>\n",
       "      <td>7.711651</td>\n",
       "      <td>41.122566</td>\n",
       "    </tr>\n",
       "  </tbody>\n",
       "</table>\n",
       "</div>"
      ],
      "text/plain": [
       "             Num atollos  Num casos  Prob atollo dentro del cluster  \\\n",
       "cluster_rec                                                           \n",
       "0                   80.0        202                       39.603960   \n",
       "1                   57.0        214                       26.635514   \n",
       "2                   36.0         93                       38.709677   \n",
       "3                   23.0        145                       15.862069   \n",
       "\n",
       "             Covertura  riesgo arcilla  Prob riesgo arcilla   pct_cmin  \\\n",
       "cluster_rec                                                              \n",
       "0            40.816327             108            53.465347  72.294019   \n",
       "1            29.081633              86            40.186916  72.831062   \n",
       "2            18.367347              62            66.666667  73.891001   \n",
       "3            11.734694              54            37.241379  70.891389   \n",
       "\n",
       "              pct_cmax    pct_med  rpm_cmin  rpm_cmax   rpm_med   arc_med  \\\n",
       "cluster_rec                                                                 \n",
       "0            74.150664  73.399876  7.317911  7.862141  7.665628  0.291496   \n",
       "1            74.340463  73.484408  7.911414  8.418751  8.148421  0.285860   \n",
       "2            77.221229  74.697677  6.709005  7.746422  7.223892  0.295941   \n",
       "3            73.295234  72.815732  8.263948  8.873747  8.544004  0.285536   \n",
       "\n",
       "              fino_med      tph_med  pebbles_med  agua_trommel_sag4_med  \\\n",
       "cluster_rec                                                               \n",
       "0            82.815710  5129.737729   399.192457              76.847120   \n",
       "1            83.173957  5116.841518   345.590300              72.158460   \n",
       "2            84.471791  5135.594345   447.180936              67.710111   \n",
       "3            86.218750  5107.389881   291.960472              98.536940   \n",
       "\n",
       "             agua_harnero_sag4_med  presion_descanso_med  agua_total  \\\n",
       "cluster_rec                                                            \n",
       "0                       376.028296           5143.012597  452.875417   \n",
       "1                       358.804965           5074.890665  430.963424   \n",
       "2                       418.569752           5155.237011  486.279863   \n",
       "3                       375.532589           5049.684497  474.069529   \n",
       "\n",
       "             intermedios_med  prob panda  \n",
       "cluster_rec                               \n",
       "0                  11.060838   41.122566  \n",
       "1                   9.205484   39.518900  \n",
       "2                   9.590321   40.206186  \n",
       "3                   7.711651   41.122566  "
      ]
     },
     "execution_count": 37,
     "metadata": {},
     "output_type": "execute_result"
    }
   ],
   "source": [
    "# Para las horas de interes se calcula la probabilidad de atollo más cercana\n",
    "list_prob = []\n",
    "for i in [0,1,2,3]:\n",
    "    \n",
    "    # print(i)\n",
    "    finos_to_risk = df_context22[df_context22.index\n",
    "                                    == i][\"mean_avg_finos_3_(t-1)\"].values[0]\n",
    "    arcilla_to_risk = df_context22[df_context22.index\n",
    "                                        == i][\"mean_arcillas_3\"].values[0]\n",
    "    df_risk[\"dist\"] = df_risk.apply(lambda x: np.sqrt(\n",
    "        (x[\"threshold_arcilla\"]-arcilla_to_risk)**2+(x[\"threshold_finos\"]-finos_to_risk)**2), axis=1)\n",
    "    prob = df_risk[df_risk[\"dist\"] ==\n",
    "                    df_risk[\"dist\"].min()][\"probability\"].values[0]\n",
    "    list_prob.append(prob)\n",
    "    \n",
    "# lista de probabilidades\n",
    "df_rec_2[\"prob panda\"] = list_prob\n",
    "df_rec_2[\"prob panda\"]=df_rec_2[\"prob panda\"]/max_probability*100\n",
    "df_rec_2"
   ]
  },
  {
   "cell_type": "code",
   "execution_count": 38,
   "metadata": {},
   "outputs": [],
   "source": [
    "df_rec_2.to_excel(\"ls1_df_rec_2.xlsx\")"
   ]
  },
  {
   "cell_type": "code",
   "execution_count": 39,
   "metadata": {},
   "outputs": [
    {
     "data": {
      "text/plain": [
       "<AxesSubplot:xlabel='cluster_rec', ylabel='mean_avg_rpm_3_(t-1)'>"
      ]
     },
     "execution_count": 39,
     "metadata": {},
     "output_type": "execute_result"
    },
    {
     "data": {
      "image/png": "[encoded data removed]",
      "text/plain": [
       "<Figure size 936x360 with 2 Axes>"
      ]
     },
     "metadata": {
      "needs_background": "light"
     },
     "output_type": "display_data"
    }
   ],
   "source": [
    "# sns.histplot(data=df_cluster_0, x=\"mean_avg_rpm_3\", hue=\"cluster_rec\") # 'mean_avg_rpm_3','mean_avg_pct_solids_3'\n",
    "fig, axes = plt.subplots(1,2,figsize=(13,5))\n",
    "sns.boxplot(data=df22, x=\"cluster_rec\", y='mean_avg_pct_solids_3_(t-1)',ax=axes[0])\n",
    "sns.boxplot(data=df22, x=\"cluster_rec\", y='mean_avg_rpm_3_(t-1)',ax=axes[1])"
   ]
  },
  {
   "attachments": {},
   "cell_type": "markdown",
   "metadata": {},
   "source": [
    "# Cluster 3"
   ]
  },
  {
   "cell_type": "code",
   "execution_count": 40,
   "metadata": {},
   "outputs": [
    {
     "data": {
      "application/vnd.plotly.v1+json": {
       "config": {
        "plotlyServerURL": "https://plot.ly"
       },
       "data": [
        {
         "hovertemplate": "x=%{x}<br>y=%{y}<extra></extra>",
         "legendgroup": "",
         "line": {
          "color": "#636efa",
          "dash": "solid"
         },
         "marker": {
          "symbol": "circle"
         },
         "mode": "lines",
         "name": "",
         "orientation": "v",
         "showlegend": false,
         "type": "scatter",
         "x": [
          1,
          2,
          3,
          4,
          5,
          6,
          7,
          8,
          9,
          10,
          11,
          12,
          13,
          14
         ],
         "xaxis": "x",
         "y": [
          15.512107116722463,
          9.818290802098206,
          5.475574490179277,
          3.9386292627524147,
          3.1054576502116618,
          2.428546412821097,
          2.0958715105291463,
          1.8145526511777665,
          1.5640170175873251,
          1.3191448180991192,
          1.2134177797709984,
          1.0280970552284097,
          0.8896558924188182,
          0.7820723474895944
         ],
         "yaxis": "y"
        }
       ],
       "layout": {
        "legend": {
         "tracegroupgap": 0
        },
        "template": {
         "data": {
          "bar": [
           {
            "error_x": {
             "color": "#2a3f5f"
            },
            "error_y": {
             "color": "#2a3f5f"
            },
            "marker": {
             "line": {
              "color": "#E5ECF6",
              "width": 0.5
             },
             "pattern": {
              "fillmode": "overlay",
              "size": 10,
              "solidity": 0.2
             }
            },
            "type": "bar"
           }
          ],
          "barpolar": [
           {
            "marker": {
             "line": {
              "color": "#E5ECF6",
              "width": 0.5
             },
             "pattern": {
              "fillmode": "overlay",
              "size": 10,
              "solidity": 0.2
             }
            },
            "type": "barpolar"
           }
          ],
          "carpet": [
           {
            "aaxis": {
             "endlinecolor": "#2a3f5f",
             "gridcolor": "white",
             "linecolor": "white",
             "minorgridcolor": "white",
             "startlinecolor": "#2a3f5f"
            },
            "baxis": {
             "endlinecolor": "#2a3f5f",
             "gridcolor": "white",
             "linecolor": "white",
             "minorgridcolor": "white",
             "startlinecolor": "#2a3f5f"
            },
            "type": "carpet"
           }
          ],
          "choropleth": [
           {
            "colorbar": {
             "outlinewidth": 0,
             "ticks": ""
            },
            "type": "choropleth"
           }
          ],
          "contour": [
           {
            "colorbar": {
             "outlinewidth": 0,
             "ticks": ""
            },
            "colorscale": [
             [
              0,
              "#0d0887"
             ],
             [
              0.1111111111111111,
              "#46039f"
             ],
             [
              0.2222222222222222,
              "#7201a8"
             ],
             [
              0.3333333333333333,
              "#9c179e"
             ],
             [
              0.4444444444444444,
              "#bd3786"
             ],
             [
              0.5555555555555556,
              "#d8576b"
             ],
             [
              0.6666666666666666,
              "#ed7953"
             ],
             [
              0.7777777777777778,
              "#fb9f3a"
             ],
             [
              0.8888888888888888,
              "#fdca26"
             ],
             [
              1,
              "#f0f921"
             ]
            ],
            "type": "contour"
           }
          ],
          "contourcarpet": [
           {
            "colorbar": {
             "outlinewidth": 0,
             "ticks": ""
            },
            "type": "contourcarpet"
           }
          ],
          "heatmap": [
           {
            "colorbar": {
             "outlinewidth": 0,
             "ticks": ""
            },
            "colorscale": [
             [
              0,
              "#0d0887"
             ],
             [
              0.1111111111111111,
              "#46039f"
             ],
             [
              0.2222222222222222,
              "#7201a8"
             ],
             [
              0.3333333333333333,
              "#9c179e"
             ],
             [
              0.4444444444444444,
              "#bd3786"
             ],
             [
              0.5555555555555556,
              "#d8576b"
             ],
             [
              0.6666666666666666,
              "#ed7953"
             ],
             [
              0.7777777777777778,
              "#fb9f3a"
             ],
             [
              0.8888888888888888,
              "#fdca26"
             ],
             [
              1,
              "#f0f921"
             ]
            ],
            "type": "heatmap"
           }
          ],
          "heatmapgl": [
           {
            "colorbar": {
             "outlinewidth": 0,
             "ticks": ""
            },
            "colorscale": [
             [
              0,
              "#0d0887"
             ],
             [
              0.1111111111111111,
              "#46039f"
             ],
             [
              0.2222222222222222,
              "#7201a8"
             ],
             [
              0.3333333333333333,
              "#9c179e"
             ],
             [
              0.4444444444444444,
              "#bd3786"
             ],
             [
              0.5555555555555556,
              "#d8576b"
             ],
             [
              0.6666666666666666,
              "#ed7953"
             ],
             [
              0.7777777777777778,
              "#fb9f3a"
             ],
             [
              0.8888888888888888,
              "#fdca26"
             ],
             [
              1,
              "#f0f921"
             ]
            ],
            "type": "heatmapgl"
           }
          ],
          "histogram": [
           {
            "marker": {
             "pattern": {
              "fillmode": "overlay",
              "size": 10,
              "solidity": 0.2
             }
            },
            "type": "histogram"
           }
          ],
          "histogram2d": [
           {
            "colorbar": {
             "outlinewidth": 0,
             "ticks": ""
            },
            "colorscale": [
             [
              0,
              "#0d0887"
             ],
             [
              0.1111111111111111,
              "#46039f"
             ],
             [
              0.2222222222222222,
              "#7201a8"
             ],
             [
              0.3333333333333333,
              "#9c179e"
             ],
             [
              0.4444444444444444,
              "#bd3786"
             ],
             [
              0.5555555555555556,
              "#d8576b"
             ],
             [
              0.6666666666666666,
              "#ed7953"
             ],
             [
              0.7777777777777778,
              "#fb9f3a"
             ],
             [
              0.8888888888888888,
              "#fdca26"
             ],
             [
              1,
              "#f0f921"
             ]
            ],
            "type": "histogram2d"
           }
          ],
          "histogram2dcontour": [
           {
            "colorbar": {
             "outlinewidth": 0,
             "ticks": ""
            },
            "colorscale": [
             [
              0,
              "#0d0887"
             ],
             [
              0.1111111111111111,
              "#46039f"
             ],
             [
              0.2222222222222222,
              "#7201a8"
             ],
             [
              0.3333333333333333,
              "#9c179e"
             ],
             [
              0.4444444444444444,
              "#bd3786"
             ],
             [
              0.5555555555555556,
              "#d8576b"
             ],
             [
              0.6666666666666666,
              "#ed7953"
             ],
             [
              0.7777777777777778,
              "#fb9f3a"
             ],
             [
              0.8888888888888888,
              "#fdca26"
             ],
             [
              1,
              "#f0f921"
             ]
            ],
            "type": "histogram2dcontour"
           }
          ],
          "mesh3d": [
           {
            "colorbar": {
             "outlinewidth": 0,
             "ticks": ""
            },
            "type": "mesh3d"
           }
          ],
          "parcoords": [
           {
            "line": {
             "colorbar": {
              "outlinewidth": 0,
              "ticks": ""
             }
            },
            "type": "parcoords"
           }
          ],
          "pie": [
           {
            "automargin": true,
            "type": "pie"
           }
          ],
          "scatter": [
           {
            "marker": {
             "colorbar": {
              "outlinewidth": 0,
              "ticks": ""
             }
            },
            "type": "scatter"
           }
          ],
          "scatter3d": [
           {
            "line": {
             "colorbar": {
              "outlinewidth": 0,
              "ticks": ""
             }
            },
            "marker": {
             "colorbar": {
              "outlinewidth": 0,
              "ticks": ""
             }
            },
            "type": "scatter3d"
           }
          ],
          "scattercarpet": [
           {
            "marker": {
             "colorbar": {
              "outlinewidth": 0,
              "ticks": ""
             }
            },
            "type": "scattercarpet"
           }
          ],
          "scattergeo": [
           {
            "marker": {
             "colorbar": {
              "outlinewidth": 0,
              "ticks": ""
             }
            },
            "type": "scattergeo"
           }
          ],
          "scattergl": [
           {
            "marker": {
             "colorbar": {
              "outlinewidth": 0,
              "ticks": ""
             }
            },
            "type": "scattergl"
           }
          ],
          "scattermapbox": [
           {
            "marker": {
             "colorbar": {
              "outlinewidth": 0,
              "ticks": ""
             }
            },
            "type": "scattermapbox"
           }
          ],
          "scatterpolar": [
           {
            "marker": {
             "colorbar": {
              "outlinewidth": 0,
              "ticks": ""
             }
            },
            "type": "scatterpolar"
           }
          ],
          "scatterpolargl": [
           {
            "marker": {
             "colorbar": {
              "outlinewidth": 0,
              "ticks": ""
             }
            },
            "type": "scatterpolargl"
           }
          ],
          "scatterternary": [
           {
            "marker": {
             "colorbar": {
              "outlinewidth": 0,
              "ticks": ""
             }
            },
            "type": "scatterternary"
           }
          ],
          "surface": [
           {
            "colorbar": {
             "outlinewidth": 0,
             "ticks": ""
            },
            "colorscale": [
             [
              0,
              "#0d0887"
             ],
             [
              0.1111111111111111,
              "#46039f"
             ],
             [
              0.2222222222222222,
              "#7201a8"
             ],
             [
              0.3333333333333333,
              "#9c179e"
             ],
             [
              0.4444444444444444,
              "#bd3786"
             ],
             [
              0.5555555555555556,
              "#d8576b"
             ],
             [
              0.6666666666666666,
              "#ed7953"
             ],
             [
              0.7777777777777778,
              "#fb9f3a"
             ],
             [
              0.8888888888888888,
              "#fdca26"
             ],
             [
              1,
              "#f0f921"
             ]
            ],
            "type": "surface"
           }
          ],
          "table": [
           {
            "cells": {
             "fill": {
              "color": "#EBF0F8"
             },
             "line": {
              "color": "white"
             }
            },
            "header": {
             "fill": {
              "color": "#C8D4E3"
             },
             "line": {
              "color": "white"
             }
            },
            "type": "table"
           }
          ]
         },
         "layout": {
          "annotationdefaults": {
           "arrowcolor": "#2a3f5f",
           "arrowhead": 0,
           "arrowwidth": 1
          },
          "autotypenumbers": "strict",
          "coloraxis": {
           "colorbar": {
            "outlinewidth": 0,
            "ticks": ""
           }
          },
          "colorscale": {
           "diverging": [
            [
             0,
             "#8e0152"
            ],
            [
             0.1,
             "#c51b7d"
            ],
            [
             0.2,
             "#de77ae"
            ],
            [
             0.3,
             "#f1b6da"
            ],
            [
             0.4,
             "#fde0ef"
            ],
            [
             0.5,
             "#f7f7f7"
            ],
            [
             0.6,
             "#e6f5d0"
            ],
            [
             0.7,
             "#b8e186"
            ],
            [
             0.8,
             "#7fbc41"
            ],
            [
             0.9,
             "#4d9221"
            ],
            [
             1,
             "#276419"
            ]
           ],
           "sequential": [
            [
             0,
             "#0d0887"
            ],
            [
             0.1111111111111111,
             "#46039f"
            ],
            [
             0.2222222222222222,
             "#7201a8"
            ],
            [
             0.3333333333333333,
             "#9c179e"
            ],
            [
             0.4444444444444444,
             "#bd3786"
            ],
            [
             0.5555555555555556,
             "#d8576b"
            ],
            [
             0.6666666666666666,
             "#ed7953"
            ],
            [
             0.7777777777777778,
             "#fb9f3a"
            ],
            [
             0.8888888888888888,
             "#fdca26"
            ],
            [
             1,
             "#f0f921"
            ]
           ],
           "sequentialminus": [
            [
             0,
             "#0d0887"
            ],
            [
             0.1111111111111111,
             "#46039f"
            ],
            [
             0.2222222222222222,
             "#7201a8"
            ],
            [
             0.3333333333333333,
             "#9c179e"
            ],
            [
             0.4444444444444444,
             "#bd3786"
            ],
            [
             0.5555555555555556,
             "#d8576b"
            ],
            [
             0.6666666666666666,
             "#ed7953"
            ],
            [
             0.7777777777777778,
             "#fb9f3a"
            ],
            [
             0.8888888888888888,
             "#fdca26"
            ],
            [
             1,
             "#f0f921"
            ]
           ]
          },
          "colorway": [
           "#636efa",
           "#EF553B",
           "#00cc96",
           "#ab63fa",
           "#FFA15A",
           "#19d3f3",
           "#FF6692",
           "#B6E880",
           "#FF97FF",
           "#FECB52"
          ],
          "font": {
           "color": "#2a3f5f"
          },
          "geo": {
           "bgcolor": "white",
           "lakecolor": "white",
           "landcolor": "#E5ECF6",
           "showlakes": true,
           "showland": true,
           "subunitcolor": "white"
          },
          "hoverlabel": {
           "align": "left"
          },
          "hovermode": "closest",
          "mapbox": {
           "style": "light"
          },
          "paper_bgcolor": "white",
          "plot_bgcolor": "#E5ECF6",
          "polar": {
           "angularaxis": {
            "gridcolor": "white",
            "linecolor": "white",
            "ticks": ""
           },
           "bgcolor": "#E5ECF6",
           "radialaxis": {
            "gridcolor": "white",
            "linecolor": "white",
            "ticks": ""
           }
          },
          "scene": {
           "xaxis": {
            "backgroundcolor": "#E5ECF6",
            "gridcolor": "white",
            "gridwidth": 2,
            "linecolor": "white",
            "showbackground": true,
            "ticks": "",
            "zerolinecolor": "white"
           },
           "yaxis": {
            "backgroundcolor": "#E5ECF6",
            "gridcolor": "white",
            "gridwidth": 2,
            "linecolor": "white",
            "showbackground": true,
            "ticks": "",
            "zerolinecolor": "white"
           },
           "zaxis": {
            "backgroundcolor": "#E5ECF6",
            "gridcolor": "white",
            "gridwidth": 2,
            "linecolor": "white",
            "showbackground": true,
            "ticks": "",
            "zerolinecolor": "white"
           }
          },
          "shapedefaults": {
           "line": {
            "color": "#2a3f5f"
           }
          },
          "ternary": {
           "aaxis": {
            "gridcolor": "white",
            "linecolor": "white",
            "ticks": ""
           },
           "baxis": {
            "gridcolor": "white",
            "linecolor": "white",
            "ticks": ""
           },
           "bgcolor": "#E5ECF6",
           "caxis": {
            "gridcolor": "white",
            "linecolor": "white",
            "ticks": ""
           }
          },
          "title": {
           "x": 0.05
          },
          "xaxis": {
           "automargin": true,
           "gridcolor": "white",
           "linecolor": "white",
           "ticks": "",
           "title": {
            "standoff": 15
           },
           "zerolinecolor": "white",
           "zerolinewidth": 2
          },
          "yaxis": {
           "automargin": true,
           "gridcolor": "white",
           "linecolor": "white",
           "ticks": "",
           "title": {
            "standoff": 15
           },
           "zerolinecolor": "white",
           "zerolinewidth": 2
          }
         }
        },
        "title": {
         "text": "Elbow method"
        },
        "xaxis": {
         "anchor": "y",
         "domain": [
          0,
          1
         ],
         "title": {
          "text": "x"
         }
        },
        "yaxis": {
         "anchor": "x",
         "domain": [
          0,
          1
         ],
         "title": {
          "text": "y"
         }
        }
       }
      }
     },
     "metadata": {},
     "output_type": "display_data"
    }
   ],
   "source": [
    "df_cluster_3=df_mm.copy().query(\"cluster==3\") \n",
    "df_mm_control3=df_cluster_3[var_operacionales] \n",
    "inercias = [] \n",
    "K = range(1,15) \n",
    "for k in K: \n",
    "    km = KMeans(init='k-means++',n_clusters=k) \n",
    "    km.fit(df_mm_control3) \n",
    "    inercias.append(km.inertia_) \n",
    "    y_km=km.predict(df_mm_control3) \n",
    "fig = px.line( x=K, y=inercias, title=\"Elbow method\") \n",
    "fig.show() "
   ]
  },
  {
   "cell_type": "code",
   "execution_count": 41,
   "metadata": {},
   "outputs": [
    {
     "data": {
      "text/html": [
       "<div>\n",
       "<style scoped>\n",
       "    .dataframe tbody tr th:only-of-type {\n",
       "        vertical-align: middle;\n",
       "    }\n",
       "\n",
       "    .dataframe tbody tr th {\n",
       "        vertical-align: top;\n",
       "    }\n",
       "\n",
       "    .dataframe thead th {\n",
       "        text-align: right;\n",
       "    }\n",
       "</style>\n",
       "<table border=\"1\" class=\"dataframe\">\n",
       "  <thead>\n",
       "    <tr style=\"text-align: right;\">\n",
       "      <th></th>\n",
       "      <th>Num atollos</th>\n",
       "      <th>Num casos</th>\n",
       "      <th>Prob atollo dentro del cluster</th>\n",
       "      <th>Covertura</th>\n",
       "      <th>riesgo arcilla</th>\n",
       "      <th>Prob riesgo arcilla</th>\n",
       "      <th>pct_cmin</th>\n",
       "      <th>pct_cmax</th>\n",
       "      <th>pct_med</th>\n",
       "      <th>rpm_cmin</th>\n",
       "      <th>rpm_cmax</th>\n",
       "      <th>rpm_med</th>\n",
       "      <th>arc_med</th>\n",
       "      <th>fino_med</th>\n",
       "      <th>tph_med</th>\n",
       "      <th>pebbles_med</th>\n",
       "      <th>agua_trommel_sag4_med</th>\n",
       "      <th>agua_harnero_sag4_med</th>\n",
       "      <th>presion_descanso_med</th>\n",
       "      <th>agua_total</th>\n",
       "      <th>intermedios_med</th>\n",
       "    </tr>\n",
       "    <tr>\n",
       "      <th>cluster_rec</th>\n",
       "      <th></th>\n",
       "      <th></th>\n",
       "      <th></th>\n",
       "      <th></th>\n",
       "      <th></th>\n",
       "      <th></th>\n",
       "      <th></th>\n",
       "      <th></th>\n",
       "      <th></th>\n",
       "      <th></th>\n",
       "      <th></th>\n",
       "      <th></th>\n",
       "      <th></th>\n",
       "      <th></th>\n",
       "      <th></th>\n",
       "      <th></th>\n",
       "      <th></th>\n",
       "      <th></th>\n",
       "      <th></th>\n",
       "      <th></th>\n",
       "      <th></th>\n",
       "    </tr>\n",
       "  </thead>\n",
       "  <tbody>\n",
       "    <tr>\n",
       "      <th>0</th>\n",
       "      <td>22.0</td>\n",
       "      <td>64</td>\n",
       "      <td>34.375000</td>\n",
       "      <td>23.655914</td>\n",
       "      <td>38</td>\n",
       "      <td>59.375000</td>\n",
       "      <td>72.791216</td>\n",
       "      <td>74.099802</td>\n",
       "      <td>73.845514</td>\n",
       "      <td>6.870609</td>\n",
       "      <td>7.851573</td>\n",
       "      <td>7.567398</td>\n",
       "      <td>0.291690</td>\n",
       "      <td>83.224763</td>\n",
       "      <td>5199.134518</td>\n",
       "      <td>414.599591</td>\n",
       "      <td>34.969555</td>\n",
       "      <td>360.501524</td>\n",
       "      <td>5243.799060</td>\n",
       "      <td>395.471079</td>\n",
       "      <td>8.546242</td>\n",
       "    </tr>\n",
       "    <tr>\n",
       "      <th>1</th>\n",
       "      <td>31.0</td>\n",
       "      <td>103</td>\n",
       "      <td>30.097087</td>\n",
       "      <td>33.333333</td>\n",
       "      <td>61</td>\n",
       "      <td>59.223301</td>\n",
       "      <td>72.910984</td>\n",
       "      <td>74.832650</td>\n",
       "      <td>73.848989</td>\n",
       "      <td>7.909886</td>\n",
       "      <td>8.661471</td>\n",
       "      <td>8.258402</td>\n",
       "      <td>0.292699</td>\n",
       "      <td>81.385643</td>\n",
       "      <td>5235.165055</td>\n",
       "      <td>378.252441</td>\n",
       "      <td>73.571024</td>\n",
       "      <td>305.086716</td>\n",
       "      <td>5235.265270</td>\n",
       "      <td>378.657740</td>\n",
       "      <td>9.652473</td>\n",
       "    </tr>\n",
       "    <tr>\n",
       "      <th>2</th>\n",
       "      <td>6.0</td>\n",
       "      <td>41</td>\n",
       "      <td>14.634146</td>\n",
       "      <td>6.451613</td>\n",
       "      <td>7</td>\n",
       "      <td>17.073171</td>\n",
       "      <td>70.913076</td>\n",
       "      <td>73.248549</td>\n",
       "      <td>72.509702</td>\n",
       "      <td>8.261856</td>\n",
       "      <td>8.984600</td>\n",
       "      <td>8.696588</td>\n",
       "      <td>0.279431</td>\n",
       "      <td>82.611719</td>\n",
       "      <td>5173.822622</td>\n",
       "      <td>402.122067</td>\n",
       "      <td>73.895913</td>\n",
       "      <td>318.392071</td>\n",
       "      <td>5230.133917</td>\n",
       "      <td>392.287984</td>\n",
       "      <td>8.906202</td>\n",
       "    </tr>\n",
       "    <tr>\n",
       "      <th>3</th>\n",
       "      <td>34.0</td>\n",
       "      <td>54</td>\n",
       "      <td>62.962963</td>\n",
       "      <td>36.559140</td>\n",
       "      <td>26</td>\n",
       "      <td>48.148148</td>\n",
       "      <td>75.193087</td>\n",
       "      <td>76.906838</td>\n",
       "      <td>76.004483</td>\n",
       "      <td>7.797365</td>\n",
       "      <td>8.665234</td>\n",
       "      <td>8.255032</td>\n",
       "      <td>0.289167</td>\n",
       "      <td>79.817951</td>\n",
       "      <td>5361.771143</td>\n",
       "      <td>435.877984</td>\n",
       "      <td>52.326812</td>\n",
       "      <td>322.254423</td>\n",
       "      <td>5179.295181</td>\n",
       "      <td>374.581234</td>\n",
       "      <td>12.796853</td>\n",
       "    </tr>\n",
       "  </tbody>\n",
       "</table>\n",
       "</div>"
      ],
      "text/plain": [
       "             Num atollos  Num casos  Prob atollo dentro del cluster  \\\n",
       "cluster_rec                                                           \n",
       "0                   22.0         64                       34.375000   \n",
       "1                   31.0        103                       30.097087   \n",
       "2                    6.0         41                       14.634146   \n",
       "3                   34.0         54                       62.962963   \n",
       "\n",
       "             Covertura  riesgo arcilla  Prob riesgo arcilla   pct_cmin  \\\n",
       "cluster_rec                                                              \n",
       "0            23.655914              38            59.375000  72.791216   \n",
       "1            33.333333              61            59.223301  72.910984   \n",
       "2             6.451613               7            17.073171  70.913076   \n",
       "3            36.559140              26            48.148148  75.193087   \n",
       "\n",
       "              pct_cmax    pct_med  rpm_cmin  rpm_cmax   rpm_med   arc_med  \\\n",
       "cluster_rec                                                                 \n",
       "0            74.099802  73.845514  6.870609  7.851573  7.567398  0.291690   \n",
       "1            74.832650  73.848989  7.909886  8.661471  8.258402  0.292699   \n",
       "2            73.248549  72.509702  8.261856  8.984600  8.696588  0.279431   \n",
       "3            76.906838  76.004483  7.797365  8.665234  8.255032  0.289167   \n",
       "\n",
       "              fino_med      tph_med  pebbles_med  agua_trommel_sag4_med  \\\n",
       "cluster_rec                                                               \n",
       "0            83.224763  5199.134518   414.599591              34.969555   \n",
       "1            81.385643  5235.165055   378.252441              73.571024   \n",
       "2            82.611719  5173.822622   402.122067              73.895913   \n",
       "3            79.817951  5361.771143   435.877984              52.326812   \n",
       "\n",
       "             agua_harnero_sag4_med  presion_descanso_med  agua_total  \\\n",
       "cluster_rec                                                            \n",
       "0                       360.501524           5243.799060  395.471079   \n",
       "1                       305.086716           5235.265270  378.657740   \n",
       "2                       318.392071           5230.133917  392.287984   \n",
       "3                       322.254423           5179.295181  374.581234   \n",
       "\n",
       "             intermedios_med  \n",
       "cluster_rec                   \n",
       "0                   8.546242  \n",
       "1                   9.652473  \n",
       "2                   8.906202  \n",
       "3                  12.796853  "
      ]
     },
     "execution_count": 41,
     "metadata": {},
     "output_type": "execute_result"
    }
   ],
   "source": [
    "# Aplicamos K-means\n",
    "n_clusters=4\n",
    "km = KMeans(n_clusters=n_clusters, init='k-means++') \n",
    "y_km = km.fit_predict(df_mm_control3) \n",
    "df_cluster_3['cluster_rec']=y_km \n",
    "df_cluster_3['Atollos_Total_case']=df.loc[df_cluster_3.index,'Atollos_Total_case']\n",
    "df2.loc[df_cluster_3.index,'cluster_rec']=df_cluster_3['cluster_rec']\n",
    "\n",
    "df23=df2.copy().query('cluster==3') \n",
    "# df23['cluster_rec']=y_km \n",
    "\n",
    "df_est=pd.DataFrame() \n",
    "Total_atollos=df_cluster_3.Atollos_Total_case.sum()\n",
    "df_est[\"Num atollos\"]=df_cluster_3[[\"cluster_rec\",\"Atollos_Total_case\"]].groupby(\"cluster_rec\").sum()\n",
    "df_est[\"Num casos\"]=df_cluster_3[[\"cluster_rec\",\"Atollos_Total_case\"]].groupby(\"cluster_rec\").apply(lambda x: len(x))\n",
    "df_est[\"Prob atollo dentro del cluster\"]=df_est[\"Num atollos\"]/df_est[\"Num casos\"]*100\n",
    "df_est[\"Covertura\"]=df_est[\"Num atollos\"]/Total_atollos*100 \n",
    "df_est[\"riesgo arcilla\"]=df23[[\"cluster_rec\",\"riesgo_arcilla\"]].groupby(\"cluster_rec\").sum()\n",
    "df_est[\"Prob riesgo arcilla\"]=df_est[\"riesgo arcilla\"]/df_est[\"Num casos\"]*100\n",
    " \n",
    "df_rec_3=df_est.copy()\n",
    "df_rec_3['pct_cmin']=df23[[\"cluster_rec\"]+var_operacionales].groupby(\"cluster_rec\").quantile(q=0.05)['mean_avg_pct_solids_3_(t-1)'] \n",
    "df_rec_3['pct_cmax']=df23[[\"cluster_rec\"]+var_operacionales].groupby(\"cluster_rec\").quantile(q=0.95)['mean_avg_pct_solids_3_(t-1)']\n",
    "df_rec_3['pct_med']=df23[[\"cluster_rec\"]+var_operacionales].groupby(\"cluster_rec\").median()['mean_avg_pct_solids_3_(t-1)']\n",
    "df_rec_3['rpm_cmin']=df23[[\"cluster_rec\"]+var_operacionales].groupby(\"cluster_rec\").quantile(q=0.05)['mean_avg_rpm_3_(t-1)']\n",
    "df_rec_3['rpm_cmax']=df23[[\"cluster_rec\"]+var_operacionales].groupby(\"cluster_rec\").quantile(q=0.95)['mean_avg_rpm_3_(t-1)']\n",
    "df_rec_3['rpm_med']=df23[[\"cluster_rec\"]+var_operacionales].groupby(\"cluster_rec\").median()['mean_avg_rpm_3_(t-1)']\n",
    "df_rec_3['arc_med']=df23[[\"cluster_rec\"]+var_operacionales+var_contexto].groupby(\"cluster_rec\").median()['mean_arcillas_3'] \n",
    "df_rec_3['fino_med']=df23[[\"cluster_rec\"]+var_operacionales+var_contexto].groupby(\"cluster_rec\").median()['mean_avg_finos_3_(t-1)']\n",
    "df_rec_3['tph_med']=df23[[\"cluster_rec\"]+var_operacionales+var_contexto].groupby(\"cluster_rec\").median()[\"mean_avg_fresh_feed_tonnage_3_(t-1)\"]\n",
    "df_rec_3['pebbles_med']=df23[[\"cluster_rec\"]+var_operacionales+var_contexto+[\"mean_avg_pebbles_3_(t-1)\"]].groupby(\"cluster_rec\").median()[\"mean_avg_pebbles_3_(t-1)\"]\n",
    "df_rec_3['agua_trommel_sag4_med']=df23[[\"cluster_rec\"]+var_operacionales+var_contexto+[\"mean_agua_trommel_sag4_3_(t-1)\"]].groupby(\"cluster_rec\").median()[\"mean_agua_trommel_sag4_3_(t-1)\"]\n",
    "df_rec_3['agua_harnero_sag4_med']=df23[[\"cluster_rec\"]+var_operacionales+var_contexto+[\"mean_agua_harnero_sag4_3_(t-1)\"]].groupby(\"cluster_rec\").median()[\"mean_agua_harnero_sag4_3_(t-1)\"]\n",
    "df_rec_3[\"presion_descanso_med\"]=df23[[\"cluster_rec\"]+var_operacionales+var_contexto].groupby(\"cluster_rec\").median()[\"mean_avg_presion_descanso_3_(t-1)\"]\n",
    "df_rec_3['agua_total']=df_rec_3['agua_trommel_sag4_med']+df_rec_3['agua_harnero_sag4_med']\n",
    "df_rec_3['intermedios_med']=df23[[\"cluster_rec\"]+var_operacionales+var_contexto+[\"mean_intermedios_3_(t-1)\"]].groupby(\"cluster_rec\").median()[\"mean_intermedios_3_(t-1)\"]\n",
    "df_rec_3 "
   ]
  },
  {
   "cell_type": "code",
   "execution_count": 42,
   "metadata": {},
   "outputs": [
    {
     "data": {
      "text/html": [
       "<div>\n",
       "<style scoped>\n",
       "    .dataframe tbody tr th:only-of-type {\n",
       "        vertical-align: middle;\n",
       "    }\n",
       "\n",
       "    .dataframe tbody tr th {\n",
       "        vertical-align: top;\n",
       "    }\n",
       "\n",
       "    .dataframe thead th {\n",
       "        text-align: right;\n",
       "    }\n",
       "</style>\n",
       "<table border=\"1\" class=\"dataframe\">\n",
       "  <thead>\n",
       "    <tr style=\"text-align: right;\">\n",
       "      <th></th>\n",
       "      <th>mean_avg_finos_3_(t-1)</th>\n",
       "      <th>mean_recirculated_pebbles_3_(t-1)</th>\n",
       "      <th>mean_speed_central_feeders_3_(t-1)</th>\n",
       "      <th>mean_avg_fresh_feed_tonnage_3_(t-1)</th>\n",
       "      <th>mean_avg_presion_descanso_3_(t-1)</th>\n",
       "      <th>mean_arcillas_3</th>\n",
       "      <th>mean_BN_054_3_(t-1)</th>\n",
       "      <th>mean_BN_055_3_(t-1)</th>\n",
       "    </tr>\n",
       "    <tr>\n",
       "      <th>cluster_rec</th>\n",
       "      <th></th>\n",
       "      <th></th>\n",
       "      <th></th>\n",
       "      <th></th>\n",
       "      <th></th>\n",
       "      <th></th>\n",
       "      <th></th>\n",
       "      <th></th>\n",
       "    </tr>\n",
       "  </thead>\n",
       "  <tbody>\n",
       "    <tr>\n",
       "      <th>0.0</th>\n",
       "      <td>80.928709</td>\n",
       "      <td>417.746350</td>\n",
       "      <td>86.992747</td>\n",
       "      <td>5204.035429</td>\n",
       "      <td>5237.140347</td>\n",
       "      <td>0.290680</td>\n",
       "      <td>53.339654</td>\n",
       "      <td>39.375155</td>\n",
       "    </tr>\n",
       "    <tr>\n",
       "      <th>1.0</th>\n",
       "      <td>79.977212</td>\n",
       "      <td>383.078435</td>\n",
       "      <td>93.303764</td>\n",
       "      <td>5262.956294</td>\n",
       "      <td>5215.522732</td>\n",
       "      <td>0.290586</td>\n",
       "      <td>53.997907</td>\n",
       "      <td>49.330589</td>\n",
       "    </tr>\n",
       "    <tr>\n",
       "      <th>2.0</th>\n",
       "      <td>78.519352</td>\n",
       "      <td>327.954400</td>\n",
       "      <td>89.189408</td>\n",
       "      <td>5201.381139</td>\n",
       "      <td>5206.989047</td>\n",
       "      <td>0.273397</td>\n",
       "      <td>50.561290</td>\n",
       "      <td>47.359489</td>\n",
       "    </tr>\n",
       "    <tr>\n",
       "      <th>3.0</th>\n",
       "      <td>80.520585</td>\n",
       "      <td>374.102630</td>\n",
       "      <td>95.992848</td>\n",
       "      <td>5348.648544</td>\n",
       "      <td>5181.297961</td>\n",
       "      <td>0.289150</td>\n",
       "      <td>71.046060</td>\n",
       "      <td>58.410807</td>\n",
       "    </tr>\n",
       "  </tbody>\n",
       "</table>\n",
       "</div>"
      ],
      "text/plain": [
       "             mean_avg_finos_3_(t-1)  mean_recirculated_pebbles_3_(t-1)  \\\n",
       "cluster_rec                                                              \n",
       "0.0                       80.928709                         417.746350   \n",
       "1.0                       79.977212                         383.078435   \n",
       "2.0                       78.519352                         327.954400   \n",
       "3.0                       80.520585                         374.102630   \n",
       "\n",
       "             mean_speed_central_feeders_3_(t-1)  \\\n",
       "cluster_rec                                       \n",
       "0.0                                   86.992747   \n",
       "1.0                                   93.303764   \n",
       "2.0                                   89.189408   \n",
       "3.0                                   95.992848   \n",
       "\n",
       "             mean_avg_fresh_feed_tonnage_3_(t-1)  \\\n",
       "cluster_rec                                        \n",
       "0.0                                  5204.035429   \n",
       "1.0                                  5262.956294   \n",
       "2.0                                  5201.381139   \n",
       "3.0                                  5348.648544   \n",
       "\n",
       "             mean_avg_presion_descanso_3_(t-1)  mean_arcillas_3  \\\n",
       "cluster_rec                                                       \n",
       "0.0                                5237.140347         0.290680   \n",
       "1.0                                5215.522732         0.290586   \n",
       "2.0                                5206.989047         0.273397   \n",
       "3.0                                5181.297961         0.289150   \n",
       "\n",
       "             mean_BN_054_3_(t-1)  mean_BN_055_3_(t-1)  \n",
       "cluster_rec                                            \n",
       "0.0                    53.339654            39.375155  \n",
       "1.0                    53.997907            49.330589  \n",
       "2.0                    50.561290            47.359489  \n",
       "3.0                    71.046060            58.410807  "
      ]
     },
     "execution_count": 42,
     "metadata": {},
     "output_type": "execute_result"
    }
   ],
   "source": [
    "# promedio de como se comporta cada variable en cada cluster\n",
    "df_context23=df23[var_contexto+['cluster_rec']].groupby(\"cluster_rec\").mean() \n",
    "df_context23"
   ]
  },
  {
   "cell_type": "code",
   "execution_count": 43,
   "metadata": {},
   "outputs": [
    {
     "data": {
      "text/html": [
       "<div>\n",
       "<style scoped>\n",
       "    .dataframe tbody tr th:only-of-type {\n",
       "        vertical-align: middle;\n",
       "    }\n",
       "\n",
       "    .dataframe tbody tr th {\n",
       "        vertical-align: top;\n",
       "    }\n",
       "\n",
       "    .dataframe thead th {\n",
       "        text-align: right;\n",
       "    }\n",
       "</style>\n",
       "<table border=\"1\" class=\"dataframe\">\n",
       "  <thead>\n",
       "    <tr style=\"text-align: right;\">\n",
       "      <th></th>\n",
       "      <th>Num atollos</th>\n",
       "      <th>Num casos</th>\n",
       "      <th>Prob atollo dentro del cluster</th>\n",
       "      <th>Covertura</th>\n",
       "      <th>riesgo arcilla</th>\n",
       "      <th>Prob riesgo arcilla</th>\n",
       "      <th>pct_cmin</th>\n",
       "      <th>pct_cmax</th>\n",
       "      <th>pct_med</th>\n",
       "      <th>rpm_cmin</th>\n",
       "      <th>rpm_cmax</th>\n",
       "      <th>rpm_med</th>\n",
       "      <th>arc_med</th>\n",
       "      <th>fino_med</th>\n",
       "      <th>tph_med</th>\n",
       "      <th>pebbles_med</th>\n",
       "      <th>agua_trommel_sag4_med</th>\n",
       "      <th>agua_harnero_sag4_med</th>\n",
       "      <th>presion_descanso_med</th>\n",
       "      <th>agua_total</th>\n",
       "      <th>intermedios_med</th>\n",
       "      <th>prob panda</th>\n",
       "    </tr>\n",
       "    <tr>\n",
       "      <th>cluster_rec</th>\n",
       "      <th></th>\n",
       "      <th></th>\n",
       "      <th></th>\n",
       "      <th></th>\n",
       "      <th></th>\n",
       "      <th></th>\n",
       "      <th></th>\n",
       "      <th></th>\n",
       "      <th></th>\n",
       "      <th></th>\n",
       "      <th></th>\n",
       "      <th></th>\n",
       "      <th></th>\n",
       "      <th></th>\n",
       "      <th></th>\n",
       "      <th></th>\n",
       "      <th></th>\n",
       "      <th></th>\n",
       "      <th></th>\n",
       "      <th></th>\n",
       "      <th></th>\n",
       "      <th></th>\n",
       "    </tr>\n",
       "  </thead>\n",
       "  <tbody>\n",
       "    <tr>\n",
       "      <th>0</th>\n",
       "      <td>22.0</td>\n",
       "      <td>64</td>\n",
       "      <td>34.375000</td>\n",
       "      <td>23.655914</td>\n",
       "      <td>38</td>\n",
       "      <td>59.375000</td>\n",
       "      <td>72.791216</td>\n",
       "      <td>74.099802</td>\n",
       "      <td>73.845514</td>\n",
       "      <td>6.870609</td>\n",
       "      <td>7.851573</td>\n",
       "      <td>7.567398</td>\n",
       "      <td>0.291690</td>\n",
       "      <td>83.224763</td>\n",
       "      <td>5199.134518</td>\n",
       "      <td>414.599591</td>\n",
       "      <td>34.969555</td>\n",
       "      <td>360.501524</td>\n",
       "      <td>5243.799060</td>\n",
       "      <td>395.471079</td>\n",
       "      <td>8.546242</td>\n",
       "      <td>41.237113</td>\n",
       "    </tr>\n",
       "    <tr>\n",
       "      <th>1</th>\n",
       "      <td>31.0</td>\n",
       "      <td>103</td>\n",
       "      <td>30.097087</td>\n",
       "      <td>33.333333</td>\n",
       "      <td>61</td>\n",
       "      <td>59.223301</td>\n",
       "      <td>72.910984</td>\n",
       "      <td>74.832650</td>\n",
       "      <td>73.848989</td>\n",
       "      <td>7.909886</td>\n",
       "      <td>8.661471</td>\n",
       "      <td>8.258402</td>\n",
       "      <td>0.292699</td>\n",
       "      <td>81.385643</td>\n",
       "      <td>5235.165055</td>\n",
       "      <td>378.252441</td>\n",
       "      <td>73.571024</td>\n",
       "      <td>305.086716</td>\n",
       "      <td>5235.265270</td>\n",
       "      <td>378.657740</td>\n",
       "      <td>9.652473</td>\n",
       "      <td>41.237113</td>\n",
       "    </tr>\n",
       "    <tr>\n",
       "      <th>2</th>\n",
       "      <td>6.0</td>\n",
       "      <td>41</td>\n",
       "      <td>14.634146</td>\n",
       "      <td>6.451613</td>\n",
       "      <td>7</td>\n",
       "      <td>17.073171</td>\n",
       "      <td>70.913076</td>\n",
       "      <td>73.248549</td>\n",
       "      <td>72.509702</td>\n",
       "      <td>8.261856</td>\n",
       "      <td>8.984600</td>\n",
       "      <td>8.696588</td>\n",
       "      <td>0.279431</td>\n",
       "      <td>82.611719</td>\n",
       "      <td>5173.822622</td>\n",
       "      <td>402.122067</td>\n",
       "      <td>73.895913</td>\n",
       "      <td>318.392071</td>\n",
       "      <td>5230.133917</td>\n",
       "      <td>392.287984</td>\n",
       "      <td>8.906202</td>\n",
       "      <td>40.549828</td>\n",
       "    </tr>\n",
       "    <tr>\n",
       "      <th>3</th>\n",
       "      <td>34.0</td>\n",
       "      <td>54</td>\n",
       "      <td>62.962963</td>\n",
       "      <td>36.559140</td>\n",
       "      <td>26</td>\n",
       "      <td>48.148148</td>\n",
       "      <td>75.193087</td>\n",
       "      <td>76.906838</td>\n",
       "      <td>76.004483</td>\n",
       "      <td>7.797365</td>\n",
       "      <td>8.665234</td>\n",
       "      <td>8.255032</td>\n",
       "      <td>0.289167</td>\n",
       "      <td>79.817951</td>\n",
       "      <td>5361.771143</td>\n",
       "      <td>435.877984</td>\n",
       "      <td>52.326812</td>\n",
       "      <td>322.254423</td>\n",
       "      <td>5179.295181</td>\n",
       "      <td>374.581234</td>\n",
       "      <td>12.796853</td>\n",
       "      <td>41.237113</td>\n",
       "    </tr>\n",
       "  </tbody>\n",
       "</table>\n",
       "</div>"
      ],
      "text/plain": [
       "             Num atollos  Num casos  Prob atollo dentro del cluster  \\\n",
       "cluster_rec                                                           \n",
       "0                   22.0         64                       34.375000   \n",
       "1                   31.0        103                       30.097087   \n",
       "2                    6.0         41                       14.634146   \n",
       "3                   34.0         54                       62.962963   \n",
       "\n",
       "             Covertura  riesgo arcilla  Prob riesgo arcilla   pct_cmin  \\\n",
       "cluster_rec                                                              \n",
       "0            23.655914              38            59.375000  72.791216   \n",
       "1            33.333333              61            59.223301  72.910984   \n",
       "2             6.451613               7            17.073171  70.913076   \n",
       "3            36.559140              26            48.148148  75.193087   \n",
       "\n",
       "              pct_cmax    pct_med  rpm_cmin  rpm_cmax   rpm_med   arc_med  \\\n",
       "cluster_rec                                                                 \n",
       "0            74.099802  73.845514  6.870609  7.851573  7.567398  0.291690   \n",
       "1            74.832650  73.848989  7.909886  8.661471  8.258402  0.292699   \n",
       "2            73.248549  72.509702  8.261856  8.984600  8.696588  0.279431   \n",
       "3            76.906838  76.004483  7.797365  8.665234  8.255032  0.289167   \n",
       "\n",
       "              fino_med      tph_med  pebbles_med  agua_trommel_sag4_med  \\\n",
       "cluster_rec                                                               \n",
       "0            83.224763  5199.134518   414.599591              34.969555   \n",
       "1            81.385643  5235.165055   378.252441              73.571024   \n",
       "2            82.611719  5173.822622   402.122067              73.895913   \n",
       "3            79.817951  5361.771143   435.877984              52.326812   \n",
       "\n",
       "             agua_harnero_sag4_med  presion_descanso_med  agua_total  \\\n",
       "cluster_rec                                                            \n",
       "0                       360.501524           5243.799060  395.471079   \n",
       "1                       305.086716           5235.265270  378.657740   \n",
       "2                       318.392071           5230.133917  392.287984   \n",
       "3                       322.254423           5179.295181  374.581234   \n",
       "\n",
       "             intermedios_med  prob panda  \n",
       "cluster_rec                               \n",
       "0                   8.546242   41.237113  \n",
       "1                   9.652473   41.237113  \n",
       "2                   8.906202   40.549828  \n",
       "3                  12.796853   41.237113  "
      ]
     },
     "execution_count": 43,
     "metadata": {},
     "output_type": "execute_result"
    }
   ],
   "source": [
    "# Para las horas de interes se calcula la probabilidad de atollo más cercana\n",
    "list_prob = []\n",
    "for i in [0,1,2,3]:\n",
    "    \n",
    "    # print(i)\n",
    "    finos_to_risk = df_context23[df_context23.index\n",
    "                                    == i][\"mean_avg_finos_3_(t-1)\"].values[0]\n",
    "    arcilla_to_risk = df_context23[df_context23.index\n",
    "                                        == i][\"mean_arcillas_3\"].values[0]\n",
    "    df_risk[\"dist\"] = df_risk.apply(lambda x: np.sqrt(\n",
    "        (x[\"threshold_arcilla\"]-arcilla_to_risk)**2+(x[\"threshold_finos\"]-finos_to_risk)**2), axis=1)\n",
    "    prob = df_risk[df_risk[\"dist\"] ==\n",
    "                    df_risk[\"dist\"].min()][\"probability\"].values[0]\n",
    "    list_prob.append(prob)\n",
    "    \n",
    "# lista de probabilidades\n",
    "df_rec_3[\"prob panda\"] = list_prob\n",
    "df_rec_3[\"prob panda\"]=df_rec_3[\"prob panda\"]/max_probability*100\n",
    "df_rec_3"
   ]
  },
  {
   "cell_type": "code",
   "execution_count": 44,
   "metadata": {},
   "outputs": [],
   "source": [
    "df_rec_3.to_excel(\"ls1_df_rec_3.xlsx\")"
   ]
  },
  {
   "cell_type": "code",
   "execution_count": 45,
   "metadata": {},
   "outputs": [
    {
     "data": {
      "text/plain": [
       "<AxesSubplot:xlabel='cluster_rec', ylabel='mean_avg_rpm_3_(t-1)'>"
      ]
     },
     "execution_count": 45,
     "metadata": {},
     "output_type": "execute_result"
    },
    {
     "data": {
      "image/png": "[encoded data removed]",
      "text/plain": [
       "<Figure size 936x360 with 2 Axes>"
      ]
     },
     "metadata": {
      "needs_background": "light"
     },
     "output_type": "display_data"
    }
   ],
   "source": [
    "# sns.histplot(data=df_cluster_0, x=\"mean_avg_rpm_3\", hue=\"cluster_rec\") # 'mean_avg_rpm_3','mean_avg_pct_solids_3'\n",
    "fig, axes = plt.subplots(1,2,figsize=(13,5)) \n",
    "sns.boxplot(data=df23, x=\"cluster_rec\", y='mean_avg_pct_solids_3_(t-1)',ax=axes[0]) \n",
    "sns.boxplot(data=df23, x=\"cluster_rec\", y='mean_avg_rpm_3_(t-1)',ax=axes[1]) "
   ]
  },
  {
   "cell_type": "code",
   "execution_count": null,
   "metadata": {},
   "outputs": [],
   "source": []
  },
  {
   "cell_type": "code",
   "execution_count": null,
   "metadata": {},
   "outputs": [],
   "source": []
  }
 ],
 "metadata": {
  "kernelspec": {
   "display_name": "anglo_american",
   "language": "python",
   "name": "python3"
  },
  "language_info": {
   "codemirror_mode": {
    "name": "ipython",
    "version": 3
   },
   "file_extension": ".py",
   "mimetype": "text/x-python",
   "name": "python",
   "nbconvert_exporter": "python",
   "pygments_lexer": "ipython3",
   "version": "3.9.2"
  },
  "orig_nbformat": 4,
  "vscode": {
   "interpreter": {
    "hash": "ffcddc64120913561610521d74b4de27f3c5fcc7261dc5b14d51ddc2c606b013"
   }
  }
 },
 "nbformat": 4,
 "nbformat_minor": 2
}
