{
 "cells": [
  {
   "cell_type": "markdown",
   "metadata": {},
   "source": [
    "# Reinforcement Learning Offline"
   ]
  },
  {
   "cell_type": "code",
   "execution_count": 1,
   "metadata": {},
   "outputs": [],
   "source": [
    "# import libraries\n",
    "import warnings\n",
    "warnings.filterwarnings(\"ignore\")\n",
    "import pandas as pd\n",
    "import numpy as np\n",
    "import plotly.graph_objects as go\n",
    "from plotly.subplots import make_subplots\n",
    "import matplotlib.pyplot as plt\n",
    "import auxiliar_functions as af\n",
    "import d3rlpy\n",
    "# You can split dataset into a training dataset and a test dataset just like supervised learning as follows.\n",
    "from sklearn.model_selection import train_test_split\n",
    "# Collecting evaluation metrics is important to train algorithms properly. In d3rlpy, the metrics is computed through scikit-learn style scorer functions.\n",
    "from d3rlpy.metrics.scorer import td_error_scorer\n",
    "from d3rlpy.metrics.scorer import average_value_estimation_scorer\n",
    "# the algorithm can be directly evaluated with evaluate_on_environment function if the environment is available to interactF\n",
    "from d3rlpy.metrics.scorer import evaluate_on_environment\n",
    "from d3rlpy.datasets import get_cartpole # CartPole-v0 dataset\n",
    "from d3rlpy.datasets import get_pendulum # Pendulum-v0 dataset\n",
    "from d3rlpy.datasets import get_pybullet # PyBullet task datasets\n",
    "from d3rlpy.datasets import get_atari    # Atari 2600 task datasets\n",
    "from d3rlpy.datasets import get_d4rl     # D4RL datasets\n"
   ]
  },
  {
   "cell_type": "code",
   "execution_count": 2,
   "metadata": {},
   "outputs": [],
   "source": [
    "variables_interes=['pyrite law', 'chalcopyrite law',\n",
    "       'chalcocite law', 'covelin law', 'crusher index', 'sag power index',\n",
    "       'ball work index', 'bornite law','charge cell', 'TPH','water', 'speed','HH TPH', 'granulometry', 'Edad','loss of TPH',\n",
    "       \"power\",\"solid percentage\",\"HH charge cell\",\"LL charge cell\",\"delta HH TPH\",\"delta HH charge cell\",\"delta LL charge cell\"]"
   ]
  },
  {
   "cell_type": "code",
   "execution_count": 3,
   "metadata": {},
   "outputs": [],
   "source": [
    "# read dictionary\n",
    "tags=pd.read_excel(\"..\\\\data\\\\tags relevantes.xlsx\")\n",
    "tags_cc=tags.tag.to_list()\n",
    "dic={}\n",
    "for i,j in zip(tags.tag,tags.description):\n",
    "    dic[i]=j"
   ]
  },
  {
   "cell_type": "code",
   "execution_count": 4,
   "metadata": {},
   "outputs": [
    {
     "name": "stdout",
     "output_type": "stream",
     "text": [
      "(859344, 24)\n"
     ]
    },
    {
     "data": {
      "text/html": [
       "<div>\n",
       "<style scoped>\n",
       "    .dataframe tbody tr th:only-of-type {\n",
       "        vertical-align: middle;\n",
       "    }\n",
       "\n",
       "    .dataframe tbody tr th {\n",
       "        vertical-align: top;\n",
       "    }\n",
       "\n",
       "    .dataframe thead th {\n",
       "        text-align: right;\n",
       "    }\n",
       "</style>\n",
       "<table border=\"1\" class=\"dataframe\">\n",
       "  <thead>\n",
       "    <tr style=\"text-align: right;\">\n",
       "      <th></th>\n",
       "      <th>pyrite law</th>\n",
       "      <th>chalcopyrite law</th>\n",
       "      <th>chalcocite law</th>\n",
       "      <th>covelin law</th>\n",
       "      <th>crusher index</th>\n",
       "      <th>sag power index</th>\n",
       "      <th>ball work index</th>\n",
       "      <th>bornite law</th>\n",
       "      <th>charge cell</th>\n",
       "      <th>TPH</th>\n",
       "      <th>water</th>\n",
       "      <th>speed</th>\n",
       "      <th>HH TPH</th>\n",
       "      <th>granulometry</th>\n",
       "      <th>Edad</th>\n",
       "      <th>loss of TPH</th>\n",
       "      <th>power</th>\n",
       "      <th>solid percentage</th>\n",
       "      <th>HH charge cell</th>\n",
       "      <th>LL charge cell</th>\n",
       "      <th>delta HH TPH</th>\n",
       "      <th>delta HH charge cell</th>\n",
       "      <th>delta LL charge cell</th>\n",
       "      <th>terminals</th>\n",
       "    </tr>\n",
       "    <tr>\n",
       "      <th>Timestamp</th>\n",
       "      <th></th>\n",
       "      <th></th>\n",
       "      <th></th>\n",
       "      <th></th>\n",
       "      <th></th>\n",
       "      <th></th>\n",
       "      <th></th>\n",
       "      <th></th>\n",
       "      <th></th>\n",
       "      <th></th>\n",
       "      <th></th>\n",
       "      <th></th>\n",
       "      <th></th>\n",
       "      <th></th>\n",
       "      <th></th>\n",
       "      <th></th>\n",
       "      <th></th>\n",
       "      <th></th>\n",
       "      <th></th>\n",
       "      <th></th>\n",
       "      <th></th>\n",
       "      <th></th>\n",
       "      <th></th>\n",
       "      <th></th>\n",
       "    </tr>\n",
       "  </thead>\n",
       "  <tbody>\n",
       "    <tr>\n",
       "      <th>2020-01-10 01:00:00</th>\n",
       "      <td>2.3</td>\n",
       "      <td>1.76</td>\n",
       "      <td>0.5</td>\n",
       "      <td>0.02</td>\n",
       "      <td>19.7649</td>\n",
       "      <td>98.5569</td>\n",
       "      <td>15.4504</td>\n",
       "      <td>0.05</td>\n",
       "      <td>823.909536</td>\n",
       "      <td>4095.626634</td>\n",
       "      <td>1543.366447</td>\n",
       "      <td>9.250491</td>\n",
       "      <td>4100.0</td>\n",
       "      <td>42.290517</td>\n",
       "      <td>1.0</td>\n",
       "      <td>1</td>\n",
       "      <td>22603.234708</td>\n",
       "      <td>72.612950</td>\n",
       "      <td>850.0</td>\n",
       "      <td>770.0</td>\n",
       "      <td>4.373366</td>\n",
       "      <td>26.090464</td>\n",
       "      <td>53.909536</td>\n",
       "      <td>0</td>\n",
       "    </tr>\n",
       "    <tr>\n",
       "      <th>2020-01-10 01:01:00</th>\n",
       "      <td>2.3</td>\n",
       "      <td>1.76</td>\n",
       "      <td>0.5</td>\n",
       "      <td>0.02</td>\n",
       "      <td>19.7649</td>\n",
       "      <td>98.5569</td>\n",
       "      <td>15.4504</td>\n",
       "      <td>0.05</td>\n",
       "      <td>824.839407</td>\n",
       "      <td>4065.884243</td>\n",
       "      <td>1550.973678</td>\n",
       "      <td>9.258654</td>\n",
       "      <td>4100.0</td>\n",
       "      <td>42.224897</td>\n",
       "      <td>1.0</td>\n",
       "      <td>1</td>\n",
       "      <td>22625.327947</td>\n",
       "      <td>72.431979</td>\n",
       "      <td>850.0</td>\n",
       "      <td>770.0</td>\n",
       "      <td>34.115757</td>\n",
       "      <td>25.160593</td>\n",
       "      <td>54.839407</td>\n",
       "      <td>0</td>\n",
       "    </tr>\n",
       "    <tr>\n",
       "      <th>2020-01-10 01:02:00</th>\n",
       "      <td>2.3</td>\n",
       "      <td>1.76</td>\n",
       "      <td>0.5</td>\n",
       "      <td>0.02</td>\n",
       "      <td>19.7649</td>\n",
       "      <td>98.5569</td>\n",
       "      <td>15.4504</td>\n",
       "      <td>0.05</td>\n",
       "      <td>824.649549</td>\n",
       "      <td>4030.786580</td>\n",
       "      <td>1565.958666</td>\n",
       "      <td>9.250667</td>\n",
       "      <td>4100.0</td>\n",
       "      <td>42.235243</td>\n",
       "      <td>1.0</td>\n",
       "      <td>1</td>\n",
       "      <td>22646.748972</td>\n",
       "      <td>72.010136</td>\n",
       "      <td>850.0</td>\n",
       "      <td>770.0</td>\n",
       "      <td>69.213420</td>\n",
       "      <td>25.350451</td>\n",
       "      <td>54.649549</td>\n",
       "      <td>0</td>\n",
       "    </tr>\n",
       "    <tr>\n",
       "      <th>2020-01-10 01:03:00</th>\n",
       "      <td>2.3</td>\n",
       "      <td>1.76</td>\n",
       "      <td>0.5</td>\n",
       "      <td>0.02</td>\n",
       "      <td>19.7649</td>\n",
       "      <td>98.5569</td>\n",
       "      <td>15.4504</td>\n",
       "      <td>0.05</td>\n",
       "      <td>823.890193</td>\n",
       "      <td>4018.548119</td>\n",
       "      <td>1570.175300</td>\n",
       "      <td>9.310925</td>\n",
       "      <td>4100.0</td>\n",
       "      <td>42.256266</td>\n",
       "      <td>1.0</td>\n",
       "      <td>1</td>\n",
       "      <td>22741.929035</td>\n",
       "      <td>71.944631</td>\n",
       "      <td>850.0</td>\n",
       "      <td>770.0</td>\n",
       "      <td>81.451881</td>\n",
       "      <td>26.109807</td>\n",
       "      <td>53.890193</td>\n",
       "      <td>0</td>\n",
       "    </tr>\n",
       "    <tr>\n",
       "      <th>2020-01-10 01:04:00</th>\n",
       "      <td>2.3</td>\n",
       "      <td>1.76</td>\n",
       "      <td>0.5</td>\n",
       "      <td>0.02</td>\n",
       "      <td>19.7649</td>\n",
       "      <td>98.5569</td>\n",
       "      <td>15.4504</td>\n",
       "      <td>0.05</td>\n",
       "      <td>822.616814</td>\n",
       "      <td>4031.546547</td>\n",
       "      <td>1584.178107</td>\n",
       "      <td>9.312753</td>\n",
       "      <td>4100.0</td>\n",
       "      <td>42.283309</td>\n",
       "      <td>1.0</td>\n",
       "      <td>1</td>\n",
       "      <td>22762.649082</td>\n",
       "      <td>71.787584</td>\n",
       "      <td>850.0</td>\n",
       "      <td>770.0</td>\n",
       "      <td>68.453453</td>\n",
       "      <td>27.383186</td>\n",
       "      <td>52.616814</td>\n",
       "      <td>0</td>\n",
       "    </tr>\n",
       "  </tbody>\n",
       "</table>\n",
       "</div>"
      ],
      "text/plain": [
       "                     pyrite law  chalcopyrite law  chalcocite law  \\\n",
       "Timestamp                                                           \n",
       "2020-01-10 01:00:00         2.3              1.76             0.5   \n",
       "2020-01-10 01:01:00         2.3              1.76             0.5   \n",
       "2020-01-10 01:02:00         2.3              1.76             0.5   \n",
       "2020-01-10 01:03:00         2.3              1.76             0.5   \n",
       "2020-01-10 01:04:00         2.3              1.76             0.5   \n",
       "\n",
       "                     covelin law  crusher index  sag power index  \\\n",
       "Timestamp                                                          \n",
       "2020-01-10 01:00:00         0.02        19.7649          98.5569   \n",
       "2020-01-10 01:01:00         0.02        19.7649          98.5569   \n",
       "2020-01-10 01:02:00         0.02        19.7649          98.5569   \n",
       "2020-01-10 01:03:00         0.02        19.7649          98.5569   \n",
       "2020-01-10 01:04:00         0.02        19.7649          98.5569   \n",
       "\n",
       "                     ball work index  bornite law  charge cell          TPH  \\\n",
       "Timestamp                                                                     \n",
       "2020-01-10 01:00:00          15.4504         0.05   823.909536  4095.626634   \n",
       "2020-01-10 01:01:00          15.4504         0.05   824.839407  4065.884243   \n",
       "2020-01-10 01:02:00          15.4504         0.05   824.649549  4030.786580   \n",
       "2020-01-10 01:03:00          15.4504         0.05   823.890193  4018.548119   \n",
       "2020-01-10 01:04:00          15.4504         0.05   822.616814  4031.546547   \n",
       "\n",
       "                           water     speed  HH TPH  granulometry  Edad  \\\n",
       "Timestamp                                                                \n",
       "2020-01-10 01:00:00  1543.366447  9.250491  4100.0     42.290517   1.0   \n",
       "2020-01-10 01:01:00  1550.973678  9.258654  4100.0     42.224897   1.0   \n",
       "2020-01-10 01:02:00  1565.958666  9.250667  4100.0     42.235243   1.0   \n",
       "2020-01-10 01:03:00  1570.175300  9.310925  4100.0     42.256266   1.0   \n",
       "2020-01-10 01:04:00  1584.178107  9.312753  4100.0     42.283309   1.0   \n",
       "\n",
       "                     loss of TPH         power  solid percentage  \\\n",
       "Timestamp                                                          \n",
       "2020-01-10 01:00:00            1  22603.234708         72.612950   \n",
       "2020-01-10 01:01:00            1  22625.327947         72.431979   \n",
       "2020-01-10 01:02:00            1  22646.748972         72.010136   \n",
       "2020-01-10 01:03:00            1  22741.929035         71.944631   \n",
       "2020-01-10 01:04:00            1  22762.649082         71.787584   \n",
       "\n",
       "                     HH charge cell  LL charge cell  delta HH TPH  \\\n",
       "Timestamp                                                           \n",
       "2020-01-10 01:00:00           850.0           770.0      4.373366   \n",
       "2020-01-10 01:01:00           850.0           770.0     34.115757   \n",
       "2020-01-10 01:02:00           850.0           770.0     69.213420   \n",
       "2020-01-10 01:03:00           850.0           770.0     81.451881   \n",
       "2020-01-10 01:04:00           850.0           770.0     68.453453   \n",
       "\n",
       "                     delta HH charge cell  delta LL charge cell  terminals  \n",
       "Timestamp                                                                   \n",
       "2020-01-10 01:00:00             26.090464             53.909536          0  \n",
       "2020-01-10 01:01:00             25.160593             54.839407          0  \n",
       "2020-01-10 01:02:00             25.350451             54.649549          0  \n",
       "2020-01-10 01:03:00             26.109807             53.890193          0  \n",
       "2020-01-10 01:04:00             27.383186             52.616814          0  "
      ]
     },
     "execution_count": 4,
     "metadata": {},
     "output_type": "execute_result"
    }
   ],
   "source": [
    "# read data\n",
    "liners_age=pd.read_csv('../data/liners_age_17December2022.csv', parse_dates=['Timestamp'], index_col='Timestamp')\n",
    "df=pd.read_csv(\"..\\data\\cleaned_15December2022.csv\", parse_dates=['Timestamp'], index_col='Timestamp')\n",
    "df.rename(columns=dic,inplace=True)\n",
    "df=df.join(liners_age).dropna()\n",
    "df[\"delta HH TPH\"]=df[\"HH TPH\"]-df[\"TPH\"]\n",
    "df[\"delta HH charge cell\"]=df[\"HH charge cell\"]-df[\"charge cell\"]\n",
    "df[\"delta LL charge cell\"]=df[\"charge cell\"]-df[\"LL charge cell\"]\n",
    "df[\"loss of TPH\"]=df[\"delta HH TPH\"].apply(lambda x: -1 if x>100 else 1)\n",
    "df=df[variables_interes]\n",
    "# Done MDP: se considera como tarea finalizada cuando el turno termina a las 12:00\n",
    "df[\"terminals\"]=df.reset_index().apply(lambda x: 1 if x[\"Timestamp\"].strftime(\"%H:%M\")==\"12:00\" else 0,axis=1).values#.shift(-5)\n",
    "print(df.shape)\n",
    "df.head()"
   ]
  },
  {
   "cell_type": "code",
   "execution_count": 5,
   "metadata": {},
   "outputs": [],
   "source": [
    "states=[\n",
    " 'charge cell',\n",
    " 'water',\n",
    " 'speed',\n",
    " 'HH TPH',\n",
    " 'granulometry',\n",
    " 'solid percentage',\n",
    " 'HH charge cell',\n",
    " ]\n",
    "\n",
    "actions=[\n",
    "    'HH charge cell'\n",
    "    ]\n",
    "\n",
    "reward=[\n",
    "    \"loss of TPH\"\n",
    "    ]"
   ]
  },
  {
   "cell_type": "code",
   "execution_count": 6,
   "metadata": {},
   "outputs": [
    {
     "data": {
      "text/plain": [
       "<d3rlpy.dataset.MDPDataset at 0x1dd1bfe3358>"
      ]
     },
     "execution_count": 6,
     "metadata": {},
     "output_type": "execute_result"
    }
   ],
   "source": [
    "observations=df[states].to_numpy()\n",
    "actions=df[actions].to_numpy()\n",
    "rewards=df[reward].to_numpy().squeeze()\n",
    "terminals=df[\"terminals\"].to_numpy()\n",
    "dataset = d3rlpy.dataset.MDPDataset(\n",
    "    observations=observations,\n",
    "    actions=actions,\n",
    "    rewards=rewards,\n",
    "    terminals=terminals,\n",
    ")\n",
    "dataset"
   ]
  },
  {
   "cell_type": "code",
   "execution_count": 7,
   "metadata": {},
   "outputs": [],
   "source": [
    "# first episode\n",
    "episode = dataset.episodes[0]\n",
    "\n",
    "# access to episode data\n",
    "episode.observations\n",
    "episode.actions\n",
    "episode.rewards\n",
    "\n",
    "# first transition\n",
    "transition = episode.transitions[0]\n",
    "\n",
    "# access to tuple\n",
    "transition.observation\n",
    "transition.action\n",
    "transition.reward\n",
    "transition.next_observation\n",
    "\n",
    "# linked list structure\n",
    "next_transition = transition.next_transition\n",
    "assert transition is next_transition.prev_transition"
   ]
  },
  {
   "cell_type": "code",
   "execution_count": 9,
   "metadata": {},
   "outputs": [
    {
     "name": "stdout",
     "output_type": "stream",
     "text": [
      "2023-07-21 16:50.52 [debug    ] RoundIterator is selected.\n",
      "2023-07-21 16:50.52 [info     ] Directory is created at d3rlpy_logs\\CQL_20230721165052\n",
      "2023-07-21 16:50.52 [debug    ] Building models...\n",
      "2023-07-21 16:50.52 [debug    ] Models have been built.\n",
      "2023-07-21 16:50.52 [info     ] Parameters are saved to d3rlpy_logs\\CQL_20230721165052\\params.json params={'action_scaler': None, 'actor_encoder_factory': {'type': 'default', 'params': {'activation': 'relu', 'use_batch_norm': False, 'dropout_rate': None}}, 'actor_learning_rate': 0.0001, 'actor_optim_factory': {'optim_cls': 'Adam', 'betas': (0.9, 0.999), 'eps': 1e-08, 'weight_decay': 0, 'amsgrad': False}, 'alpha_learning_rate': 0.0001, 'alpha_optim_factory': {'optim_cls': 'Adam', 'betas': (0.9, 0.999), 'eps': 1e-08, 'weight_decay': 0, 'amsgrad': False}, 'alpha_threshold': 10.0, 'batch_size': 256, 'conservative_weight': 5.0, 'critic_encoder_factory': {'type': 'default', 'params': {'activation': 'relu', 'use_batch_norm': False, 'dropout_rate': None}}, 'critic_learning_rate': 0.0003, 'critic_optim_factory': {'optim_cls': 'Adam', 'betas': (0.9, 0.999), 'eps': 1e-08, 'weight_decay': 0, 'amsgrad': False}, 'gamma': 0.99, 'generated_maxlen': 100000, 'initial_alpha': 1.0, 'initial_temperature': 1.0, 'n_action_samples': 10, 'n_critics': 2, 'n_frames': 1, 'n_steps': 1, 'q_func_factory': {'type': 'mean', 'params': {'bootstrap': False, 'share_encoder': False}}, 'real_ratio': 1.0, 'reward_scaler': None, 'scaler': None, 'soft_q_backup': False, 'target_reduction_type': 'min', 'tau': 0.005, 'temp_learning_rate': 0.0001, 'temp_optim_factory': {'optim_cls': 'Adam', 'betas': (0.9, 0.999), 'eps': 1e-08, 'weight_decay': 0, 'amsgrad': False}, 'use_gpu': None, 'algorithm': 'CQL', 'observation_shape': (7,), 'action_size': 1}\n"
     ]
    },
    {
     "name": "stderr",
     "output_type": "stream",
     "text": [
      "Epoch 1/10:   3%|▎         | 70/2512 [00:26<13:41,  2.97it/s, temp_loss=-25, temp=1, alpha_loss=673, alpha=0.998, critic_loss=-455, actor_loss=207]   "
     ]
    }
   ],
   "source": [
    "# episode-wise split\n",
    "train_episodes, test_episodes = train_test_split(dataset.episodes)\n",
    "\n",
    "# setup metrics\n",
    "metrics = {\n",
    "  \"soft_opc\": d3rlpy.metrics.scorer.soft_opc_scorer(return_threshold=180),\n",
    "  \"initial_value\": d3rlpy.metrics.scorer.initial_state_value_estimation_scorer,\n",
    "}\n",
    "\n",
    "dqn = d3rlpy.algos.CQL()\n",
    "\n",
    "# start training with episode-wise splits\n",
    "data_train=dqn.fit(\n",
    "    train_episodes,\n",
    "    n_epochs=10,\n",
    "    scorers=metrics,\n",
    "    eval_episodes=test_episodes,\n",
    ")"
   ]
  },
  {
   "cell_type": "code",
   "execution_count": null,
   "metadata": {},
   "outputs": [],
   "source": [
    "# Métricas que queremos graficar\n",
    "metrics_to_plot = ['time_sample_batch', 'time_algorithm_update', 'loss', 'time_step', 'soft_opc', 'initial_value', #'environment'\n",
    "                   ]\n",
    "\n",
    "# Crear un gráfico de líneas para cada métrica\n",
    "for metric in metrics_to_plot:\n",
    "    x = [entry[0] for entry in data_train]\n",
    "    y = [entry[1][metric] for entry in data_train]\n",
    "    plt.plot(x, y, label=metric)\n",
    "\n",
    "    # Etiquetas y título del gráfico\n",
    "    plt.xlabel('Epoch')\n",
    "    plt.ylabel(metric)\n",
    "    plt.title('Métricas en función del número de muestra')\n",
    "    plt.legend()\n",
    "\n",
    "    # Mostrar el gráfico\n",
    "    plt.show()"
   ]
  },
  {
   "attachments": {},
   "cell_type": "markdown",
   "metadata": {},
   "source": [
    "# Create Your Dataset"
   ]
  },
  {
   "attachments": {},
   "cell_type": "markdown",
   "metadata": {},
   "source": [
    "**The data collection API is introduced in Data Collection. In this tutorial, you can learn how to build your dataset from logged data such as the user data collected in your web service.**"
   ]
  },
  {
   "attachments": {},
   "cell_type": "markdown",
   "metadata": {},
   "source": [
    "### Prepare Logged Data"
   ]
  },
  {
   "attachments": {},
   "cell_type": "markdown",
   "metadata": {},
   "source": [
    "**First of all, you need to prepare your logged data. In this tutorial, let’s use randomly generated data. terminals represents the last step of episodes. If terminals[i] == 1.0, i-th step is the terminal state. Otherwise you need to set zeros for non-terminal states.**"
   ]
  },
  {
   "cell_type": "code",
   "execution_count": 3,
   "metadata": {},
   "outputs": [],
   "source": [
    "# vector observation\n",
    "# 1000 steps of observations with shape of (100,)\n",
    "observations = np.random.random((1000, 100))\n",
    "\n",
    "# 1000 steps of actions with shape of (4,)\n",
    "actions = np.random.random((1000, 4))\n",
    "actions=np.random.randint(2, size=1000)\n",
    "# 1000 steps of rewards\n",
    "rewards = np.random.random(1000)\n",
    "\n",
    "# 1000 steps of terminal flags\n",
    "terminals = np.random.randint(2, size=1000)"
   ]
  },
  {
   "cell_type": "code",
   "execution_count": 4,
   "metadata": {},
   "outputs": [],
   "source": [
    "dataset = d3rlpy.dataset.MDPDataset(\n",
    "    observations=observations,\n",
    "    actions=actions,\n",
    "    rewards=rewards,\n",
    "    terminals=terminals,\n",
    ")"
   ]
  },
  {
   "cell_type": "code",
   "execution_count": 49,
   "metadata": {},
   "outputs": [],
   "source": [
    "# You can make your own dataset without any efforts. In this tutorial, let’s use integrated datasets to start. If you want to make a new dataset, see MDPDataset.\n",
    "dataset, env = get_cartpole()"
   ]
  },
  {
   "cell_type": "code",
   "execution_count": 50,
   "metadata": {},
   "outputs": [],
   "source": [
    "# first episode\n",
    "episode = dataset.episodes[0]\n",
    "\n",
    "# access to episode data\n",
    "episode.observations\n",
    "episode.actions\n",
    "episode.rewards\n",
    "\n",
    "# first transition\n",
    "transition = episode.transitions[0]\n",
    "\n",
    "# access to tuple\n",
    "transition.observation\n",
    "transition.action\n",
    "transition.reward\n",
    "transition.next_observation\n",
    "\n",
    "# linked list structure\n",
    "next_transition = transition.next_transition\n",
    "assert transition is next_transition.prev_transition"
   ]
  },
  {
   "cell_type": "code",
   "execution_count": 90,
   "metadata": {},
   "outputs": [],
   "source": [
    "dqn = d3rlpy.algos.DQN(use_gpu=False)"
   ]
  },
  {
   "cell_type": "code",
   "execution_count": 67,
   "metadata": {},
   "outputs": [],
   "source": [
    "# initialize neural networks with the given observation shape and action size.\n",
    "# this is not necessary when you directly call fit or fit_online method.\n",
    "dqn.build_with_dataset(dataset)"
   ]
  },
  {
   "cell_type": "code",
   "execution_count": 53,
   "metadata": {},
   "outputs": [],
   "source": [
    "# episode-wise split\n",
    "train_episodes, test_episodes = train_test_split(dataset.episodes)"
   ]
  },
  {
   "cell_type": "code",
   "execution_count": 54,
   "metadata": {},
   "outputs": [
    {
     "data": {
      "text/plain": [
       "1.0431506124719305"
      ]
     },
     "execution_count": 54,
     "metadata": {},
     "output_type": "execute_result"
    }
   ],
   "source": [
    "# calculate metrics with test dataset\n",
    "td_error = td_error_scorer(dqn, test_episodes)\n",
    "td_error"
   ]
  },
  {
   "cell_type": "code",
   "execution_count": 55,
   "metadata": {},
   "outputs": [],
   "source": [
    "# set environment in scorer function\n",
    "evaluate_scorer = evaluate_on_environment(env)"
   ]
  },
  {
   "cell_type": "code",
   "execution_count": 78,
   "metadata": {},
   "outputs": [
    {
     "name": "stdout",
     "output_type": "stream",
     "text": [
      "2023-07-21 16:30.56 [debug    ] RoundIterator is selected.\n",
      "2023-07-21 16:30.56 [info     ] Directory is created at d3rlpy_logs\\DQN_20230721163056\n",
      "2023-07-21 16:30.56 [warning  ] Skip building models since they're already built.\n",
      "2023-07-21 16:30.56 [info     ] Parameters are saved to d3rlpy_logs\\DQN_20230721163056\\params.json params={'action_scaler': None, 'batch_size': 32, 'encoder_factory': {'type': 'default', 'params': {'activation': 'relu', 'use_batch_norm': False, 'dropout_rate': None}}, 'gamma': 0.99, 'generated_maxlen': 100000, 'learning_rate': 6.25e-05, 'n_critics': 1, 'n_frames': 1, 'n_steps': 1, 'optim_factory': {'optim_cls': 'Adam', 'betas': (0.9, 0.999), 'eps': 1e-08, 'weight_decay': 0, 'amsgrad': False}, 'q_func_factory': {'type': 'mean', 'params': {'bootstrap': False, 'share_encoder': False}}, 'real_ratio': 1.0, 'reward_scaler': None, 'scaler': None, 'target_reduction_type': 'min', 'target_update_interval': 8000, 'use_gpu': None, 'algorithm': 'DQN', 'observation_shape': (4,), 'action_size': 2}\n"
     ]
    },
    {
     "name": "stderr",
     "output_type": "stream",
     "text": [
      "Epoch 1/10: 100%|██████████| 2354/2354 [00:09<00:00, 237.27it/s, loss=0.0216]\n"
     ]
    },
    {
     "name": "stdout",
     "output_type": "stream",
     "text": [
      "2023-07-21 16:31.07 [info     ] DQN_20230721163056: epoch=1 step=2354 epoch=1 metrics={'time_sample_batch': 0.00013953178943773396, 'time_algorithm_update': 0.0038903306476524954, 'loss': 0.021600676954092807, 'time_step': 0.004167078811431599, 'soft_opc': 0.02691657160661487, 'initial_value': 3.9311890602111816, 'environment': 119.4} step=2354\n",
      "2023-07-21 16:31.07 [info     ] Model parameters are saved to d3rlpy_logs\\DQN_20230721163056\\model_2354.pt\n"
     ]
    },
    {
     "name": "stderr",
     "output_type": "stream",
     "text": [
      "Epoch 2/10: 100%|██████████| 2354/2354 [00:09<00:00, 240.09it/s, loss=0.0218]\n"
     ]
    },
    {
     "name": "stdout",
     "output_type": "stream",
     "text": [
      "2023-07-21 16:31.18 [info     ] DQN_20230721163056: epoch=2 step=4708 epoch=2 metrics={'time_sample_batch': 0.00013109254148316364, 'time_algorithm_update': 0.003846313250500364, 'loss': 0.021761843496131927, 'time_step': 0.00411357450201639, 'soft_opc': 0.02626504465934243, 'initial_value': 3.906294584274292, 'environment': 168.0} step=4708\n",
      "2023-07-21 16:31.18 [info     ] Model parameters are saved to d3rlpy_logs\\DQN_20230721163056\\model_4708.pt\n"
     ]
    },
    {
     "name": "stderr",
     "output_type": "stream",
     "text": [
      "Epoch 3/10: 100%|██████████| 2354/2354 [00:10<00:00, 217.17it/s, loss=0.0215]\n"
     ]
    },
    {
     "name": "stdout",
     "output_type": "stream",
     "text": [
      "2023-07-21 16:31.30 [info     ] DQN_20230721163056: epoch=3 step=7062 epoch=3 metrics={'time_sample_batch': 0.00015707662172406633, 'time_algorithm_update': 0.0042505595475409936, 'loss': 0.021528585752483384, 'time_step': 0.004547339429668987, 'soft_opc': 0.032161004966838824, 'initial_value': 3.915921449661255, 'environment': 200.0} step=7062\n",
      "2023-07-21 16:31.30 [info     ] Model parameters are saved to d3rlpy_logs\\DQN_20230721163056\\model_7062.pt\n"
     ]
    },
    {
     "name": "stderr",
     "output_type": "stream",
     "text": [
      "Epoch 4/10: 100%|██████████| 2354/2354 [00:11<00:00, 211.85it/s, loss=0.0264]\n"
     ]
    },
    {
     "name": "stdout",
     "output_type": "stream",
     "text": [
      "2023-07-21 16:31.42 [info     ] DQN_20230721163056: epoch=4 step=9416 epoch=4 metrics={'time_sample_batch': 0.00016348404507568153, 'time_algorithm_update': 0.004350742143195062, 'loss': 0.026373385477283372, 'time_step': 0.004659618577819409, 'soft_opc': 0.03447153877926201, 'initial_value': 4.88512659072876, 'environment': 200.0} step=9416\n",
      "2023-07-21 16:31.42 [info     ] Model parameters are saved to d3rlpy_logs\\DQN_20230721163056\\model_9416.pt\n"
     ]
    },
    {
     "name": "stderr",
     "output_type": "stream",
     "text": [
      "Epoch 5/10: 100%|██████████| 2354/2354 [00:11<00:00, 204.71it/s, loss=0.0302]\n"
     ]
    },
    {
     "name": "stdout",
     "output_type": "stream",
     "text": [
      "2023-07-21 16:31.55 [info     ] DQN_20230721163056: epoch=5 step=11770 epoch=5 metrics={'time_sample_batch': 0.00016697706969592566, 'time_algorithm_update': 0.004510875465308799, 'loss': 0.030137027015422133, 'time_step': 0.004822415219795532, 'soft_opc': 0.04511909596733865, 'initial_value': 4.895848274230957, 'environment': 200.0} step=11770\n",
      "2023-07-21 16:31.55 [info     ] Model parameters are saved to d3rlpy_logs\\DQN_20230721163056\\model_11770.pt\n"
     ]
    },
    {
     "name": "stderr",
     "output_type": "stream",
     "text": [
      "Epoch 6/10: 100%|██████████| 2354/2354 [00:12<00:00, 187.99it/s, loss=0.0298]\n"
     ]
    },
    {
     "name": "stdout",
     "output_type": "stream",
     "text": [
      "2023-07-21 16:32.09 [info     ] DQN_20230721163056: epoch=6 step=14124 epoch=6 metrics={'time_sample_batch': 0.00017557117831636104, 'time_algorithm_update': 0.004910874893428313, 'loss': 0.029844056495045027, 'time_step': 0.0052408128850219005, 'soft_opc': 0.04086084179160654, 'initial_value': 4.881187915802002, 'environment': 200.0} step=14124\n",
      "2023-07-21 16:32.09 [info     ] Model parameters are saved to d3rlpy_logs\\DQN_20230721163056\\model_14124.pt\n"
     ]
    },
    {
     "name": "stderr",
     "output_type": "stream",
     "text": [
      "Epoch 7/10: 100%|██████████| 2354/2354 [00:12<00:00, 188.26it/s, loss=0.0305]\n"
     ]
    },
    {
     "name": "stdout",
     "output_type": "stream",
     "text": [
      "2023-07-21 16:32.23 [info     ] DQN_20230721163056: epoch=7 step=16478 epoch=7 metrics={'time_sample_batch': 0.0001601459824036215, 'time_algorithm_update': 0.004933832151563672, 'loss': 0.030561969502568613, 'time_step': 0.005246564707922146, 'soft_opc': -0.018667465336735134, 'initial_value': 6.041215896606445, 'environment': 128.5} step=16478\n",
      "2023-07-21 16:32.23 [info     ] Model parameters are saved to d3rlpy_logs\\DQN_20230721163056\\model_16478.pt\n"
     ]
    },
    {
     "name": "stderr",
     "output_type": "stream",
     "text": [
      "Epoch 8/10: 100%|██████████| 2354/2354 [00:12<00:00, 185.21it/s, loss=0.0385]\n"
     ]
    },
    {
     "name": "stdout",
     "output_type": "stream",
     "text": [
      "2023-07-21 16:32.43 [info     ] DQN_20230721163056: epoch=8 step=18832 epoch=8 metrics={'time_sample_batch': 0.00018183113461140362, 'time_algorithm_update': 0.004994153470028835, 'loss': 0.03846696671873666, 'time_step': 0.005329906585972088, 'soft_opc': 0.047924935864863016, 'initial_value': 5.86476993560791, 'environment': 200.0} step=18832\n",
      "2023-07-21 16:32.43 [info     ] Model parameters are saved to d3rlpy_logs\\DQN_20230721163056\\model_18832.pt\n"
     ]
    },
    {
     "name": "stderr",
     "output_type": "stream",
     "text": [
      "Epoch 9/10: 100%|██████████| 2354/2354 [00:12<00:00, 185.31it/s, loss=0.0378]\n"
     ]
    },
    {
     "name": "stdout",
     "output_type": "stream",
     "text": [
      "2023-07-21 16:32.57 [info     ] DQN_20230721163056: epoch=9 step=21186 epoch=9 metrics={'time_sample_batch': 0.00017744743327721764, 'time_algorithm_update': 0.0049922501726887844, 'loss': 0.03782267385698151, 'time_step': 0.005323977822860419, 'soft_opc': 0.0457760257090003, 'initial_value': 5.864458084106445, 'environment': 200.0} step=21186\n",
      "2023-07-21 16:32.57 [info     ] Model parameters are saved to d3rlpy_logs\\DQN_20230721163056\\model_21186.pt\n"
     ]
    },
    {
     "name": "stderr",
     "output_type": "stream",
     "text": [
      "Epoch 10/10: 100%|██████████| 2354/2354 [00:14<00:00, 158.19it/s, loss=0.0375]\n"
     ]
    },
    {
     "name": "stdout",
     "output_type": "stream",
     "text": [
      "2023-07-21 16:33.14 [info     ] DQN_20230721163056: epoch=10 step=23540 epoch=10 metrics={'time_sample_batch': 0.0002046281641179865, 'time_algorithm_update': 0.005854376514989031, 'loss': 0.037469744544940446, 'time_step': 0.006237198461793496, 'soft_opc': 0.0544782002197044, 'initial_value': 5.881218910217285, 'environment': 200.0} step=23540\n",
      "2023-07-21 16:33.14 [info     ] Model parameters are saved to d3rlpy_logs\\DQN_20230721163056\\model_23540.pt\n"
     ]
    }
   ],
   "source": [
    "# episode-wise split\n",
    "#train_episodes, test_episodes = train_test_split(dataset.episodes)\n",
    "\n",
    "# setup metrics\n",
    "metrics = {\n",
    "  \"soft_opc\": d3rlpy.metrics.scorer.soft_opc_scorer(return_threshold=180),\n",
    "  \"initial_value\": d3rlpy.metrics.scorer.initial_state_value_estimation_scorer,\n",
    "  'environment': evaluate_scorer\n",
    "}\n",
    "\n",
    "# start training with episode-wise splits\n",
    "data_train=dqn.fit(\n",
    "    train_episodes,\n",
    "    #n_steps=10000,\n",
    "    scorers=metrics,\n",
    "    n_epochs=10,\n",
    "    eval_episodes=test_episodes,\n",
    ")"
   ]
  },
  {
   "cell_type": "code",
   "execution_count": 84,
   "metadata": {},
   "outputs": [
    {
     "data": {
      "image/png": "[encoded data removed]",
      "text/plain": [
       "<Figure size 432x288 with 1 Axes>"
      ]
     },
     "metadata": {},
     "output_type": "display_data"
    },
    {
     "data": {
      "image/png": "[encoded data removed]",
      "text/plain": [
       "<Figure size 432x288 with 1 Axes>"
      ]
     },
     "metadata": {},
     "output_type": "display_data"
    },
    {
     "data": {
      "image/png": "[encoded data removed]",
      "text/plain": [
       "<Figure size 432x288 with 1 Axes>"
      ]
     },
     "metadata": {},
     "output_type": "display_data"
    },
    {
     "data": {
      "image/png": "[encoded data removed]",
      "text/plain": [
       "<Figure size 432x288 with 1 Axes>"
      ]
     },
     "metadata": {},
     "output_type": "display_data"
    },
    {
     "data": {
      "image/png": "[encoded data removed]",
      "text/plain": [
       "<Figure size 432x288 with 1 Axes>"
      ]
     },
     "metadata": {},
     "output_type": "display_data"
    },
    {
     "data": {
      "image/png": "[encoded data removed]",
      "text/plain": [
       "<Figure size 432x288 with 1 Axes>"
      ]
     },
     "metadata": {},
     "output_type": "display_data"
    },
    {
     "data": {
      "image/png": "[encoded data removed]",
      "text/plain": [
       "<Figure size 432x288 with 1 Axes>"
      ]
     },
     "metadata": {},
     "output_type": "display_data"
    }
   ],
   "source": [
    "# Métricas que queremos graficar\n",
    "metrics_to_plot = ['time_sample_batch', 'time_algorithm_update', 'loss', 'time_step', 'soft_opc', 'initial_value', 'environment']\n",
    "\n",
    "# Crear un gráfico de líneas para cada métrica\n",
    "for metric in metrics_to_plot:\n",
    "    x = [entry[0] for entry in data_train]\n",
    "    y = [entry[1][metric] for entry in data_train]\n",
    "    plt.plot(x, y, label=metric)\n",
    "\n",
    "    # Etiquetas y título del gráfico\n",
    "    plt.xlabel('Epoch')\n",
    "    plt.ylabel(metric)\n",
    "    plt.title('Métricas en función del número de muestra')\n",
    "    plt.legend()\n",
    "\n",
    "    # Mostrar el gráfico\n",
    "    plt.show()"
   ]
  },
  {
   "cell_type": "code",
   "execution_count": 83,
   "metadata": {},
   "outputs": [
    {
     "data": {
      "text/plain": [
       "1.1044933301764155"
      ]
     },
     "execution_count": 83,
     "metadata": {},
     "output_type": "execute_result"
    }
   ],
   "source": [
    "# calculate metrics with test dataset\n",
    "td_error = td_error_scorer(dqn, test_episodes)\n",
    "td_error"
   ]
  },
  {
   "cell_type": "code",
   "execution_count": 59,
   "metadata": {},
   "outputs": [],
   "source": [
    "# Once the training is done, your algorithm is ready to make decisions.\n",
    "observation = env.reset()\n",
    "\n",
    "# return actions based on the greedy-policy\n",
    "action = dqn.predict([observation])[0]\n",
    "\n",
    "# estimate action-values\n",
    "value = dqn.predict_value([observation], [action])[0]"
   ]
  },
  {
   "cell_type": "code",
   "execution_count": 74,
   "metadata": {},
   "outputs": [],
   "source": [
    "# save full parameters only\n",
    "dqn.save_model('dqn.pt')\n",
    "# load full parameters with manual setup\n",
    "dqn3 =d3rlpy.algos.DQN()\n",
    "dqn3.build_with_dataset(dataset)\n",
    "dqn3.load_model('dqn.pt')"
   ]
  }
 ],
 "metadata": {
  "kernelspec": {
   "display_name": "Ti_RL",
   "language": "python",
   "name": "python3"
  },
  "language_info": {
   "codemirror_mode": {
    "name": "ipython",
    "version": 3
   },
   "file_extension": ".py",
   "mimetype": "text/x-python",
   "name": "python",
   "nbconvert_exporter": "python",
   "pygments_lexer": "ipython3",
   "version": "3.6.13"
  },
  "orig_nbformat": 4
 },
 "nbformat": 4,
 "nbformat_minor": 2
}
