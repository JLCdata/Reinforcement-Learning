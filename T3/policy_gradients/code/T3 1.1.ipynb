{
 "cells": [
  {
   "attachments": {},
   "cell_type": "markdown",
   "metadata": {},
   "source": [
    "# T3"
   ]
  },
  {
   "attachments": {},
   "cell_type": "markdown",
   "metadata": {},
   "source": [
    "# policy gradient"
   ]
  },
  {
   "cell_type": "code",
   "execution_count": 58,
   "metadata": {},
   "outputs": [],
   "source": [
    "import warnings\n",
    "warnings.filterwarnings(\"ignore\")"
   ]
  },
  {
   "cell_type": "code",
   "execution_count": 59,
   "metadata": {},
   "outputs": [],
   "source": [
    "import torch \n",
    "import torch.nn as nn\n",
    "import numpy as np\n",
    "import gym\n",
    "from torch.optim import AdamW"
   ]
  },
  {
   "attachments": {},
   "cell_type": "markdown",
   "metadata": {},
   "source": [
    "**1. Parametrización de política**"
   ]
  },
  {
   "cell_type": "code",
   "execution_count": 60,
   "metadata": {},
   "outputs": [],
   "source": [
    "class Policy(nn.Module):\n",
    "    \n",
    "    def __init__(self, dim_states, dim_actions, continuous_control):\n",
    "        super(Policy, self).__init__()\n",
    "        # MLP, fully connected layers, ReLU activations, linear ouput activation\n",
    "        # dim_states -> 64 -> 64 -> dim_actions\n",
    "\n",
    "        self.layers = nn.Sequential(\n",
    "            nn.Linear(dim_states, 64),\n",
    "            nn.ReLU(),\n",
    "            nn.Linear(64, 64),\n",
    "            nn.ReLU(),\n",
    "            nn.Linear(64, dim_actions)\n",
    "        )\n",
    "        \n",
    "        if continuous_control:\n",
    "            # trainable parameter\n",
    "            self.log_std = nn.Parameter(torch.zeros(1, dim_actions))\n",
    "\n",
    "\n",
    "    def forward(self, input):\n",
    "\n",
    "        # tensor format\n",
    "        if isinstance(input, torch.Tensor):\n",
    "            input=input\n",
    "            \n",
    "        else:\n",
    "            input = torch.from_numpy(input).unsqueeze(dim=0).float()\n",
    "            \n",
    "        value = self.layers(input)\n",
    "        \n",
    "        return value\n"
   ]
  },
  {
   "cell_type": "code",
   "execution_count": 61,
   "metadata": {},
   "outputs": [
    {
     "name": "stdout",
     "output_type": "stream",
     "text": [
      "3 1 True\n"
     ]
    }
   ],
   "source": [
    "env = gym.make('Pendulum-v1')\n",
    "dim_states = env.observation_space.shape[0]\n",
    "continuous_control = isinstance(env.action_space, gym.spaces.Box)\n",
    "dim_actions = env.action_space.shape[0] if continuous_control else env.action_space.n\n",
    "print(dim_states, dim_actions,continuous_control)"
   ]
  },
  {
   "cell_type": "code",
   "execution_count": 62,
   "metadata": {},
   "outputs": [
    {
     "data": {
      "text/plain": [
       "array([-1.5033903], dtype=float32)"
      ]
     },
     "execution_count": 62,
     "metadata": {},
     "output_type": "execute_result"
    }
   ],
   "source": [
    "env.action_space.sample()"
   ]
  },
  {
   "cell_type": "code",
   "execution_count": 63,
   "metadata": {},
   "outputs": [
    {
     "data": {
      "text/plain": [
       "Policy(\n",
       "  (layers): Sequential(\n",
       "    (0): Linear(in_features=3, out_features=64, bias=True)\n",
       "    (1): ReLU()\n",
       "    (2): Linear(in_features=64, out_features=64, bias=True)\n",
       "    (3): ReLU()\n",
       "    (4): Linear(in_features=64, out_features=1, bias=True)\n",
       "  )\n",
       ")"
      ]
     },
     "execution_count": 63,
     "metadata": {},
     "output_type": "execute_result"
    }
   ],
   "source": [
    "RN_policy= Policy(dim_states, dim_actions,continuous_control)\n",
    "RN_policy"
   ]
  },
  {
   "cell_type": "code",
   "execution_count": 64,
   "metadata": {},
   "outputs": [
    {
     "data": {
      "text/plain": [
       "Parameter containing:\n",
       "tensor([[0.]], requires_grad=True)"
      ]
     },
     "execution_count": 64,
     "metadata": {},
     "output_type": "execute_result"
    }
   ],
   "source": [
    "RN_policy.log_std"
   ]
  },
  {
   "cell_type": "code",
   "execution_count": 65,
   "metadata": {},
   "outputs": [
    {
     "data": {
      "text/plain": [
       "array([0.5429128 , 0.8397891 , 0.39806354], dtype=float32)"
      ]
     },
     "execution_count": 65,
     "metadata": {},
     "output_type": "execute_result"
    }
   ],
   "source": [
    "s_t=env.reset()\n",
    "s_t"
   ]
  },
  {
   "cell_type": "code",
   "execution_count": 66,
   "metadata": {},
   "outputs": [
    {
     "data": {
      "text/plain": [
       "tensor([[-0.0039]], grad_fn=<AddmmBackward>)"
      ]
     },
     "execution_count": 66,
     "metadata": {},
     "output_type": "execute_result"
    }
   ],
   "source": [
    "action=RN_policy(s_t)\n",
    "action"
   ]
  },
  {
   "cell_type": "code",
   "execution_count": 67,
   "metadata": {},
   "outputs": [],
   "source": [
    "class PolicyGradients:\n",
    "    \n",
    "    def __init__(self, dim_states, dim_actions, lr, gamma, \n",
    "                 continuous_control=False, reward_to_go=False, use_baseline=False):\n",
    "        \n",
    "        self._learning_rate = lr\n",
    "        self._gamma = gamma\n",
    "        \n",
    "        self._dim_states = dim_states\n",
    "        self._dim_actions = dim_actions\n",
    "\n",
    "        self._continuous_control = continuous_control\n",
    "        self._use_reward_to_go = reward_to_go\n",
    "        self._use_baseline = use_baseline\n",
    "\n",
    "        self._policy = Policy(self._dim_states, self._dim_actions, self._continuous_control)\n",
    "        # Adam optimizer\n",
    "        self._optimizer = AdamW(self._policy.parameters(), lr=self._learning_rate)\n",
    "\n",
    "        self._select_action = self._select_action_continuous if self._continuous_control else self._select_action_discrete\n",
    "        self._compute_loss = self._compute_loss_continuous if self._continuous_control else self._compute_loss_discrete\n",
    "\n",
    "\n",
    "    def select_action(self, observation):\n",
    "        return self._select_action(observation)\n",
    "        \n",
    "\n",
    "    def _select_action_discrete(self, observation):\n",
    "        # sample from categorical distribution\n",
    "        RN_policy=self._policy \n",
    "        logits=RN_policy(observation)\n",
    "\n",
    "        # Probabilidad de cada acción\n",
    "        probs = torch.softmax(logits, dim=-1)\n",
    "\n",
    "        # Distribución de probabilidad categorica\n",
    "        dist = torch.distributions.Categorical(probs)\n",
    "\n",
    "        # Sample de acción\n",
    "        action = dist.sample()#.item()\n",
    "     \n",
    "        return action\n",
    "\n",
    "\n",
    "    def _select_action_continuous(self, observation):\n",
    "        # sample from normal distribution\n",
    "        # use the log std trainable parameter\n",
    "\n",
    "        # RN\n",
    "        RN_policy=self._policy\n",
    "\n",
    "        # Parametro log std de la RN\n",
    "        log_std=RN_policy.log_std\n",
    "        std = torch.exp(log_std)\n",
    "\n",
    "        # Politica dada la observación (Representa el promedio de la distribución normal que muestrea acciones)\n",
    "        policy=RN_policy(observation)\n",
    "        \n",
    "        # Distribución normal de parametros mean y std, esta se utiliza para muestrear acciones de modo de tal de explorar el espacio de acciones\n",
    "        dist = torch.distributions.Normal(policy, std)\n",
    "\n",
    "        # sample de acción\n",
    "        action = dist.sample()\n",
    "        \n",
    "        # Asegurarse de que las acciones están dentro del rango [-1, 1]\n",
    "        #action = torch.tanh(action)\n",
    "        \n",
    "        return action\n",
    "            \n",
    "\n",
    "    def update(self, observation_batch, action_batch, advantage_batch):\n",
    "        # update the policy here\n",
    "        # you should use self._compute_loss \n",
    "\n",
    "        pass\n",
    "    \n",
    "\n",
    "    def _compute_loss_discrete(self, observation_batch, action_batch, advantage_batch):\n",
    "        # use negative logprobs * advantages\n",
    "        pass\n",
    "\n",
    "\n",
    "    def _compute_loss_continuous(self, observation_batch, action_batch, advantage_batch):\n",
    "        # use negative logprobs * advantages\n",
    "        pass\n",
    "\n",
    "    \n",
    "    def estimate_returns(self, rollouts_rew):\n",
    "        estimated_returns = []\n",
    "        for rollout_rew in rollouts_rew:\n",
    "                \n",
    "            if self._use_reward_to_go:\n",
    "                # only for part 2\n",
    "                estimated_return = None\n",
    "            else:\n",
    "                estimated_return = None\n",
    "            \n",
    "            estimated_returns = np.concatenate([estimated_returns, estimated_return])\n",
    "\n",
    "        if self._use_baseline:\n",
    "            # only for part 2\n",
    "            average_return_baseline = None\n",
    "            # Use the baseline:\n",
    "            #estimated_returns -= average_return_baseline\n",
    "\n",
    "        return np.array(estimated_returns, dtype=np.float32)\n",
    "\n",
    "\n",
    "    # It may be useful to discount the rewards using an auxiliary function [optional]\n",
    "    def _discount_rewards(self, rewards):\n",
    "        pass\n"
   ]
  },
  {
   "attachments": {},
   "cell_type": "markdown",
   "metadata": {},
   "source": [
    "**2. Muestreo de trayectorias**"
   ]
  },
  {
   "cell_type": "code",
   "execution_count": 68,
   "metadata": {},
   "outputs": [],
   "source": [
    "import gym\n",
    "import time\n",
    "import datetime\n",
    "import csv\n",
    "\n",
    "import numpy as np\n",
    "\n",
    "import matplotlib.pyplot as plt\n",
    "\n",
    "#from policy_gradients import PolicyGradients\n",
    "\n",
    "\n",
    "def perform_single_rollout(env, agent, episode_nb, render=False):\n",
    "\n",
    "    # Modify this function to return a tuple of numpy arrays containing (observations, actions, rewards).\n",
    "    # (np.array(obs), np.array(acs), np.array(rws))\n",
    "    # np.array(obs) -> shape: (time_steps, nb_obs)\n",
    "    # np.array(acs) -> shape: (time_steps, nb_acs) if actions are continuous, (time_steps,) if actions are discrete\n",
    "    # np.array(rws) -> shape: (time_steps,)\n",
    "\n",
    "    obs_list = []\n",
    "    action_list = []\n",
    "    reward_list = []\n",
    "\n",
    "    ob_t = env.reset()\n",
    "    \n",
    "    done = False\n",
    "    episode_reward = 0\n",
    "    nb_steps = 0\n",
    "\n",
    "    while not done:\n",
    "        \n",
    "        if render:\n",
    "            env.render()\n",
    "            time.sleep(1. / 60)\n",
    "\n",
    "        #action = agent.select_action(ob_t)\n",
    "        \n",
    "        action = agent.select_action(ob_t)\n",
    "    \n",
    "        #print(action)\n",
    "\n",
    "        try:    \n",
    "            ob_t1, reward, done, _ = env.step(action)\n",
    "\n",
    "        except:\n",
    "            ob_t1, reward, done, _ = env.step(action.item())\n",
    "\n",
    "\n",
    "        obs_list.append(ob_t1)\n",
    "        action_list.append(action)\n",
    "        reward_list.append(reward)\n",
    "\n",
    "        ob_t = np.squeeze(ob_t1) # <-- may not be needed depending on gym version\n",
    "\n",
    "        episode_reward += reward\n",
    "        \n",
    "        nb_steps += 1\n",
    "\n",
    "        if done:\n",
    "            print(f\"Largo del episodio {nb_steps}\")\n",
    "            obs_array = np.array(obs_list)\n",
    "            action_array = np.array(action_list)\n",
    "            reward_array = np.array(reward_list)\n",
    "\n",
    "            return obs_array, action_array, reward_array\n",
    "    #return None\n",
    "\n",
    "def sample_rollouts(env, agent, training_iter, min_batch_steps):\n",
    "\n",
    "    sampled_rollouts = []\n",
    "    total_nb_steps = 0\n",
    "    episode_nb = 0\n",
    "    \n",
    "    while total_nb_steps < min_batch_steps:\n",
    "\n",
    "        episode_nb += 1\n",
    "        #render = training_iter%10 == 0 and len(sampled_rollouts) == 0 # Change training_iter%10 to any number you want\n",
    "        render=False\n",
    "        # Use perform_single_rollout to get data \n",
    "        # Uncomment once perform_single_rollout works.\n",
    "        # Return sampled_rollouts\n",
    "       \n",
    "        sample_rollout = perform_single_rollout(env, agent, episode_nb, render=render)\n",
    "        total_nb_steps += len(sample_rollout[0])\n",
    "\n",
    "        sampled_rollouts.append(sample_rollout)\n",
    "        \n",
    "    return sampled_rollouts\n",
    "\n",
    "\n"
   ]
  },
  {
   "cell_type": "code",
   "execution_count": 69,
   "metadata": {},
   "outputs": [],
   "source": [
    "env = gym.make('Pendulum-v1')\n",
    "\n",
    "dim_states = env.observation_space.shape[0]\n",
    "\n",
    "continuous_control = isinstance(env.action_space, gym.spaces.Box)\n",
    "dim_actions = env.action_space.shape[0] if continuous_control else env.action_space.n\n",
    "\n",
    "policy_gradients_agent = PolicyGradients(dim_states=dim_states, \n",
    "                                             dim_actions=dim_actions, \n",
    "                                             lr=0.005,\n",
    "                                             gamma=0.99,\n",
    "                                             continuous_control=continuous_control,\n",
    "                                             reward_to_go=False,\n",
    "                                             use_baseline=False)\n",
    "\n"
   ]
  },
  {
   "cell_type": "code",
   "execution_count": 70,
   "metadata": {},
   "outputs": [
    {
     "name": "stdout",
     "output_type": "stream",
     "text": [
      "Largo del episodio 200\n",
      "(200, 3)\n",
      "(200,)\n",
      "(200,)\n"
     ]
    }
   ],
   "source": [
    "# Rollout\n",
    "x1=perform_single_rollout(env, policy_gradients_agent, 1000, render=False)\n",
    "print(x1[0].shape)\n",
    "print(x1[1].shape)\n",
    "print(x1[2].shape)"
   ]
  },
  {
   "attachments": {},
   "cell_type": "markdown",
   "metadata": {},
   "source": [
    "**El número de filas de las observaciones es igual con el largo del episodio, por lo que se concluye el correcto funcionamiento de la función.**"
   ]
  },
  {
   "cell_type": "code",
   "execution_count": 71,
   "metadata": {},
   "outputs": [
    {
     "name": "stdout",
     "output_type": "stream",
     "text": [
      "Largo del episodio 200\n",
      "Largo del episodio 200\n",
      "Largo del episodio 200\n",
      "Largo del episodio 200\n",
      "Largo del episodio 200\n",
      "Largo del episodio 200\n",
      "Largo del episodio 200\n",
      "Largo del episodio 200\n",
      "Largo del episodio 200\n",
      "Largo del episodio 200\n",
      "Largo del episodio 200\n",
      "Largo del episodio 200\n",
      "Largo del episodio 200\n",
      "Largo del episodio 200\n",
      "Largo del episodio 200\n",
      "Largo del episodio 200\n",
      "Largo del episodio 200\n",
      "Largo del episodio 200\n",
      "Largo del episodio 200\n",
      "Largo del episodio 200\n",
      "Largo del episodio 200\n",
      "Largo del episodio 200\n",
      "Largo del episodio 200\n",
      "Largo del episodio 200\n",
      "Largo del episodio 200\n"
     ]
    }
   ],
   "source": [
    "# Sample rollouts\n",
    "x2=sample_rollouts(env, policy_gradients_agent, 1000, 5000)"
   ]
  },
  {
   "cell_type": "code",
   "execution_count": 72,
   "metadata": {},
   "outputs": [
    {
     "name": "stdout",
     "output_type": "stream",
     "text": [
      "(5000, 3)\n",
      "(5000,)\n",
      "(5000,)\n"
     ]
    }
   ],
   "source": [
    "sampled_obs = np.concatenate([x2[i][0] for i in range(len(x2))])\n",
    "sampled_action = np.concatenate([x2[i][1] for i in range(len(x2))])\n",
    "sampled_reward = np.concatenate([x2[i][2] for i in range(len(x2))])\n",
    "print(sampled_obs.shape)\n",
    "print(sampled_action.shape)\n",
    "print(sampled_reward.shape)"
   ]
  },
  {
   "attachments": {},
   "cell_type": "markdown",
   "metadata": {},
   "source": [
    "**El largo del registro de sample rollout es al menos el número de sample mini batch, se concluye que la función funciona.**"
   ]
  },
  {
   "cell_type": "code",
   "execution_count": 204,
   "metadata": {},
   "outputs": [],
   "source": [
    "env = gym.make('CartPole-v1')\n",
    "\n",
    "dim_states = env.observation_space.shape[0]\n",
    "\n",
    "continuous_control = isinstance(env.action_space, gym.spaces.Box)\n",
    "dim_actions = env.action_space.shape[0] if continuous_control else env.action_space.n\n",
    "\n",
    "policy_gradients_agent = PolicyGradients(dim_states=dim_states, \n",
    "                                             dim_actions=dim_actions, \n",
    "                                             lr=0.005,\n",
    "                                             gamma=0.99,\n",
    "                                             continuous_control=continuous_control,\n",
    "                                             reward_to_go=False,\n",
    "                                             use_baseline=False)\n"
   ]
  },
  {
   "cell_type": "code",
   "execution_count": 205,
   "metadata": {},
   "outputs": [
    {
     "name": "stdout",
     "output_type": "stream",
     "text": [
      "Largo del episodio 10\n",
      "(10, 4)\n",
      "(10,)\n",
      "(10,)\n"
     ]
    }
   ],
   "source": [
    "# Rollout\n",
    "x1=perform_single_rollout(env, policy_gradients_agent, 1000, render=False)\n",
    "print(x1[0].shape)\n",
    "print(x1[1].shape)\n",
    "print(x1[2].shape)"
   ]
  },
  {
   "attachments": {},
   "cell_type": "markdown",
   "metadata": {},
   "source": [
    "**El número de filas de las observaciones es igual con el largo del episodio, por lo que se concluye el correcto funcionamiento de la función.**"
   ]
  },
  {
   "cell_type": "code",
   "execution_count": 206,
   "metadata": {},
   "outputs": [
    {
     "name": "stdout",
     "output_type": "stream",
     "text": [
      "Largo del episodio 9\n",
      "Largo del episodio 54\n",
      "Largo del episodio 10\n",
      "Largo del episodio 28\n",
      "Largo del episodio 17\n",
      "Largo del episodio 19\n",
      "Largo del episodio 24\n",
      "Largo del episodio 20\n",
      "Largo del episodio 20\n",
      "Largo del episodio 11\n",
      "Largo del episodio 27\n",
      "Largo del episodio 29\n",
      "Largo del episodio 52\n",
      "Largo del episodio 18\n",
      "Largo del episodio 19\n",
      "Largo del episodio 18\n",
      "Largo del episodio 9\n",
      "Largo del episodio 14\n",
      "Largo del episodio 17\n",
      "Largo del episodio 29\n",
      "Largo del episodio 23\n",
      "Largo del episodio 33\n",
      "Largo del episodio 13\n",
      "Largo del episodio 47\n",
      "Largo del episodio 19\n",
      "Largo del episodio 53\n",
      "Largo del episodio 12\n",
      "Largo del episodio 17\n",
      "Largo del episodio 17\n",
      "Largo del episodio 21\n",
      "Largo del episodio 17\n",
      "Largo del episodio 14\n",
      "Largo del episodio 9\n",
      "Largo del episodio 21\n",
      "Largo del episodio 28\n",
      "Largo del episodio 21\n",
      "Largo del episodio 21\n",
      "Largo del episodio 25\n",
      "Largo del episodio 28\n",
      "Largo del episodio 15\n",
      "Largo del episodio 39\n",
      "Largo del episodio 21\n",
      "Largo del episodio 19\n",
      "Largo del episodio 11\n",
      "Largo del episodio 23\n",
      "Largo del episodio 15\n",
      "Largo del episodio 15\n",
      "Largo del episodio 28\n",
      "Largo del episodio 50\n",
      "Largo del episodio 15\n",
      "Largo del episodio 47\n",
      "Largo del episodio 15\n",
      "Largo del episodio 12\n",
      "Largo del episodio 24\n",
      "Largo del episodio 16\n",
      "Largo del episodio 18\n",
      "Largo del episodio 23\n",
      "Largo del episodio 9\n",
      "Largo del episodio 17\n",
      "Largo del episodio 21\n",
      "Largo del episodio 12\n",
      "Largo del episodio 26\n",
      "Largo del episodio 50\n",
      "Largo del episodio 9\n",
      "Largo del episodio 15\n",
      "Largo del episodio 26\n",
      "Largo del episodio 16\n",
      "Largo del episodio 38\n",
      "Largo del episodio 16\n",
      "Largo del episodio 28\n",
      "Largo del episodio 9\n",
      "Largo del episodio 47\n",
      "Largo del episodio 17\n",
      "Largo del episodio 21\n",
      "Largo del episodio 19\n",
      "Largo del episodio 24\n",
      "Largo del episodio 22\n",
      "Largo del episodio 11\n",
      "Largo del episodio 18\n",
      "Largo del episodio 14\n",
      "Largo del episodio 15\n",
      "Largo del episodio 14\n",
      "Largo del episodio 13\n",
      "Largo del episodio 18\n",
      "Largo del episodio 17\n",
      "Largo del episodio 14\n",
      "Largo del episodio 25\n",
      "Largo del episodio 29\n",
      "Largo del episodio 17\n",
      "Largo del episodio 77\n",
      "Largo del episodio 10\n",
      "Largo del episodio 17\n",
      "Largo del episodio 30\n",
      "Largo del episodio 10\n",
      "Largo del episodio 22\n",
      "Largo del episodio 16\n",
      "Largo del episodio 28\n",
      "Largo del episodio 32\n",
      "Largo del episodio 23\n",
      "Largo del episodio 13\n",
      "Largo del episodio 24\n",
      "Largo del episodio 15\n",
      "Largo del episodio 15\n",
      "Largo del episodio 11\n",
      "Largo del episodio 18\n",
      "Largo del episodio 28\n",
      "Largo del episodio 21\n",
      "Largo del episodio 32\n",
      "Largo del episodio 20\n",
      "Largo del episodio 29\n",
      "Largo del episodio 53\n",
      "Largo del episodio 13\n",
      "Largo del episodio 11\n",
      "Largo del episodio 24\n",
      "Largo del episodio 17\n",
      "Largo del episodio 13\n",
      "Largo del episodio 19\n",
      "Largo del episodio 14\n",
      "Largo del episodio 17\n",
      "Largo del episodio 46\n",
      "Largo del episodio 22\n",
      "Largo del episodio 11\n",
      "Largo del episodio 50\n",
      "Largo del episodio 31\n",
      "Largo del episodio 10\n",
      "Largo del episodio 25\n",
      "Largo del episodio 16\n",
      "Largo del episodio 17\n",
      "Largo del episodio 11\n",
      "Largo del episodio 24\n",
      "Largo del episodio 9\n",
      "Largo del episodio 18\n",
      "Largo del episodio 29\n",
      "Largo del episodio 13\n",
      "Largo del episodio 18\n",
      "Largo del episodio 31\n",
      "Largo del episodio 23\n",
      "Largo del episodio 30\n",
      "Largo del episodio 11\n",
      "Largo del episodio 24\n",
      "Largo del episodio 21\n",
      "Largo del episodio 18\n",
      "Largo del episodio 20\n",
      "Largo del episodio 37\n",
      "Largo del episodio 25\n",
      "Largo del episodio 71\n",
      "Largo del episodio 46\n",
      "Largo del episodio 20\n",
      "Largo del episodio 44\n",
      "Largo del episodio 19\n",
      "Largo del episodio 41\n",
      "Largo del episodio 27\n",
      "Largo del episodio 18\n",
      "Largo del episodio 25\n",
      "Largo del episodio 29\n",
      "Largo del episodio 21\n",
      "Largo del episodio 17\n",
      "Largo del episodio 64\n",
      "Largo del episodio 31\n",
      "Largo del episodio 15\n",
      "Largo del episodio 53\n",
      "Largo del episodio 16\n",
      "Largo del episodio 17\n",
      "Largo del episodio 14\n",
      "Largo del episodio 32\n",
      "Largo del episodio 13\n",
      "Largo del episodio 10\n",
      "Largo del episodio 33\n",
      "Largo del episodio 22\n",
      "Largo del episodio 18\n",
      "Largo del episodio 16\n",
      "Largo del episodio 15\n",
      "Largo del episodio 37\n",
      "Largo del episodio 17\n",
      "Largo del episodio 20\n",
      "Largo del episodio 15\n",
      "Largo del episodio 18\n",
      "Largo del episodio 28\n",
      "Largo del episodio 36\n",
      "Largo del episodio 24\n",
      "Largo del episodio 25\n",
      "Largo del episodio 13\n",
      "Largo del episodio 26\n",
      "Largo del episodio 20\n",
      "Largo del episodio 27\n",
      "Largo del episodio 16\n",
      "Largo del episodio 18\n",
      "Largo del episodio 15\n",
      "Largo del episodio 23\n",
      "Largo del episodio 42\n",
      "Largo del episodio 47\n",
      "Largo del episodio 14\n",
      "Largo del episodio 14\n",
      "Largo del episodio 17\n",
      "Largo del episodio 24\n",
      "Largo del episodio 14\n",
      "Largo del episodio 14\n",
      "Largo del episodio 16\n",
      "Largo del episodio 12\n",
      "Largo del episodio 18\n",
      "Largo del episodio 21\n",
      "Largo del episodio 55\n",
      "Largo del episodio 33\n",
      "Largo del episodio 14\n",
      "Largo del episodio 19\n",
      "Largo del episodio 21\n",
      "Largo del episodio 57\n",
      "Largo del episodio 21\n",
      "Largo del episodio 14\n",
      "Largo del episodio 16\n",
      "Largo del episodio 25\n",
      "Largo del episodio 11\n",
      "Largo del episodio 18\n",
      "Largo del episodio 27\n",
      "Largo del episodio 13\n",
      "Largo del episodio 13\n",
      "Largo del episodio 9\n",
      "Largo del episodio 19\n",
      "Largo del episodio 19\n",
      "Largo del episodio 16\n",
      "Largo del episodio 18\n"
     ]
    }
   ],
   "source": [
    "# Sample rollouts\n",
    "x2=sample_rollouts(env, policy_gradients_agent, 1000, 5000)"
   ]
  },
  {
   "cell_type": "code",
   "execution_count": 207,
   "metadata": {},
   "outputs": [
    {
     "name": "stdout",
     "output_type": "stream",
     "text": [
      "(5014, 4)\n",
      "(5014,)\n",
      "(5014,)\n"
     ]
    }
   ],
   "source": [
    "sampled_obs = np.concatenate([x2[i][0] for i in range(len(x2))])\n",
    "sampled_action = np.concatenate([x2[i][1] for i in range(len(x2))])\n",
    "sampled_reward = np.concatenate([x2[i][2] for i in range(len(x2))])\n",
    "print(sampled_obs.shape)\n",
    "print(sampled_action.shape)\n",
    "print(sampled_reward.shape)"
   ]
  },
  {
   "cell_type": "code",
   "execution_count": 211,
   "metadata": {},
   "outputs": [
    {
     "data": {
      "text/plain": [
       "(array([[-0.01524238,  0.22910602, -0.04746097, -0.3423483 ],\n",
       "        [-0.01066026,  0.42486995, -0.05430794, -0.64961183],\n",
       "        [-0.00216286,  0.62070465, -0.06730018, -0.9588895 ],\n",
       "        [ 0.01025123,  0.4265489 , -0.08647797, -0.68808645],\n",
       "        [ 0.01878221,  0.6227579 , -0.10023969, -1.006693  ],\n",
       "        [ 0.03123737,  0.81906503, -0.12037355, -1.3290967 ],\n",
       "        [ 0.04761866,  1.0154825 , -0.14695549, -1.6568954 ],\n",
       "        [ 0.06792831,  0.8223487 , -0.1800934 , -1.4133668 ],\n",
       "        [ 0.08437529,  1.0191867 , -0.20836073, -1.7565104 ],\n",
       "        [ 0.10475902,  1.2159724 , -0.24349093, -2.1061203 ]],\n",
       "       dtype=float32),\n",
       " array([1, 1, 1, 0, 1, 1, 1, 0, 1, 1], dtype=int64),\n",
       " array([1., 1., 1., 1., 1., 1., 1., 1., 1., 1.]))"
      ]
     },
     "execution_count": 211,
     "metadata": {},
     "output_type": "execute_result"
    }
   ],
   "source": [
    "x2[2]"
   ]
  },
  {
   "cell_type": "code",
   "execution_count": 209,
   "metadata": {},
   "outputs": [
    {
     "data": {
      "text/plain": [
       "array([1., 1., 1., ..., 1., 1., 1.])"
      ]
     },
     "execution_count": 209,
     "metadata": {},
     "output_type": "execute_result"
    }
   ],
   "source": [
    "sampled_reward"
   ]
  },
  {
   "attachments": {},
   "cell_type": "markdown",
   "metadata": {},
   "source": [
    "**El largo del registro de sample rollout es al menos el número de sample mini batch, se concluye que la función funciona.**"
   ]
  },
  {
   "attachments": {},
   "cell_type": "markdown",
   "metadata": {},
   "source": [
    "**3. Estimación de retornos**"
   ]
  },
  {
   "cell_type": "code",
   "execution_count": 77,
   "metadata": {},
   "outputs": [],
   "source": [
    "def estimate_returns( rollouts_rew):\n",
    "        estimated_returns = []\n",
    "        for rollout_rew in rollouts_rew:\n",
    "\n",
    "            # Largo del episodio (largo del reward)\n",
    "            n_steps = len(rollout_rew[2])\n",
    "            estimated_return = np.zeros(n_steps)\n",
    "\n",
    "            if _use_reward_to_go:\n",
    "            \n",
    "                estimated_return = None\n",
    "            else:\n",
    "                estimated_return = np.zeros(n_steps)\n",
    "\n",
    "                vec_gammas=np.array([_gamma**j for j in range(n_steps)])\n",
    "\n",
    "                sum_descount=np.sum(vec_gammas*rollout_rew[2])\n",
    "\n",
    "                for t in range(n_steps):\n",
    "                    \n",
    "                    estimated_return[t] = sum_descount\n",
    "                    \n",
    "             \n",
    "            estimated_returns = np.concatenate([estimated_returns, estimated_return])\n",
    "\n",
    "        if _use_baseline:\n",
    "            pass\n",
    "            #average_return_baseline = np.mean(estimated_returns)\n",
    "            #estimated_returns -= average_return_baseline\n",
    "\n",
    "        return np.array(estimated_returns, dtype=np.float32)\n"
   ]
  },
  {
   "cell_type": "code",
   "execution_count": null,
   "metadata": {},
   "outputs": [],
   "source": [
    "print(estimate_returns(x2))"
   ]
  },
  {
   "cell_type": "code",
   "execution_count": 78,
   "metadata": {},
   "outputs": [],
   "source": [
    "_gamma=0.99\n",
    "_use_reward_to_go=False\n",
    "_use_baseline=False"
   ]
  },
  {
   "cell_type": "code",
   "execution_count": 79,
   "metadata": {},
   "outputs": [
    {
     "name": "stdout",
     "output_type": "stream",
     "text": [
      "Largo del episodio 10\n",
      "Largo del episodio 32\n",
      "\n",
      "Vector de retorno\n",
      "[ 9.561792  9.561792  9.561792  9.561792  9.561792  9.561792  9.561792\n",
      "  9.561792  9.561792  9.561792 27.501966 27.501966 27.501966 27.501966\n",
      " 27.501966 27.501966 27.501966 27.501966 27.501966 27.501966 27.501966\n",
      " 27.501966 27.501966 27.501966 27.501966 27.501966 27.501966 27.501966\n",
      " 27.501966 27.501966 27.501966 27.501966 27.501966 27.501966 27.501966\n",
      " 27.501966 27.501966 27.501966 27.501966 27.501966 27.501966 27.501966]\n",
      "\n",
      "Retorno Ep 1\n",
      "9.561792499119552\n",
      "\n",
      "Retorno Ep 2\n",
      "27.501966404214624\n",
      "\n"
     ]
    }
   ],
   "source": [
    "env = gym.make('CartPole-v1')\n",
    "\n",
    "dim_states = env.observation_space.shape[0]\n",
    "\n",
    "continuous_control = isinstance(env.action_space, gym.spaces.Box)\n",
    "dim_actions = env.action_space.shape[0] if continuous_control else env.action_space.n\n",
    "\n",
    "policy_gradients_agent = PolicyGradients(dim_states=dim_states, \n",
    "                                             dim_actions=dim_actions, \n",
    "                                             lr=0.005,\n",
    "                                             gamma=0.99,\n",
    "                                             continuous_control=continuous_control,\n",
    "                                             reward_to_go=False,\n",
    "                                             use_baseline=False)\n",
    "\n",
    "# Sample rollouts (2 episodios): Ejecutar hasta que se generen solo 2 episodios!!\n",
    "x2=sample_rollouts(env, policy_gradients_agent, 1000, 22)\n",
    "print(\"\")\n",
    "print(\"Vector de retorno\")\n",
    "print(estimate_returns(x2))\n",
    "print(\"\")\n",
    "retorno=0\n",
    "for t,reward in enumerate(x2[0][2]):\n",
    "    retorno=retorno+(_gamma**t)*reward\n",
    "print(\"Retorno Ep 1\")\n",
    "print(retorno)\n",
    "print(\"\")\n",
    "retorno=0\n",
    "for t,reward in enumerate(x2[1][2]):\n",
    "    retorno=retorno+(_gamma**t)*reward\n",
    "print(\"Retorno Ep 2\")\n",
    "print(retorno)\n",
    "print(\"\")"
   ]
  },
  {
   "cell_type": "code",
   "execution_count": 80,
   "metadata": {},
   "outputs": [
    {
     "name": "stdout",
     "output_type": "stream",
     "text": [
      "Largo del episodio 200\n",
      "Largo del episodio 200\n",
      "\n",
      "Muestra vector de retorno ep 1\n",
      "-680.63947\n",
      "\n",
      "\n",
      "Muestra vector de retorno ep 2\n",
      "-767.5068\n",
      "\n",
      "Retorno Ep 1\n",
      "-680.6394373151065\n",
      "\n",
      "Retorno Ep 2\n",
      "-767.5067861033187\n",
      "\n"
     ]
    }
   ],
   "source": [
    "env=gym.make('Pendulum-v1')\n",
    "\n",
    "dim_states = env.observation_space.shape[0]\n",
    "\n",
    "continuous_control = isinstance(env.action_space, gym.spaces.Box)\n",
    "dim_actions = env.action_space.shape[0] if continuous_control else env.action_space.n\n",
    "\n",
    "policy_gradients_agent = PolicyGradients(dim_states=dim_states, \n",
    "                                             dim_actions=dim_actions, \n",
    "                                             lr=0.005,\n",
    "                                             gamma=0.99,\n",
    "                                             continuous_control=continuous_control,\n",
    "                                             reward_to_go=False,\n",
    "                                             use_baseline=False)\n",
    "\n",
    "# Sample rollouts (2 episodios): Ejecutar hasta que se generen solo 2 episodios!!\n",
    "x2=sample_rollouts(env, policy_gradients_agent, 1000, 220)\n",
    "\n",
    "index_episodio_1=x2[0][1].shape[0]\n",
    "\n",
    "print(\"\")\n",
    "print(\"Muestra vector de retorno ep 1\")\n",
    "print(estimate_returns(x2)[index_episodio_1-1])\n",
    "print(\"\")\n",
    "print(\"\")\n",
    "print(\"Muestra vector de retorno ep 2\")\n",
    "print(estimate_returns(x2)[index_episodio_1+1])\n",
    "print(\"\")\n",
    "\n",
    "retorno=0\n",
    "for t,reward in enumerate(x2[0][2]):\n",
    "    retorno=retorno+(_gamma**t)*reward\n",
    "print(\"Retorno Ep 1\")\n",
    "print(retorno)\n",
    "print(\"\")\n",
    "\n",
    "retorno=0\n",
    "for t,reward in enumerate(x2[1][2]):\n",
    "    retorno=retorno+(_gamma**t)*reward\n",
    "print(\"Retorno Ep 2\")\n",
    "print(retorno)\n",
    "print(\"\")"
   ]
  },
  {
   "attachments": {},
   "cell_type": "markdown",
   "metadata": {},
   "source": [
    "**Se observa que que para ambos ambientes y en cada episodio, los retornos coinciden los calculos obtenidos.**"
   ]
  },
  {
   "attachments": {},
   "cell_type": "markdown",
   "metadata": {},
   "source": [
    "**4. Policy gradients**"
   ]
  },
  {
   "cell_type": "code",
   "execution_count": 94,
   "metadata": {},
   "outputs": [],
   "source": [
    "env = gym.make('CartPole-v1')\n",
    "#env=gym.make('Pendulum-v1')\n",
    "env.reset()\n",
    "dim_states = env.observation_space.shape[0]\n",
    "\n",
    "continuous_control = isinstance(env.action_space, gym.spaces.Box)\n",
    "dim_actions = env.action_space.shape[0] if continuous_control else env.action_space.n\n",
    "\n",
    "policy_gradients_agent = PolicyGradients(dim_states=dim_states, \n",
    "                                             dim_actions=dim_actions, \n",
    "                                             lr=0.005,\n",
    "                                             gamma=0.99,\n",
    "                                             continuous_control=continuous_control,\n",
    "                                             reward_to_go=False,\n",
    "                                             use_baseline=False)"
   ]
  },
  {
   "cell_type": "code",
   "execution_count": 82,
   "metadata": {},
   "outputs": [
    {
     "name": "stdout",
     "output_type": "stream",
     "text": [
      "Largo del episodio 24\n",
      "Largo del episodio 12\n",
      "Largo del episodio 15\n",
      "Largo del episodio 59\n",
      "Largo del episodio 23\n",
      "Largo del episodio 47\n",
      "Largo del episodio 31\n",
      "Largo del episodio 24\n"
     ]
    }
   ],
   "source": [
    "# Sample rollouts (2 episodios): Ejecutar hasta que se generen solo 2 episodios!!\n",
    "x2=sample_rollouts(env, policy_gradients_agent, 1000, 220)"
   ]
  },
  {
   "cell_type": "code",
   "execution_count": 95,
   "metadata": {},
   "outputs": [
    {
     "name": "stdout",
     "output_type": "stream",
     "text": [
      "(235, 4)\n",
      "(235,)\n",
      "(235,)\n"
     ]
    }
   ],
   "source": [
    "sampled_obs = np.concatenate([x2[i][0] for i in range(len(x2))])\n",
    "sampled_action = np.concatenate([x2[i][1] for i in range(len(x2))])\n",
    "sampled_reward = np.concatenate([x2[i][2] for i in range(len(x2))])\n",
    "print(sampled_obs.shape)\n",
    "print(sampled_action.shape)\n",
    "print(sampled_reward.shape)"
   ]
  },
  {
   "cell_type": "code",
   "execution_count": 103,
   "metadata": {},
   "outputs": [
    {
     "data": {
      "text/plain": [
       "tensor([[[ 0.0582,  0.0596],\n",
       "         [ 0.0718,  0.0593],\n",
       "         [ 0.0842,  0.0629],\n",
       "         [ 0.0717,  0.0582],\n",
       "         [ 0.0602,  0.0585],\n",
       "         [ 0.0501,  0.0643],\n",
       "         [ 0.0602,  0.0579],\n",
       "         [ 0.0482,  0.0625],\n",
       "         [ 0.0523,  0.0660],\n",
       "         [ 0.0518,  0.0665],\n",
       "         [ 0.0457,  0.0645],\n",
       "         [ 0.0402,  0.0639],\n",
       "         [ 0.0337,  0.0596],\n",
       "         [ 0.0236,  0.0492],\n",
       "         [ 0.0330,  0.0590],\n",
       "         [ 0.0224,  0.0484],\n",
       "         [ 0.0135,  0.0358],\n",
       "         [ 0.0228,  0.0459],\n",
       "         [ 0.0288,  0.0542],\n",
       "         [ 0.0237,  0.0430],\n",
       "         [ 0.0280,  0.0506],\n",
       "         [ 0.0250,  0.0398],\n",
       "         [ 0.0122,  0.0248],\n",
       "         [ 0.0240,  0.0343],\n",
       "         [ 0.0723,  0.0564],\n",
       "         [ 0.0862,  0.0574],\n",
       "         [ 0.0987,  0.0585],\n",
       "         [ 0.0875,  0.0556],\n",
       "         [ 0.0982,  0.0554],\n",
       "         [ 0.1015,  0.0456],\n",
       "         [ 0.0976,  0.0509],\n",
       "         [ 0.0903,  0.0501],\n",
       "         [ 0.0953,  0.0464],\n",
       "         [ 0.0962,  0.0355],\n",
       "         [ 0.0932,  0.0403],\n",
       "         [ 0.0934,  0.0291],\n",
       "         [ 0.0659,  0.0728],\n",
       "         [ 0.0616,  0.0647],\n",
       "         [ 0.0726,  0.0566],\n",
       "         [ 0.0632,  0.0654],\n",
       "         [ 0.0695,  0.0724],\n",
       "         [ 0.0683,  0.0728],\n",
       "         [ 0.0710,  0.0717],\n",
       "         [ 0.0664,  0.0671],\n",
       "         [ 0.0730,  0.0709],\n",
       "         [ 0.0711,  0.0696],\n",
       "         [ 0.0645,  0.0641],\n",
       "         [ 0.0569,  0.0560],\n",
       "         [ 0.0649,  0.0612],\n",
       "         [ 0.0732,  0.0625],\n",
       "         [ 0.0659,  0.0584],\n",
       "         [ 0.0652,  0.0583],\n",
       "         [ 0.0552,  0.0635],\n",
       "         [ 0.0592,  0.0713],\n",
       "         [ 0.0539,  0.0631],\n",
       "         [ 0.0580,  0.0710],\n",
       "         [ 0.0572,  0.0711],\n",
       "         [ 0.0562,  0.0709],\n",
       "         [ 0.0559,  0.0708],\n",
       "         [ 0.0532,  0.0676],\n",
       "         [ 0.0544,  0.0704],\n",
       "         [ 0.0532,  0.0704],\n",
       "         [ 0.0543,  0.0703],\n",
       "         [ 0.0522,  0.0671],\n",
       "         [ 0.0544,  0.0693],\n",
       "         [ 0.0526,  0.0710],\n",
       "         [ 0.0487,  0.0636],\n",
       "         [ 0.0599,  0.0588],\n",
       "         [ 0.0502,  0.0642],\n",
       "         [ 0.0604,  0.0590],\n",
       "         [ 0.0517,  0.0648],\n",
       "         [ 0.0581,  0.0726],\n",
       "         [ 0.0524,  0.0653],\n",
       "         [ 0.0608,  0.0591],\n",
       "         [ 0.0538,  0.0658],\n",
       "         [ 0.0610,  0.0724],\n",
       "         [ 0.0545,  0.0661],\n",
       "         [ 0.0622,  0.0718],\n",
       "         [ 0.0556,  0.0666],\n",
       "         [ 0.0636,  0.0712],\n",
       "         [ 0.0574,  0.0672],\n",
       "         [ 0.0653,  0.0705],\n",
       "         [ 0.0648,  0.0682],\n",
       "         [ 0.0669,  0.0693],\n",
       "         [ 0.0612,  0.0690],\n",
       "         [ 0.0627,  0.0595],\n",
       "         [ 0.0813,  0.0603],\n",
       "         [ 0.0980,  0.0705],\n",
       "         [ 0.0806,  0.0599],\n",
       "         [ 0.0687,  0.0608],\n",
       "         [ 0.0703,  0.0721],\n",
       "         [ 0.0703,  0.0621],\n",
       "         [ 0.0801,  0.0582],\n",
       "         [ 0.1026,  0.0669],\n",
       "         [ 0.1173,  0.0722],\n",
       "         [ 0.1039,  0.0640],\n",
       "         [ 0.1186,  0.0708],\n",
       "         [ 0.1305,  0.0673],\n",
       "         [ 0.1379,  0.0509],\n",
       "         [ 0.1316,  0.0655],\n",
       "         [ 0.1192,  0.0657],\n",
       "         [ 0.1320,  0.0630],\n",
       "         [ 0.1386,  0.0466],\n",
       "         [ 0.1314,  0.0583],\n",
       "         [ 0.1378,  0.0425],\n",
       "         [ 0.1392,  0.0211],\n",
       "         [ 0.1371,  0.0353],\n",
       "         [ 0.1307,  0.0444],\n",
       "         [ 0.1240,  0.0439],\n",
       "         [ 0.1185,  0.0409],\n",
       "         [ 0.0622,  0.0598],\n",
       "         [ 0.0548,  0.0650],\n",
       "         [ 0.0601,  0.0720],\n",
       "         [ 0.0596,  0.0708],\n",
       "         [ 0.0560,  0.0676],\n",
       "         [ 0.0519,  0.0630],\n",
       "         [ 0.0552,  0.0658],\n",
       "         [ 0.0514,  0.0613],\n",
       "         [ 0.0546,  0.0639],\n",
       "         [ 0.0587,  0.0670],\n",
       "         [ 0.0554,  0.0612],\n",
       "         [ 0.0602,  0.0653],\n",
       "         [ 0.0564,  0.0585],\n",
       "         [ 0.0616,  0.0622],\n",
       "         [ 0.0633,  0.0667],\n",
       "         [ 0.0590,  0.0688],\n",
       "         [ 0.0589,  0.0620],\n",
       "         [ 0.0644,  0.0695],\n",
       "         [ 0.0633,  0.0630],\n",
       "         [ 0.0691,  0.0689],\n",
       "         [ 0.0722,  0.0614],\n",
       "         [ 0.0727,  0.0676],\n",
       "         [ 0.0747,  0.0592],\n",
       "         [ 0.0617,  0.0715],\n",
       "         [ 0.0591,  0.0717],\n",
       "         [ 0.0601,  0.0716],\n",
       "         [ 0.0553,  0.0632],\n",
       "         [ 0.0675,  0.0566],\n",
       "         [ 0.0806,  0.0578],\n",
       "         [ 0.0686,  0.0563],\n",
       "         [ 0.0555,  0.0626],\n",
       "         [ 0.0590,  0.0701],\n",
       "         [ 0.0577,  0.0709],\n",
       "         [ 0.0539,  0.0680],\n",
       "         [ 0.0556,  0.0706],\n",
       "         [ 0.0552,  0.0702],\n",
       "         [ 0.0513,  0.0622],\n",
       "         [ 0.0549,  0.0702],\n",
       "         [ 0.0511,  0.0623],\n",
       "         [ 0.0547,  0.0702],\n",
       "         [ 0.0509,  0.0624],\n",
       "         [ 0.0650,  0.0565],\n",
       "         [ 0.0510,  0.0623],\n",
       "         [ 0.0545,  0.0700],\n",
       "         [ 0.0507,  0.0624],\n",
       "         [ 0.0649,  0.0564],\n",
       "         [ 0.0507,  0.0622],\n",
       "         [ 0.0537,  0.0694],\n",
       "         [ 0.0502,  0.0621],\n",
       "         [ 0.0647,  0.0562],\n",
       "         [ 0.0502,  0.0618],\n",
       "         [ 0.0521,  0.0681],\n",
       "         [ 0.0535,  0.0685],\n",
       "         [ 0.0485,  0.0673],\n",
       "         [ 0.0517,  0.0676],\n",
       "         [ 0.0480,  0.0675],\n",
       "         [ 0.0508,  0.0675],\n",
       "         [ 0.0459,  0.0670],\n",
       "         [ 0.0442,  0.0646],\n",
       "         [ 0.0447,  0.0669],\n",
       "         [ 0.0435,  0.0627],\n",
       "         [ 0.0445,  0.0666],\n",
       "         [ 0.0433,  0.0609],\n",
       "         [ 0.0386,  0.0545],\n",
       "         [ 0.0435,  0.0583],\n",
       "         [ 0.0386,  0.0520],\n",
       "         [ 0.0433,  0.0553],\n",
       "         [ 0.0488,  0.0565],\n",
       "         [ 0.0459,  0.0527],\n",
       "         [ 0.0390,  0.0461],\n",
       "         [ 0.0643,  0.0720],\n",
       "         [ 0.0613,  0.0719],\n",
       "         [ 0.0582,  0.0682],\n",
       "         [ 0.0595,  0.0718],\n",
       "         [ 0.0605,  0.0726],\n",
       "         [ 0.0555,  0.0642],\n",
       "         [ 0.0653,  0.0578],\n",
       "         [ 0.0808,  0.0587],\n",
       "         [ 0.0663,  0.0577],\n",
       "         [ 0.0813,  0.0576],\n",
       "         [ 0.0674,  0.0573],\n",
       "         [ 0.0569,  0.0637],\n",
       "         [ 0.0678,  0.0570],\n",
       "         [ 0.0811,  0.0568],\n",
       "         [ 0.0689,  0.0564],\n",
       "         [ 0.0561,  0.0626],\n",
       "         [ 0.0693,  0.0559],\n",
       "         [ 0.0549,  0.0619],\n",
       "         [ 0.0697,  0.0553],\n",
       "         [ 0.0816,  0.0544],\n",
       "         [ 0.0713,  0.0543],\n",
       "         [ 0.0541,  0.0583],\n",
       "         [ 0.0540,  0.0649],\n",
       "         [ 0.0547,  0.0570],\n",
       "         [ 0.0699,  0.0516],\n",
       "         [ 0.0563,  0.0554],\n",
       "         [ 0.0704,  0.0507],\n",
       "         [ 0.0774,  0.0500],\n",
       "         [ 0.0798,  0.0411],\n",
       "         [ 0.0758,  0.0477],\n",
       "         [ 0.0783,  0.0383],\n",
       "         [ 0.0600,  0.0729],\n",
       "         [ 0.0590,  0.0715],\n",
       "         [ 0.0606,  0.0727],\n",
       "         [ 0.0555,  0.0655],\n",
       "         [ 0.0623,  0.0723],\n",
       "         [ 0.0566,  0.0663],\n",
       "         [ 0.0646,  0.0584],\n",
       "         [ 0.0819,  0.0590],\n",
       "         [ 0.0659,  0.0580],\n",
       "         [ 0.0609,  0.0679],\n",
       "         [ 0.0664,  0.0577],\n",
       "         [ 0.0826,  0.0573],\n",
       "         [ 0.0964,  0.0654],\n",
       "         [ 0.1100,  0.0639],\n",
       "         [ 0.0966,  0.0635],\n",
       "         [ 0.1102,  0.0620],\n",
       "         [ 0.1158,  0.0486],\n",
       "         [ 0.1108,  0.0582],\n",
       "         [ 0.1151,  0.0456],\n",
       "         [ 0.1152,  0.0290],\n",
       "         [ 0.1161,  0.0104],\n",
       "         [ 0.1129,  0.0222],\n",
       "         [ 0.1117,  0.0023],\n",
       "         [ 0.1133, -0.0170]]], grad_fn=<AddBackward0>)"
      ]
     },
     "execution_count": 103,
     "metadata": {},
     "output_type": "execute_result"
    }
   ],
   "source": [
    "RN_policy= Policy(dim_states, dim_actions,continuous_control)\n",
    "logits=RN_policy(sampled_obs)\n",
    "logits"
   ]
  },
  {
   "cell_type": "code",
   "execution_count": 120,
   "metadata": {},
   "outputs": [
    {
     "data": {
      "text/plain": [
       "tensor([-0.6939, -0.6869, -0.6826, -0.6999, -0.6940, -0.6861, -0.6920, -0.6860,\n",
       "        -0.6863, -0.6859, -0.6838, -0.6813, -0.6803, -0.6804, -0.7063, -0.6802,\n",
       "        -0.6821, -0.7048, -0.7059, -0.6836, -0.7045, -0.6858, -0.6869, -0.6983,\n",
       "        -0.6852, -0.6789, -0.6733, -0.7092, -0.6720, -0.6656, -0.7168, -0.7134,\n",
       "        -0.6690, -0.6632, -0.7199, -0.6615, -0.6897, -0.6947, -0.6852, -0.6921,\n",
       "        -0.6917, -0.6909, -0.6935, -0.6935, -0.6942, -0.6939, -0.6934, -0.6936,\n",
       "        -0.6913, -0.6878, -0.6969, -0.6897, -0.6890, -0.6871, -0.6977, -0.6866,\n",
       "        -0.6862, -0.7005, -0.6857, -0.6860, -0.7012, -0.7018, -0.6852, -0.6857,\n",
       "        -0.7006, -0.7024, -0.7007, -0.6926, -0.6862, -0.6924, -0.6866, -0.6859,\n",
       "        -0.6996, -0.6923, -0.6872, -0.6875, -0.6990, -0.6883, -0.6986, -0.6893,\n",
       "        -0.6981, -0.6905, -0.6914, -0.6943, -0.6971, -0.6916, -0.6827, -0.6795,\n",
       "        -0.7035, -0.6971, -0.6923, -0.6891, -0.6822, -0.6754, -0.6709, -0.7133,\n",
       "        -0.6696, -0.6620, -0.6506, -0.7268, -0.7203, -0.6592, -0.6482, -0.7304,\n",
       "        -0.6466, -0.6358, -0.7453, -0.7372, -0.7340, -0.7327, -0.6919, -0.6881,\n",
       "        -0.6872, -0.6876, -0.6873, -0.6876, -0.6985, -0.6882, -0.6978, -0.6973,\n",
       "        -0.6902, -0.6957, -0.6921, -0.6935, -0.6948, -0.6981, -0.6947, -0.6906,\n",
       "        -0.6930, -0.6932, -0.6986, -0.6906, -0.7009, -0.6883, -0.6869, -0.6989,\n",
       "        -0.6971, -0.6877, -0.6818, -0.6993, -0.6896, -0.6876, -0.6865, -0.6861,\n",
       "        -0.7007, -0.7007, -0.6986, -0.6855, -0.6988, -0.6854, -0.6989, -0.6889,\n",
       "        -0.6875, -0.6854, -0.6990, -0.6889, -0.6874, -0.6853, -0.6991, -0.6889,\n",
       "        -0.6874, -0.6852, -0.6857, -0.6838, -0.7011, -0.7029, -0.6849, -0.6826,\n",
       "        -0.6830, -0.7043, -0.6836, -0.7042, -0.6844, -0.6852, -0.7006, -0.6865,\n",
       "        -0.6992, -0.6970, -0.6897, -0.6896, -0.6893, -0.6879, -0.6882, -0.6993,\n",
       "        -0.6992, -0.6975, -0.6894, -0.6822, -0.6975, -0.6814, -0.6982, -0.6898,\n",
       "        -0.6878, -0.6811, -0.6994, -0.6899, -0.6865, -0.6897, -0.6860, -0.6797,\n",
       "        -0.7017, -0.6910, -0.6877, -0.6943, -0.6840, -0.6936, -0.6834, -0.6796,\n",
       "        -0.6740, -0.7073, -0.6733, -0.6867, -0.6869, -0.6992, -0.6981, -0.6881,\n",
       "        -0.6980, -0.6900, -0.6818, -0.6971, -0.6897, -0.6888, -0.6806, -0.6778,\n",
       "        -0.6704, -0.7098, -0.6693, -0.6601, -0.7198, -0.6590, -0.6510, -0.6417,\n",
       "        -0.7396, -0.6400, -0.6301], grad_fn=<SqueezeBackward1>)"
      ]
     },
     "execution_count": 120,
     "metadata": {},
     "output_type": "execute_result"
    }
   ],
   "source": [
    "# Distribución de probabilidad categorica\n",
    "dist = torch.distributions.Categorical(logits=logits)\n",
    "log_probs=dist.log_prob(torch.tensor(sampled_action)).squeeze(0)\n",
    "log_probs"
   ]
  },
  {
   "cell_type": "code",
   "execution_count": 121,
   "metadata": {},
   "outputs": [
    {
     "data": {
      "text/plain": [
       "tensor([21.4322, 21.4322, 21.4322, 21.4322, 21.4322, 21.4322, 21.4322, 21.4322,\n",
       "        21.4322, 21.4322, 21.4322, 21.4322, 21.4322, 21.4322, 21.4322, 21.4322,\n",
       "        21.4322, 21.4322, 21.4322, 21.4322, 21.4322, 21.4322, 21.4322, 21.4322,\n",
       "        11.3615, 11.3615, 11.3615, 11.3615, 11.3615, 11.3615, 11.3615, 11.3615,\n",
       "        11.3615, 11.3615, 11.3615, 11.3615, 13.9942, 13.9942, 13.9942, 13.9942,\n",
       "        13.9942, 13.9942, 13.9942, 13.9942, 13.9942, 13.9942, 13.9942, 13.9942,\n",
       "        13.9942, 13.9942, 13.9942, 44.7317, 44.7317, 44.7317, 44.7317, 44.7317,\n",
       "        44.7317, 44.7317, 44.7317, 44.7317, 44.7317, 44.7317, 44.7317, 44.7317,\n",
       "        44.7317, 44.7317, 44.7317, 44.7317, 44.7317, 44.7317, 44.7317, 44.7317,\n",
       "        44.7317, 44.7317, 44.7317, 44.7317, 44.7317, 44.7317, 44.7317, 44.7317,\n",
       "        44.7317, 44.7317, 44.7317, 44.7317, 44.7317, 44.7317, 44.7317, 44.7317,\n",
       "        44.7317, 44.7317, 44.7317, 44.7317, 44.7317, 44.7317, 44.7317, 44.7317,\n",
       "        44.7317, 44.7317, 44.7317, 44.7317, 44.7317, 44.7317, 44.7317, 44.7317,\n",
       "        44.7317, 44.7317, 44.7317, 44.7317, 44.7317, 44.7317, 20.6386, 20.6386,\n",
       "        20.6386, 20.6386, 20.6386, 20.6386, 20.6386, 20.6386, 20.6386, 20.6386,\n",
       "        20.6386, 20.6386, 20.6386, 20.6386, 20.6386, 20.6386, 20.6386, 20.6386,\n",
       "        20.6386, 20.6386, 20.6386, 20.6386, 20.6386, 37.6475, 37.6475, 37.6475,\n",
       "        37.6475, 37.6475, 37.6475, 37.6475, 37.6475, 37.6475, 37.6475, 37.6475,\n",
       "        37.6475, 37.6475, 37.6475, 37.6475, 37.6475, 37.6475, 37.6475, 37.6475,\n",
       "        37.6475, 37.6475, 37.6475, 37.6475, 37.6475, 37.6475, 37.6475, 37.6475,\n",
       "        37.6475, 37.6475, 37.6475, 37.6475, 37.6475, 37.6475, 37.6475, 37.6475,\n",
       "        37.6475, 37.6475, 37.6475, 37.6475, 37.6475, 37.6475, 37.6475, 37.6475,\n",
       "        37.6475, 37.6475, 37.6475, 37.6475, 26.7697, 26.7697, 26.7697, 26.7697,\n",
       "        26.7697, 26.7697, 26.7697, 26.7697, 26.7697, 26.7697, 26.7697, 26.7697,\n",
       "        26.7697, 26.7697, 26.7697, 26.7697, 26.7697, 26.7697, 26.7697, 26.7697,\n",
       "        26.7697, 26.7697, 26.7697, 26.7697, 26.7697, 26.7697, 26.7697, 26.7697,\n",
       "        26.7697, 26.7697, 26.7697, 21.4322, 21.4322, 21.4322, 21.4322, 21.4322,\n",
       "        21.4322, 21.4322, 21.4322, 21.4322, 21.4322, 21.4322, 21.4322, 21.4322,\n",
       "        21.4322, 21.4322, 21.4322, 21.4322, 21.4322, 21.4322, 21.4322, 21.4322,\n",
       "        21.4322, 21.4322, 21.4322])"
      ]
     },
     "execution_count": 121,
     "metadata": {},
     "output_type": "execute_result"
    }
   ],
   "source": [
    "retorno_descontado=torch.tensor(estimate_returns(x2))\n",
    "retorno_descontado"
   ]
  },
  {
   "cell_type": "code",
   "execution_count": 129,
   "metadata": {},
   "outputs": [
    {
     "data": {
      "text/plain": [
       "tensor(-20.8264, grad_fn=<MeanBackward0>)"
      ]
     },
     "execution_count": 129,
     "metadata": {},
     "output_type": "execute_result"
    }
   ],
   "source": [
    "loss=torch.mean(log_probs*retorno_descontado)#.item()\n",
    "loss"
   ]
  },
  {
   "cell_type": "code",
   "execution_count": 130,
   "metadata": {},
   "outputs": [],
   "source": [
    "optimizer=AdamW(RN_policy.parameters(), lr=0.001)"
   ]
  },
  {
   "cell_type": "code",
   "execution_count": 131,
   "metadata": {},
   "outputs": [],
   "source": [
    "RN_policy.zero_grad()\n",
    "loss.backward()\n",
    "optimizer.step()"
   ]
  },
  {
   "attachments": {},
   "cell_type": "markdown",
   "metadata": {},
   "source": [
    "----------"
   ]
  },
  {
   "cell_type": "code",
   "execution_count": 132,
   "metadata": {},
   "outputs": [],
   "source": [
    "env = gym.make('Pendulum-v1')\n",
    "#env=gym.make('Pendulum-v1')\n",
    "env.reset()\n",
    "dim_states = env.observation_space.shape[0]\n",
    "\n",
    "continuous_control = isinstance(env.action_space, gym.spaces.Box)\n",
    "dim_actions = env.action_space.shape[0] if continuous_control else env.action_space.n\n",
    "\n",
    "policy_gradients_agent = PolicyGradients(dim_states=dim_states, \n",
    "                                             dim_actions=dim_actions, \n",
    "                                             lr=0.005,\n",
    "                                             gamma=0.99,\n",
    "                                             continuous_control=continuous_control,\n",
    "                                             reward_to_go=False,\n",
    "                                             use_baseline=False)"
   ]
  },
  {
   "cell_type": "code",
   "execution_count": 133,
   "metadata": {},
   "outputs": [
    {
     "name": "stdout",
     "output_type": "stream",
     "text": [
      "Largo del episodio 200\n",
      "Largo del episodio 200\n"
     ]
    }
   ],
   "source": [
    "# Sample rollouts (2 episodios): Ejecutar hasta que se generen solo 2 episodios!!\n",
    "x2=sample_rollouts(env, policy_gradients_agent, 1000, 220)"
   ]
  },
  {
   "cell_type": "code",
   "execution_count": 134,
   "metadata": {},
   "outputs": [
    {
     "name": "stdout",
     "output_type": "stream",
     "text": [
      "(400, 3)\n",
      "(400,)\n",
      "(400,)\n"
     ]
    }
   ],
   "source": [
    "sampled_obs = np.concatenate([x2[i][0] for i in range(len(x2))])\n",
    "sampled_action = np.concatenate([x2[i][1] for i in range(len(x2))])\n",
    "sampled_reward = np.concatenate([x2[i][2] for i in range(len(x2))])\n",
    "print(sampled_obs.shape)\n",
    "print(sampled_action.shape)\n",
    "print(sampled_reward.shape)"
   ]
  },
  {
   "cell_type": "code",
   "execution_count": 176,
   "metadata": {},
   "outputs": [
    {
     "data": {
      "text/plain": [
       "torch.Size([400])"
      ]
     },
     "execution_count": 176,
     "metadata": {},
     "output_type": "execute_result"
    }
   ],
   "source": [
    "RN_policy= Policy(dim_states, dim_actions,continuous_control)\n",
    "means=RN_policy(sampled_obs).squeeze(0).squeeze(1)\n",
    "means.shape"
   ]
  },
  {
   "cell_type": "code",
   "execution_count": 177,
   "metadata": {},
   "outputs": [
    {
     "data": {
      "text/plain": [
       "tensor([[1.]], grad_fn=<ExpBackward>)"
      ]
     },
     "execution_count": 177,
     "metadata": {},
     "output_type": "execute_result"
    }
   ],
   "source": [
    "log_std=RN_policy.log_std\n",
    "std = torch.exp(log_std)\n",
    "std"
   ]
  },
  {
   "cell_type": "code",
   "execution_count": 178,
   "metadata": {},
   "outputs": [
    {
     "data": {
      "text/plain": [
       "Normal(loc: torch.Size([1, 400]), scale: torch.Size([1, 400]))"
      ]
     },
     "execution_count": 178,
     "metadata": {},
     "output_type": "execute_result"
    }
   ],
   "source": [
    "# Distribución normal de parametros mean y std, esta se utiliza para muestrear acciones de modo de tal de explorar el espacio de acciones\n",
    "dist = torch.distributions.Normal(means, std)\n",
    "dist\n"
   ]
  },
  {
   "cell_type": "code",
   "execution_count": 185,
   "metadata": {},
   "outputs": [
    {
     "data": {
      "text/plain": [
       "tensor([-0.9404, -1.4960, -1.9028, -0.9539, -1.0602, -1.5006, -1.2621, -1.9320,\n",
       "        -1.2645, -1.2595, -1.5775, -2.1709, -1.0486, -2.2181, -0.9416, -0.9203,\n",
       "        -4.0093, -0.9334, -1.3452, -1.4623, -0.9794, -1.0039, -1.7908, -1.4091,\n",
       "        -0.9412, -1.2732, -0.9807, -1.0128, -0.9714, -0.9297, -0.9668, -1.6230,\n",
       "        -1.3276, -0.9492, -0.9805, -0.9537, -1.7452, -1.3581, -1.6791, -0.9561,\n",
       "        -0.9889, -0.9464, -1.2974, -0.9749, -1.4319, -0.9923, -1.3504, -1.2266,\n",
       "        -1.4641, -0.9384, -0.9571, -2.2671, -1.3252, -1.0737, -1.0106, -1.2892,\n",
       "        -3.2430, -0.9278, -1.0241, -0.9314, -1.7817, -1.3425, -1.1508, -1.1592,\n",
       "        -0.9660, -1.1511, -0.9284, -1.5336, -0.9408, -1.5021, -1.0373, -0.9775,\n",
       "        -0.9190, -1.1696, -0.9346, -0.9312, -0.9662, -1.6375, -1.0595, -0.9330,\n",
       "        -1.2317, -1.1437, -3.7218, -0.9479, -1.0424, -2.6386, -1.9198, -0.9449,\n",
       "        -1.1156, -2.2420, -1.3952, -1.0752, -1.3470, -0.9466, -0.9247, -0.9357,\n",
       "        -0.9861, -1.1646, -0.9190, -1.1348, -0.9497, -1.1582, -0.9485, -1.3474,\n",
       "        -0.9328, -1.6098, -1.3880, -1.0136, -1.6409, -1.1588, -0.9572, -1.1201,\n",
       "        -1.6640, -1.1338, -0.9777, -0.9250, -1.3145, -1.2638, -1.0860, -1.3338,\n",
       "        -0.9289, -0.9572, -1.1707, -1.6856, -0.9632, -1.6955, -0.9189, -1.1161,\n",
       "        -1.7079, -1.1368, -1.0225, -0.9488, -0.9386, -1.2684, -2.2517, -0.9305,\n",
       "        -3.3094, -0.9245, -3.4709, -1.6554, -1.3657, -3.0351, -1.0798, -1.1591,\n",
       "        -1.0487, -1.1221, -1.5850, -4.1773, -1.1195, -0.9698, -1.0668, -1.9173,\n",
       "        -1.4833, -0.9296, -1.2008, -1.3917, -6.1701, -0.9192, -1.5706, -1.0265,\n",
       "        -2.7793, -3.0517, -2.4823, -1.0900, -2.3166, -1.4161, -1.5299, -0.9243,\n",
       "        -0.9192, -1.0749, -0.9684, -1.3581, -1.2148, -1.4314, -1.0174, -2.0641,\n",
       "        -2.7648, -1.0290, -2.1452, -1.5349, -0.9199, -0.9604, -3.4406, -0.9210,\n",
       "        -0.9886, -0.9893, -1.1424, -1.0006, -1.0033, -0.9727, -1.2016, -1.0219,\n",
       "        -1.7167, -0.9842, -1.1208, -1.7916, -2.0545, -2.6009, -1.0339, -0.9396,\n",
       "        -1.7897, -0.9193, -0.9237, -1.1252, -1.3994, -1.0483, -2.0309, -0.9794,\n",
       "        -1.0478, -1.1075, -1.0139, -1.3500, -1.2351, -0.9980, -0.9273, -1.0351,\n",
       "        -0.9345, -1.0118, -3.8519, -1.3784, -1.1600, -1.4149, -0.9647, -1.0083,\n",
       "        -1.1217, -1.1470, -0.9201, -1.0474, -0.9237, -1.0774, -0.9375, -1.3560,\n",
       "        -0.9191, -0.9593, -1.4909, -1.0517, -3.4314, -2.8547, -1.0314, -0.9610,\n",
       "        -1.7350, -2.1619, -4.3166, -1.0979, -1.6213, -0.9306, -0.9306, -1.3148,\n",
       "        -1.1825, -1.5068, -0.9195, -1.2912, -0.9193, -2.8682, -1.0088, -1.5238,\n",
       "        -2.1133, -0.9406, -1.5932, -1.1108, -0.9370, -0.9568, -0.9467, -1.6978,\n",
       "        -1.7421, -1.0192, -1.4667, -0.9193, -1.1967, -1.0212, -1.3162, -0.9267,\n",
       "        -0.9198, -2.8466, -1.1763, -1.3725, -1.2115, -1.4845, -1.0274, -0.9211,\n",
       "        -1.0662, -1.1695, -2.5560, -1.2942, -1.1703, -1.8398, -1.2521, -1.3459,\n",
       "        -1.1561, -0.9645, -2.1966, -2.2837, -0.9198, -1.5071, -1.2012, -1.2274,\n",
       "        -0.9245, -1.5772, -1.8207, -1.3749, -0.9226, -3.1053, -0.9250, -1.3968,\n",
       "        -0.9267, -0.9407, -1.1333, -2.1379, -1.2165, -2.0071, -0.9448, -1.5509,\n",
       "        -0.9550, -3.3373, -1.2790, -1.2179, -1.1251, -2.2831, -1.8483, -1.0248,\n",
       "        -1.3101, -1.4775, -0.9445, -1.1345, -1.3846, -1.3419, -1.1115, -1.0114,\n",
       "        -1.0252, -0.9773, -0.9996, -1.1070, -0.9702, -1.0581, -1.6756, -1.4268,\n",
       "        -0.9404, -0.9705, -0.9451, -0.9808, -1.0988, -1.5657, -4.2029, -1.1581,\n",
       "        -0.9207, -1.0147, -1.0011, -0.9600, -4.6418, -1.0425, -1.2912, -2.3315,\n",
       "        -2.0676, -0.9454, -1.1183, -2.5269, -2.7143, -0.9380, -0.9209, -1.1721,\n",
       "        -2.1188, -2.6820, -1.7641, -0.9493, -1.0369, -1.2318, -0.9563, -1.1311,\n",
       "        -1.7858, -1.4583, -0.9564, -1.6772, -1.1036, -0.9685, -0.9320, -1.3642,\n",
       "        -1.0515, -0.9332, -0.9280, -1.3135, -0.9946, -1.1998, -1.1120, -2.1915,\n",
       "        -1.0595, -0.9831, -0.9873, -2.9775, -0.9547, -2.1469, -1.1962, -1.2264,\n",
       "        -1.6339, -2.3104, -1.5160, -0.9203, -0.9294, -1.0998, -0.9837, -0.9317],\n",
       "       grad_fn=<SqueezeBackward1>)"
      ]
     },
     "execution_count": 185,
     "metadata": {},
     "output_type": "execute_result"
    }
   ],
   "source": [
    "log_probs=dist.log_prob(torch.tensor((sampled_action))).squeeze(0)\n",
    "log_probs"
   ]
  },
  {
   "cell_type": "code",
   "execution_count": 186,
   "metadata": {},
   "outputs": [
    {
     "data": {
      "text/plain": [
       "tensor([-628.5972, -628.5972, -628.5972, -628.5972, -628.5972, -628.5972,\n",
       "        -628.5972, -628.5972, -628.5972, -628.5972, -628.5972, -628.5972,\n",
       "        -628.5972, -628.5972, -628.5972, -628.5972, -628.5972, -628.5972,\n",
       "        -628.5972, -628.5972, -628.5972, -628.5972, -628.5972, -628.5972,\n",
       "        -628.5972, -628.5972, -628.5972, -628.5972, -628.5972, -628.5972,\n",
       "        -628.5972, -628.5972, -628.5972, -628.5972, -628.5972, -628.5972,\n",
       "        -628.5972, -628.5972, -628.5972, -628.5972, -628.5972, -628.5972,\n",
       "        -628.5972, -628.5972, -628.5972, -628.5972, -628.5972, -628.5972,\n",
       "        -628.5972, -628.5972, -628.5972, -628.5972, -628.5972, -628.5972,\n",
       "        -628.5972, -628.5972, -628.5972, -628.5972, -628.5972, -628.5972,\n",
       "        -628.5972, -628.5972, -628.5972, -628.5972, -628.5972, -628.5972,\n",
       "        -628.5972, -628.5972, -628.5972, -628.5972, -628.5972, -628.5972,\n",
       "        -628.5972, -628.5972, -628.5972, -628.5972, -628.5972, -628.5972,\n",
       "        -628.5972, -628.5972, -628.5972, -628.5972, -628.5972, -628.5972,\n",
       "        -628.5972, -628.5972, -628.5972, -628.5972, -628.5972, -628.5972,\n",
       "        -628.5972, -628.5972, -628.5972, -628.5972, -628.5972, -628.5972,\n",
       "        -628.5972, -628.5972, -628.5972, -628.5972, -628.5972, -628.5972,\n",
       "        -628.5972, -628.5972, -628.5972, -628.5972, -628.5972, -628.5972,\n",
       "        -628.5972, -628.5972, -628.5972, -628.5972, -628.5972, -628.5972,\n",
       "        -628.5972, -628.5972, -628.5972, -628.5972, -628.5972, -628.5972,\n",
       "        -628.5972, -628.5972, -628.5972, -628.5972, -628.5972, -628.5972,\n",
       "        -628.5972, -628.5972, -628.5972, -628.5972, -628.5972, -628.5972,\n",
       "        -628.5972, -628.5972, -628.5972, -628.5972, -628.5972, -628.5972,\n",
       "        -628.5972, -628.5972, -628.5972, -628.5972, -628.5972, -628.5972,\n",
       "        -628.5972, -628.5972, -628.5972, -628.5972, -628.5972, -628.5972,\n",
       "        -628.5972, -628.5972, -628.5972, -628.5972, -628.5972, -628.5972,\n",
       "        -628.5972, -628.5972, -628.5972, -628.5972, -628.5972, -628.5972,\n",
       "        -628.5972, -628.5972, -628.5972, -628.5972, -628.5972, -628.5972,\n",
       "        -628.5972, -628.5972, -628.5972, -628.5972, -628.5972, -628.5972,\n",
       "        -628.5972, -628.5972, -628.5972, -628.5972, -628.5972, -628.5972,\n",
       "        -628.5972, -628.5972, -628.5972, -628.5972, -628.5972, -628.5972,\n",
       "        -628.5972, -628.5972, -628.5972, -628.5972, -628.5972, -628.5972,\n",
       "        -628.5972, -628.5972, -628.5972, -628.5972, -628.5972, -628.5972,\n",
       "        -628.5972, -628.5972, -484.6670, -484.6670, -484.6670, -484.6670,\n",
       "        -484.6670, -484.6670, -484.6670, -484.6670, -484.6670, -484.6670,\n",
       "        -484.6670, -484.6670, -484.6670, -484.6670, -484.6670, -484.6670,\n",
       "        -484.6670, -484.6670, -484.6670, -484.6670, -484.6670, -484.6670,\n",
       "        -484.6670, -484.6670, -484.6670, -484.6670, -484.6670, -484.6670,\n",
       "        -484.6670, -484.6670, -484.6670, -484.6670, -484.6670, -484.6670,\n",
       "        -484.6670, -484.6670, -484.6670, -484.6670, -484.6670, -484.6670,\n",
       "        -484.6670, -484.6670, -484.6670, -484.6670, -484.6670, -484.6670,\n",
       "        -484.6670, -484.6670, -484.6670, -484.6670, -484.6670, -484.6670,\n",
       "        -484.6670, -484.6670, -484.6670, -484.6670, -484.6670, -484.6670,\n",
       "        -484.6670, -484.6670, -484.6670, -484.6670, -484.6670, -484.6670,\n",
       "        -484.6670, -484.6670, -484.6670, -484.6670, -484.6670, -484.6670,\n",
       "        -484.6670, -484.6670, -484.6670, -484.6670, -484.6670, -484.6670,\n",
       "        -484.6670, -484.6670, -484.6670, -484.6670, -484.6670, -484.6670,\n",
       "        -484.6670, -484.6670, -484.6670, -484.6670, -484.6670, -484.6670,\n",
       "        -484.6670, -484.6670, -484.6670, -484.6670, -484.6670, -484.6670,\n",
       "        -484.6670, -484.6670, -484.6670, -484.6670, -484.6670, -484.6670,\n",
       "        -484.6670, -484.6670, -484.6670, -484.6670, -484.6670, -484.6670,\n",
       "        -484.6670, -484.6670, -484.6670, -484.6670, -484.6670, -484.6670,\n",
       "        -484.6670, -484.6670, -484.6670, -484.6670, -484.6670, -484.6670,\n",
       "        -484.6670, -484.6670, -484.6670, -484.6670, -484.6670, -484.6670,\n",
       "        -484.6670, -484.6670, -484.6670, -484.6670, -484.6670, -484.6670,\n",
       "        -484.6670, -484.6670, -484.6670, -484.6670, -484.6670, -484.6670,\n",
       "        -484.6670, -484.6670, -484.6670, -484.6670, -484.6670, -484.6670,\n",
       "        -484.6670, -484.6670, -484.6670, -484.6670, -484.6670, -484.6670,\n",
       "        -484.6670, -484.6670, -484.6670, -484.6670, -484.6670, -484.6670,\n",
       "        -484.6670, -484.6670, -484.6670, -484.6670, -484.6670, -484.6670,\n",
       "        -484.6670, -484.6670, -484.6670, -484.6670, -484.6670, -484.6670,\n",
       "        -484.6670, -484.6670, -484.6670, -484.6670, -484.6670, -484.6670,\n",
       "        -484.6670, -484.6670, -484.6670, -484.6670, -484.6670, -484.6670,\n",
       "        -484.6670, -484.6670, -484.6670, -484.6670, -484.6670, -484.6670,\n",
       "        -484.6670, -484.6670, -484.6670, -484.6670, -484.6670, -484.6670,\n",
       "        -484.6670, -484.6670, -484.6670, -484.6670, -484.6670, -484.6670,\n",
       "        -484.6670, -484.6670, -484.6670, -484.6670])"
      ]
     },
     "execution_count": 186,
     "metadata": {},
     "output_type": "execute_result"
    }
   ],
   "source": [
    "retorno_descontado=torch.tensor(estimate_returns(x2))\n",
    "retorno_descontado"
   ]
  },
  {
   "cell_type": "code",
   "execution_count": 187,
   "metadata": {},
   "outputs": [
    {
     "data": {
      "text/plain": [
       "tensor(772.3834, grad_fn=<MeanBackward0>)"
      ]
     },
     "execution_count": 187,
     "metadata": {},
     "output_type": "execute_result"
    }
   ],
   "source": [
    "loss=torch.mean(log_probs*retorno_descontado)#.item()\n",
    "loss"
   ]
  },
  {
   "cell_type": "code",
   "execution_count": 188,
   "metadata": {},
   "outputs": [],
   "source": [
    "optimizer=AdamW(RN_policy.parameters(), lr=0.001)"
   ]
  },
  {
   "cell_type": "code",
   "execution_count": 189,
   "metadata": {},
   "outputs": [],
   "source": [
    "RN_policy.zero_grad()\n",
    "loss.backward()\n",
    "optimizer.step()"
   ]
  },
  {
   "attachments": {},
   "cell_type": "markdown",
   "metadata": {},
   "source": [
    "**5. Reducción de varianza**"
   ]
  },
  {
   "cell_type": "code",
   "execution_count": 27,
   "metadata": {},
   "outputs": [],
   "source": [
    "def estimate_returns( rollouts_rew):\n",
    "        estimated_returns = []\n",
    "        for rollout_rew in rollouts_rew:\n",
    "\n",
    "            # Largo del episodio (largo del reward)\n",
    "            n_steps = len(rollout_rew[2])\n",
    "            estimated_return = np.zeros(n_steps)\n",
    "\n",
    "            if _use_reward_to_go:\n",
    "                \n",
    "                vec_gammas=np.array([_gamma**j for j in range(n_steps)])\n",
    "\n",
    "                for t in range(n_steps):\n",
    "\n",
    "                    sum_descount=np.sum(vec_gammas[t:]*rollout_rew[2][t:])\n",
    "                    estimated_return[t] = sum_descount\n",
    "    \n",
    "            else:\n",
    "\n",
    "                estimated_return = np.zeros(n_steps)\n",
    "\n",
    "                vec_gammas=np.array([_gamma**j for j in range(n_steps)])\n",
    "\n",
    "                sum_descount=np.sum(vec_gammas*rollout_rew[2])\n",
    "\n",
    "                for t in range(n_steps):\n",
    "                    \n",
    "                    estimated_return[t] = sum_descount\n",
    "                     \n",
    "            estimated_returns = np.concatenate([estimated_returns, estimated_return])\n",
    "\n",
    "        if _use_baseline:\n",
    "            \n",
    "            average_return_baseline = np.mean(estimated_returns)\n",
    "            estimated_returns -= average_return_baseline\n",
    "\n",
    "        return np.array(estimated_returns, dtype=np.float32)\n"
   ]
  },
  {
   "cell_type": "code",
   "execution_count": 28,
   "metadata": {},
   "outputs": [
    {
     "name": "stdout",
     "output_type": "stream",
     "text": [
      "Largo del episodio 55\n"
     ]
    }
   ],
   "source": [
    "env = gym.make('CartPole-v1')\n",
    "\n",
    "dim_states = env.observation_space.shape[0]\n",
    "\n",
    "continuous_control = isinstance(env.action_space, gym.spaces.Box)\n",
    "dim_actions = env.action_space.shape[0] if continuous_control else env.action_space.n\n",
    "\n",
    "policy_gradients_agent = PolicyGradients(dim_states=dim_states, \n",
    "                                             dim_actions=dim_actions, \n",
    "                                             lr=0.005,\n",
    "                                             gamma=0.99,\n",
    "                                             continuous_control=continuous_control,\n",
    "                                             reward_to_go=False,\n",
    "                                             use_baseline=False)\n",
    "\n",
    "# Sample rollouts (2 episodios): Ejecutar hasta que se generen solo 2 episodios!!\n",
    "x2=sample_rollouts(env, policy_gradients_agent, 1000, 22)"
   ]
  },
  {
   "cell_type": "code",
   "execution_count": 29,
   "metadata": {},
   "outputs": [
    {
     "data": {
      "text/plain": [
       "array([42.464523, 42.464523, 42.464523, 42.464523, 42.464523, 42.464523,\n",
       "       42.464523, 42.464523, 42.464523, 42.464523, 42.464523, 42.464523,\n",
       "       42.464523, 42.464523, 42.464523, 42.464523, 42.464523, 42.464523,\n",
       "       42.464523, 42.464523, 42.464523, 42.464523, 42.464523, 42.464523,\n",
       "       42.464523, 42.464523, 42.464523, 42.464523, 42.464523, 42.464523,\n",
       "       42.464523, 42.464523, 42.464523, 42.464523, 42.464523, 42.464523,\n",
       "       42.464523, 42.464523, 42.464523, 42.464523, 42.464523, 42.464523,\n",
       "       42.464523, 42.464523, 42.464523, 42.464523, 42.464523, 42.464523,\n",
       "       42.464523, 42.464523, 42.464523, 42.464523, 42.464523, 42.464523,\n",
       "       42.464523], dtype=float32)"
      ]
     },
     "execution_count": 29,
     "metadata": {},
     "output_type": "execute_result"
    }
   ],
   "source": [
    "# Caso base\n",
    "_gamma=0.99\n",
    "_use_reward_to_go=False\n",
    "_use_baseline=False\n",
    "test=estimate_returns(x2)\n",
    "test"
   ]
  },
  {
   "cell_type": "code",
   "execution_count": 33,
   "metadata": {},
   "outputs": [
    {
     "data": {
      "text/plain": [
       "array([42.464523 , 41.464523 , 40.474525 , 39.494427 , 38.524124 ,\n",
       "       37.56353  , 36.61254  , 35.67106  , 34.738995 , 33.81625  ,\n",
       "       32.902733 , 31.99835  , 31.103012 , 30.216627 , 29.339106 ,\n",
       "       28.47036  , 27.610302 , 26.758844 , 25.915901 , 25.081387 ,\n",
       "       24.255219 , 23.437311 , 22.627584 , 21.825953 , 21.03234  ,\n",
       "       20.24666  , 19.46884  , 18.698797 , 17.936453 , 17.181734 ,\n",
       "       16.434563 , 15.694862 , 14.962559 , 14.237578 , 13.519848 ,\n",
       "       12.809295 , 12.105846 , 11.409433 , 10.719984 , 10.03743  ,\n",
       "        9.361701 ,  8.692729 ,  8.030447 ,  7.374788 ,  6.725685 ,\n",
       "        6.0830736,  5.446888 ,  4.8170643,  4.193539 ,  3.576249 ,\n",
       "        2.9651318,  2.3601255,  1.7611697,  1.1682032,  0.5811664],\n",
       "      dtype=float32)"
      ]
     },
     "execution_count": 33,
     "metadata": {},
     "output_type": "execute_result"
    }
   ],
   "source": [
    "# Reward to go\n",
    "_gamma=0.99\n",
    "_use_reward_to_go=True\n",
    "_use_baseline=False\n",
    "test=estimate_returns(x2)\n",
    "test"
   ]
  },
  {
   "cell_type": "code",
   "execution_count": 34,
   "metadata": {},
   "outputs": [
    {
     "data": {
      "text/plain": [
       "array([-2.1316282e-14, -2.1316282e-14, -2.1316282e-14, -2.1316282e-14,\n",
       "       -2.1316282e-14, -2.1316282e-14, -2.1316282e-14, -2.1316282e-14,\n",
       "       -2.1316282e-14, -2.1316282e-14, -2.1316282e-14, -2.1316282e-14,\n",
       "       -2.1316282e-14, -2.1316282e-14, -2.1316282e-14, -2.1316282e-14,\n",
       "       -2.1316282e-14, -2.1316282e-14, -2.1316282e-14, -2.1316282e-14,\n",
       "       -2.1316282e-14, -2.1316282e-14, -2.1316282e-14, -2.1316282e-14,\n",
       "       -2.1316282e-14, -2.1316282e-14, -2.1316282e-14, -2.1316282e-14,\n",
       "       -2.1316282e-14, -2.1316282e-14, -2.1316282e-14, -2.1316282e-14,\n",
       "       -2.1316282e-14, -2.1316282e-14, -2.1316282e-14, -2.1316282e-14,\n",
       "       -2.1316282e-14, -2.1316282e-14, -2.1316282e-14, -2.1316282e-14,\n",
       "       -2.1316282e-14, -2.1316282e-14, -2.1316282e-14, -2.1316282e-14,\n",
       "       -2.1316282e-14, -2.1316282e-14, -2.1316282e-14, -2.1316282e-14,\n",
       "       -2.1316282e-14, -2.1316282e-14, -2.1316282e-14, -2.1316282e-14,\n",
       "       -2.1316282e-14, -2.1316282e-14, -2.1316282e-14], dtype=float32)"
      ]
     },
     "execution_count": 34,
     "metadata": {},
     "output_type": "execute_result"
    }
   ],
   "source": [
    "# Baseline\n",
    "_gamma=0.99\n",
    "_use_reward_to_go=False\n",
    "_use_baseline=True\n",
    "test=estimate_returns(x2)\n",
    "test"
   ]
  },
  {
   "cell_type": "code",
   "execution_count": 35,
   "metadata": {},
   "outputs": [
    {
     "data": {
      "text/plain": [
       "array([ 22.791773  ,  21.791773  ,  20.801773  ,  19.821672  ,\n",
       "        18.851374  ,  17.890778  ,  16.939787  ,  15.998307  ,\n",
       "        15.066242  ,  14.143497  ,  13.22998   ,  12.325598  ,\n",
       "        11.43026   ,  10.543875  ,   9.666354  ,   8.797608  ,\n",
       "         7.93755   ,   7.086092  ,   6.243149  ,   5.408635  ,\n",
       "         4.5824666 ,   3.7645595 ,   2.9548316 ,   2.153201  ,\n",
       "         1.3595868 ,   0.5739087 ,  -0.20391269,  -0.97395587,\n",
       "        -1.7362986 ,  -2.4910178 ,  -3.23819   ,  -3.9778903 ,\n",
       "        -4.7101936 ,  -5.435174  ,  -6.1529045 ,  -6.8634577 ,\n",
       "        -7.5669055 ,  -8.263319  ,  -8.952767  ,  -9.635323  ,\n",
       "       -10.311051  , -10.980023  , -11.642305  , -12.297964  ,\n",
       "       -12.947067  , -13.589679  , -14.225864  , -14.855688  ,\n",
       "       -15.479213  , -16.096504  , -16.70762   , -17.312626  ,\n",
       "       -17.911583  , -18.504549  , -19.091585  ], dtype=float32)"
      ]
     },
     "execution_count": 35,
     "metadata": {},
     "output_type": "execute_result"
    }
   ],
   "source": [
    "# Baseline & reward-to-go\n",
    "_gamma=0.99\n",
    "_use_reward_to_go=True\n",
    "_use_baseline=True\n",
    "test=estimate_returns(x2)\n",
    "test"
   ]
  },
  {
   "attachments": {},
   "cell_type": "markdown",
   "metadata": {},
   "source": [
    "**6. Evaluación del algoritmo**"
   ]
  },
  {
   "cell_type": "code",
   "execution_count": null,
   "metadata": {},
   "outputs": [],
   "source": []
  },
  {
   "cell_type": "code",
   "execution_count": null,
   "metadata": {},
   "outputs": [],
   "source": []
  }
 ],
 "metadata": {
  "kernelspec": {
   "display_name": "Ti_RL",
   "language": "python",
   "name": "python3"
  },
  "language_info": {
   "codemirror_mode": {
    "name": "ipython",
    "version": 3
   },
   "file_extension": ".py",
   "mimetype": "text/x-python",
   "name": "python",
   "nbconvert_exporter": "python",
   "pygments_lexer": "ipython3",
   "version": "3.6.13"
  },
  "orig_nbformat": 4
 },
 "nbformat": 4,
 "nbformat_minor": 2
}
