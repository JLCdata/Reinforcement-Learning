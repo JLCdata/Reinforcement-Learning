{
 "cells": [
  {
   "attachments": {},
   "cell_type": "markdown",
   "metadata": {},
   "source": [
    "# Tarea 1: Programación dinámica"
   ]
  },
  {
   "cell_type": "code",
   "execution_count": 5,
   "metadata": {},
   "outputs": [],
   "source": [
    "import numpy as np\n",
    "import matplotlib.pyplot as plt\n",
    "\n",
    "from grid_world import GridWorld\n",
    "from utils import display_policy\n",
    "from utils import display_value_function\n"
   ]
  },
  {
   "attachments": {},
   "cell_type": "markdown",
   "metadata": {},
   "source": [
    "# Parte I"
   ]
  },
  {
   "attachments": {},
   "cell_type": "markdown",
   "metadata": {},
   "source": [
    "# 1."
   ]
  },
  {
   "attachments": {},
   "cell_type": "markdown",
   "metadata": {},
   "source": [
    "***Describa el MDP que define al problema (espacio de estados, espacio de acciones, función de recompensa y función de transición de estados).***"
   ]
  },
  {
   "attachments": {},
   "cell_type": "markdown",
   "metadata": {},
   "source": [
    "* Espacio de estados:\n",
    "* Espacio de acciones:\n",
    "* Función de recompensa:\n",
    "* Función de transición de estados:"
   ]
  },
  {
   "attachments": {},
   "cell_type": "markdown",
   "metadata": {},
   "source": [
    "# 2."
   ]
  },
  {
   "attachments": {},
   "cell_type": "markdown",
   "metadata": {},
   "source": [
    "***Programe el algoritmo “policy iteration” para resolver el problema propuesto. Para ello complete\n",
    "los métodos policy evaluation y policy improvement que se encuentran en el archivo\n",
    "policy iteration.py***"
   ]
  },
  {
   "cell_type": "code",
   "execution_count": 32,
   "metadata": {},
   "outputs": [
    {
     "data": {
      "text/plain": [
       "{'0': 'left', '1': 'right', '2': 'up', '3': 'down'}"
      ]
     },
     "execution_count": 32,
     "metadata": {},
     "output_type": "execute_result"
    }
   ],
   "source": [
    "action_dictionary={\"0\":\"left\",\"1\":\"right\",\"2\":\"up\",\"3\":\"down\"}\n",
    "action_dictionary"
   ]
  },
  {
   "cell_type": "code",
   "execution_count": 36,
   "metadata": {},
   "outputs": [],
   "source": [
    "def choose_with_probability(a, b, p):\n",
    "    if np.random.uniform() < p:\n",
    "        return a\n",
    "    else:\n",
    "        return b"
   ]
  },
  {
   "cell_type": "code",
   "execution_count": 76,
   "metadata": {},
   "outputs": [],
   "source": [
    "def sum_array(arreglo1, arreglo2):\n",
    "    resultado = ()\n",
    "    for elemento1, elemento2 in zip(arreglo1, arreglo2):\n",
    "        suma = elemento1 + elemento2\n",
    "        resultado += (suma,)\n",
    "    return resultado"
   ]
  },
  {
   "cell_type": "code",
   "execution_count": 52,
   "metadata": {},
   "outputs": [],
   "source": [
    "def state_transition_function(s,a,p_random,reward_grid):\n",
    "\n",
    "    # Se guarda estado inicial\n",
    "    initial_state=s\n",
    "\n",
    "    # Según la acción que se ejecuta, se definen los dos potenciales movimientos efectivos que podrian suceder (verticales a la acción original)\n",
    "\n",
    "    # Acciones 0 o 1\n",
    "    if (a==0) or (a==1):\n",
    "\n",
    "        x=2\n",
    "        y=3\n",
    "\n",
    "        # Elección del movimiento x o y con probabilidad p_random\n",
    "        final_action=choose_with_probability(x,y,p_random)\n",
    "\n",
    "        # Según la acción final, se define el delta state que permite obtener el nuevo potencial estado\n",
    "        delta_state=(0,1) if  final_action==2  else  (0,-1)\n",
    "\n",
    "        # Se obtiene el nuevo potencial estado mediante suma vectorial\n",
    "        potential_new_state=sum_array(initial_state, delta_state)\n",
    "\n",
    "        # Permanecemos en el estado inicial si es que no se puede recorrer dicho estado sino, vamos al nuevo estado\n",
    "        final_state=initial_state if np.isnan(reward_grid[potential_new_state]) else potential_new_state\n",
    "        \n",
    "        return final_state,reward_grid[final_state]\n",
    "\n",
    "    else: # Acciones 2 o 3\n",
    "\n",
    "        # Código analogo\n",
    "        x=0\n",
    "        y=1\n",
    "        final_action=choose_with_probability(x,y,p_random)\n",
    "        delta_state=(-1,0) if final_action==0 else (1,0) \n",
    "        potential_new_state=sum_array(initial_state, delta_state)\n",
    "        final_state=initial_state if np.isnan(reward_grid[potential_new_state]) else potential_new_state\n",
    "\n",
    "        return final_state,reward_grid[final_state]"
   ]
  },
  {
   "cell_type": "code",
   "execution_count": 6,
   "metadata": {},
   "outputs": [],
   "source": [
    "class PolicyIterator():\n",
    "    \n",
    "    def __init__(self, reward_grid, wall_value, cell_value, terminal_value):\n",
    "\n",
    "        self._reward_grid = reward_grid\n",
    "        self._wall_value = wall_value\n",
    "        self._cell_value = cell_value\n",
    "        self._terminal_value = terminal_value\n",
    "\n",
    "        self._value_function = np.zeros(self._reward_grid.shape)\n",
    "        self._value_function *= self._reward_grid\n",
    "        self._policy = self._value_function.copy()\n",
    "\n",
    "\n",
    "    def _policy_evaluation(self, nb_iters, p_dir, gamma, v_thresh):\n",
    "        # Policy evaluation\n",
    "        # Code your algorithm here (P1-2) (you can add auxiliary functions if needed)\n",
    "        #policy_probs=np.full((5,5,4),0.25)\n",
    "        prob=0.25\n",
    "        p_random    = 1 - p_dir\n",
    "        #p_side\n",
    "        value_rows, value_cols = self._value_function.shape\n",
    "\n",
    "        delta=float(\"inf\")\n",
    "        for _ in range(nb_iters):\n",
    "\n",
    "            # Indexes for skipping external walls (you may change them)\n",
    "            for j in range(1, value_rows - 1):\n",
    "                for i in range(1, value_cols - 1):\n",
    "                    \n",
    "                    old_value=self._value_function[(j,i)]\n",
    "                    new_value=0\n",
    "\n",
    "                    for action in range(4):\n",
    "\n",
    "                        next_state,reward=state_transition_function((j,i),action,p_random,self._reward_grid)\n",
    "                        \n",
    "                        new_value+=prob*(reward+gamma*self._value_function[next_state])\n",
    "\n",
    "                        delta=max(delta,abs(old_value,new_value))\n",
    "                    \n",
    "            if delta < v_thresh:\n",
    "                break\n",
    "            \n",
    "                    \n",
    "    def _policy_improvement(self, nb_iters, p_dir, gamma):\n",
    "        # Policy improvement\n",
    "        # Code your algorithm here (P1-2) (you can add auxiliary functions if needed)\n",
    "        \n",
    "        p_random    = 1 - p_dir\n",
    "        value_rows, value_cols = self._value_function.shape\n",
    "\n",
    "        old_policy = self._policy.copy()\n",
    "        stable_policy = True\n",
    "\n",
    "        for j in range(1, value_rows - 1):\n",
    "            for i in range(1, value_cols - 1):\n",
    "                \n",
    "                \"\"\"if something:\n",
    "                    stable_policy = False\n",
    "                \"\"\"\n",
    "        \n",
    "        return stable_policy\n",
    "\n",
    "\n",
    "    def run_policy_iteration(self, p_dir, nb_iters, gamma, v_thresh):\n",
    "        stable_policy = False\n",
    "\n",
    "        while not stable_policy:\n",
    "            self._policy_evaluation(nb_iters, p_dir, gamma, v_thresh)\n",
    "            stable_policy = self._policy_improvement(nb_iters, p_dir, gamma)        \n",
    "        "
   ]
  },
  {
   "cell_type": "code",
   "execution_count": 7,
   "metadata": {},
   "outputs": [
    {
     "data": {
      "image/png": "[encoded data removed]",
      "text/plain": [
       "<Figure size 432x288 with 1 Axes>"
      ]
     },
     "metadata": {
      "needs_background": "light"
     },
     "output_type": "display_data"
    },
    {
     "data": {
      "image/png": "[encoded data removed]",
      "text/plain": [
       "<Figure size 432x288 with 1 Axes>"
      ]
     },
     "metadata": {
      "needs_background": "light"
     },
     "output_type": "display_data"
    },
    {
     "data": {
      "image/png": "[encoded data removed]",
      "text/plain": [
       "<Figure size 432x288 with 1 Axes>"
      ]
     },
     "metadata": {
      "needs_background": "light"
     },
     "output_type": "display_data"
    }
   ],
   "source": [
    "\n",
    "    \n",
    "world = GridWorld(height=14, width=16)\n",
    "policy_iterator = PolicyIterator(reward_grid=world._rewards,\n",
    "                                    wall_value=None,\n",
    "                                    cell_value=-1,\n",
    "                                    terminal_value=0)\n",
    "\n",
    "# Default parameters for P1-3 (change them for P2-3)\n",
    "policy_iterator.run_policy_iteration(p_dir=0.8,\n",
    "                                        nb_iters=1000,\n",
    "                                        gamma=0.9,\n",
    "                                        v_thresh=0.0001)\n",
    "\n",
    "world.display()\n",
    "\n",
    "display_value_function(policy_iterator._value_function)\n",
    "\n",
    "display_policy(world._grid,\n",
    "                policy_iterator._reward_grid,\n",
    "                policy_iterator._policy)\n",
    "\n",
    "plt.show()"
   ]
  },
  {
   "attachments": {},
   "cell_type": "markdown",
   "metadata": {},
   "source": [
    "# 3."
   ]
  },
  {
   "attachments": {},
   "cell_type": "markdown",
   "metadata": {},
   "source": [
    "***Sin modificar las funciones auxiliares proporcionadas en el código base, muestre la función de valor\n",
    "encontrada, junto a la política aprendida, y el núimero de iteraciones sobre la función de valor que fue\n",
    "necesario realizar.***"
   ]
  },
  {
   "attachments": {},
   "cell_type": "markdown",
   "metadata": {},
   "source": [
    "-----------"
   ]
  },
  {
   "cell_type": "code",
   "execution_count": 54,
   "metadata": {},
   "outputs": [],
   "source": [
    "class GridWorld:\n",
    "    \n",
    "    def __init__(self, height, width):\n",
    "        \n",
    "        # World parameters\n",
    "        self._height     =   height\n",
    "        self._width      =   width\n",
    "        self._grid       =   np.ones((self._height, self._width))\n",
    "        self._rewards    = - np.ones((self._height, self._width))\n",
    "\n",
    "        self._construct_world(self._grid, 0, 1, 0.5)\n",
    "        self._construct_world(self._rewards, np.nan, -1, 0)\n",
    "\n",
    "\n",
    "    # Private methods\n",
    "    def _construct_world(self, grid, wall_value, cell_value, terminal_value):\n",
    "        \n",
    "        # External Walls\n",
    "        grid[0, 0:]                 = wall_value\n",
    "        grid[self._height - 1, 0:]  = wall_value\n",
    "        grid[0:, self._width - 1]   = wall_value\n",
    "        grid[0:, 0]                 = wall_value\n",
    "        \n",
    "        # Internal Walls\n",
    "        grid[5, 0:]                 = wall_value\n",
    "        grid[5, 5]                  = cell_value\n",
    "        grid[8:, 4]                 = wall_value\n",
    "        \n",
    "        # Terminal state\n",
    "        grid[self._height - 2, self._width - 2] = terminal_value\n",
    "\n",
    "\n",
    "    # Public methods\n",
    "    def display(self):\n",
    "        fig, ax = plt.subplots()\n",
    "\n",
    "        for j in range(self._height):\n",
    "            for i in range(self._width):\n",
    "                if self._rewards[j, i] == 0:\n",
    "                    ax.text(i, j, 'G', ha='center', va='center')\n",
    "                elif self._rewards[j , i] != None:\n",
    "                    ax.text(i, j, self._rewards[j, i], ha='center', va='center')\n",
    "\n",
    "        ax.imshow(self._grid, cmap='gray')\n",
    "        \n",
    "        plt.title('Grid World')\n",
    "        plt.axis('off')\n",
    "        fig.tight_layout()\n",
    "\n",
    "        plt.savefig('world.pdf')\n"
   ]
  },
  {
   "cell_type": "code",
   "execution_count": 61,
   "metadata": {},
   "outputs": [
    {
     "data": {
      "text/plain": [
       "False"
      ]
     },
     "execution_count": 61,
     "metadata": {},
     "output_type": "execute_result"
    }
   ],
   "source": [
    "np.isnan(world._rewards[0][0])"
   ]
  },
  {
   "cell_type": "code",
   "execution_count": 55,
   "metadata": {},
   "outputs": [],
   "source": [
    "world = GridWorld(height=14, width=16)"
   ]
  },
  {
   "cell_type": "code",
   "execution_count": 23,
   "metadata": {},
   "outputs": [
    {
     "data": {
      "text/plain": [
       "array([[[0.25, 0.25, 0.25, 0.25],\n",
       "        [0.25, 0.25, 0.25, 0.25],\n",
       "        [0.25, 0.25, 0.25, 0.25],\n",
       "        [0.25, 0.25, 0.25, 0.25],\n",
       "        [0.25, 0.25, 0.25, 0.25]],\n",
       "\n",
       "       [[0.25, 0.25, 0.25, 0.25],\n",
       "        [0.25, 0.25, 0.25, 0.25],\n",
       "        [0.25, 0.25, 0.25, 0.25],\n",
       "        [0.25, 0.25, 0.25, 0.25],\n",
       "        [0.25, 0.25, 0.25, 0.25]],\n",
       "\n",
       "       [[0.25, 0.25, 0.25, 0.25],\n",
       "        [0.25, 0.25, 0.25, 0.25],\n",
       "        [0.25, 0.25, 0.25, 0.25],\n",
       "        [0.25, 0.25, 0.25, 0.25],\n",
       "        [0.25, 0.25, 0.25, 0.25]],\n",
       "\n",
       "       [[0.25, 0.25, 0.25, 0.25],\n",
       "        [0.25, 0.25, 0.25, 0.25],\n",
       "        [0.25, 0.25, 0.25, 0.25],\n",
       "        [0.25, 0.25, 0.25, 0.25],\n",
       "        [0.25, 0.25, 0.25, 0.25]],\n",
       "\n",
       "       [[0.25, 0.25, 0.25, 0.25],\n",
       "        [0.25, 0.25, 0.25, 0.25],\n",
       "        [0.25, 0.25, 0.25, 0.25],\n",
       "        [0.25, 0.25, 0.25, 0.25],\n",
       "        [0.25, 0.25, 0.25, 0.25]]])"
      ]
     },
     "execution_count": 23,
     "metadata": {},
     "output_type": "execute_result"
    }
   ],
   "source": [
    "policy_probs=np.full((5,5,4),0.25)\n",
    "policy_probs"
   ]
  },
  {
   "cell_type": "code",
   "execution_count": 27,
   "metadata": {},
   "outputs": [],
   "source": [
    "# toma como un input un estado y entrega las probabilidades de tomar cada acción en ese estado\n",
    "def policy(state):\n",
    "\n",
    "    return policy_probs[state]"
   ]
  },
  {
   "cell_type": "code",
   "execution_count": 28,
   "metadata": {},
   "outputs": [
    {
     "data": {
      "text/plain": [
       "array([0.25, 0.25, 0.25, 0.25])"
      ]
     },
     "execution_count": 28,
     "metadata": {},
     "output_type": "execute_result"
    }
   ],
   "source": [
    "# Estado (4,4)\n",
    "policy((4,4))"
   ]
  },
  {
   "cell_type": "code",
   "execution_count": 29,
   "metadata": {},
   "outputs": [
    {
     "data": {
      "text/plain": [
       "array([[0., 0., 0., 0., 0., 0., 0., 0., 0., 0., 0., 0., 0., 0., 0., 0.],\n",
       "       [0., 0., 0., 0., 0., 0., 0., 0., 0., 0., 0., 0., 0., 0., 0., 0.],\n",
       "       [0., 0., 0., 0., 0., 0., 0., 0., 0., 0., 0., 0., 0., 0., 0., 0.],\n",
       "       [0., 0., 0., 0., 0., 0., 0., 0., 0., 0., 0., 0., 0., 0., 0., 0.],\n",
       "       [0., 0., 0., 0., 0., 0., 0., 0., 0., 0., 0., 0., 0., 0., 0., 0.],\n",
       "       [0., 0., 0., 0., 0., 0., 0., 0., 0., 0., 0., 0., 0., 0., 0., 0.],\n",
       "       [0., 0., 0., 0., 0., 0., 0., 0., 0., 0., 0., 0., 0., 0., 0., 0.],\n",
       "       [0., 0., 0., 0., 0., 0., 0., 0., 0., 0., 0., 0., 0., 0., 0., 0.],\n",
       "       [0., 0., 0., 0., 0., 0., 0., 0., 0., 0., 0., 0., 0., 0., 0., 0.],\n",
       "       [0., 0., 0., 0., 0., 0., 0., 0., 0., 0., 0., 0., 0., 0., 0., 0.],\n",
       "       [0., 0., 0., 0., 0., 0., 0., 0., 0., 0., 0., 0., 0., 0., 0., 0.],\n",
       "       [0., 0., 0., 0., 0., 0., 0., 0., 0., 0., 0., 0., 0., 0., 0., 0.],\n",
       "       [0., 0., 0., 0., 0., 0., 0., 0., 0., 0., 0., 0., 0., 0., 0., 0.],\n",
       "       [0., 0., 0., 0., 0., 0., 0., 0., 0., 0., 0., 0., 0., 0., 0., 0.]])"
      ]
     },
     "execution_count": 29,
     "metadata": {},
     "output_type": "execute_result"
    }
   ],
   "source": [
    "# Representa el valor de todos los estados\n",
    "state_values=np.zeros(shape=(14,16))\n",
    "state_values"
   ]
  },
  {
   "cell_type": "code",
   "execution_count": null,
   "metadata": {},
   "outputs": [],
   "source": [
    "def policy_evaluation(policy_probs,state_values,theta=1e-6,gamma=0.99):\n",
    "    delta=float(\"inf\")\n",
    "\n",
    "    while delta >theta:\n",
    "        delta=0\n",
    "\n",
    "        for row in range(14):\n",
    "            for col in range(16):\n",
    "                \n",
    "                old_value=state_values[(row,col)]\n",
    "                new_value=0\n",
    "                action_probabilities=policy_probs[(row,col)]\n",
    "\n",
    "                for action,prob in enumerate(action_probabilities):\n",
    "                    next_state,reward=simulate_step((row,col),action)\n",
    "                    new_value+=prob*(reward+gamma*state_values[next_state])\n",
    "                state_values[(row,col)]=new_value\n",
    "\n",
    "                delta=max(delta,abs(old_value,new_value))\n",
    "\n",
    "\n",
    " \n"
   ]
  },
  {
   "cell_type": "code",
   "execution_count": 30,
   "metadata": {},
   "outputs": [],
   "source": [
    "def policy_improvement(policy_probs,state_values,gamma=0.99):\n",
    "    policy_stable=True\n",
    "    for row in range(14):\n",
    "            for col in range(16):\n",
    "                old_action=policy_probs[(row,col)].argmax()\n",
    "                new_action=None\n",
    "                max_qsa=float(\"-inf\") \n",
    "\n",
    "                for action in range(4):\n",
    "                    next_sate,reward,_,_=simulated_step((row,col),action)\n",
    "                    qsa=reward+gamma*state_values[next_sate]\n",
    "\n",
    "                    if qsa>max_qsa:\n",
    "                        new_action=action\n",
    "                        max_qsa=qsa\n",
    "                    action_probs=np.zeros(4)\n",
    "                    action_probs[new_action]=1\n",
    "                    policy_probs[(row,col)]=action_probs\n",
    "\n",
    "                    if new_action!=old_action:\n",
    "                         policy_stable=False\n",
    "    \n",
    "    return policy_stable\n",
    "                \n"
   ]
  },
  {
   "cell_type": "code",
   "execution_count": 15,
   "metadata": {},
   "outputs": [
    {
     "data": {
      "image/png": "[encoded data removed]",
      "text/plain": [
       "<Figure size 432x288 with 1 Axes>"
      ]
     },
     "metadata": {
      "needs_background": "light"
     },
     "output_type": "display_data"
    }
   ],
   "source": [
    "def policy_iteration(policy_probs,state_values,theta=0.001,gamma=0.99):\n",
    "    policy_stable=False\n",
    "    while not policy_stable:\n",
    "        policy_evaluation(policy_probs,state_values,theta,gamma)\n",
    "        plot_values(state_values,frame)\n",
    "        policy_stable=policy_improvement(policy_probs,state_values,gamma)\n",
    "        plot_policy(policy_probs,frame)"
   ]
  }
 ],
 "metadata": {
  "kernelspec": {
   "display_name": "anglo_american",
   "language": "python",
   "name": "python3"
  },
  "language_info": {
   "codemirror_mode": {
    "name": "ipython",
    "version": 3
   },
   "file_extension": ".py",
   "mimetype": "text/x-python",
   "name": "python",
   "nbconvert_exporter": "python",
   "pygments_lexer": "ipython3",
   "version": "3.9.16"
  },
  "orig_nbformat": 4
 },
 "nbformat": 4,
 "nbformat_minor": 2
}
