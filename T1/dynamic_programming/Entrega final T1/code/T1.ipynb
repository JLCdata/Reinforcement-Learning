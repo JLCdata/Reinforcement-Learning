{
 "cells": [
  {
   "attachments": {},
   "cell_type": "markdown",
   "metadata": {},
   "source": [
    "# Avances tarea 1: Programación dinámica"
   ]
  },
  {
   "cell_type": "code",
   "execution_count": 2,
   "metadata": {},
   "outputs": [],
   "source": [
    "import numpy as np\n",
    "import matplotlib.pyplot as plt\n",
    "from grid_world import GridWorld\n",
    "from utils import display_policy\n",
    "from utils import display_value_function"
   ]
  },
  {
   "attachments": {},
   "cell_type": "markdown",
   "metadata": {},
   "source": [
    "# Pregunta 2"
   ]
  },
  {
   "attachments": {},
   "cell_type": "markdown",
   "metadata": {},
   "source": [
    "***Programe el algoritmo “policy iteration” para resolver el problema propuesto. Para ello complete\n",
    "los métodos policy evaluation y policy improvement que se encuentran en el archivo\n",
    "policy iteration.py***"
   ]
  },
  {
   "cell_type": "code",
   "execution_count": 3,
   "metadata": {},
   "outputs": [
    {
     "data": {
      "text/plain": [
       "{'0': 'up', '1': 'down', '2': 'right', '3': 'left'}"
      ]
     },
     "execution_count": 3,
     "metadata": {},
     "output_type": "execute_result"
    }
   ],
   "source": [
    "action_dictionary={\"0\":\"up\",\"1\":\"down\",\"2\":\"right\",\"3\":\"left\"}\n",
    "action_dictionary"
   ]
  },
  {
   "cell_type": "code",
   "execution_count": 4,
   "metadata": {},
   "outputs": [],
   "source": [
    "# Función para sumar arreglos (x,y)\n",
    "def sum_array(arreglo1, arreglo2):\n",
    "    resultado = ()\n",
    "    for elemento1, elemento2 in zip(arreglo1, arreglo2):\n",
    "        suma = elemento1 + elemento2\n",
    "        resultado += (suma,)\n",
    "    return resultado\n",
    "\n",
    "# Función para definir el siguiente estado dado la acción\n",
    "def new_state(initial_state,action,reward_grid):\n",
    "\n",
    "     # 0: subir, 1: bajar\n",
    "    if (action==0) or (action==1):\n",
    "    \n",
    "        # Según la acción se define el delta state que permite obtener el nuevo potencial estado\n",
    "        delta_state=(-1,0) if action==0 else (1,0)\n",
    "\n",
    "        # Se obtiene el nuevo potencial estado mediante suma vectorial\n",
    "        potential_new_state=sum_array(initial_state, delta_state)\n",
    "\n",
    "    # 2: derecha,3: izquierda\n",
    "    if (action==2) or (action==3):\n",
    "\n",
    "        # Según la acción se define el delta state que permite obtener el nuevo potencial estado\n",
    "        delta_state=(0,1) if  action==2  else  (0,-1)\n",
    "\n",
    "        # Se obtiene el nuevo potencial estado mediante suma vectorial \n",
    "        potential_new_state=sum_array(initial_state, delta_state)\n",
    "\n",
    "    # Permanecemos en el estado inicial si es que no se puede recorrer dicho estado sino, vamos al nuevo estado\n",
    "    final_state=potential_new_state if ~np.isnan(reward_grid[potential_new_state]) else initial_state\n",
    "\n",
    "    return final_state\n",
    "\n",
    "# Función que retorna el reward asociado al estado actual\n",
    "def Reward(initial_state,reward_grid):\n",
    "    \n",
    "    return reward_grid[initial_state] \n",
    "\n",
    "# Entrega acciones ortogonales a la entregada\n",
    "def ortogonal_movements(action):\n",
    "\n",
    "     if (action==0) or (action==1):\n",
    "          \n",
    "          # vertical 1\n",
    "          x=2\n",
    "          # vertical 2\n",
    "          y=3\n",
    "          return (x,y)\n",
    "      \n",
    "     if (action==2) or (action==3):\n",
    "          \n",
    "          # vertical 1\n",
    "          x=0\n",
    "          # vertical 2\n",
    "          y=1\n",
    "          return (x,y)     "
   ]
  },
  {
   "cell_type": "code",
   "execution_count": 5,
   "metadata": {},
   "outputs": [],
   "source": [
    "class PolicyIterator():\n",
    "\n",
    "    def __init__(self, reward_grid, wall_value, cell_value, terminal_value):\n",
    "\n",
    "        self._reward_grid = reward_grid\n",
    "        self._wall_value = wall_value\n",
    "        self._cell_value = cell_value\n",
    "        self._terminal_value = terminal_value\n",
    "\n",
    "        self._value_function = np.zeros(self._reward_grid.shape)\n",
    "        self._value_function *= self._reward_grid\n",
    "        self._policy = self._value_function.copy()\n",
    "\n",
    "\n",
    "    def _policy_evaluation(self, nb_iters, p_dir, gamma, v_thresh):\n",
    "        \n",
    "        # Policy evaluation\n",
    "        # Code your algorithm here (P1-2) (you can add auxiliary functions if needed)\n",
    "        p_random    = 1 - p_dir\n",
    "        #p_side\n",
    "        value_rows, value_cols = self._value_function.shape\n",
    "\n",
    "        # Inicializar delta\n",
    "        delta=0\n",
    "\n",
    "        for _ in range(nb_iters):\n",
    "\n",
    "            # Inicializar delta\n",
    "            delta=0\n",
    "            \n",
    "            # Indexes for skipping external walls (you may change them)\n",
    "            for j in range(1, value_rows - 1):\n",
    "                for i in range(1, value_cols - 1):\n",
    "\n",
    "                    if self._reward_grid[(j,i)]==self._cell_value:\n",
    "                        \n",
    "                        # Estado inicial\n",
    "                        actual_state=(j,i)\n",
    "\n",
    "                        # Función de valor Vs antiguo\n",
    "                        old_value=self._value_function[actual_state]\n",
    "\n",
    "                        # Politica estado actual\n",
    "                        old_action=self._policy[actual_state]\n",
    "\n",
    "                        reward=Reward(actual_state,self._reward_grid)\n",
    "\n",
    "                        # Movimientos ortogonales\n",
    "                        x,y=ortogonal_movements(old_action)\n",
    "\n",
    "                        # Estado dir\n",
    "                        state_dir=new_state(actual_state,old_action,self._reward_grid)\n",
    "\n",
    "                        # estado ortogonal 1\n",
    "                        state_x=new_state(actual_state,x,self._reward_grid)\n",
    "\n",
    "                        # Estado ortogonal 2\n",
    "                        state_y=new_state(actual_state,y,self._reward_grid)\n",
    "\n",
    "                        # Value functions next potential states: Vs'\n",
    "                        Vs_dir=self._value_function[state_dir]\n",
    "                        Vs_x=self._value_function[state_x]\n",
    "                        Vs_y=self._value_function[state_y]\n",
    "                        \n",
    "                        new_value=p_dir*(reward+gamma*Vs_dir)+p_random*0.5*(reward+gamma*Vs_x)+p_random*0.5*(reward+gamma*Vs_y)\n",
    "\n",
    "                        self._value_function[actual_state]=new_value\n",
    "\n",
    "                        delta=max(delta,abs(old_value-new_value))\n",
    "\n",
    "                        #print(delta)\n",
    "\n",
    "            if delta < v_thresh:\n",
    "                break\n",
    "                            \n",
    "    def _policy_improvement(self, nb_iters, p_dir, gamma):\n",
    "\n",
    "        # Policy improvement\n",
    "        # Code your algorithm here (P1-2) (you can add auxiliary functions if needed)\n",
    "        p_random    = 1 - p_dir\n",
    "        value_rows, value_cols = self._value_function.shape\n",
    "        stable_policy = True\n",
    "        \n",
    "        for j in range(1, value_rows - 1):\n",
    "            for i in range(1, value_cols - 1):\n",
    "            \n",
    "                if self._reward_grid[(j,i)]==self._cell_value:\n",
    "                    \n",
    "                    # Estado inicial\n",
    "                    actual_state=(j,i)\n",
    "\n",
    "                    # Politica estado actual\n",
    "                    old_action=self._policy[actual_state]\n",
    "\n",
    "                    reward=Reward(actual_state,self._reward_grid)\n",
    "\n",
    "                    list_values=[]\n",
    "                    for action in range(4):\n",
    "\n",
    "                        # Movimientos ortogonales\n",
    "                        x,y=ortogonal_movements(action)\n",
    "\n",
    "                        # Estado dir\n",
    "                        state_dir=new_state(actual_state,action,self._reward_grid)\n",
    "\n",
    "                        # estado ortogonal 1\n",
    "                        state_x=new_state(actual_state,x,self._reward_grid)\n",
    "\n",
    "                        # Estado ortogonal 2\n",
    "                        state_y=new_state(actual_state,y,self._reward_grid)\n",
    "\n",
    "                        # Value functions next potential states: Vs'\n",
    "                        Vs_dir=self._value_function[state_dir]\n",
    "                        Vs_x=self._value_function[state_x]\n",
    "                        Vs_y=self._value_function[state_y]\n",
    "                        \n",
    "                        new_value=p_dir*(reward+gamma*Vs_dir)+p_random*0.5*(reward+gamma*Vs_x)+p_random*0.5*(reward+gamma*Vs_y)\n",
    "\n",
    "                        list_values.append(new_value)\n",
    "                    #print(list_values)\n",
    "\n",
    "                    new_action=np.array(list_values).argmax()\n",
    "                    \n",
    "                    #print(new_action)\n",
    "                    # Update nueva mejor acción\n",
    "                    self._policy[actual_state]=new_action\n",
    "\n",
    "                    if new_action!=old_action:\n",
    "                            stable_policy=False\n",
    "\n",
    "                \n",
    "        return stable_policy\n",
    "\n",
    "\n",
    "    def run_policy_iteration(self, p_dir, nb_iters, gamma, v_thresh):\n",
    "        stable_policy = False\n",
    "        \n",
    "        while not stable_policy:\n",
    "            self._policy_evaluation(nb_iters, p_dir, gamma, v_thresh)\n",
    "            stable_policy = self._policy_improvement(nb_iters, p_dir, gamma)        \n",
    "        \n"
   ]
  },
  {
   "cell_type": "code",
   "execution_count": 6,
   "metadata": {},
   "outputs": [
    {
     "data": {
      "image/png": "[encoded data removed]",
      "text/plain": [
       "<Figure size 432x288 with 1 Axes>"
      ]
     },
     "metadata": {
      "needs_background": "light"
     },
     "output_type": "display_data"
    },
    {
     "data": {
      "image/png": "[encoded data removed]",
      "text/plain": [
       "<Figure size 432x288 with 1 Axes>"
      ]
     },
     "metadata": {
      "needs_background": "light"
     },
     "output_type": "display_data"
    },
    {
     "data": {
      "image/png": "[encoded data removed]",
      "text/plain": [
       "<Figure size 432x288 with 1 Axes>"
      ]
     },
     "metadata": {
      "needs_background": "light"
     },
     "output_type": "display_data"
    }
   ],
   "source": [
    "\n",
    "world = GridWorld(height=14, width=16)\n",
    "policy_iterator = PolicyIterator(reward_grid=world._rewards,\n",
    "                                    wall_value=None,\n",
    "                                    cell_value=-1,\n",
    "                                    terminal_value=0)\n",
    "\n",
    "# Default parameters for P1-3 (change them for P2-3)\n",
    "policy_iterator.run_policy_iteration(p_dir=0.8,\n",
    "                                        nb_iters=1000,\n",
    "                                        gamma=0.9,\n",
    "                                        v_thresh=0.0001)\n",
    "\n",
    "world.display()\n",
    "\n",
    "display_value_function(policy_iterator._value_function)\n",
    "\n",
    "display_policy(world._grid,\n",
    "                policy_iterator._reward_grid,\n",
    "                policy_iterator._policy)\n",
    "\n",
    "plt.show()"
   ]
  }
 ],
 "metadata": {
  "kernelspec": {
   "display_name": "anglo_american",
   "language": "python",
   "name": "python3"
  },
  "language_info": {
   "codemirror_mode": {
    "name": "ipython",
    "version": 3
   },
   "file_extension": ".py",
   "mimetype": "text/x-python",
   "name": "python",
   "nbconvert_exporter": "python",
   "pygments_lexer": "ipython3",
   "version": "3.9.16"
  },
  "orig_nbformat": 4
 },
 "nbformat": 4,
 "nbformat_minor": 2
}
